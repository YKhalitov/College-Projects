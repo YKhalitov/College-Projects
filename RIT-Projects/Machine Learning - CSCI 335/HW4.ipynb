{
  "cells": [
    {
      "cell_type": "markdown",
      "metadata": {
        "id": "KlI_sPCTpv0V"
      },
      "source": [
        "# Homework 4: Text Classification"
      ]
    },
    {
      "cell_type": "markdown",
      "metadata": {
        "id": "NFcPdYN8pv0X"
      },
      "source": [
        "In this homework, you will work with a dataset composed of the posts from Tweetter. The goal is to identify if there is an emergency information in the tweet or not. This is a binary classification task.\n",
        "\n",
        "\\\n",
        "\n",
        "We will use a dataset from Kaggle contest: https://www.kaggle.com/competitions/nlp-getting-started/data Download train.csv and test.csv files. The code below will split the first file into train and validation sets."
      ]
    },
    {
      "cell_type": "code",
      "execution_count": 172,
      "metadata": {
        "id": "eh0GsHQdpv0Z"
      },
      "outputs": [],
      "source": [
        "import pandas as pd\n",
        "import matplotlib.pyplot as plt\n",
        "import numpy as np"
      ]
    },
    {
      "cell_type": "code",
      "execution_count": 173,
      "metadata": {
        "id": "Y_72DoMVpv0a"
      },
      "outputs": [],
      "source": [
        "data = pd.read_csv('train.csv')"
      ]
    },
    {
      "cell_type": "code",
      "execution_count": 174,
      "metadata": {
        "id": "EoaoUXuNpv0b",
        "colab": {
          "base_uri": "https://localhost:8080/",
          "height": 206
        },
        "outputId": "a7848b0f-cd65-4e44-ee7e-2fead7fb1142"
      },
      "outputs": [
        {
          "output_type": "execute_result",
          "data": {
            "text/plain": [
              "   id keyword location                                               text  \\\n",
              "0   1     NaN      NaN  Our Deeds are the Reason of this #earthquake M...   \n",
              "1   4     NaN      NaN             Forest fire near La Ronge Sask. Canada   \n",
              "2   5     NaN      NaN  All residents asked to 'shelter in place' are ...   \n",
              "3   6     NaN      NaN  13,000 people receive #wildfires evacuation or...   \n",
              "4   7     NaN      NaN  Just got sent this photo from Ruby #Alaska as ...   \n",
              "\n",
              "   target  \n",
              "0       1  \n",
              "1       1  \n",
              "2       1  \n",
              "3       1  \n",
              "4       1  "
            ],
            "text/html": [
              "\n",
              "  <div id=\"df-73e08237-b4a8-48f0-8a73-7673c505eef6\" class=\"colab-df-container\">\n",
              "    <div>\n",
              "<style scoped>\n",
              "    .dataframe tbody tr th:only-of-type {\n",
              "        vertical-align: middle;\n",
              "    }\n",
              "\n",
              "    .dataframe tbody tr th {\n",
              "        vertical-align: top;\n",
              "    }\n",
              "\n",
              "    .dataframe thead th {\n",
              "        text-align: right;\n",
              "    }\n",
              "</style>\n",
              "<table border=\"1\" class=\"dataframe\">\n",
              "  <thead>\n",
              "    <tr style=\"text-align: right;\">\n",
              "      <th></th>\n",
              "      <th>id</th>\n",
              "      <th>keyword</th>\n",
              "      <th>location</th>\n",
              "      <th>text</th>\n",
              "      <th>target</th>\n",
              "    </tr>\n",
              "  </thead>\n",
              "  <tbody>\n",
              "    <tr>\n",
              "      <th>0</th>\n",
              "      <td>1</td>\n",
              "      <td>NaN</td>\n",
              "      <td>NaN</td>\n",
              "      <td>Our Deeds are the Reason of this #earthquake M...</td>\n",
              "      <td>1</td>\n",
              "    </tr>\n",
              "    <tr>\n",
              "      <th>1</th>\n",
              "      <td>4</td>\n",
              "      <td>NaN</td>\n",
              "      <td>NaN</td>\n",
              "      <td>Forest fire near La Ronge Sask. Canada</td>\n",
              "      <td>1</td>\n",
              "    </tr>\n",
              "    <tr>\n",
              "      <th>2</th>\n",
              "      <td>5</td>\n",
              "      <td>NaN</td>\n",
              "      <td>NaN</td>\n",
              "      <td>All residents asked to 'shelter in place' are ...</td>\n",
              "      <td>1</td>\n",
              "    </tr>\n",
              "    <tr>\n",
              "      <th>3</th>\n",
              "      <td>6</td>\n",
              "      <td>NaN</td>\n",
              "      <td>NaN</td>\n",
              "      <td>13,000 people receive #wildfires evacuation or...</td>\n",
              "      <td>1</td>\n",
              "    </tr>\n",
              "    <tr>\n",
              "      <th>4</th>\n",
              "      <td>7</td>\n",
              "      <td>NaN</td>\n",
              "      <td>NaN</td>\n",
              "      <td>Just got sent this photo from Ruby #Alaska as ...</td>\n",
              "      <td>1</td>\n",
              "    </tr>\n",
              "  </tbody>\n",
              "</table>\n",
              "</div>\n",
              "    <div class=\"colab-df-buttons\">\n",
              "\n",
              "  <div class=\"colab-df-container\">\n",
              "    <button class=\"colab-df-convert\" onclick=\"convertToInteractive('df-73e08237-b4a8-48f0-8a73-7673c505eef6')\"\n",
              "            title=\"Convert this dataframe to an interactive table.\"\n",
              "            style=\"display:none;\">\n",
              "\n",
              "  <svg xmlns=\"http://www.w3.org/2000/svg\" height=\"24px\" viewBox=\"0 -960 960 960\">\n",
              "    <path d=\"M120-120v-720h720v720H120Zm60-500h600v-160H180v160Zm220 220h160v-160H400v160Zm0 220h160v-160H400v160ZM180-400h160v-160H180v160Zm440 0h160v-160H620v160ZM180-180h160v-160H180v160Zm440 0h160v-160H620v160Z\"/>\n",
              "  </svg>\n",
              "    </button>\n",
              "\n",
              "  <style>\n",
              "    .colab-df-container {\n",
              "      display:flex;\n",
              "      gap: 12px;\n",
              "    }\n",
              "\n",
              "    .colab-df-convert {\n",
              "      background-color: #E8F0FE;\n",
              "      border: none;\n",
              "      border-radius: 50%;\n",
              "      cursor: pointer;\n",
              "      display: none;\n",
              "      fill: #1967D2;\n",
              "      height: 32px;\n",
              "      padding: 0 0 0 0;\n",
              "      width: 32px;\n",
              "    }\n",
              "\n",
              "    .colab-df-convert:hover {\n",
              "      background-color: #E2EBFA;\n",
              "      box-shadow: 0px 1px 2px rgba(60, 64, 67, 0.3), 0px 1px 3px 1px rgba(60, 64, 67, 0.15);\n",
              "      fill: #174EA6;\n",
              "    }\n",
              "\n",
              "    .colab-df-buttons div {\n",
              "      margin-bottom: 4px;\n",
              "    }\n",
              "\n",
              "    [theme=dark] .colab-df-convert {\n",
              "      background-color: #3B4455;\n",
              "      fill: #D2E3FC;\n",
              "    }\n",
              "\n",
              "    [theme=dark] .colab-df-convert:hover {\n",
              "      background-color: #434B5C;\n",
              "      box-shadow: 0px 1px 3px 1px rgba(0, 0, 0, 0.15);\n",
              "      filter: drop-shadow(0px 1px 2px rgba(0, 0, 0, 0.3));\n",
              "      fill: #FFFFFF;\n",
              "    }\n",
              "  </style>\n",
              "\n",
              "    <script>\n",
              "      const buttonEl =\n",
              "        document.querySelector('#df-73e08237-b4a8-48f0-8a73-7673c505eef6 button.colab-df-convert');\n",
              "      buttonEl.style.display =\n",
              "        google.colab.kernel.accessAllowed ? 'block' : 'none';\n",
              "\n",
              "      async function convertToInteractive(key) {\n",
              "        const element = document.querySelector('#df-73e08237-b4a8-48f0-8a73-7673c505eef6');\n",
              "        const dataTable =\n",
              "          await google.colab.kernel.invokeFunction('convertToInteractive',\n",
              "                                                    [key], {});\n",
              "        if (!dataTable) return;\n",
              "\n",
              "        const docLinkHtml = 'Like what you see? Visit the ' +\n",
              "          '<a target=\"_blank\" href=https://colab.research.google.com/notebooks/data_table.ipynb>data table notebook</a>'\n",
              "          + ' to learn more about interactive tables.';\n",
              "        element.innerHTML = '';\n",
              "        dataTable['output_type'] = 'display_data';\n",
              "        await google.colab.output.renderOutput(dataTable, element);\n",
              "        const docLink = document.createElement('div');\n",
              "        docLink.innerHTML = docLinkHtml;\n",
              "        element.appendChild(docLink);\n",
              "      }\n",
              "    </script>\n",
              "  </div>\n",
              "\n",
              "\n",
              "<div id=\"df-e0253a28-ecd8-45a8-b8b6-ceed73b36d96\">\n",
              "  <button class=\"colab-df-quickchart\" onclick=\"quickchart('df-e0253a28-ecd8-45a8-b8b6-ceed73b36d96')\"\n",
              "            title=\"Suggest charts\"\n",
              "            style=\"display:none;\">\n",
              "\n",
              "<svg xmlns=\"http://www.w3.org/2000/svg\" height=\"24px\"viewBox=\"0 0 24 24\"\n",
              "     width=\"24px\">\n",
              "    <g>\n",
              "        <path d=\"M19 3H5c-1.1 0-2 .9-2 2v14c0 1.1.9 2 2 2h14c1.1 0 2-.9 2-2V5c0-1.1-.9-2-2-2zM9 17H7v-7h2v7zm4 0h-2V7h2v10zm4 0h-2v-4h2v4z\"/>\n",
              "    </g>\n",
              "</svg>\n",
              "  </button>\n",
              "\n",
              "<style>\n",
              "  .colab-df-quickchart {\n",
              "      --bg-color: #E8F0FE;\n",
              "      --fill-color: #1967D2;\n",
              "      --hover-bg-color: #E2EBFA;\n",
              "      --hover-fill-color: #174EA6;\n",
              "      --disabled-fill-color: #AAA;\n",
              "      --disabled-bg-color: #DDD;\n",
              "  }\n",
              "\n",
              "  [theme=dark] .colab-df-quickchart {\n",
              "      --bg-color: #3B4455;\n",
              "      --fill-color: #D2E3FC;\n",
              "      --hover-bg-color: #434B5C;\n",
              "      --hover-fill-color: #FFFFFF;\n",
              "      --disabled-bg-color: #3B4455;\n",
              "      --disabled-fill-color: #666;\n",
              "  }\n",
              "\n",
              "  .colab-df-quickchart {\n",
              "    background-color: var(--bg-color);\n",
              "    border: none;\n",
              "    border-radius: 50%;\n",
              "    cursor: pointer;\n",
              "    display: none;\n",
              "    fill: var(--fill-color);\n",
              "    height: 32px;\n",
              "    padding: 0;\n",
              "    width: 32px;\n",
              "  }\n",
              "\n",
              "  .colab-df-quickchart:hover {\n",
              "    background-color: var(--hover-bg-color);\n",
              "    box-shadow: 0 1px 2px rgba(60, 64, 67, 0.3), 0 1px 3px 1px rgba(60, 64, 67, 0.15);\n",
              "    fill: var(--button-hover-fill-color);\n",
              "  }\n",
              "\n",
              "  .colab-df-quickchart-complete:disabled,\n",
              "  .colab-df-quickchart-complete:disabled:hover {\n",
              "    background-color: var(--disabled-bg-color);\n",
              "    fill: var(--disabled-fill-color);\n",
              "    box-shadow: none;\n",
              "  }\n",
              "\n",
              "  .colab-df-spinner {\n",
              "    border: 2px solid var(--fill-color);\n",
              "    border-color: transparent;\n",
              "    border-bottom-color: var(--fill-color);\n",
              "    animation:\n",
              "      spin 1s steps(1) infinite;\n",
              "  }\n",
              "\n",
              "  @keyframes spin {\n",
              "    0% {\n",
              "      border-color: transparent;\n",
              "      border-bottom-color: var(--fill-color);\n",
              "      border-left-color: var(--fill-color);\n",
              "    }\n",
              "    20% {\n",
              "      border-color: transparent;\n",
              "      border-left-color: var(--fill-color);\n",
              "      border-top-color: var(--fill-color);\n",
              "    }\n",
              "    30% {\n",
              "      border-color: transparent;\n",
              "      border-left-color: var(--fill-color);\n",
              "      border-top-color: var(--fill-color);\n",
              "      border-right-color: var(--fill-color);\n",
              "    }\n",
              "    40% {\n",
              "      border-color: transparent;\n",
              "      border-right-color: var(--fill-color);\n",
              "      border-top-color: var(--fill-color);\n",
              "    }\n",
              "    60% {\n",
              "      border-color: transparent;\n",
              "      border-right-color: var(--fill-color);\n",
              "    }\n",
              "    80% {\n",
              "      border-color: transparent;\n",
              "      border-right-color: var(--fill-color);\n",
              "      border-bottom-color: var(--fill-color);\n",
              "    }\n",
              "    90% {\n",
              "      border-color: transparent;\n",
              "      border-bottom-color: var(--fill-color);\n",
              "    }\n",
              "  }\n",
              "</style>\n",
              "\n",
              "  <script>\n",
              "    async function quickchart(key) {\n",
              "      const quickchartButtonEl =\n",
              "        document.querySelector('#' + key + ' button');\n",
              "      quickchartButtonEl.disabled = true;  // To prevent multiple clicks.\n",
              "      quickchartButtonEl.classList.add('colab-df-spinner');\n",
              "      try {\n",
              "        const charts = await google.colab.kernel.invokeFunction(\n",
              "            'suggestCharts', [key], {});\n",
              "      } catch (error) {\n",
              "        console.error('Error during call to suggestCharts:', error);\n",
              "      }\n",
              "      quickchartButtonEl.classList.remove('colab-df-spinner');\n",
              "      quickchartButtonEl.classList.add('colab-df-quickchart-complete');\n",
              "    }\n",
              "    (() => {\n",
              "      let quickchartButtonEl =\n",
              "        document.querySelector('#df-e0253a28-ecd8-45a8-b8b6-ceed73b36d96 button');\n",
              "      quickchartButtonEl.style.display =\n",
              "        google.colab.kernel.accessAllowed ? 'block' : 'none';\n",
              "    })();\n",
              "  </script>\n",
              "</div>\n",
              "    </div>\n",
              "  </div>\n"
            ]
          },
          "metadata": {},
          "execution_count": 174
        }
      ],
      "source": [
        "data.head()"
      ]
    },
    {
      "cell_type": "markdown",
      "metadata": {
        "id": "bFtgmczApv0f"
      },
      "source": [
        "## Q1 (1pt)\n",
        "\n",
        "Print information about missing values. Fill in missing values with an empty string [Example in SGD notebook](https://github.com/anton-selitskiy/RIT_ML/blob/main/SGD.ipynb)"
      ]
    },
    {
      "cell_type": "code",
      "source": [
        "data.isnull().sum()"
      ],
      "metadata": {
        "id": "WJfTrXpcr35G",
        "colab": {
          "base_uri": "https://localhost:8080/"
        },
        "outputId": "cd5bd74d-6329-4f90-f30a-ffd5abdeada6"
      },
      "execution_count": 175,
      "outputs": [
        {
          "output_type": "execute_result",
          "data": {
            "text/plain": [
              "id             0\n",
              "keyword       61\n",
              "location    2533\n",
              "text           0\n",
              "target         0\n",
              "dtype: int64"
            ]
          },
          "metadata": {},
          "execution_count": 175
        }
      ]
    },
    {
      "cell_type": "code",
      "source": [
        "data.fillna('', inplace=True)"
      ],
      "metadata": {
        "id": "uck7KVcZsmCr"
      },
      "execution_count": 176,
      "outputs": []
    },
    {
      "cell_type": "code",
      "source": [
        "data.isnull().sum()"
      ],
      "metadata": {
        "id": "X6JkH0_Nsc3I",
        "colab": {
          "base_uri": "https://localhost:8080/"
        },
        "outputId": "94eb7c8f-0c25-4bd7-adbe-9323c914c623"
      },
      "execution_count": 177,
      "outputs": [
        {
          "output_type": "execute_result",
          "data": {
            "text/plain": [
              "id          0\n",
              "keyword     0\n",
              "location    0\n",
              "text        0\n",
              "target      0\n",
              "dtype: int64"
            ]
          },
          "metadata": {},
          "execution_count": 177
        }
      ]
    },
    {
      "cell_type": "code",
      "source": [
        "data.head()"
      ],
      "metadata": {
        "id": "yDNd1-wBtiww",
        "colab": {
          "base_uri": "https://localhost:8080/",
          "height": 206
        },
        "outputId": "e2d5b388-1c27-4961-a265-dabc7122b544"
      },
      "execution_count": 178,
      "outputs": [
        {
          "output_type": "execute_result",
          "data": {
            "text/plain": [
              "   id keyword location                                               text  \\\n",
              "0   1                   Our Deeds are the Reason of this #earthquake M...   \n",
              "1   4                              Forest fire near La Ronge Sask. Canada   \n",
              "2   5                   All residents asked to 'shelter in place' are ...   \n",
              "3   6                   13,000 people receive #wildfires evacuation or...   \n",
              "4   7                   Just got sent this photo from Ruby #Alaska as ...   \n",
              "\n",
              "   target  \n",
              "0       1  \n",
              "1       1  \n",
              "2       1  \n",
              "3       1  \n",
              "4       1  "
            ],
            "text/html": [
              "\n",
              "  <div id=\"df-7e544399-531c-4a31-8191-7bb7e91cc7e8\" class=\"colab-df-container\">\n",
              "    <div>\n",
              "<style scoped>\n",
              "    .dataframe tbody tr th:only-of-type {\n",
              "        vertical-align: middle;\n",
              "    }\n",
              "\n",
              "    .dataframe tbody tr th {\n",
              "        vertical-align: top;\n",
              "    }\n",
              "\n",
              "    .dataframe thead th {\n",
              "        text-align: right;\n",
              "    }\n",
              "</style>\n",
              "<table border=\"1\" class=\"dataframe\">\n",
              "  <thead>\n",
              "    <tr style=\"text-align: right;\">\n",
              "      <th></th>\n",
              "      <th>id</th>\n",
              "      <th>keyword</th>\n",
              "      <th>location</th>\n",
              "      <th>text</th>\n",
              "      <th>target</th>\n",
              "    </tr>\n",
              "  </thead>\n",
              "  <tbody>\n",
              "    <tr>\n",
              "      <th>0</th>\n",
              "      <td>1</td>\n",
              "      <td></td>\n",
              "      <td></td>\n",
              "      <td>Our Deeds are the Reason of this #earthquake M...</td>\n",
              "      <td>1</td>\n",
              "    </tr>\n",
              "    <tr>\n",
              "      <th>1</th>\n",
              "      <td>4</td>\n",
              "      <td></td>\n",
              "      <td></td>\n",
              "      <td>Forest fire near La Ronge Sask. Canada</td>\n",
              "      <td>1</td>\n",
              "    </tr>\n",
              "    <tr>\n",
              "      <th>2</th>\n",
              "      <td>5</td>\n",
              "      <td></td>\n",
              "      <td></td>\n",
              "      <td>All residents asked to 'shelter in place' are ...</td>\n",
              "      <td>1</td>\n",
              "    </tr>\n",
              "    <tr>\n",
              "      <th>3</th>\n",
              "      <td>6</td>\n",
              "      <td></td>\n",
              "      <td></td>\n",
              "      <td>13,000 people receive #wildfires evacuation or...</td>\n",
              "      <td>1</td>\n",
              "    </tr>\n",
              "    <tr>\n",
              "      <th>4</th>\n",
              "      <td>7</td>\n",
              "      <td></td>\n",
              "      <td></td>\n",
              "      <td>Just got sent this photo from Ruby #Alaska as ...</td>\n",
              "      <td>1</td>\n",
              "    </tr>\n",
              "  </tbody>\n",
              "</table>\n",
              "</div>\n",
              "    <div class=\"colab-df-buttons\">\n",
              "\n",
              "  <div class=\"colab-df-container\">\n",
              "    <button class=\"colab-df-convert\" onclick=\"convertToInteractive('df-7e544399-531c-4a31-8191-7bb7e91cc7e8')\"\n",
              "            title=\"Convert this dataframe to an interactive table.\"\n",
              "            style=\"display:none;\">\n",
              "\n",
              "  <svg xmlns=\"http://www.w3.org/2000/svg\" height=\"24px\" viewBox=\"0 -960 960 960\">\n",
              "    <path d=\"M120-120v-720h720v720H120Zm60-500h600v-160H180v160Zm220 220h160v-160H400v160Zm0 220h160v-160H400v160ZM180-400h160v-160H180v160Zm440 0h160v-160H620v160ZM180-180h160v-160H180v160Zm440 0h160v-160H620v160Z\"/>\n",
              "  </svg>\n",
              "    </button>\n",
              "\n",
              "  <style>\n",
              "    .colab-df-container {\n",
              "      display:flex;\n",
              "      gap: 12px;\n",
              "    }\n",
              "\n",
              "    .colab-df-convert {\n",
              "      background-color: #E8F0FE;\n",
              "      border: none;\n",
              "      border-radius: 50%;\n",
              "      cursor: pointer;\n",
              "      display: none;\n",
              "      fill: #1967D2;\n",
              "      height: 32px;\n",
              "      padding: 0 0 0 0;\n",
              "      width: 32px;\n",
              "    }\n",
              "\n",
              "    .colab-df-convert:hover {\n",
              "      background-color: #E2EBFA;\n",
              "      box-shadow: 0px 1px 2px rgba(60, 64, 67, 0.3), 0px 1px 3px 1px rgba(60, 64, 67, 0.15);\n",
              "      fill: #174EA6;\n",
              "    }\n",
              "\n",
              "    .colab-df-buttons div {\n",
              "      margin-bottom: 4px;\n",
              "    }\n",
              "\n",
              "    [theme=dark] .colab-df-convert {\n",
              "      background-color: #3B4455;\n",
              "      fill: #D2E3FC;\n",
              "    }\n",
              "\n",
              "    [theme=dark] .colab-df-convert:hover {\n",
              "      background-color: #434B5C;\n",
              "      box-shadow: 0px 1px 3px 1px rgba(0, 0, 0, 0.15);\n",
              "      filter: drop-shadow(0px 1px 2px rgba(0, 0, 0, 0.3));\n",
              "      fill: #FFFFFF;\n",
              "    }\n",
              "  </style>\n",
              "\n",
              "    <script>\n",
              "      const buttonEl =\n",
              "        document.querySelector('#df-7e544399-531c-4a31-8191-7bb7e91cc7e8 button.colab-df-convert');\n",
              "      buttonEl.style.display =\n",
              "        google.colab.kernel.accessAllowed ? 'block' : 'none';\n",
              "\n",
              "      async function convertToInteractive(key) {\n",
              "        const element = document.querySelector('#df-7e544399-531c-4a31-8191-7bb7e91cc7e8');\n",
              "        const dataTable =\n",
              "          await google.colab.kernel.invokeFunction('convertToInteractive',\n",
              "                                                    [key], {});\n",
              "        if (!dataTable) return;\n",
              "\n",
              "        const docLinkHtml = 'Like what you see? Visit the ' +\n",
              "          '<a target=\"_blank\" href=https://colab.research.google.com/notebooks/data_table.ipynb>data table notebook</a>'\n",
              "          + ' to learn more about interactive tables.';\n",
              "        element.innerHTML = '';\n",
              "        dataTable['output_type'] = 'display_data';\n",
              "        await google.colab.output.renderOutput(dataTable, element);\n",
              "        const docLink = document.createElement('div');\n",
              "        docLink.innerHTML = docLinkHtml;\n",
              "        element.appendChild(docLink);\n",
              "      }\n",
              "    </script>\n",
              "  </div>\n",
              "\n",
              "\n",
              "<div id=\"df-0f82b20e-5ff2-46a5-b713-bbed87be02a7\">\n",
              "  <button class=\"colab-df-quickchart\" onclick=\"quickchart('df-0f82b20e-5ff2-46a5-b713-bbed87be02a7')\"\n",
              "            title=\"Suggest charts\"\n",
              "            style=\"display:none;\">\n",
              "\n",
              "<svg xmlns=\"http://www.w3.org/2000/svg\" height=\"24px\"viewBox=\"0 0 24 24\"\n",
              "     width=\"24px\">\n",
              "    <g>\n",
              "        <path d=\"M19 3H5c-1.1 0-2 .9-2 2v14c0 1.1.9 2 2 2h14c1.1 0 2-.9 2-2V5c0-1.1-.9-2-2-2zM9 17H7v-7h2v7zm4 0h-2V7h2v10zm4 0h-2v-4h2v4z\"/>\n",
              "    </g>\n",
              "</svg>\n",
              "  </button>\n",
              "\n",
              "<style>\n",
              "  .colab-df-quickchart {\n",
              "      --bg-color: #E8F0FE;\n",
              "      --fill-color: #1967D2;\n",
              "      --hover-bg-color: #E2EBFA;\n",
              "      --hover-fill-color: #174EA6;\n",
              "      --disabled-fill-color: #AAA;\n",
              "      --disabled-bg-color: #DDD;\n",
              "  }\n",
              "\n",
              "  [theme=dark] .colab-df-quickchart {\n",
              "      --bg-color: #3B4455;\n",
              "      --fill-color: #D2E3FC;\n",
              "      --hover-bg-color: #434B5C;\n",
              "      --hover-fill-color: #FFFFFF;\n",
              "      --disabled-bg-color: #3B4455;\n",
              "      --disabled-fill-color: #666;\n",
              "  }\n",
              "\n",
              "  .colab-df-quickchart {\n",
              "    background-color: var(--bg-color);\n",
              "    border: none;\n",
              "    border-radius: 50%;\n",
              "    cursor: pointer;\n",
              "    display: none;\n",
              "    fill: var(--fill-color);\n",
              "    height: 32px;\n",
              "    padding: 0;\n",
              "    width: 32px;\n",
              "  }\n",
              "\n",
              "  .colab-df-quickchart:hover {\n",
              "    background-color: var(--hover-bg-color);\n",
              "    box-shadow: 0 1px 2px rgba(60, 64, 67, 0.3), 0 1px 3px 1px rgba(60, 64, 67, 0.15);\n",
              "    fill: var(--button-hover-fill-color);\n",
              "  }\n",
              "\n",
              "  .colab-df-quickchart-complete:disabled,\n",
              "  .colab-df-quickchart-complete:disabled:hover {\n",
              "    background-color: var(--disabled-bg-color);\n",
              "    fill: var(--disabled-fill-color);\n",
              "    box-shadow: none;\n",
              "  }\n",
              "\n",
              "  .colab-df-spinner {\n",
              "    border: 2px solid var(--fill-color);\n",
              "    border-color: transparent;\n",
              "    border-bottom-color: var(--fill-color);\n",
              "    animation:\n",
              "      spin 1s steps(1) infinite;\n",
              "  }\n",
              "\n",
              "  @keyframes spin {\n",
              "    0% {\n",
              "      border-color: transparent;\n",
              "      border-bottom-color: var(--fill-color);\n",
              "      border-left-color: var(--fill-color);\n",
              "    }\n",
              "    20% {\n",
              "      border-color: transparent;\n",
              "      border-left-color: var(--fill-color);\n",
              "      border-top-color: var(--fill-color);\n",
              "    }\n",
              "    30% {\n",
              "      border-color: transparent;\n",
              "      border-left-color: var(--fill-color);\n",
              "      border-top-color: var(--fill-color);\n",
              "      border-right-color: var(--fill-color);\n",
              "    }\n",
              "    40% {\n",
              "      border-color: transparent;\n",
              "      border-right-color: var(--fill-color);\n",
              "      border-top-color: var(--fill-color);\n",
              "    }\n",
              "    60% {\n",
              "      border-color: transparent;\n",
              "      border-right-color: var(--fill-color);\n",
              "    }\n",
              "    80% {\n",
              "      border-color: transparent;\n",
              "      border-right-color: var(--fill-color);\n",
              "      border-bottom-color: var(--fill-color);\n",
              "    }\n",
              "    90% {\n",
              "      border-color: transparent;\n",
              "      border-bottom-color: var(--fill-color);\n",
              "    }\n",
              "  }\n",
              "</style>\n",
              "\n",
              "  <script>\n",
              "    async function quickchart(key) {\n",
              "      const quickchartButtonEl =\n",
              "        document.querySelector('#' + key + ' button');\n",
              "      quickchartButtonEl.disabled = true;  // To prevent multiple clicks.\n",
              "      quickchartButtonEl.classList.add('colab-df-spinner');\n",
              "      try {\n",
              "        const charts = await google.colab.kernel.invokeFunction(\n",
              "            'suggestCharts', [key], {});\n",
              "      } catch (error) {\n",
              "        console.error('Error during call to suggestCharts:', error);\n",
              "      }\n",
              "      quickchartButtonEl.classList.remove('colab-df-spinner');\n",
              "      quickchartButtonEl.classList.add('colab-df-quickchart-complete');\n",
              "    }\n",
              "    (() => {\n",
              "      let quickchartButtonEl =\n",
              "        document.querySelector('#df-0f82b20e-5ff2-46a5-b713-bbed87be02a7 button');\n",
              "      quickchartButtonEl.style.display =\n",
              "        google.colab.kernel.accessAllowed ? 'block' : 'none';\n",
              "    })();\n",
              "  </script>\n",
              "</div>\n",
              "    </div>\n",
              "  </div>\n"
            ]
          },
          "metadata": {},
          "execution_count": 178
        }
      ]
    },
    {
      "cell_type": "markdown",
      "source": [
        "Now we will split our data into Test, Validation, and Test sets. You don't want to use Test set untill Q10."
      ],
      "metadata": {
        "id": "gN6ORx7PfP6W"
      }
    },
    {
      "cell_type": "code",
      "execution_count": 179,
      "metadata": {
        "id": "EZw19GDppv0d"
      },
      "outputs": [],
      "source": [
        "from sklearn.model_selection import train_test_split\n",
        "\n",
        "train, validation = train_test_split(data, test_size=0.3, random_state=42)"
      ]
    },
    {
      "cell_type": "code",
      "source": [
        "validation, test = train_test_split(validation, test_size=0.4, random_state=42)\n",
        "\n",
        "data.head()"
      ],
      "metadata": {
        "id": "53e0l06zSwmH",
        "colab": {
          "base_uri": "https://localhost:8080/",
          "height": 206
        },
        "outputId": "fc7b5890-e906-4093-d45e-e6389d758c54"
      },
      "execution_count": 180,
      "outputs": [
        {
          "output_type": "execute_result",
          "data": {
            "text/plain": [
              "   id keyword location                                               text  \\\n",
              "0   1                   Our Deeds are the Reason of this #earthquake M...   \n",
              "1   4                              Forest fire near La Ronge Sask. Canada   \n",
              "2   5                   All residents asked to 'shelter in place' are ...   \n",
              "3   6                   13,000 people receive #wildfires evacuation or...   \n",
              "4   7                   Just got sent this photo from Ruby #Alaska as ...   \n",
              "\n",
              "   target  \n",
              "0       1  \n",
              "1       1  \n",
              "2       1  \n",
              "3       1  \n",
              "4       1  "
            ],
            "text/html": [
              "\n",
              "  <div id=\"df-731caee8-3311-4a43-aa27-766b64d75667\" class=\"colab-df-container\">\n",
              "    <div>\n",
              "<style scoped>\n",
              "    .dataframe tbody tr th:only-of-type {\n",
              "        vertical-align: middle;\n",
              "    }\n",
              "\n",
              "    .dataframe tbody tr th {\n",
              "        vertical-align: top;\n",
              "    }\n",
              "\n",
              "    .dataframe thead th {\n",
              "        text-align: right;\n",
              "    }\n",
              "</style>\n",
              "<table border=\"1\" class=\"dataframe\">\n",
              "  <thead>\n",
              "    <tr style=\"text-align: right;\">\n",
              "      <th></th>\n",
              "      <th>id</th>\n",
              "      <th>keyword</th>\n",
              "      <th>location</th>\n",
              "      <th>text</th>\n",
              "      <th>target</th>\n",
              "    </tr>\n",
              "  </thead>\n",
              "  <tbody>\n",
              "    <tr>\n",
              "      <th>0</th>\n",
              "      <td>1</td>\n",
              "      <td></td>\n",
              "      <td></td>\n",
              "      <td>Our Deeds are the Reason of this #earthquake M...</td>\n",
              "      <td>1</td>\n",
              "    </tr>\n",
              "    <tr>\n",
              "      <th>1</th>\n",
              "      <td>4</td>\n",
              "      <td></td>\n",
              "      <td></td>\n",
              "      <td>Forest fire near La Ronge Sask. Canada</td>\n",
              "      <td>1</td>\n",
              "    </tr>\n",
              "    <tr>\n",
              "      <th>2</th>\n",
              "      <td>5</td>\n",
              "      <td></td>\n",
              "      <td></td>\n",
              "      <td>All residents asked to 'shelter in place' are ...</td>\n",
              "      <td>1</td>\n",
              "    </tr>\n",
              "    <tr>\n",
              "      <th>3</th>\n",
              "      <td>6</td>\n",
              "      <td></td>\n",
              "      <td></td>\n",
              "      <td>13,000 people receive #wildfires evacuation or...</td>\n",
              "      <td>1</td>\n",
              "    </tr>\n",
              "    <tr>\n",
              "      <th>4</th>\n",
              "      <td>7</td>\n",
              "      <td></td>\n",
              "      <td></td>\n",
              "      <td>Just got sent this photo from Ruby #Alaska as ...</td>\n",
              "      <td>1</td>\n",
              "    </tr>\n",
              "  </tbody>\n",
              "</table>\n",
              "</div>\n",
              "    <div class=\"colab-df-buttons\">\n",
              "\n",
              "  <div class=\"colab-df-container\">\n",
              "    <button class=\"colab-df-convert\" onclick=\"convertToInteractive('df-731caee8-3311-4a43-aa27-766b64d75667')\"\n",
              "            title=\"Convert this dataframe to an interactive table.\"\n",
              "            style=\"display:none;\">\n",
              "\n",
              "  <svg xmlns=\"http://www.w3.org/2000/svg\" height=\"24px\" viewBox=\"0 -960 960 960\">\n",
              "    <path d=\"M120-120v-720h720v720H120Zm60-500h600v-160H180v160Zm220 220h160v-160H400v160Zm0 220h160v-160H400v160ZM180-400h160v-160H180v160Zm440 0h160v-160H620v160ZM180-180h160v-160H180v160Zm440 0h160v-160H620v160Z\"/>\n",
              "  </svg>\n",
              "    </button>\n",
              "\n",
              "  <style>\n",
              "    .colab-df-container {\n",
              "      display:flex;\n",
              "      gap: 12px;\n",
              "    }\n",
              "\n",
              "    .colab-df-convert {\n",
              "      background-color: #E8F0FE;\n",
              "      border: none;\n",
              "      border-radius: 50%;\n",
              "      cursor: pointer;\n",
              "      display: none;\n",
              "      fill: #1967D2;\n",
              "      height: 32px;\n",
              "      padding: 0 0 0 0;\n",
              "      width: 32px;\n",
              "    }\n",
              "\n",
              "    .colab-df-convert:hover {\n",
              "      background-color: #E2EBFA;\n",
              "      box-shadow: 0px 1px 2px rgba(60, 64, 67, 0.3), 0px 1px 3px 1px rgba(60, 64, 67, 0.15);\n",
              "      fill: #174EA6;\n",
              "    }\n",
              "\n",
              "    .colab-df-buttons div {\n",
              "      margin-bottom: 4px;\n",
              "    }\n",
              "\n",
              "    [theme=dark] .colab-df-convert {\n",
              "      background-color: #3B4455;\n",
              "      fill: #D2E3FC;\n",
              "    }\n",
              "\n",
              "    [theme=dark] .colab-df-convert:hover {\n",
              "      background-color: #434B5C;\n",
              "      box-shadow: 0px 1px 3px 1px rgba(0, 0, 0, 0.15);\n",
              "      filter: drop-shadow(0px 1px 2px rgba(0, 0, 0, 0.3));\n",
              "      fill: #FFFFFF;\n",
              "    }\n",
              "  </style>\n",
              "\n",
              "    <script>\n",
              "      const buttonEl =\n",
              "        document.querySelector('#df-731caee8-3311-4a43-aa27-766b64d75667 button.colab-df-convert');\n",
              "      buttonEl.style.display =\n",
              "        google.colab.kernel.accessAllowed ? 'block' : 'none';\n",
              "\n",
              "      async function convertToInteractive(key) {\n",
              "        const element = document.querySelector('#df-731caee8-3311-4a43-aa27-766b64d75667');\n",
              "        const dataTable =\n",
              "          await google.colab.kernel.invokeFunction('convertToInteractive',\n",
              "                                                    [key], {});\n",
              "        if (!dataTable) return;\n",
              "\n",
              "        const docLinkHtml = 'Like what you see? Visit the ' +\n",
              "          '<a target=\"_blank\" href=https://colab.research.google.com/notebooks/data_table.ipynb>data table notebook</a>'\n",
              "          + ' to learn more about interactive tables.';\n",
              "        element.innerHTML = '';\n",
              "        dataTable['output_type'] = 'display_data';\n",
              "        await google.colab.output.renderOutput(dataTable, element);\n",
              "        const docLink = document.createElement('div');\n",
              "        docLink.innerHTML = docLinkHtml;\n",
              "        element.appendChild(docLink);\n",
              "      }\n",
              "    </script>\n",
              "  </div>\n",
              "\n",
              "\n",
              "<div id=\"df-f9291668-18c3-4307-86ca-596941a9501c\">\n",
              "  <button class=\"colab-df-quickchart\" onclick=\"quickchart('df-f9291668-18c3-4307-86ca-596941a9501c')\"\n",
              "            title=\"Suggest charts\"\n",
              "            style=\"display:none;\">\n",
              "\n",
              "<svg xmlns=\"http://www.w3.org/2000/svg\" height=\"24px\"viewBox=\"0 0 24 24\"\n",
              "     width=\"24px\">\n",
              "    <g>\n",
              "        <path d=\"M19 3H5c-1.1 0-2 .9-2 2v14c0 1.1.9 2 2 2h14c1.1 0 2-.9 2-2V5c0-1.1-.9-2-2-2zM9 17H7v-7h2v7zm4 0h-2V7h2v10zm4 0h-2v-4h2v4z\"/>\n",
              "    </g>\n",
              "</svg>\n",
              "  </button>\n",
              "\n",
              "<style>\n",
              "  .colab-df-quickchart {\n",
              "      --bg-color: #E8F0FE;\n",
              "      --fill-color: #1967D2;\n",
              "      --hover-bg-color: #E2EBFA;\n",
              "      --hover-fill-color: #174EA6;\n",
              "      --disabled-fill-color: #AAA;\n",
              "      --disabled-bg-color: #DDD;\n",
              "  }\n",
              "\n",
              "  [theme=dark] .colab-df-quickchart {\n",
              "      --bg-color: #3B4455;\n",
              "      --fill-color: #D2E3FC;\n",
              "      --hover-bg-color: #434B5C;\n",
              "      --hover-fill-color: #FFFFFF;\n",
              "      --disabled-bg-color: #3B4455;\n",
              "      --disabled-fill-color: #666;\n",
              "  }\n",
              "\n",
              "  .colab-df-quickchart {\n",
              "    background-color: var(--bg-color);\n",
              "    border: none;\n",
              "    border-radius: 50%;\n",
              "    cursor: pointer;\n",
              "    display: none;\n",
              "    fill: var(--fill-color);\n",
              "    height: 32px;\n",
              "    padding: 0;\n",
              "    width: 32px;\n",
              "  }\n",
              "\n",
              "  .colab-df-quickchart:hover {\n",
              "    background-color: var(--hover-bg-color);\n",
              "    box-shadow: 0 1px 2px rgba(60, 64, 67, 0.3), 0 1px 3px 1px rgba(60, 64, 67, 0.15);\n",
              "    fill: var(--button-hover-fill-color);\n",
              "  }\n",
              "\n",
              "  .colab-df-quickchart-complete:disabled,\n",
              "  .colab-df-quickchart-complete:disabled:hover {\n",
              "    background-color: var(--disabled-bg-color);\n",
              "    fill: var(--disabled-fill-color);\n",
              "    box-shadow: none;\n",
              "  }\n",
              "\n",
              "  .colab-df-spinner {\n",
              "    border: 2px solid var(--fill-color);\n",
              "    border-color: transparent;\n",
              "    border-bottom-color: var(--fill-color);\n",
              "    animation:\n",
              "      spin 1s steps(1) infinite;\n",
              "  }\n",
              "\n",
              "  @keyframes spin {\n",
              "    0% {\n",
              "      border-color: transparent;\n",
              "      border-bottom-color: var(--fill-color);\n",
              "      border-left-color: var(--fill-color);\n",
              "    }\n",
              "    20% {\n",
              "      border-color: transparent;\n",
              "      border-left-color: var(--fill-color);\n",
              "      border-top-color: var(--fill-color);\n",
              "    }\n",
              "    30% {\n",
              "      border-color: transparent;\n",
              "      border-left-color: var(--fill-color);\n",
              "      border-top-color: var(--fill-color);\n",
              "      border-right-color: var(--fill-color);\n",
              "    }\n",
              "    40% {\n",
              "      border-color: transparent;\n",
              "      border-right-color: var(--fill-color);\n",
              "      border-top-color: var(--fill-color);\n",
              "    }\n",
              "    60% {\n",
              "      border-color: transparent;\n",
              "      border-right-color: var(--fill-color);\n",
              "    }\n",
              "    80% {\n",
              "      border-color: transparent;\n",
              "      border-right-color: var(--fill-color);\n",
              "      border-bottom-color: var(--fill-color);\n",
              "    }\n",
              "    90% {\n",
              "      border-color: transparent;\n",
              "      border-bottom-color: var(--fill-color);\n",
              "    }\n",
              "  }\n",
              "</style>\n",
              "\n",
              "  <script>\n",
              "    async function quickchart(key) {\n",
              "      const quickchartButtonEl =\n",
              "        document.querySelector('#' + key + ' button');\n",
              "      quickchartButtonEl.disabled = true;  // To prevent multiple clicks.\n",
              "      quickchartButtonEl.classList.add('colab-df-spinner');\n",
              "      try {\n",
              "        const charts = await google.colab.kernel.invokeFunction(\n",
              "            'suggestCharts', [key], {});\n",
              "      } catch (error) {\n",
              "        console.error('Error during call to suggestCharts:', error);\n",
              "      }\n",
              "      quickchartButtonEl.classList.remove('colab-df-spinner');\n",
              "      quickchartButtonEl.classList.add('colab-df-quickchart-complete');\n",
              "    }\n",
              "    (() => {\n",
              "      let quickchartButtonEl =\n",
              "        document.querySelector('#df-f9291668-18c3-4307-86ca-596941a9501c button');\n",
              "      quickchartButtonEl.style.display =\n",
              "        google.colab.kernel.accessAllowed ? 'block' : 'none';\n",
              "    })();\n",
              "  </script>\n",
              "</div>\n",
              "    </div>\n",
              "  </div>\n"
            ]
          },
          "metadata": {},
          "execution_count": 180
        }
      ]
    },
    {
      "cell_type": "markdown",
      "metadata": {
        "id": "wD6Lh88gpv0h"
      },
      "source": [
        "## Q2 (2pt)\n",
        "\n",
        "1. What is the distribution of the classes in the Training set?\n",
        "\n",
        "2. Plot the bar-plot for 10 mostly frequent values in column \"keyword\".\n",
        "\n",
        "Comment on the information you've seen. [EDA notbook could be helpful](https://github.com/anton-selitskiy/RIT_ML/blob/main/EDA_and_Pipeline1.ipynb)"
      ]
    },
    {
      "cell_type": "code",
      "source": [
        "class_distribution = train['target'].value_counts()\n",
        "print(\"Class Distribution in Training Set:\")\n",
        "print(class_distribution)\n",
        "\n",
        "plt.figure(figsize=(10, 6))\n",
        "class_distribution.plot(kind='bar', color=['skyblue', 'salmon'])\n",
        "plt.xlabel('Target Classes')\n",
        "plt.ylabel('Count')\n",
        "plt.title('Distribution of target classes in our training set')\n",
        "plt.xticks(rotation=45, ha='right')\n",
        "plt.ylim(2000, 3500)\n",
        "\n",
        "# Show the plot\n",
        "plt.show()"
      ],
      "metadata": {
        "id": "h6qi3bJAuqa0",
        "outputId": "620346fe-f191-4d99-884b-4280dcaee169",
        "colab": {
          "base_uri": "https://localhost:8080/",
          "height": 635
        }
      },
      "execution_count": 181,
      "outputs": [
        {
          "output_type": "stream",
          "name": "stdout",
          "text": [
            "Class Distribution in Training Set:\n",
            "0    3024\n",
            "1    2305\n",
            "Name: target, dtype: int64\n"
          ]
        },
        {
          "output_type": "display_data",
          "data": {
            "text/plain": [
              "<Figure size 1000x600 with 1 Axes>"
            ],
            "image/png": "[encoded data removed]"
          },
          "metadata": {}
        }
      ]
    },
    {
      "cell_type": "code",
      "source": [
        "keyword_frequency = train['keyword'].value_counts()\n",
        "print(\"\\nFrequency of Keywords in Training Set:\")\n",
        "print(keyword_frequency.head(10))\n",
        "plt.figure(figsize=(10, 6))\n",
        "keyword_frequency.iloc[1:].head(10).plot(kind='bar', color=['skyblue', 'salmon'])\n",
        "plt.xlabel('Keywords')\n",
        "plt.ylabel('Count')\n",
        "plt.title('Top 10 most common keywords')\n",
        "plt.xticks(rotation=45, ha='right')\n",
        "\n",
        "# Show the plot\n",
        "plt.show()"
      ],
      "metadata": {
        "id": "9B6ugYg0vORf",
        "outputId": "8e466c4b-e4c4-4041-9c9c-1fe08acce8c3",
        "colab": {
          "base_uri": "https://localhost:8080/",
          "height": 833
        }
      },
      "execution_count": 182,
      "outputs": [
        {
          "output_type": "stream",
          "name": "stdout",
          "text": [
            "\n",
            "Frequency of Keywords in Training Set:\n",
            "              44\n",
            "damage        36\n",
            "siren         35\n",
            "wreckage      34\n",
            "fatalities    33\n",
            "deluge        31\n",
            "refugees      30\n",
            "derail        30\n",
            "fear          30\n",
            "tsunami       30\n",
            "Name: keyword, dtype: int64\n"
          ]
        },
        {
          "output_type": "display_data",
          "data": {
            "text/plain": [
              "<Figure size 1000x600 with 1 Axes>"
            ],
            "image/png": "[encoded data removed]"
          },
          "metadata": {}
        }
      ]
    },
    {
      "cell_type": "markdown",
      "metadata": {
        "id": "KM4yo44Rpv0j"
      },
      "source": [
        "## Q3 (1pt)\n",
        "\n",
        "Join text columns in a new column and delete the column with id."
      ]
    },
    {
      "cell_type": "code",
      "source": [
        "train['concat'] = train['keyword'] + train['location'] + train['text']\n",
        "train.drop(['id', 'keyword', 'location', 'text'], axis=1, inplace=True)"
      ],
      "metadata": {
        "id": "EHahLrNfUqvn"
      },
      "execution_count": 183,
      "outputs": []
    },
    {
      "cell_type": "code",
      "source": [
        "train.head()"
      ],
      "metadata": {
        "id": "zYW5db-dwP7-",
        "outputId": "5a1cec16-f3b9-4aed-d348-b7da180b1000",
        "colab": {
          "base_uri": "https://localhost:8080/",
          "height": 206
        }
      },
      "execution_count": 184,
      "outputs": [
        {
          "output_type": "execute_result",
          "data": {
            "text/plain": [
              "      target                                             concat\n",
              "1186       0  bridge%20collapseAshes 2015: AustraliaÛªs col...\n",
              "4071       1  hailCarol Stream, IllinoisGREAT MICHIGAN TECHN...\n",
              "5461       1  policeHouston CNN: Tennessee movie theater sho...\n",
              "5787       1  riotingStill rioting in a couple of hours left...\n",
              "7445       0  woundsLake HighlandsCrack in the path where I ..."
            ],
            "text/html": [
              "\n",
              "  <div id=\"df-02f9dac2-dc13-48db-b64c-4e9ce81a2918\" class=\"colab-df-container\">\n",
              "    <div>\n",
              "<style scoped>\n",
              "    .dataframe tbody tr th:only-of-type {\n",
              "        vertical-align: middle;\n",
              "    }\n",
              "\n",
              "    .dataframe tbody tr th {\n",
              "        vertical-align: top;\n",
              "    }\n",
              "\n",
              "    .dataframe thead th {\n",
              "        text-align: right;\n",
              "    }\n",
              "</style>\n",
              "<table border=\"1\" class=\"dataframe\">\n",
              "  <thead>\n",
              "    <tr style=\"text-align: right;\">\n",
              "      <th></th>\n",
              "      <th>target</th>\n",
              "      <th>concat</th>\n",
              "    </tr>\n",
              "  </thead>\n",
              "  <tbody>\n",
              "    <tr>\n",
              "      <th>1186</th>\n",
              "      <td>0</td>\n",
              "      <td>bridge%20collapseAshes 2015: AustraliaÛªs col...</td>\n",
              "    </tr>\n",
              "    <tr>\n",
              "      <th>4071</th>\n",
              "      <td>1</td>\n",
              "      <td>hailCarol Stream, IllinoisGREAT MICHIGAN TECHN...</td>\n",
              "    </tr>\n",
              "    <tr>\n",
              "      <th>5461</th>\n",
              "      <td>1</td>\n",
              "      <td>policeHouston CNN: Tennessee movie theater sho...</td>\n",
              "    </tr>\n",
              "    <tr>\n",
              "      <th>5787</th>\n",
              "      <td>1</td>\n",
              "      <td>riotingStill rioting in a couple of hours left...</td>\n",
              "    </tr>\n",
              "    <tr>\n",
              "      <th>7445</th>\n",
              "      <td>0</td>\n",
              "      <td>woundsLake HighlandsCrack in the path where I ...</td>\n",
              "    </tr>\n",
              "  </tbody>\n",
              "</table>\n",
              "</div>\n",
              "    <div class=\"colab-df-buttons\">\n",
              "\n",
              "  <div class=\"colab-df-container\">\n",
              "    <button class=\"colab-df-convert\" onclick=\"convertToInteractive('df-02f9dac2-dc13-48db-b64c-4e9ce81a2918')\"\n",
              "            title=\"Convert this dataframe to an interactive table.\"\n",
              "            style=\"display:none;\">\n",
              "\n",
              "  <svg xmlns=\"http://www.w3.org/2000/svg\" height=\"24px\" viewBox=\"0 -960 960 960\">\n",
              "    <path d=\"M120-120v-720h720v720H120Zm60-500h600v-160H180v160Zm220 220h160v-160H400v160Zm0 220h160v-160H400v160ZM180-400h160v-160H180v160Zm440 0h160v-160H620v160ZM180-180h160v-160H180v160Zm440 0h160v-160H620v160Z\"/>\n",
              "  </svg>\n",
              "    </button>\n",
              "\n",
              "  <style>\n",
              "    .colab-df-container {\n",
              "      display:flex;\n",
              "      gap: 12px;\n",
              "    }\n",
              "\n",
              "    .colab-df-convert {\n",
              "      background-color: #E8F0FE;\n",
              "      border: none;\n",
              "      border-radius: 50%;\n",
              "      cursor: pointer;\n",
              "      display: none;\n",
              "      fill: #1967D2;\n",
              "      height: 32px;\n",
              "      padding: 0 0 0 0;\n",
              "      width: 32px;\n",
              "    }\n",
              "\n",
              "    .colab-df-convert:hover {\n",
              "      background-color: #E2EBFA;\n",
              "      box-shadow: 0px 1px 2px rgba(60, 64, 67, 0.3), 0px 1px 3px 1px rgba(60, 64, 67, 0.15);\n",
              "      fill: #174EA6;\n",
              "    }\n",
              "\n",
              "    .colab-df-buttons div {\n",
              "      margin-bottom: 4px;\n",
              "    }\n",
              "\n",
              "    [theme=dark] .colab-df-convert {\n",
              "      background-color: #3B4455;\n",
              "      fill: #D2E3FC;\n",
              "    }\n",
              "\n",
              "    [theme=dark] .colab-df-convert:hover {\n",
              "      background-color: #434B5C;\n",
              "      box-shadow: 0px 1px 3px 1px rgba(0, 0, 0, 0.15);\n",
              "      filter: drop-shadow(0px 1px 2px rgba(0, 0, 0, 0.3));\n",
              "      fill: #FFFFFF;\n",
              "    }\n",
              "  </style>\n",
              "\n",
              "    <script>\n",
              "      const buttonEl =\n",
              "        document.querySelector('#df-02f9dac2-dc13-48db-b64c-4e9ce81a2918 button.colab-df-convert');\n",
              "      buttonEl.style.display =\n",
              "        google.colab.kernel.accessAllowed ? 'block' : 'none';\n",
              "\n",
              "      async function convertToInteractive(key) {\n",
              "        const element = document.querySelector('#df-02f9dac2-dc13-48db-b64c-4e9ce81a2918');\n",
              "        const dataTable =\n",
              "          await google.colab.kernel.invokeFunction('convertToInteractive',\n",
              "                                                    [key], {});\n",
              "        if (!dataTable) return;\n",
              "\n",
              "        const docLinkHtml = 'Like what you see? Visit the ' +\n",
              "          '<a target=\"_blank\" href=https://colab.research.google.com/notebooks/data_table.ipynb>data table notebook</a>'\n",
              "          + ' to learn more about interactive tables.';\n",
              "        element.innerHTML = '';\n",
              "        dataTable['output_type'] = 'display_data';\n",
              "        await google.colab.output.renderOutput(dataTable, element);\n",
              "        const docLink = document.createElement('div');\n",
              "        docLink.innerHTML = docLinkHtml;\n",
              "        element.appendChild(docLink);\n",
              "      }\n",
              "    </script>\n",
              "  </div>\n",
              "\n",
              "\n",
              "<div id=\"df-2ebb13cd-8d61-4020-bbee-4d4ae0ae3f12\">\n",
              "  <button class=\"colab-df-quickchart\" onclick=\"quickchart('df-2ebb13cd-8d61-4020-bbee-4d4ae0ae3f12')\"\n",
              "            title=\"Suggest charts\"\n",
              "            style=\"display:none;\">\n",
              "\n",
              "<svg xmlns=\"http://www.w3.org/2000/svg\" height=\"24px\"viewBox=\"0 0 24 24\"\n",
              "     width=\"24px\">\n",
              "    <g>\n",
              "        <path d=\"M19 3H5c-1.1 0-2 .9-2 2v14c0 1.1.9 2 2 2h14c1.1 0 2-.9 2-2V5c0-1.1-.9-2-2-2zM9 17H7v-7h2v7zm4 0h-2V7h2v10zm4 0h-2v-4h2v4z\"/>\n",
              "    </g>\n",
              "</svg>\n",
              "  </button>\n",
              "\n",
              "<style>\n",
              "  .colab-df-quickchart {\n",
              "      --bg-color: #E8F0FE;\n",
              "      --fill-color: #1967D2;\n",
              "      --hover-bg-color: #E2EBFA;\n",
              "      --hover-fill-color: #174EA6;\n",
              "      --disabled-fill-color: #AAA;\n",
              "      --disabled-bg-color: #DDD;\n",
              "  }\n",
              "\n",
              "  [theme=dark] .colab-df-quickchart {\n",
              "      --bg-color: #3B4455;\n",
              "      --fill-color: #D2E3FC;\n",
              "      --hover-bg-color: #434B5C;\n",
              "      --hover-fill-color: #FFFFFF;\n",
              "      --disabled-bg-color: #3B4455;\n",
              "      --disabled-fill-color: #666;\n",
              "  }\n",
              "\n",
              "  .colab-df-quickchart {\n",
              "    background-color: var(--bg-color);\n",
              "    border: none;\n",
              "    border-radius: 50%;\n",
              "    cursor: pointer;\n",
              "    display: none;\n",
              "    fill: var(--fill-color);\n",
              "    height: 32px;\n",
              "    padding: 0;\n",
              "    width: 32px;\n",
              "  }\n",
              "\n",
              "  .colab-df-quickchart:hover {\n",
              "    background-color: var(--hover-bg-color);\n",
              "    box-shadow: 0 1px 2px rgba(60, 64, 67, 0.3), 0 1px 3px 1px rgba(60, 64, 67, 0.15);\n",
              "    fill: var(--button-hover-fill-color);\n",
              "  }\n",
              "\n",
              "  .colab-df-quickchart-complete:disabled,\n",
              "  .colab-df-quickchart-complete:disabled:hover {\n",
              "    background-color: var(--disabled-bg-color);\n",
              "    fill: var(--disabled-fill-color);\n",
              "    box-shadow: none;\n",
              "  }\n",
              "\n",
              "  .colab-df-spinner {\n",
              "    border: 2px solid var(--fill-color);\n",
              "    border-color: transparent;\n",
              "    border-bottom-color: var(--fill-color);\n",
              "    animation:\n",
              "      spin 1s steps(1) infinite;\n",
              "  }\n",
              "\n",
              "  @keyframes spin {\n",
              "    0% {\n",
              "      border-color: transparent;\n",
              "      border-bottom-color: var(--fill-color);\n",
              "      border-left-color: var(--fill-color);\n",
              "    }\n",
              "    20% {\n",
              "      border-color: transparent;\n",
              "      border-left-color: var(--fill-color);\n",
              "      border-top-color: var(--fill-color);\n",
              "    }\n",
              "    30% {\n",
              "      border-color: transparent;\n",
              "      border-left-color: var(--fill-color);\n",
              "      border-top-color: var(--fill-color);\n",
              "      border-right-color: var(--fill-color);\n",
              "    }\n",
              "    40% {\n",
              "      border-color: transparent;\n",
              "      border-right-color: var(--fill-color);\n",
              "      border-top-color: var(--fill-color);\n",
              "    }\n",
              "    60% {\n",
              "      border-color: transparent;\n",
              "      border-right-color: var(--fill-color);\n",
              "    }\n",
              "    80% {\n",
              "      border-color: transparent;\n",
              "      border-right-color: var(--fill-color);\n",
              "      border-bottom-color: var(--fill-color);\n",
              "    }\n",
              "    90% {\n",
              "      border-color: transparent;\n",
              "      border-bottom-color: var(--fill-color);\n",
              "    }\n",
              "  }\n",
              "</style>\n",
              "\n",
              "  <script>\n",
              "    async function quickchart(key) {\n",
              "      const quickchartButtonEl =\n",
              "        document.querySelector('#' + key + ' button');\n",
              "      quickchartButtonEl.disabled = true;  // To prevent multiple clicks.\n",
              "      quickchartButtonEl.classList.add('colab-df-spinner');\n",
              "      try {\n",
              "        const charts = await google.colab.kernel.invokeFunction(\n",
              "            'suggestCharts', [key], {});\n",
              "      } catch (error) {\n",
              "        console.error('Error during call to suggestCharts:', error);\n",
              "      }\n",
              "      quickchartButtonEl.classList.remove('colab-df-spinner');\n",
              "      quickchartButtonEl.classList.add('colab-df-quickchart-complete');\n",
              "    }\n",
              "    (() => {\n",
              "      let quickchartButtonEl =\n",
              "        document.querySelector('#df-2ebb13cd-8d61-4020-bbee-4d4ae0ae3f12 button');\n",
              "      quickchartButtonEl.style.display =\n",
              "        google.colab.kernel.accessAllowed ? 'block' : 'none';\n",
              "    })();\n",
              "  </script>\n",
              "</div>\n",
              "    </div>\n",
              "  </div>\n"
            ]
          },
          "metadata": {},
          "execution_count": 184
        }
      ]
    },
    {
      "cell_type": "markdown",
      "metadata": {
        "id": "WS0LXtJ1pv0j"
      },
      "source": [
        "## Q4 (1pt)\n",
        "\n",
        "Work with train set.\n",
        "\n",
        "1. Transform the data using CountVectorizer.\n",
        "2. What is the shape of the resulted matrix?\n"
      ]
    },
    {
      "cell_type": "code",
      "source": [
        "from sklearn.feature_extraction.text import CountVectorizer\n",
        "vec = CountVectorizer()\n",
        "X_train_transformed = vec.fit_transform(train['concat'])\n",
        "X_train_transformed.shape"
      ],
      "metadata": {
        "id": "nCfHWpEv36CC",
        "outputId": "860604d1-7a6b-4dfa-e665-5505132b8524",
        "colab": {
          "base_uri": "https://localhost:8080/"
        }
      },
      "execution_count": 185,
      "outputs": [
        {
          "output_type": "execute_result",
          "data": {
            "text/plain": [
              "(5329, 22738)"
            ]
          },
          "metadata": {},
          "execution_count": 185
        }
      ]
    },
    {
      "cell_type": "markdown",
      "metadata": {
        "id": "gJAGnvs1pv0k"
      },
      "source": [
        "## Q5 (2pt)\n",
        "\n",
        "The matrix in the previous question has many columns. Let's take a look at the dictionary of tokens, method *.vocabulary_* of CountVectorizer object.\n",
        "\n",
        "1. Find all the words in this dictionary that contain digits. How many such words were found?\n",
        "\n",
        "2. Find all the words that contain punctuation characters. How many such words were found?"
      ]
    },
    {
      "cell_type": "code",
      "source": [
        "import re"
      ],
      "metadata": {
        "id": "0e6FCR8P53Aa"
      },
      "execution_count": 186,
      "outputs": []
    },
    {
      "cell_type": "code",
      "source": [
        "word_list = list(vec.vocabulary_)"
      ],
      "metadata": {
        "id": "3Njwxvthwtz6"
      },
      "execution_count": 194,
      "outputs": []
    },
    {
      "cell_type": "code",
      "source": [
        "digit_pattern = re.compile(r'\\d')\n",
        "punctuation_pattern = re.compile(r'\\W')\n",
        "\n",
        "words_with_digit = []\n",
        "words_with_punctuation = []\n",
        "\n",
        "for word in word_list:\n",
        "  if (digit_pattern.search(word)):\n",
        "    words_with_digit.append(word)\n",
        "\n",
        "  if (punctuation_pattern.search(word)):\n",
        "    words_with_punctuation.append(word)\n",
        "\n",
        "\n",
        "print(f\"{len(words_with_digit)} words have digits: {words_with_digit}\")\n",
        "print(f\"{len(words_with_punctuation)} words have punctuation characters: {words_with_punctuation}\")"
      ],
      "metadata": {
        "id": "-9TQAmzb4-dz",
        "outputId": "01622bb7-fca4-4a60-e02f-2feaf6b92e93",
        "colab": {
          "base_uri": "https://localhost:8080/"
        }
      },
      "execution_count": 195,
      "outputs": [
        {
          "output_type": "stream",
          "name": "stdout",
          "text": [
            "4590 words have digits: ['20collapseashes', '2015', '60', 't5trhjuau0', 'b1g', 'bmurph1019', 'termn8r13', 'oaskgki6qj', 'di8elzswnr', '20accidentsomewhere', 'tagzbcxfj0', 'xxfk4khbiw', 'mkx6ux4ozt', 'ma4ra7atql', 'cg579wldne', '7xglah10zl', 'musbik7ejf', '20bagnew', '35', '23', '419', 'hcdiwe5flc', 'roughdeal1', 'bloody65', '11', '20bombingprincipality', 'jackmulholland1', 'czdw8oowa2', 'zl7ojdaj3u', 'lkjfabqzb3', '20burninggo', '1acd4900c1424d1', '20firesnicola', 'ns1aggfnxz', '3m', 'od250zshfy', 'wd9odwjj9l', '20on', '20fireuk', 'tweetlikeitsseptember11th2001', '20spillnew', '20firescartoon', 'ks100', '7o4lnfbe7k', '20respondersthis', 'tl93aod3er', '20', 'obix79ncxn', 'z8r6r3nbtb', 'namffldh5h', '53inch', '300w', '4x4', 'o097vsotxk', 'i23xy7iejj', '00', '06', 'thhjjw51pe', '01', '325ci', '5l', 'l6', 'c211hise0r', '10', 'xbznu0qkvs', 'jlczidz7vu', 'mylittlepwnies3', '80s', 'lhw4vtbhzg', 'yh5vetm0yz', '17wgug8z0m', '073izwx0lb', 'delhi18', 'e7fn5g5ruu', '75k', '52k', 'shhlv4dplz', '20stormi', 'sf5jdnvdw9', '20wavefort', 'k9airfq3ql', '20reactordenver', 'ys3nmwwyvc', 'alpotnb7q3', 'wlmsq3mtho', 'gxq1auzb18', 'york40', 'uelz59wvom', 'z3ke_sk1', '20buildingswhiterun', '6ds67xai5e', 'y87gi3brlv', '1zbhvdcxzs', 'raishimi33', 'yqjpn3quux', 'wk6b5z803o', '20respondersworldwideloved', 'kcrnmjkj73', '20fires', 'gajtugaui7', 'mnkaji2q1n', '33333', '9vw0uqqi1y', '20burningdublin', '20accidentjaipur', 'tyjxrfd3st', '20stormif', 'j3di85ist5', 'swb1192', '20collapsemumbai', 'ameenshaikh3', '1ybe5mgzl4', '7zog3dpdu9', 'tilgurkv7z', '405', '91jvycxxvi', '50', 'saf9mosksn', 'qfrawln4ba', 'cd2ng2awql', '2wbivkzjip', '4mjyw7p7cf', 'vcq2icptki', 'a8jz5a26wi', '20murderercalifornia', 'ii2spvp89b', 'rodpt33xfm', '0bvk5tub4j', 'nps3xpbkaq', 'xb1', 'vpvj5hrc1i', '8tygo0kizz', '20buildingsoklahoma', '1st', '300', 'h1xigcen7f', '20stormlubbock', 'pw3tzu0tay', '20upflorida', '9giaxd6jty', '19', 'oogoto76uz', '20wavelongest', '2013', 'xc96rwuszb', 'xm9stfzcpv', 'robertmeyer9', 'r1cnsjuayq', 'dq1ylcrf9k', 'ohcx3y8l4s', 'hfvnyft78c', '8j4rdwyjwu', '9mkzpzfkl2', 'displaced48', '870833', '3992279000', '1800', 'x8i0mhyrmn', '20disastersì', 'k4zomof319', 's2kxvm0cba', 'qsheu3yf0w', '20firesduncan', '20fireworld', 'wide1943', 'sqfp6ecz0i', 'oef123l5rc', 'u2do2mc2ri', '3om3xw6cz8', 'mh370', 'i1eeuxxz3a', 'wattys2015', 'g891m9gh4r', 'xq92x4bvg3', 'mirrorlady2', '6hhmbdk9yo', 'm4tczaawpt', 's5', '20disasterthe', 'cas8xc2dfe', '20bag', 'hpd3snm6oy', '9973', '16', '99', 'gsmddmu9pu', '1sgzgtgfw9', 'b4', '12hr', 'l9fjpnszuo', '0enugu', 'mskn6d3ekh', '21', '2fs649qdwx', 'kltit88as3', 'x9mdhocpda', 'fatalvaranasi11', '616', '20buildingsi', 'wwu070tjej', 'b2', '52', '15000270364', 'nyv51681ue', 'cbs3', '9rfo9gy3ne', 'o82yvxbztv', 'n5kmxuverg', '20stormìït', '50225', '103', '742992dramatic', 'vj44', '20upye', 'uwobuuw2mk', 'eac4au', '15', 'fvp3wnid4l', 'qelroci7by', 'friend50', 'hy5pbe12tm', 'c1njpli5or', '20buildingscharlotte', '1qochspybw', 'kiildu8gpo', 'wudlkq7ncx', 'fqv47ob8ge', 'cwm0ulqu3e', 'cx6aupnemu', 'fatality434that', '400000', 'ûò800000', 'txzxcnudr8', 'b1bx0eruep', 'bgy4i47j70', 'ixjqg1sx6u', '8owc41fmbr', 'ohbv7yvtl5', 'ymuti3nd9r', '74', '75', '20murder', 't7ge0j3cay', 'camilla_33', 'aftershock304', '20firescanada', 'wbcshirl2', '20wavecrayford', 'rodarmer21', '20bombworldwidenew', '16yr', 'zbzc8905gl', '2day', 'dno7qxcffh', 'ia1hngnhvb', 'marek1330', 'ffkcj8pfj2', 'music212', '20bombwo', '5v29w19tfx', 'enrjh5qkve', 'windows10', '3fzidhqrk3', 'stankyboy88', 'acfi2rhz4n', 'pst5bbq0av', '495', '31', '97', '20stormellensburg', '90', 'nkkctttsd9', 'cybksxhf7d', 'vcjcykq8b8', '8qc8bcxoko', '20murdererhaysville', 'bytbz8s5ux', '034', '1a', '5s', '5c', 'o3wvsclicx', '14', '4evttqpeia', 'ue78c7egox', '20spillstreet', 'ap30pszkvx', '20burningst', '9vd6x4wdoy', 'com70', 'ltvvpflsg8', '3g79prayyc', 'isi1rllct0', 'sr37', '1141', 'mylieruxk1', 'kah1kmtrj7', '33', '209923', '87', '545328if', 'qmo1txxdkj', 'death2usa', '20upusa', 'tngye2fklv', '20bagswomen', 'y46isyzkc8', '20upatx', '0xa6fcjyec', '8cpcz2xohb', '18', 'c5ggszugw1', '2pimg9bice', 'glosblue66', '20planim', '20failuresan', 'sjkgjxff2r', '20uppurgatory', 'm8ufjdtlsm', '48', 'a6ppegelox', '20reactorjapongermany', '39', 'e0uusnpsq5', '0omega', 'utc7pdidfo', '20bombingon', 'haji_hunter762', 'oioecbsh1f', 'tomarse99', '20emergencywho', '24', '09', 'hxwfbpp1b3', '104393', '96', '628624', '087809233445', '2327564d', 't1mbw0ia3o', 'clfa0py5lm', '40', 'o784', '4103', 'calum5sos', '20respondersbasking', 'dih1tgqhej', 'jlwgshyy3n', 'round2', 'fqqi8gvlq4', 'hwy401', '20fireport', 'aprensss3x', 'xizkjfff29', 'grzchkdf37', 'n844h1aspj', 'sz2rvwpwhj', 'lajx578dru', 'p4doa5yyje', 'ep016', '08', 'ejkrf8n8a8', 'sphwe6wfi5', '20buildingsy', '20fireconcord', '375', 'd7zxz42qw1', 'mort3mer', 'jcdd6sd6qn', '9guckjghms', '20wavejapan', '55', '8jcyxhq1az', 'kevr_7', '20storm', 'wj7ujfs8fd', '20falllondon', 'tbqsqtmqv4', 'e1vkc2efst', 'beua507iug', '100', 'wvlah8jrxe', 'z10', 'sd7loww9nu', '7hkavtvx81', '20fireintermountain', '2pm', '20firema', '2nd', 'ja3w1s3tmr', 'wqikqx9e3w', 'kncm9jc8i9', 'jvivt6zrv7', 'ss1zl36y9v', 'p3g3bqbczu', 'rpbxdfnx5k', '6615434', 'dmlj1agotw', 'qmif0blwoa', 'l6pif3lpen', 'chrisman528', 'enpjcfma8l', 'moa0q0aufa', 'nkou7zwwrt', '20zonelouisianasundays', 'army17', 'wvj39a3bgm', 'dieanpink95', 'yu_nita99', '20reactorphoenix', '20bomberafricasuicide', 'pioy1o54f4', 'e9yfe3p7p1', '8gzbgmmaa1', 'lt3dave', 'orxdqfz0j0', '20disastersacramento', 'vn0accf6d4', 'of3td6dglb', '5ytiex55lh', 'ysxun5vceh', 'i7eskymoec', '20spillfinancial', 'efcn9ivnfg', '20bombingusaturkish', '7cibxls55f', '20disasteramerica', 'bbdpnj8xsx', 's7vygenjuv', 'xfhh2xf9ga', 'joeybats19', 'rqwuoy1fm4', 'dili5jhmur', 'ndxrk2ncln', 'th9ywbbeet', 'derailnairobi25', '6sdtzsgelq', '7npbfrzejl', 'y0kbyy8nce', 'l9udest', 'btpqdehl3p', '9pm', '4hngtkdqmv', 'l1gh8064yv', 'k9fbtccu58', 'xyj0rpsai2', '20firespray', '20stormbeirut', 'jkpjpch9i6', 'chrisdyson16', 'iylvzy3cob', 'teq7sri57p', 'pdehd1tcpk', 'devastation70', 'targ56igbz', 'wz55nbyao3', 'l7pmdmejs1', 'mdp2ni1pqu', '1943', '20buildingscopenhagen', '9cpwiecegv', 'rzlytnez2u', '86v81dv00e', 'h132iul7mu', 'e1kbludwh5', '20stormstorm', 'nkaw9ezqgg', 'u4gsbnu8wc', '77', '8437150124', '360wisenews', 'eatfro3d5x', 'volcano1', '5km', 'v3azwoamzk', 'rny4l3sr7a', 'igx8xfz8ko', 'gk4unpznhn', 'qr6btdcqcj', 'd1vjoyg52a', 'chorr2xovp', '20firemanchester', 'tqh5amoknd', 'bm0sxzbnke', '92fwtobi3u', 'cor4', '12giqbvlys', 'jwfiilj8wr', 'czqr3ci9xw', 'b77t2qxdcs', '25sy9y295l', 'q8reoevlue', 'jlzk2hdetg', 'judson1360', 'xtra1360', '3g', 'comuiok3mp', '20emergencycenter', 'welshninja87', '20bomb', 'tuvbr4lep3', 'cpeqv52lna', '72ix7vm87w', 'ageekyfangirl14', 'fs4y1c9mnf', 'collision60th', 'l8w30wfw3r', 'icrzi5tqc5', 'onxhkfhn2a', 'hu5cxqnobf', 'uymxocfs33', 'lauren_miller_7', 'lgglf5yrme', 's2wm8lh7oo', 'n00dvxega2', 'b2b', 'b2bagency', '6vei1mhea4', 'weaponpennsylvania70', '20murdervictoria', 'samanthaturne19', 'n71hmvervv', 'u6isxv2f3v', '213', '4678', 'o2jd4tbrwa', 'jfx6qiyivf', '20fireroanoke', 'lma39zrwoy', '05', '12pm', '45pm', 'ayfdjeb7hy', 'vnni3zzuz6', '28t3nwhdky', '20spillcanadadtn', 'pdosrg8cf7', 'kpvymhm2ub', '20burningnew', 'phixznv1yn', '6tvvlg2fni', '7mlcd0l0b8', 'massacre3', 'nlbltynv36', '20zonethe', 'cjvbqxw83s', 'ih8udz8mq3', '70', 'uqnj6nk9y3', '3og66nfsig', 'uhf7nyabsw', '20bombersuicide', 'nonm8c6l8p', 'st5fgblsye', '0uk0h9hozn', '101', 'ujrx9kgawp', 'ja0wgp8spe', 'ryah8fni5q', '26oo0fcl53', 'ipwysnik0g', '20services', 'gkye6gjtk5', 'jejc9xctmp', '917', '033', 'wxces39zte', '4ryzmzsgdw', 'mgr809yc5a', 'uzwxjbg0zh', 'pbya7uv3v5', '20disaster3', 'f1bakpnyn6åê', 'lzxwoaye4x', 'accident8', '2781', 'vckit6edev', '6mbpvwitxf', '20bangkenyacolnharun', 'mmchale13', 'vbsj8tniv1', '20baggingi', 'nf4iculoje', '20firesmy', '463p0ys0eb', 'fu1btuq1et', '20waveit', 'bp8bm8xsxw', 'p6cylz5lpt', 'jpu9gips9f', '20emergencylondon', 'ndjja4d5o8', 'l7bjsq0y2o', 'blcbabm7a1', '30', 'u1fuwrgk5u', 'vg8hrbebda', '20firesdallas', 'x1xj0xvtj7', 'coma1', '90blks', '8whts', 'derailmentindia25', 'dnu5hwsxo2', '27', 'zonewolf123', 'u66kyg11zd', '20up', 'defj7xekgx', '20stormsouth', 'kxewlhh7uw', 'qnvxj2palj', '20wavenew', 'rqiuqxnm2x', '20firesonly', 'rgyuakc0dr', 'ba2rrxugsg', '70years', '8vzl1ns2io', 'p5zicjudxo', 'kzhb8zx6yc', 'military30213', 'uz1yiz7n6m', 'ijwar15h16', '158', '1017', 'lw9o2kdk18', 'ihave44episodesofgg', 'weudlkc4o4', 'trl1dskf81', 'qzvkpahsq7', '20truckhere', '180', '999', 'zdtz3rbs6w', '29pm', '15pm', 'o8x4m5er6b', '415', '751', '0880', 'mo0', '20bagswashington', '5fhkxtrhyu', 'ioq051t5te', '629', 'klxaucnp5i', '20burningkou', 'lhdcpnzx6a', '88', '92', '5th', '3ugfpwmy2x', '20wave', '20buildingswe', 'l2nmywrmq2', 'bozlwr716z', 'c9t2f6dltm', 'mzqq5pai8g', 'obliterated1313', 'wj0u59mppb', '900037', 'kongmh370', '6ime8kjacv', '70th', 'qreinwg0gs', '9am', 'c0slabbp7j', 'ge0yd3mkav', '20servicesorange', '80dzgco6vc', 'qwo7q1amh8', 'esrkmazeq9', 'udkesj01ml', '05th', '29', 'yqyiwjn8ez', 'bqblwiw08g', '20spillgoa', 'osi2016', 'ny10th', 'tbm9fqb8cw', 'mcsek4hx5s', 'iifgaz0fil', 'jt_ruff23', '25573', 'btjpeo0bto', 'clyj32l333', 'dlaub2nvtn', 'xpfmr368uf', 'nmaumydke1', 'jzprciqa9d', 'fj7kcrlir7', '2k13', '7mlmsuzv1z', '32215def', 'm5rjekvddp', 'york2pcs', '18w', '4wd', '1qt51r5h98', 'oqh1jbuenl', 'bagef9lfgt', '25', 'bvxqa3kfrx', 'emvohm9m6j', '17', '20burningoutside', 'hhwv0eudfv', 'kmndkfa7me', '20disasterraì¼l', 'emrzicb004', 'lwilliams_13', '20b3pnqxmd', 'screamed18', '4682', '18287flood', 'kee1tytz15', 'spe7u8t40k', 'ohyd7hhcpe', 'fqj5aga1pd', 'x8zqbwnfo1', 'f4lhfmehzh', 'pattyds50', 'york12', '72w', 'mjmwa72er6', 'adx9iyi246', 'x9ofv1kmv7', 'b19z8vi3td', 'yvv1rlghft', 't81oayjowc', '0dqjeretxu', 'ik7mgidvbm', 'af1yzus8ln', '2ii3brc7nx', '20buildingsspying', 'kshllcenterpri1', 'progress4ohio', '4zmcqrmois', 'l9ekhnkbar', '12', 'y3fo0ghg8t', 'layzba9y8h', '20buildingssantiago', '20upla', '6th', 'orjb3j803f', 'cqyvfr4ucy', 'p9rymfjcux', 'yojkfqej6s', '8m', '0ghk693egj', 'hs2', '178', 'lzml1xb2nh', '1krpz3j1eu', '20spillunited', 'g37hujx6et', '20accidentnew', 'msgdoing111welfareworks', '65000', '5cgtqfk2ur', '3am', 'nmtlpo4b58', '360', 'y2jt1amyfj', '3rd', '7nu7prxeul', 'rw8b50xz9m', '20respondersvictoria', '2z8ubsy5m8', '20murdereryou', '3kob7xbea0', '7dyoglhmre', 'hkm3rtd4zf', '20collapsetwo', 'mj2jq2psv6', 'swwylrk0fv', '20zonecalifornia', '6sdgz5dxnt', '20bagsunited', 'bjzssw4tid', 'o207jyabyz', 'cjctb2ocxg', 'ugzu9iqprw', '20failurebukittinggi', 'wc69xajis4', 'ledofficial1', 'seismic412', 'a8nmdkd3rv', 'tq3j2qgtzq', 'igxrqpotm7', '3kpbu6hgt5', 'gl4mcax0ny', '3sicroaanz', 'i27oa0hisp', '143', '2007', 'f1tcbg1mki', 'is2idc3ubj', 'bb4sp', 'sayzt2oagm', 'u7vavyrgv9', 'zrzejpef5j', '20respondersmichigankirsten', 'amea3lamdj', '911', 'yo3t8qho9h', '8odtzmvqar', '64oz', '9cntp3nq6o', 'qdf6asaelm', 'benjm1', 'b1grego', 'vbhu2t8wgb', 'n3yjb8tcpm', 'udj50j3mv4', '666', 'dhggxo7mcc', '20bomb16yr', '5ortb8p51c', '2012', '96355', 'i8sj1kws1d', '5bdrfu1duo', '20upgotham', '20truckour', 'o61h2taae4', 'n95igskd3p', 'tzszmf2qxe', '20fireshelby', 'esemjrn5cc', 'pue5xnznqb', 'ecd7hizja1', 'gvj7slbelp', '20upottawa', '20murdernew', 'qadrkejz9t', '5dujgypima', 'sywuel7yyx', 'lkz5cnynxx', '20spillpensacola', 'mfsbwpj0ce', 'pnssia5e46', '9v1rvcomh2', 'alabama11', '30a', 'e3l1jqjh2u', '7vcezi6cbb', 'azovgv4sb6', 'york100', 'qv7iydovx9', '312', 'ofecs6tcvc', 'q2eblokeve', 'encmhz6y34', 'x1441', 'cvjyml7krm', 'fph01u3eii', 'mcc76xowli', '20truckformer', '20upwaterford', 'uqkx5vbium', '20zonebedroom', '4000', 'igll3ph6o1', '1xpw292tje', 'refugees21', '462446', '022017how', '9qpg0z3rh9', 'bjvfk1ete9', 'dzlense1gw', 'im2hdsklq5', '20fireswashington', 'iwsdbgd1zq', '20bomberisis', 'wpilp4mymf', '8nhd9idajs', 'psbxl1hvu3', 'be_ram0s', 'dsb3ldfuxu', 'ttq9ilhp8w', 'lxvlqvbc8r', 'acmrm833zq', '20spillrefugio', 'lzob8qoh1b', '1pdjoq4jc1', '600', 'pjigxpvpl0', 'qyu8grorq1', 'nn6y0fd3l0', '20accidentpalo', 'bz3ir4gmwj', '7mzycu2iho', '20plando', 's0ktiliskq', 'olpbmy9xw9', 'on18cqgcoa', '20plancochrane', 'martinmj22', '2q3fuerey5', '20firenew', '5bgcw3ezb5', 'tfan6qq2ys', 'eujgu1hvvx', 'itfbbz9xyc', '130', '1980', '6ioabsl6i7', 'ophiuchus2613', '1008pla', 'go0pkrfzmf', '20reactorusa', '5hkgxzjlmx', 'siren_song21', '1200', '83', '2014', 'ek6kyhxpe9', 'yn6nxoucr1', 'wc8aqxedf7', 'iqj1z3jxx8', '20baggingformer', 'tm5hthfdo0', 'ik8m4yi9t4', 'dmb6xp966d', 'u2es0uk1u3', '20failureinvestigators', 'bgrab7lk8d', '20bomberi', 'noahj456', 'xnto3jmmts', 'cfevtrsc1u', 'vfctrzaok2', 'acb0ryenuo', '205', '478', '36', 'michael5sos', 'lnzi7o166y', 'tmpfwjpi6i', '20disasterif', 'qh5axvhwh5', '1pdnlsp8xw', '0wbecdmhqo', 'curfew253', 'a2ss7pr4gw', '20firesfort', 'j2pykyo0en', '14wh0pjj2c', 'xyi5fdacxo', '20fireatlantahow', '20stormlet', 'georgefoster72', '3brme6sn4t', '20murderhuntsville', 'sb3rjqqzix', 'tomdean86', 'm0dap5xlwo', '20bombingmemphiskurd', 'ghghqm9e6d', '5pmikavykl', 'sks5jccrj2', 'vsoxkbt6nq', '20disasterlos', 'tms7', '20collapsenew', '985dwwpdet', '20waveusaheat', 'wmdihdiz1r', '20bombingminority', '367', 'emdjnnltp0', '20accidentfashion', 'fxdh3u8bq3', '20reactoranywhere', 'e9d9lk5fdw', '3htj2pypsg', '53143why', 'i9dspdkruk', 'nep5azwkna', 'xlq8g6vb2r', '20truck', 'k5fijankjb', 'nicklee8', 'london3', 'xy41z0o5ei', 'vg7jnah0iw', 'ny08', '7vsqqsvgni', 'collapsedgot7supportphcollapsed', '20accidentthis', 'cezhq7czll', '20firestoronto', '1620', 'ssn1mxsfoa', 'fw8elbnap7', '20fallinside', '4500', '20bombernews', 'vijfnhl630', '9jxb3rx8mf', 'b5s5epj7um', 'hpa9gqrywa', '2011', 'qdmvtj4lzj', '4tiles', 'win10', '2nip3d15dx', 'qpur3vd7hl', 'j5mkcbkcov', '4yi4nuovbv', 'yahoo7', '1916', '8ddijzynkf', '52uus4tfn3', '578gunp8t9', 'tatzfk63ch', '20disasteroneonta', 'jnromse1z2', 'w6yu7qs4cv', 'sqn4girdvz', 'wgwiqmicl1', '95', 'acc1z5q9zw', 'hdumpty39', 'dc70', 'pms4pmur0q', 'russaky89', '18wce', 'zhgu8ye1bj', 'x1onv3d5ux', '20emergencythe', 'wbogs8ejsj', '17000', 'n8ezfctfce', 'gknrp0e8qs', 'hz4lkffc59', '20disasterunder', 'skies70', '1945', 'ow4gexynbh', '20emergencybeaumont', 'pme0hojvya', 'edyfo6e2pu', 'm5kxlpkfa1', 'k9cd0efvut', '20respondersportage', 'scghl0piq6', '20buildingsdallaslike', 'dm0uupqgwy', 'adz8kburt7', '11juzhlgmt', '20skyhawkmm20', 'traplord_29', 'fredosantana300', 'lilreese300', 'mtgfx3efiv', '3a3fgzfmzh', 'g0q0bzbjli', 'exyr6c5qpu', 'danielkemp6', 'fel4qhwyfd', 'zg1yddywa5', '20baggingtexasg', 'dodxi41y1cåêis', 'hlmyaanrc9', '20servicespark', 'k1tmlwvjmj', '64cymg1ltg', '20stormworldwideviolent', 'xssgedsbh4', '20reactoraztec', '40mln', '0dxvz7fdh3', 'cc7d0wxk0m', '0fekgyby5f', 't07qxp5cbe', 'mkqsvp8e0g', '20serviceshenderson', '7a', '30p', 'fdiu44jldj', '20fireslondonthe', 'c0nkgp6w03åê', 'hworb1n6vn', 'rs22lj4qfp', 'ld0uniyw4k', '66yvulizbk', 'sa5cdwvdxt', '8eijdxapnp', '4kus', '15moferadio', 'heavybag201', 'hughes1128', '7spydy1csc', '20reactorden', '9wqixgmhfh', 'pm2tnnfdww', 'friend59', 't94lnfwf34', 'rocyyei2dm', '20zonestill', '20murdermagnolia', '9lpf4v4hmq', '20bombiraq', '2ag9auabr3', 'qna4tubnwh', 'anp9g6njfd', 'gexhzu1vk8', '20zonecolumbia', '100mb', 'q1', 'avzsyie1nt', 'zdj2hyf6ro', '10pm', '00pm', 'semw5cq7dg', '20firesu', '1hlvrkwgip', '9f3rdn9n3d', 'rslm72254', '115film', '20burningselma2oaklandpeople', 'daalpenzp0', '030', 'sct014', 'bkn032', '2030', 'aftershockswitzerland320', 'rhxmghspd7', '14028', 'yg697fcqgr', '4e719w6m4v', 'drag0nking0201', 'sww0qsmxvm', 'bcdp4gkoka', '20stormsd', 'u9cd0txe7z', 'vgzgok5k3s', 'ywkk26arag', 'm1', '94', '04', 'zdtoyd8ebj', '20k', 'sky9eokggb', '5iyzsda6xb', 'rainstormecsu16the', 'xzv0lt9zzk', 'm2y9ym3if6', '20zoneca', 'pty9hrcuzh', 'fatal11', 'r7pvtsduma', 'ltyefjdm3a', '0la1aw9uud', 'dh30000', 'y35qtvdsoh', 'qhujajctr5', '8hgcbxukz0', '4kopkcyvtt', '20bomblagospic', 'dfyasvj7nf', '20bang', '20respondersbloomington', 'avv6hpnpch', 'auxsmdg1un', '26', 'qsipl1c9fa', '3w0pxfyyri', '20fireredding', 'yqg5pvw5gx', 'army5', 'j6wseptxga', '5sosfam', 'qwgiwc9w7z', '20serviceswhippany', '9lyx7zmthe', '5pbc96rtmj', '9km', 'collapsejkt48', 'a7x', 'roh3', 'alrasyid448iturasya', 'roh3smantibatam', '3the', 'yr8knephgu', '6ezkoof2xt', 'facm78eg7k', '20trucksoutheast', 'l90dcpv9zu', 'death53', 'z8xiqngulc', 'uzsqzycb8x', '540', 'p18lzrlmy6', 'hollyorange8', 'bonn1egreer', 'v4br5gjmiy', '4i0rkcbk1d', '124', '13', '172', '1fvootqnej', 'j43nwkx0x3', 'q4kgftc2am', '6w6a2l4qae', 'rku0idm6aq', 'monijjth7v', '0yxbb5dzw5', '20bomber', 'txg7k2do9v', 'hellfire11th', 'notoriousd12throw', 'tube4nbqnz', '570the', 'q0jhdcu6ly', '15th', 'kgswhsr7mn', 'zombiefunrun2014', 'latssuo4ws', 'hgdrk81sn4', 'pfsryjs1pc', 'skdbot7tgf', 'camilacabello97', 'ptq3zmgnck', 'ajpnebg803', '20respondersfranklin', '20spilllyallpur', '20collapseaustralia', 'dq3ddgvgbf', '96km', 'time2015', '34', 'utc2015', 'qew4c5m1xd', '28pm', 'd02sbm0ojs', '20bangkenyajrowah', '3934', 'grh7zlk979', 'cgdj3drso9', 'charstevens97', '9wowps78vd', 'aknynpv461', 'hfzk09mcen', '20emergencygoogle', 'ndgpwyxu6h', '4the', '8bhvxx2xl9', '4ou8s82hxj', '20disasterinexpressible', 'zsdvweglf5', '2008', 'njd1n5txxe', '1000', '12000', 'avwe1lbvhn', 'zweygphpf7', '20zonesouthern', '20firestips', 'xuhmj098lq', 'y8h5v1j2y7', 'eysvvza7qm', '20murdererwest', 'j3cirxjfa6', 'amrox4y4nx', '20disasterexpert', 'avvsoino8z', '20firessome', 'qcyqhvn2ha', 'danger2005', 'jtxji7ygrl', '2be7bwcmpl', 'legna989', 'dgelj8ryt9', 'a0ad8z5vsr', '20fallthat', 'bqv3qttuxr', '0drqlrsgy5', 'cp7c1ch0zu', '0pamznyyuw', '3939', '5qyczywkgg', 'ktd5ig9m5o', '20baggingglobaldrake', '2jhtlwuey0', 'g0dn1chluo', '4zqrsaqrrt', '6ar3ukvsxw', 'wcfpznsn9u', 'vsvy1qe69t', 'eelex4ssvf', 'h6z7hxuqtu', 'hunterlove1995', '20emergencymoscow', 'usar2015', 'usar15', 'qhfqlui6ry', 'aomq1rykmj', '20servicesbritish', 'annealiz1', 'rcburzsb2b', 'ehsfklgri3', '5xrc0a76vd', 'nigeria70', '20firesfull', '02', '9ikhdyhvnc', 'bombedtokyo70', '200000', '100bn', 'po19h8ycnd', 'bb7ttdvjwe', 'hpvodud7ip', 'ew5wzc07fo', '9bliddngtf', 'yuo7jdnijx', '20bombingremembering', '361', '2a', 'eaaqumkkc9', '731', 'vvplfqv58p', 'l5awtundhm', 'bwe9kjcept', 'c7', 'i4aogcsoy5', 'djiwg9pxv4', '2h0dpmv2ef', '20firessan', '4zn0mdsrvp', '28', 'rgpem2tqej', 'g03dkpoonp', 'go0hpi0b4c', 'yao1e0xngw', 'babysweet420', '420', '20murdercereal', 'i4', 'ksxto8nknl', 'homealone2', 'film4', 'york1', '27w', 'd3p88xdlec', 'j2ddvh7fy0', 'bjycrgfh5y', '152261', '106', '775995when', 'yilt1bb68k', 'n0tawgezjx', 'vmkexjtyg4', 'calk5nv5vc', '20bombworldwide', '19th', '64', 'o2cdkpsdfp', '20disastersuncorp', 'cwz37lndvk', '20servicesseattle', '4kdthctemv', 'thyzomvwu0', '83joo0xk29', '20firesq', 'g1bwl3dqqk', '20accidenttorontocould', 'kz35rgngjf', '2azxdlcxga', 'axvq80rbyj', 'sophieingle01', 'angharadjames16', '20firelos', 'zpsnx5iyaj', '99u', 'desert3', 'qms8rressd', 'zla30jcssq', '20servicesolympia', 'yu6nue7gfb', '3gz5zqqthe', '20spillclean', 'tn1ax1xmbb', 'crashedscotlandneil_eastwood77', '4xb4zwyhct', 'bp6mfjhars', 'hukjz1wt36', 'dxwfx56pwh', 'gpaulista5', 'nq89drydbu', '5ebpybfh4d', '20bombingtokyo', 'osaka9', 'uo0aqk9kr8', 'n9c3i9v8go', '20emergencyseattle', 'mkwyvm3i8r', '5hljucxi0s', 'fifa16', 'kgtxnnbj7y', '20servicesvancouver', '1meeo3wjco', '852my', 'giyaad7dcc', 'wgmzmj5imd', '20bagscalifornia', 'qvsp6b2qsu', '0s6ydfrwdq', 'gne1fw0xhe', '20murdererchester', 'pfmn63vnam', 'natz5ipv1x', 'leaeby6cr2', '54', '20firesmontana', 'srslcxhc2t', '20burning', 'pwd5l0glkv', 'h9fsiaxv3q', 's7nbowa7tp', '3f7owdecy7', 'catastrophe12', 'hkbxxvd9iw', 'p6gqmctglj', 'zsykzj2bzg', 'fx7uzzxte4', 'ga14egplw9', 'ks7ln8hq8s', 'mauds99', 'ush59uq30j', '20bombnigeria', 'ksawlyux02', '20fireboston', 'rvkyj3yuvk', '20murdererhellnot', 'ww3', 't344phnpy9', '20disasterdhaka', '20fireslondon', 'drno7okm21', '20bagswestside', 'allthekidneybeansandsorbet4misha', 'wmnb5ita5p', 'mflrvbh4qa', '1mvsqg0xke', '6uhih9pbru', '20stormdutch', 'mudgu1puns', 'vbswhz4s2v', 'ingu6ztyg4', 'london2', 'pcaldicott7', '7newsadl', 'r1xwdnvb0g', 'quedv2xxxx', 'b6nphxorzg', 'bigburgerboi55', '20truckfive', '1952', 'mcejzzxgh8', '20bangphoto', '42', '910975', '78', '865828does', '20trucklaguna', 'jrdwyy0ax4', 'since1970the', 'b4federal', 'wgqkxmby3b', 'wk63tm34a0', '9naw3qoqol', '90l2lb5wmr', 'iggfnbixt5', 'pt1', '9utqe9zfde', 'qpr1980', 'rorington95', 'b7omj7u3ei', 'mtmoia0oo0', 'nn4ztcmsru', 's5nuegswyj', 'qdhxto57em', '20accident19', '600858', '047821experts', 'ruin2', '20disaster', 'e0lugbl6pb', '40121', 'gskjqwyi2d', '20bangkenyaercjmnea', 'zzsee5hipm', 'j3lyon', 'pjlda9hd5v', '3wnjauar7w', 'i2aag6lp6w', 'zr5rgbgh03', '20bagging', 'sbhhkkz01y', '20murdererfresnohappy', 'xpddwh5tem', '2acrgdqhj0', 'of3q75fgeu', '20murdereverywherethis', 'jbrk8zsry6', 'zz0cewew64', 'q5mp2q6hy8', '20waveapocalpytic', 'y8wloctevc', '20fire5', '15p', '7p', 'feikc9fxed', '20reactorfinnish', 'uhkxmxab9l', '20disasterany', '20burningwashington', 'chr3lyc', 'iaff36', 'jyiegtnc6h', '20bagswomens', 'l1gfxgozvx', 'qr1l2jyuez', 'cheese3d', 'jtjofltms4', 'vplr5hka2u', 'sxhw2tnnlf', 'cxb55h37jn', 'h6tyysgr30', '7hanpcr5rk', '9zmwt9xydz', '20accidentexperts', 'v4smaeslk5', '365disasters', '911f3ixrh0', '20falllagos', 'eeewo207mx', '20fallslappin', 'writes4coffee', 'sto58qa94c', 'tw4rw', '544', 't6seku4yvm', 'tjoz4u4txl', 'ph7wllkrfi', 'any1', 'oxxrnab8un', '5u5gakx2ch', '695807', '837865', 'kg4vaal', '20bangkenyatianta_', 'ot3bjjhh8s', '260th', 'ay49mtyyl8', 'votejkt48id', '12news', '90th', 'g62txymzbv', '20disasterpennsylvania', '20fallnew', '140', 'sigeeq42cz', '6acswzo7cw', '20falldraw', '3tnuaciv3c', '20bombing', 'ncjpgf6znv', 'gerjau74ey', '20firesquare', 'summer2k15', '2002', '81neizeknm', 'm4tui0p9nt', '20s', '20bagsd', 'mt029qj4ig', 'rbmucurs2f', '20wavemalaysia', '7amdollela', '3la', '7aal', 'dhambp54ya', '20bangkenyashawie17shawie', '7paovyzttw', '20responderscarmike', '5000', 'tyyfg4qqvm', 'onvd9d4nkg', 'hhtwayt4yo', '3ev07ppapn', 'xuzee2budv', 'mhl7pfr7kb', 'lou8lbla1f', '8e7ry8ebmf', 'kacrlpjc0l', 'e84ifmcczn', 'gopsicp8bm', '20firesbeacon', 'dacherryontop13', '1elreh1jlj', 'q3dtoqo04c', '20upguaranteed', 't8sv2ai7sw', 'healthweekly1', 'pzeixi4xk7', 'njd28pg9xv', 'ashes2015', 'a7tjawwtj7', '20emergencywarszawaradioactive', 'swq5lmydka', 'aauizggc9q', '20murderer', 'steph93065', 'jmawrlt7hb', 'l056yj2ioi', '20plancity', '8ihuco4glw', 'dehmym5lpk', '5qhqo6ejtu', '20bombingsuicide', '20fallalex', '107', '410', 'bsmj2hvgwd', 'bxalnedy49', 'hddbmu2yca', 'sgxp1u5ol1', 'si02qrguka', '0c1y8g7e9p', 'cgf61fpmr0', 'media420', 'jnn0krnxvy', '5loiwuyv5r', 'zrtrpl77qv', 'dmac1043', 'bradleybrad47', 'fd9dzspugk', '1928', 'wpkl2qniqw', 'bd52fxdvhq', '20zonegreedy', 'j5onxfwlao', '6g49ywwsqj', 'devastationbrasil70', 'bs6xaqhsim', 'y3zfqjsvpz', 'mayhem107', '79th', 'xehwmsh7lv', '20upthings', 'a0v1ybysod', 'th2wlilbmo', 'aftershockus320', 'vam5podgyw', 'za4axfjsvb', 'da9lzton1c', 'xgkyvf9t4f', 'u9bkqt6xhr', '300000', '1200000', '11000000', 'prci76howu', 'rtcufag0au', '20respondersliberty', '20failurehalton', '905', '877', '8591', 'al28rvkqpq', 'ndwep6izdq', '20respondersa', '5pm', 'zlco4ue5oq', '1beegwrsis', 'drculiyp0t', 'bla42rdt1o', 'einsqs8tfq', 'neur0sis', 'zyrzx6dfki', '20burningziam', '20spillamarillo', '6cx46e7qb7', 'tgcr5vofj3', '20respondersyork', 'e65v80fcus', '20servicesemergency', 'drbcrypj4p', 'jwiv6wyw6f', 'qvs7o10bg3', 'm19ivwrdkk', 'x2wn7o2a3w', '7ad0l7cgee', 'hhzql9tznp', 'pkfv8lksld', '0iyuntxduv', 'gn3whnsfib', 'fwpof5twoc', 'lvlh3w3awo', 'viwxy1xdyk', '4got', '81g18wsauk', 'od2ratxrqs', 'û_1', '20fireauburn', '160', '20failureindonesiainvestigators', 'pnhpljho8e', '64xr9ltnoh', 's0eyq1wehe', 'debrisindiamh370', 'c5jutfxbm9', 'uxp6poqjlb', 'x1392', '20accidentsalt', '8015', 'oqw8jx6rts', '20emergency', 'bvckd9pdti', '20bombll', 'uonebahh3h', 'jasoncundy05', 'wkpzp1jcau', 'hzpx6vaqpz', 'l4w0pcorbs', 'z8ij8ktkyk', '9nyxjndora', 'sg1ftkaegq', 'rkb7egkveb', 'knbv2ytnwc', 'ianokavo96', 'rvmmut3gvc', '20truckjacksonville', '58', 'ybdsljw7c1', 'u4bdy1w7d4', 'news4buffalo', 'gxqwd1qzbd', '2010', 'vve3usesgf', '370', 'gyqlaoz3l2', 'pckf0nl2yn', 'gayler1969', 'melissaross9847', '20firei', '20collapseleeds', 'mackinnon08', 'l0deocxu6o', '20bagsanywehere', 'aliveafter5', 'sc4twjkxr1', 'yn6duotimr', 'slc27emugm', '20upthe', '1862', 'iw7elszifz', 'montetjwitter11', 'nolesfan05', 'qv1rmzi3j1', '7old5mjwph', 'offers2go', 'w9cd6offcj', '20disasterbirmingham', '6ndbfopk5m', 'dazqamoo0c', '20firesusa', '20stormamsterdam', 'seshqn5dsk', 'bc19', 'm6x1', 'sqpshaws0w', 'udlebh88uz', '20bombingchicago', 'zoipkpbd6o', '20murdereranother', 'cj76k0yayj', 'lh9mrypdrj', 'mp3', 'pqhuthss3i', '0iw6drf5x9', '5qhoehe9hf', '20firee1', 'ch4', 'jgdlx4faw8', 'kmxzho5tfm', 's0ctcqjvjx', 'leyjwnnah8', 'dlizfkk30y', '20firebuildings', 'wal4frtfka', '0f8xa4ih1u', 'ngkrzpza45', 'v5yuualoqw', '263chat', 'eug6zhciun', '263789f4', '30s', 'htez4z48od', 'eq4rxc9bb3', 'meganbee92', 'iywzallsn4', '20plankansas', 'h3dch6fyaw', '10566', 'luigmhma1i', 'bumzvmwam3', 'jhc2rt0v9f', 'yzazf4ceoa', 'x5rc5nuamh', '1k2phqcuw8', '12am', 'dggm5b0w4l', 'eyr2xx5l1p', 'w0exzad5gc', 'eg1fskqbv6', 'ildbeje225', '241cn8yxjq', 'mhtw4fnet', 'ks94', 'ihphzckm41', '20bomberbirmingham', 'ibype1kaz5', 'obp595w7tm', 'rv9dv6joew', '5fcjvml520', 'fvyrwhux8p', 'dh0s4buuk7', 'c_pinto001', '20bombinglagosimagine', '9pfeaqeski', 'fntg70rnkx', '19i', 'lk5uqkop1e', 'vgvjgr8zoo', '928', 'renew911health', '40w', 'us70', 'flow397', '82', '15t', 'sa15t', '2jbibeib9g', 'p5ktaqw5qg', '20buildingsmadison', 'x6asgrjswc', 'bfes5twbzt', 'kl4r1ccwct', 'myhhthsli3', '9hkxxbb82o', 'joelsherman1', 'ijobz3mzp0', '20disasternewcastle', 'm9o08gurt4', '20burningin', 'ptc0xcragy', 'jkd7cti2iw', 'lajn2n5e2d', 'jasonpope2', 'p8yr2po6jn', 'vbqmz5apwj', 'c2eyjnybfn', 'gt7gf0fsex', 'v5gtunwohy', '20stormchicago', '6peeip4y7w', '5yl4dc1tqt', 'gllawb2fsk', '3kaafuoztc', 'ldbao0rsuz', 'abc7eyewitness', 'abc7', '20stormkids', 'q5q1x5vcqk', '1osmiuxkhw', 'kp2lf4aute', 'hvbj30aj9s', 'lhpgxc4b8j', '20uph', '309943', '20bombnigeriapic', 'pol92mn8yz', '20waveoklahoma', 's4srgrmqcz', '325', '10am', 'oa6b0z2h6y', 'afk_10', '20disasterorlando', '35jyap0ul9', 'jones94kyle', 'rg9yaybosa', '582', 'nvfkzv5fex', '38pm', 'epzgg4uqji', 'k5knnwugwt', 'ipxpi3me16', 'rv0fk7q4y5', 'ps1', '0gknpy4lua', 'czpdn9obit', '20firesnorth', 'jennife29916207', 'dmtab6g7j7', 'lbpx8bucnv', 'c720', '3dc', '3mtwh0jjns', 'bbqnk76qus', '0blkwcupzq', '6sy44kyysd', '2lgtzkwmqw', '20planchapel', 's7xdxuudcy', '20reactorwashington', 'lqjjy1ptwt', 'reffbkvg9r', 'qzdqrbr4lh', 'r4utnewlna', '12u', 'esk4yvzvap', 'imtygds5qo', 'l3w8mipvnt', 'o85m1bjfrw', '20disasterhello', 'i1vpkq9yag', 'ty5gavn7uk', 'bombing70th', '1mgvd4x5oe', 'odydt9qpk1', 'q3xq8r658r', '20trucksaipan', 'k3', 'norkxbrs6g', 'igm2fcmupm', 'uxcfbj3mzx', 'hmwhob7prs', 'modnao23', 'cihc8nrc9h', 'tui9uwbvvp', 'fc3bxrthpg', 'biu4kowglz', 'l4wjhz4aj6', 'kmgdv7vsaz', 'bytsfms7md', 'kxplyom9rr', 'xwnjysv9v9', '46', '7d7vweq3es', 'flood2pcs', 'vdefmulx43', 'yqpaijsa5g', 'zsqm8ihe1k', '20failurereality', '20accidentspain', 'cm9tve2vsq', '20firesthe', 'hxdg254dho', '407v1y4hhg', '0vcsafx9by', '20truckaracaju', 'gpbxrrdc07', 'nss5l64cvr', 'vf6cklmcsx', '459', '2uvmq4vafq', 'mayhem_114', 'qi8qdw5dfg', 'tyewzf3hqa', '20upturn', 'espn2', 'eerkh8ljws', '20buildingsa', '3glyoyf6oc', '45600', 'vmf5lnxvzc', 'uotpnsqpz5', '4esbsa8int', '20responderswashington', 'fcfpijiqt5', 'kjsvw06gbv', '20spillcaliforniarefugio', 'bieyguqpb1', '20accidentnot', '1965', 'k9asktwxfl', '8550013', '21k', '20upthat', 'ezbtg81trz', '1061thetwister', 'xkonkz0zl6', 'dxvtgi1bvo', 'p4kofytkdx', '20stormukterrifying', 'nqxqyi70w4', '20reactornavy', 'gpvzv0249y', '20responders', 'iafflocal4416', 'tj_robertson2', 'mqydxrlae7', 'epjjkb4be9', '20bagginghave', 'tu9cglmgvr', 'wvexjjrg6e', 'to0bpieyms', '7l6bhexixv', 'o4xljnav8f', '20disasterthough', 'udp10frxrl', 'wblimlmt2x', 'fvlgu1nayr', 'r5bxzzhxkm', '6lojoorouk', '20fallmadrid', 'f7a66diiyk', 'xqiadg9h2w', '22days', '20upwoke', 'gw0cxoojyv', 'msdizftz2g', 'fatalbangalore11', '9zrqmd8ngz', '3942', '500th', '32', 'v9i4pfxo0c', '7lvgcmyiyj', '109', 'g7s34sw2am', '95roots', '20plan204', '555', '14cicptkna', '20fireseastern', '2m1gneaifl', 'uqh85mip0v', 'rio2016', '9mtrq5jf4d', 'cbs29', 'edznx6goud', 'rg3bndkxjx', 'bq90pfzmrp', 'envw98', 'jdabe80', 'btus5jejuy', 'zrtfxluk6r', '20bombingmeek', '6jjvcdn4ti', '4am', 'w56cf75mxe', '20bagginghouston', '20reactorworldfinnish', 'vb3vfm76ke', 'silverstar58200', 'ogzjokd7sv', 's43we7oe2i', 'kkeh8qcgc3', 'collisionoregon2', 'hbbgy2vzyt', 'disasternigeriacw500', 'jq9nj6gko3', 'vtp8i8qlen', '1d', 'p5jpjgiipw', '20servicesaucklandemergency', 'your4state', 'aog5chjmvs', 'cln2sxzy1z', '1tvlfrhm1m', 'flo8fgy35a', 'sinkholenewcastle150', 'pkuamxw6pm', 'pawvnj4sap', '5yrbegzafx', 'x4ecggvnsn', '20waveinternational', 'jw3hn9ewft', 'nywrkrq7kn', 'uisnqiu3if', 'nnmqlz91o9', 'o91f3cyy0r', '72', '4914njpio3', 'e7shtylbnl', '0rokdutyun', '65xr1p9soo', '20wavepacific', 'tk65ske0zm', 'br7gmmh5ek', 'dxfqou4kt2', 'twykzn4rlc', 'gusramzp1s', '20collapseleicestericymi', 'gl6eejyjky', 'wqtdnp3w5a', '521', '2009', 'xtf5dvgrvh', 'qkrltrd39b', 'r6jdj9kigm', 'nxs3z1kxid', 'y3dm9ulqxg', 'x2qsjod40u', 'kfkaosh0kh', 'zhrtcvu0ff', '9r5fsts7bd', 'cyclone1970', '429cj', 'wqul8pg5px', '4ykxt3kd62', '20accidentindiaomg', '7k', '20murderby', 'qbecjli7cx', 'fy0r9o7xsl', 'z4jyharrew', '8th', 'oqb7dasmvy', 'oqeq4uegf8', 'an3w16c8f6', 'yrfz5wj7r2', '4q4zd7ou34', 'ixjjlp1lvo', '1pack', '2pack', '3pack', 'states70', 'ag65u29sgo', 'hj26sfddfi', 'h9vmmdebdx', 'mrospd9878', '0ajisa5531', '51', 'debris46', '950109', '439469how', 'lovemywife1983', 'time4me_sews', '20firesjohannesburg', 'cbxnhhz6kd', 'boygbp0jw9', '20wavelondon', 'bdotq8dsln', '20bagsoklahoma', 'wgl4lubnw1', 'yhqu5uv6ok', '3x', 'braoubgec2', 'mcwd37iof9', 'bp597yds2b', '20burningsan', 'uvq41i3kx2', 'h31knuwzz5', 'zu9yydf5di', 'scotto519', 'heyot6', 'sqsyueh4yi', 'koin6news', '199t7nd0pm', 'ly8x7rqbwn', 'unsayjdtu7', 'id667rlets', 'dadz5zfo1g', 'kfzvmxj9st', '1vjalja1sx', 'j3rtf2dt3x', 'zl7fhucxhl', '20murderaucklandhiroshima', 'jlu2j5qs8u', 'praiz8', '20baggingarizona', 'im2ad', 'fk1l4nozig', '120000', 'fcixk23xqh', '4pqcmqchng', 'kk8cnppzmk', 'n08qluornx', 'toyu16mxbo', 'p10hndc0mm', '20bags', '20disasternew', 'x5jgkjv6ma', 'ljylxz1fbi', '4bcqzqjrzn', 'fnpdjwvw1j', 'z3nevglufm', 'eltne5v1qn', 'screamed1d', '5sos', '57', 'ldjet9tfmk', '1wopsgbvvv', '202', 'c1xhizprad', '241487', 'yfy3nkkcoh', 'nv7rk63pgc', 'qwtk1b2fmc', 'alvinnelson07', '2sgdofsmrq', 'xlegc6uora', 'o8xvtlp4mf', '20firesmelbourne', 'soea1ggbkj', 'cuvkf5ykax', 'hibdw7d7ja', 'h6pm1w7ell', 'pk8dgvripw', 'rz0adzursw', 'aqinavl1b6', '20firesmid', 'co2', '20reactor', 'shrhkfj1bc', 'pvmr38lnva', '20zonelooks', 'seagull07', '4c58ooavhy', '20murderersan', 'libertygeek83', 'lej5onus9q', 'izjk6kpwiz', 'columbializzie363', '14000', '20firesvancouver', 'vxjcx8ukmd', 'wwxbgubww5', 'm4', '20murdererseattle', 'vzpkn23rx4', 'qegmrhsms2', 'b7zwevsrgo', 'tqwrw3jqwo', 'rzxqssun02', 'irelandhome2', 'paobghv3c7', 'kbtzzzg2tp', 'rbrw8pwipj', 'l3gizrucy4', 'crcn8rwvkj', '20reactorvirginiahamptonroadsfor', '9qnq45zduw', '5coastal', '2jxkmkpalp', 'ec46lyqqc6', 'kxy56fr8vm', 'ww1', 'f9j3l2yjl4', '10th', 'n6zflxigvr', 'obfd7e4qcp', 'yazje5owvk', 'di5arr6hq6', 'lec1vms7x2', '30min', 'uubovy9gqi', '1xw0z8zeqw', '3pcntczoxv', 'n0akjm1e4b', '3nuih6pkui', '2ufcc6gh3m', 'hep9k0xghb', '80ebvglmra', 'mo7dbbdfvr', '0scnwe8xbv', '20firegroton', 'ke1zs6naml', '14i', 'o7qogmoegu', 'ssb4', '20bombingaustralia', '2hours', 'wactt18gda', '20upbrooklyn', '9odqryjncf', '0xouv7dhwz', 'ia44nczlif', 'ogtuv1plht', 'npoqlkqup9', 'x1386', 'military13', 'xkmlq99sjy', 'a3rgqucugo', 'nb1e7mnce5', 'omar_molina036', 'zpxe3fmyng', 'im6m4xaen2', 'njlqrqcnl9', '20bagsattention', 'sbila2yqjq', '452', 'ed32pbvio7', '10x', '12v', '24v', 'ifm6v6480p', 'kp5dpoaf58', '295ss', 'a5iwus8evq', 'gi82n2juwn', 'wyokt0ftrw', 'c4news', 'sqgogj3s5r', '2minutemix', 'wftcrlz32p', 'hazard95', '03', '528', '530', '740', '20177', '707d', 'y8xknpqmnj', 'km8ucihrrn', 'addtexastonext1dtour', 'z4ilb9y9nu', 'j295md1sow', 'abyhrgss1s', '20responderssacramento', 'rm50vcvjsh', '73umw2igrz', 'fhkhcqpl7j', 'jdkqc12tid', '20reactorwarsawfinnish', 'd8awx2okke', '20accident92', 'g90', 'kxxnszp6nk', 'arizzo44', 'jlester34', 'xgnjgle9eq', 'trapped10', '9bomb', 'tcs2cd5y6y', 'damage261', '0usdi5jcho', 'xyg7jhrjof', '20murderfiore', '7mepkbf9e8', 'exsqijf4ny', 'tedcruz2016', 'y7sipkb1kd', '0yo2l38ozr', '20emergencyevanston', 'q13', 'e981dgskab', 'gunnersfan89', '20upcalifornia', '5koho39oje', 'cnkvile7be', 'u9fcb8dz3h', 'mwmt3bdr5l', '20firessomewhere', 'randerson62', 'wf8itk2kvx', 'x1x6d5enef', 'xhehjfft7g', '20collapseustwo', 'jbjrg3ep1q', 'mnsy1qr7bq', '1lk1eqwyuw', 'jb038rdfak', 'v6qxnfhrxf', '4k', '500', 'e61x9y65qd', 'ovlet0gdqm', 'ehklp12yip', 'u2', 'u8rgb51d22', '2tnu95vgfe', 'crushed11', '14that', 'nx2d83a4du', '30pm', 'usapsalm34', '22', '4regionåêåênear', '0wdazlcm90', 'vcirn1md8v', 'nruzhr5xqu', 'thexfiles201days', 's7grbznwlr', 'drowning941232', '20bagsin', 'limpar33', 'k2tbes65oa', '2872j5d4hb', 'odv3rqs8ju', 'fce0k1ihti', 'gted6ldwho', '20wavearnhem', 'yhaqa5wxok', 'pop2015', 'nå¼36', '9le0b19lvf', 'krsy54xmmc', 'zqmtrbkas0', 'yeqq3bzx3g', 'kmvrzasxy4', 't2kk8fya77', '20reactorjapannuclear', 'xkurdr3yev', 'atheistic_1', 'ddhwori5w1', '37592', 'zcvfc500yy', '9e2f7bivle', 'zoepzsoky1', 'mjtn3qbgos', '2kdq56xtws', 'dialta6t69', 'canada600', 'vgf41iupkn', 'du19', 'ykdsp0nrdq', 'vdgfxyx3bw', 'ubfr1urafc', 'alnv51d95x', 'katiecool447', '30th', '1986', '2016', 'gilbert23', 'e8dl1lncvu', 'qu1iug3e9r', '100s', 'vjbhxn9x1o', 'isea2015', 'rpneaj6fod', '20disaster573', 'dratomic420', 'g38y8h1tjt', 'kukmal605a', 'm0utldif77', '2iafpmqjep', 'cs8myauna4', '20firewestern', '8nadrgr4xc', '20stormvery', 'qchv3jqovk', 'gc0udfnfgg', 'ìñ1', 'raabchar_28', 'aez3ak1lrn', 'nj150', 'cbaxcuba0h', '9i6crcrq2m', 'sikkg0fphr', 'ayp6zvhm2a', 'emiliorivera48', 'tziolfte5i', 'aphiabeta1907', 'uan05tnksw', 'jn8s0drwbp', '6cadrhioxp', 'news3lv', 'exdbcx4gcr', '9jcibenckz', '4i0kz2akly', 'm7na4skfwr', 'nmpn2mqzge', 'eyevziopg1', '6aimd1uway', '9cgbjwmhii', 'survive3', '41', '252426', '072013crews', 'dan0gkx28l', 'khd99oz7u3', 'blutz10', 'nckogwjq61', 'xszx9mwxyp', 'nmfsgkf1za', 'england5', '12m', 'tfgrayudc5', '20bomberindonesiasuicide', '37dqvjhncv', '7ijlz6bcsp', '1921', '99mbyfl3id', '4ddmtguzzs', 'you7wn9xvs', 'fa07af174a71408', 'ybjezkurw1', '20murderchattanooga', '20stormkenyaslow', 'cgvuy3rcxo', 'yrvgykdbm6', '20collapseleicesterleicester_merc', 'y4y8fcljed', 'idaho70', '20firetorontosuch', 'fw1ptaelgv', 'fkfa9vsssz', 'bs6pjt09tc', 'wxhmp5ppjq', '20disasterfukushima', 'ftunlh6ddg', 'aw23wxtyjb', 'abgct9vfua', '20fallbcdon', 'nmhztb1ewm', 'rjebpib5rz', '8j09zutxwt', 'gpcecp9khv', '20buildingsnj', 'alexeivolkov1', '20emergencynorth', 'anutoopkf4', '20failureasiarightways', 'vz1irh0nmm', 'insurers163', 'nyo1xuebfa', 'w0a1mjorhy', '20firepeoriawhat', 'wzc5r4xoqz', '20fall', 'mbo6oaniqi', 'r3pddjpiee', '20servicesalaska', '8kj1wdaigj', 'daniglasgow45', 'top25', '20disasterleitchfield', 'o9dzgzqemf', 'axk9xno6yz', '6ce1vwovhs', 'pijg5w2l2u', '000', 'lknu8902je', '_chelsdelong12', 'kendra_leigh13', '8fvqrizoux', 'qqsmshaj3n', '163', '2z2htdjqzd', 'xuub2hbli5', 'h5epx2d1ga', 'suilzs2s95', '20plannagpurgovt', 'rs40000cr', '3_6_12', 'jojnq2oopi', 'dskui6mmgl', 'rrq1ildkil', 'niv8x5tbe0', '1998', 'malkavius2i', 'lpgfqnpjd3', 'm00nf00l', 'ibed3xg7fy', 'sinkhole150', '0yaxrjicrr', '66', '20accident', 'jst5hauk35', '358', '20planmadison', 'nbc15', 'pis0aivrbr', 'kea5l3b1ae', 'ffnzit7kgn', '20baggingwwe', '2k15', 'ep18', 'mr5bi4kd82', 'm151a1', 'm416', '9rryaylgyy', 'nm83johluu', 'drfkarlz1d', 'zkkn6mse1n', 'fzhjf8bxld', '20bombingearth', '911bombing', 'vn73o4sgzj', '20stormworldwidenew', 'vdiliicyr5', '20collapsemum', 'pw5dst9roz', 'r4yzhxk7lw', '20bagscharlotte', '07', 'fpkiqbus9r', '20bagusphoto', 'a9bnlse6qb', 'wxela91juh', '20stormroom', '234currently', 'sruj5zljgl', 'cy0ciu2u1c', 'aatt5amnmd', 'ysg9vsrt4g', '9tg7a5oqfp', 's01e09', '20failurevì_sterì', 'gxyivswki7', '3ac5wuy1r0', '3nkculgvmw', '00cy9vxeff', 'tweet4taiji', '20fireshead', 'jslxtq3nqs', '3yu26v19zh', '35qwnglkos', 'sxwjyr3k3l', 'kezi9', 'ee8rpoahpk', '20plancalgary', 'ha5boppejy', '20buildingsgreenpoint', 'msuy4qtpk9', '20serviceskodiak', 'savannahross_4', '20bangwhy', 'chibi877', 'n6ahgfmudt', '20disasterwashington', '6exs23muy3', 'l9idherotj', '9tb82zmr2x', '039', '13000', 'aptap6yx1r', 'jilfbr0ufp', 'usvyhdg9og', '8r5vpaoo5z', 'jvcxb75drj', 'qwsbvflpe1', '20zonet', '20bombroadsideif', '20baggingsydney', '43', 'laurathorne97', 'mesqtvdu63', '2am', '20firesas', 'tft1bb4xaz', 'colinhoffman29', '63rd', 'zz5udilrea', 'pkkcdwjyg0', '20burningquincy', 'dougmartin17', '20bombingturkish', 'nvp6wrkl1e', 'bdn2fdpdaz', 'k8ughv2aif', '20buildingstucson', 'spt54kfa9q', 'q4q8xsyzob', 'f56v61ampt', '20bombnigeria16yr', 'h3sxfv5mtc', 'qj3pvgavn7', 'ad38kwoglh', 'ifqqpur99x', '20burningi', 'fk1vyh5qlk', '20firesportland', 'lkwxu8qv7n', 'survive16', 'au3dbci7nf', 'bovjrf62t7', '20firesmoke', 'z6ee1jvhni', 'janenelson097', 'kkimmbue04', '20bagsswaning', 'owbujez3q4', '20burninghttp', 'wrb7xd8w5y', '20bagginghuber', 'cilo9pmleb', '20respondersusafirst', '0t9yd557ry', '31tgtlz3ya', 'c7rco2emwf', '20bagsmens', 'scxfc5wi9t', 'gx1otoh8sj', 'my8q1uwijn', '20bagsfife', 'optps1lgkc', '20bagcheck', 'fb8snrg4hu', 'ao4ju9vmmf', 'oyy9mgw7hn', '060', '1028', 'policetoronto3', 'pf8dxwibdp', 'p1amginsys', '6pagjqfbzk', 'gix1gaynxz', 'p93s2rfhx6', 'g3', '15000270653', '20firested', 'kcoff6bmie', '20fallcurrently', 'gbrnulp3fh', 'j2erzbmjqd', '233liveonline', 'io7kuug1uq', 'deluge617', 's0vgtkhw7v', 'qvx0vqtpz0', '20plansomewhere', 'iys9xwpvmk', '20planm', 'vaping101', 'cykr4xaluh', 'o8y1sul4ow', '4cpnbbzkzg', 'burned956it', 'g7', 'g20', '123127', '825133self', '8jxql8cv8z', 'bioterrorism70', 'egcv7ybjae', 'electrocute14', 'su4zvwadj7', 'wvtpuryx63', '20firehow', 'moll5vd8yd', '1976', 'y678xsnvj6', 'txetcysm1h', 'gg0dzsvbz7', 'kbe91arcdw', '20servicesbrooklyn', '1q6ccffzv6', 'vxuftvt9au', '20respondersfirst', '3oionqlfql', 'wreck1', 'zy3hpdjnwg', 'gz27audyha', 'p4ekgc9sig', '736324', '73', '990062shame', '1xssvgimvb', '06jst', '6aug', '12jst', '18jst', 'l6jbjaj8dm', 'n15b', 'lqgoe7psxp', '159', 'fjddx43ewj', 'vdukcv7yjy', '20uplos', '8bqjtp6id5', '8kjs7zqajs', 'fatalthane11', 'k6uetsnlht', 'australia19', '20bombersaudi', 'lwane9vupg', 'cpqgufzb28', 'screaming21', 'to9viqoofv', 'wild_lionx3', '20wavenebraska', 'tgtcru8jio', '20murdererusa', 'vbo1tjndps', '21b6skpdur', 'wbcb3sytj7', 'qgyn2u1up3', 'wis3h9tqrm', 'cntwb6sczj', '20responderstexas', 'gvd7fcx8iz', '20bagsitting', 'ehlq3zsptd', 'djx5elbrv1', '1145', '45', 'mjstefggu5', 'q4l7dg56jm', 'fven1ex0ps', '5oqhq8quqv', '20accidentcanadadtn', 'm9ig3wq8lq', 'u30n3ffx8y', 'naturalemblem26seeing', '20upi', 'ud7xobyua1', 'ae9cpiexak', 'yi3oivk2x4', 'qtizcbww7g', '20bangphiladelphia', '77ciwxabva', '20truckevening', '7cmf3noync', 'ymp0ginwza', '20emergencywipp', 'j3x0doy7r3', '513', 'e4wk8uri8a', 'xtljz7bjgl', '10muey8pxj', 'sahq5uoahw', '7ennullkzm', '777', '239', 'j8tyt1xrrk', '9d4nazoi94', 'hr88cwxpgz', 'rptouz2ijs', '69mlhfefhr', 'abnzqwlig1', 'm8mvdspjp7', 'oregon10', 'biuey7buts', 'jwqybe4ep1', 'italy4', 'qpwotugui9', 'gvaipmlsl0', '0r03c6njli', 'olnk1ti1nm', '0btniwagt1', 'hhzy3oqela', 'mctjnzx4h8', '6gsamy6mts', 'whirlwind140920', '150718', 'y7o55by36f', 'qycw5jjaj1', 'zvre6ffnyd', '1he4ufawzm', '73km', 'i6lmccclv5', 'bmxsndx14g', '7zb9gm5z0h', '1843', '458dtr3ulx', '20planreddithttp', 'f7ljwxj5jp', 'nekm1rpohu', 'oi6cmagasi', '20firesa', 'oez7o9ab2c', '20upcosmic', '1buf0xm53d', '4k8olzv9bv', '9lo0hzwjpz', '5zdbtktww7', 'cwcvbubs01', '20falli', 'ma3route', 'bonnieg434', 'cy1lfenyv8', 'volfan326', '20upwherever', '20bombinggccalleged', 'tmz6x1n2gq', 'hsjb215', 'e1wrvyzfkv', '20fallnycok', '20accidentisraeli', '42mawzb8t9', 'o6onsjhcsd', 'p2', 'cyu8zxw1oh', '93infxzhx0', '15901', 'k14q8chwkp', 'sjnyfszcu1', '20truckit', 'fzujg7sxjg', 'gmoul9zq2q', 'krnw0wxhe5', '30pcs', '12mm', 'znsvstgwx3', 'rpda60aoni', 'raf732vrtt', '9z9hsmiavd', 'e2hltyyfak', 'pmxezuo4ay', '1pflm532mg', '58qrugzvg0', 'f8gvwkfqox', 'screens3xleak', 'ph0tos', '19yrs', 'exp0sed', 'ixrehm05yq', 'snqfhpym3o', '9viibxgjav', 'rvsyxwj9cp', 'tonyakappes11', 'xyav4t5n0o', 'fataldimapur11', 'rukjyjg9oq', 'xzlrwc0pik', 'o5xlxmkoyq', 'zzcbbqyj1q', '20servicessydneyservices', 'bl59fw4sys', '20upìït', '307558', '81', '403118hey', '2fenu1syu6', 'kavaovjz2v', 'jdtpirnm76', 'a2tiivnjdy', 'fw2xifj6ec', 'g2uimbekge', 'xh4dz1gpyw', 'g0hsyh7yav', 'fymp4i2wp5', '2zgvslox5p', 'jkym9edofc', '20baggingìït', '982988', '261624', '20truckunited', '450', '8gtrvece1n', '7xq8jrtl7i', 'j90dt2qnxb', 'oer5hh41ew', '20plancalgarystorm', '93iaeec26t', '612bsbvw8k', '20failureberlin', 'germany1', '87h5mba3n1', 'qjuu0wcwpx', '20murderrealville', '10000', 'gv84wnhb7s', '33fbr25t1o', 'lue3waegpi', '65', '9h0ym9ofsv', 'm9yda5k6jf', '20stormel', 'qwqnni7vmz', 'abc7chicago', '6un7xc9sve', 'station1', 'qyx5thkrbh', 'y9w0v6te9o', '20upthis', '20bangi', 'mul1j9aeux', '6vja8r4yxa', 'bhzr9ugus2', '20fireslos', 'news70', 'ohndh2ri0v', '20bagsi', 'p4zfxdnbch', '20bombernigeriasuicide', 'guaj2t910b', 'i4fz75utnh', 'h6amecx5k7', 'b8iwrdxcm0', '1600', 'glpfu0uriz', '02pm', 'cf9e6tu3g7', 'macob5xlsu', '20fireswedenshootings', '666canberra', 't4fvvnrpc5', '0zznbvfuvo', 'ca1st', 'vmjrtuvmh4', '20disasterhammersmith', '20firebrisbane', 'geu4h46csz', 'gzib0mawmn', '138', 'rg4jishybs', 'r4kheh7iaf', 'gx9skuau9j', '1w58ehv9s1', 'p8ih0hni3l', 'omb3os54tn', 'survivorsworld4', 'lqd1wefpqd', 'uml5jztmcb', 'dr_baseball41', 'granttamane8', 'dtop77', 'lq4lxgs2xu', 'tbx8cakdrw', 'fs012trudg', '20emergencycolombianueva', 'met4ytzmfb', 'avu9b4k2rv', 'p96rgbbayl', 'sje59u2nnm', 'tm9zbhjcyf', 'floods69', '69', 'jods9a32pi', 'e2wgreicmz', 'jans3fd4lf', '2sdmichb2z', '20reactorsomecity', 'kerrykatona7', 'm27329', '1236', '20bangwandsworth', '4d9cd4mnvh', 'unhqcq6bex', '925', 'r1354', 'd12r8xpshy', 'fftokd0vts', 'ljxce1qw2p', '3945', 'dgbeh5l9ds', 'ndis8f1vzt', 'o1smuh2unn', 'xqj6wgiuqh', '20firestwittervillecollection', 'qd3dssfwue', '20fall627', 'hyider_ghost2', 'x8moyevjsj', 'steveycheese99', 'dwu8qqys0v', 'tu6scrsxvg', 'idhj4jbq05', '20fire', '38', 'etkd58un8n', 'lrelvrm06w', '20stormatlanta', '82ndabndiv', 'ugesklcn8m', 'kqpky7dthj', '44', '414510', '942499ibrahimmisau', '5zcje7arci', 'gl3c1vc88p', '8392', 'so81ab3a1x', 'hvxu1zcvau', 'ijmccmhh5g', 'hbhx0dwkpc', '20bagpaignton', 'zujwuiomb3', 'iap4lwvqsw', 'ur7fexszg4', 'wb8awoblcl', 'smoke3', '15so', 'umzkc9azwd', 'zqo6nuvytu', '1fhrrhcimh', 'wgefbuk4jk', 'g5zsru0zvq', '20wavefrisco', '20buildingsah', '8t36hwgoqd', '20baggingatl', '0l', 'v6', 'c8uxkizwm6', 'snxgh9r16u', '20disasterhome', 'thomasvissman22', '20fires28', '1895', 'zckxtfc9pt', 'tuai0zwgxu', 'ef4swp9sxz', 'nb7maaaofs', 'j9lpdrxcde', '20murdererdundee', '20fireswhen', '20wavekarachi', 'itg84q7vii', 'sjxllzosw7', 'u2kwof3wtj', '50shadezofgrey', 'p45perez', '20reactorse', 'x9cuihib5n', '20zone', 'mg5eajelul', 'pcxarbh9an', 'birkbje23e', 'buzwjmw49e', 'flames650', '559', '957thegame', '20upguildford', '0yzgw9zbhr', 'rhtaqjvqn2', 'comlg0vdbv', 'aoesbvns45', '20firesselangorcalifornia', 'jrkgyl7te5', 'breaking411', 'onlvf2fyoy', 'vaunps6wja', '20murdererearth', 'ioqm5bm1dg', '4versions', 'w6o0uizf8p', 'o0ltqdjbqe', 'mo9wptyqkp', '20firescampsite', '20bombingafter', '350', 'ko0oz3ryfg', 'lvkoemsq8m', 'cjirhhh4vj', 'ut7r2ixrjq', 'v3z96ydmvd', 'kxslftz2i5', 'taxuxp9qa2', '20accidentbangalore', 'p64xrvgjik', 'yx1ukbmtqb', 'fqcdphccg7', '20collapsebuscame', 'melte2', 'khf0ih05a9', 'he7q7h3nzf', 'k3pnnktlxh', 'dzlpnp399x', '20fireoklahoma', 'i5', '43rd', 'ct9ejxolpu', 'sb5r7shccj', '20bangbedford', 'widda16', 'qzrcinaf5z', 'iyjejop2wi', 'gi2p9tuvbi', 'db5', 'hgb1mc3irk', '6ysxghc8gz', '0t8vqkeari', '20respondersnashville', 'byvubg0wye', 'g0r3zr1nqj', 'fl8gci84aj', 'dvonwiv3l1', '1999', 'aq5zlim7l4', 'fvr9jdq71a', 'qxxn6rksp6', 'b3x1wqzaor', '4y4ytwhd74', 'obky8pc89h', '210', 'ypbvs1ijya', '9dflv6ynqr', 'muanfwcrw9', 'ols6qdi9um', 'uu64wfg17m', 'gxgm1t3w0j', '20upl', 's2g', '20bombrecap', '6jzcedayrg', 'n2bcf4m64v', 'wdueaj8q4j', 'carvv6gsrb', 'lan76zqkxg', '20wavealbuquerque', 'kristenkoin6', '81hvv3n3rs', 'tprimo24', 'mrv54fidfn', 'projeavg8t', '20servicesnevada', '3p', 'xqrlewia4x', '20collapseukaustralia', '6fynermusg', '23km', 'kf0qybkzol', '20upscotland', 'kaylak369', 'pgb2bmcfx8', '7y2gnva2ev', 'a1a', '9dwyjqvfy4', '20murderleicester', 'd1ff3r3nt1sg00d', 'cubze5mizm', 'vox99fwkcx', 'uavfrtlfs4', '85g1pcccxg', '8acdf4zui6', 'infinitegrace7', '0tslqjokvh', '20bangfairgrounds', '20reactorjohannesburg', 'gordon_r74', 'vl5tbr3wbr', '0x8jaqtowm', 'm1rosi2wcs', 'wreck709', 'w3esx6ud8t', 'jlput7va3s', 'txrswi0efg', 'rlpttkbg4w', 'ozk1qhjvfh', '97343oregon', 'p0gos5urxg', 'hk9yf72ova', '20firesclimate', 'k0qtl8aodh', 'zqbxe7x9y7', '400t', 'e0pi0c54ff', '20buildings', '03l7nwqdje', 'y518jyrzav', 'pdkhbdg9ho', 'bsrerjby0i', 'hiroshima70', '20stormd', '9ckgggyvou', 'u0vdbrxfia', '2ppzgpxybi', 'ds9khkffwc', 'david5fernandez', 'ecmj18azai', 'dj1lwznieh', 'i9mxxkzhbl', 'm203ul6o7p', 'dead_dreamer15', 'dlvzaay7qr', 'gdrssjbh8q', '55436', '1950', 'xezbs3sq0y', 'c2x0qokgly', 'jvai5vkmsy', 'nr8jjmpmos', '20upkisumuloner', 'ekfaz6wvbz', '20firetaken', 'sstj2bepqn', 'fnmje8gf7m', 'nye8ae2ifr', '20accidentmumbai', 'wq3wjsgphl', 'i405', 'us101', 'js9ehp88wq', '20upgreensboro', 'b24fowler', 'daewony0406', 'fprt7nwrot', 'detonationgeneva70', 'bkh7z6cwwl', '20buildingsplease', 'fe9hivfmxq', 'q8ivrzojzv', '20bombworldwidepic', 'gnynjhne6j', '1funemes7m', 'fqsk7qcawo', '20accidentindonesia', 'zct5cchoj0', 'badr58', '0000', '20150613', '20bangwho', '20truckniagara', 'fgdeh56plo', 'kot9zvd2h7', '1uo1atrbbj', 'vets78734', '20bangkenyak_matako_bot', 'earthquakeearth1', '2xmdidgpnr', 'k44tl3rfmy', 'ipt0honoti', '83bmprwh7w', 'eeasterling_2', 'ny3l1orzqb', 'rujv4vpnbv', '20wavejackson', 'ih0awv3l1o', '20murderoh', '20stormtorontothunder', '20firescape', 'awxr24zsqh', 'o9a26fn27y', 'f2tqmfh1yb', 'i6zqlk2puz', 'sxmlg3xdvx', 'ltmgdp6jaf', 'ryleedowns02', 'nevaehburton33', 'roi2nsmejj', '3tj8zjin21', 'lxtjc87kls', '707762', '014213aannnnd', 'p1jlurgwbu', 'apwxs5mm44', 'ds76lozlsu', 'otsm38xmas', 'wreckagesydneymh370', 'ceiao1texr', '20planlos', 'fmu0fnumxf', 'a5gnzbusqq', 'ixw2cutk1c', '20failure', 'scynic1', 'ryanoss123', '223347', '80', '827834', 'd7m9kgmpji', '8zy9n6fx9t', 'itz9masbvz', '20planatlanta', 'wveo9ed10e', 'mly7sdn6ev', '20murderhe', '37qpssnacv', '92pk0hujd8', 'ecmujkkqx1', '5wfxbaqmbk', 'rfb3jxbiej', '20firessydney', 'gxe7nhwz3e', 'y2mt6v13e8', 'fyjwjdkm5i', 'anlhw2izkz', 'militaryny13', 'wamkre6ckd', '20emergencyjersey', 'pyramidhead76', '20plannorth', 'calum36chambers', '20bangkenyaykelquiban', '20murderbirmingham', 'ztfead8gid', 'm3', '10km', '0w12pwpsfx', 'xwvw1sft4i', 'j7hukhwmal', '1eb2dauyfn', '38745', 'upgd2cy9il', 'mzrhfojt2j', 'pp15000266858', 'pdx911', '950xijhnvh', '20upvancouver', 'elxn42', '48zg5ynebn', '20waveliverpool', 'qu8s89pvvt', '93dm6gnwwc', 'audreyp77', 'teena_797', 'z2vdgiyowf', 'lzasr05ljo', 'iemxgse2be', 'skq8oucm3r', 't8nz6h9zz4', '20zonedowntown', 'ojus08yzrq', 'volcanoearth1', 'auf4j4owj1', 'mis0rjxuir', 'rsv9atj9vh', 'dly6ruusqk', 'uc4j4jhvgr', '20firesbased', 'otfw5sekd7', 'ibsvy2r3ph', 'vsgqolr32g', 'p7uhcb13qx', 'libertybell1000', '60000', '42gw2i2q41', 'gbepdi0wzt', '20uplondon', 'gjfd85vuf2', 'hppld1jhtz', '614817868480726', '195582811791382bigamist', 'rteugb5tnv', '20disasternuclear', 'z7phpjtqud', '1km', 'x6el3ysycn', 'nas3ipm5vh', '20upnew', '20zoneincognitozone', 'mgs2', 'ps2', 'bo3', 'gedoxsppl9', 'wmmkirj0hw', 'darrylb1979', '2017', '2019', '20upmanchester', 'zeno001', '6c', 'qn4zyisspo', '3vwp7wd56w', '20serviceswe', 'nv3uxv9imx', 'ej30ihrea9', 'jhscgda2g8', 'armageddon9', 'baseballquotes1', 'owje3i6ygn', 'vxsqpfe9na', '4fxfllrien', 'i12nlsr8fk', '2099', 'ks111', 'xsgwm5zxpd', '02elqlopfk', 'ojyw7jkuh5', 'ny35', 'tmzxopvs94', 'w192wkog1m', 'jmu5uyamdu', 'uea0txrhys', 'fkd1mbtb68', 'xwms1aww8m', 'te2yerugsi', 'e4qonkzndz', 'hazard8', '1500', 'dhgavw8bsw', '0lmheaex9k', 'fuerk0gwui', 'mv7ggglmvc', '20buildingsst', '14th', 'yh4r7ug21a', '141', 'm5', '60km', '20firepdxbe', 'tbstk5vqu0', '3novices', '2i4eoggo5j', '20burningdenver', '7000', '9newsmornings', '20bomber19', '047821mosque', 'gigw51izpk', '91å', '20trucktrident', '90225', 'pp05etlk7t', '3ol8mhhpma', '71st', 'kif7m3fqlx', 'oz6vlwwtnr', 'tj3ltpzfw1', '20disasterus3', 'jssmmlnaq7', 'zm6vczqvwk', 'dknlznom6n', 'mqbyravk6h', '4km', 'obsz45ybaj', 't4pv0nroov', 'pseylyzck4', 'xb8nfxabum', 'jadehelm15', 'vt2aky5mgk', 'khsbzkfd6o', 'collapsed1', 'rhee1975', 'ba4pusvjln', 'drayesha4', 'wjljq3ya4g', 'ucy5fea9yu', 'dnwwo1ybrk', '20bangenglish', '20serviceslondon', 'stretcher3', '7qpg80ud7v', '18this', 'ajay0snplg', 'qxhowcv16r', 'demetae12', 'iidkc0jsbx', 'bptmlf4p10', 'micjnpuhg0', 'vddi5chktp', 'wx11d69gez', 'met0mtpr3s', '20servicessydney', 'z99pkjztrp', '56', '8jvqi9uspl', 'na2ey64vsg', 'gs50ddg1jy', 'antpips67', 'destroyedlive4heed', '20up801', '20fireworcester', 'wmur9', 'ydgmgbryl2', 'n6mcpgvwq2', 's8oinfgxyx', '20firesunited', 'n3vbtc6nca', '5lnidvobff', 'm5djllxozp', '2500', '20fireny', '6hkw5qlppt', '98', '250', '6l', 'v8', 'dkozymvy5l', '20baggingnew', 'xrdwr8cdvm', 'fxtffl4axy', '2gljhvead9', 'cfe9huqn0h', 'cyv2zg935g', 'vicken52', 'goonc1ty', 'demolition11202demolition', 'deathsuk500', 'jsccx8k0ja', 'fl09', 'ed1vpitswy', '6xsbddlziy', '7b2wf6ovfk', 'cameronhigdon34', 'optich3cz', 'askh3cz', '20murderi', 'ph2xli8nve', '22fuxhn7el', 'wmoyibwec1', '0rsverlztm', 'x17fubqbgg', 'jbodkm6rbu', 'tux0ypwzur', '20spillnyc', 'wbi7laq18e', 'phh1vmlfoo', 'susanj357', 'hrl4xnj9k7', 'sweet2young', 'r_lauren83199', 'xojademarie124', 'fatality434they', 'twpl0nl8cx', 'ltf6jl5keu', 'zlq8thctkw', 'indigo6e', 'kenya24', '4kbwpcmmbm', '1rreo2jg9u', '20buildingshero', 'be4', 'a2e6dcsk88', '9eh2lcqkxl', 'deadafghanistan17', 'ki9ehjhl8y', 'i7ap1mes8m', '2rtq9qmgpb', 'ohholj9vev', '68', '61', '20bangkenyatarmineta3', 'inkuv5dntx', '1cvegtizog', '20bomberhelsinkiislamic', 'mpoaefql6k', 'hbdo22nqpz', 'ne1', 'kgkz50q8tk', '20fallny', 'xv3d9bpjhi', 'hcwrk81p71', 'trapped876', 'biigd1leq3', 'argus_99', 'heidia1438', 'york70', '1erd2fpryp', 'fkqjy3ezyg', '50vdq7a1m5', 'qh6oxft9ir', 'destroyng2x5', 'zfwmjh6slh', 'abcnews24', 'c5u9qsysej', '20upinverness', '3967', '20collapsevitì_ria', 'gnpstnvi5g', 'uaodoquda1', 'blzt5zwose', 'trump2016', 'xvaoqo4egr', 'kaputt21', 'kasiadear33', 'bae0ap4g9y', '6hkca1dsna', '6agmkx2ww4', 'stallion150', 'os1wjrvx5c', 'hksbmijqz1', '20responderslong', '10k', '11am', 'g1nw99yj8u', '90630do', 'jvjalyg2n1', 'qxmweljbc0', 'gfs7usulgq', 'demolition7', '8picbkdjm0', '945hpa', '45m', '60m', 'nbd5ot9iew', '1xhsuewqn4', 'uppwxda4yd', 'm6lvkxl9ii', 'je86vetdxh', '1udz0nvoeh', '40hourfamine', 'xqdvghz8g6', 'jannellix0', 'kiro7seattle', 'r5live', 'itzzkwfhg5', '20bombthe', '1940', '20collapseproud', 'jp9xyla3c5', '2005', 'sdxzhjco0x', 'wkmfdig3nt', 'z16dtoqhhg', 'aftershock304sometimes', 'x36', 'rczalru05o', '36gccapaak', 'nqjzs6wkun', 'burning627the', 'gbqtc7sp9c', 'hxox7o42rq', 'v6ijxccd2i', 'x3g2ox6k8r', 'uchwtlc9b4zjugh7ydlb55iw', 'mh17', 'tt4kvmvujq', 'l0pmmtzlwp', '20reactorus', 'sy2whxt0k5', '20reactornuclear', 't1000s', 'xl61', '62', '74yfqxvak0', 'kxrehvt6hl', 'tdeqwm8zxn', 'kestuuyc4t', 'pzfbb1p1mj', 'njqv45nds2', 'ydjpoph1dw', '4izfdyc3cg', 'q6oxzq45ve', 'kabk3tcjnl', 'epex4axg4b', 'etswuod3om', 'qgum9xheos', 'yl67dkf4tb', '20reactorsalem', '98o2kc3a1z', '43sxg9z6xh', '0wratka2jl', 'rkdzb0tgc3', 'xzvmzqus0x', 'xomi4zqzgp', '0m1tw3datd', 'v1sfllowgh', 'obliteration23', 'wyattb23', 'rfvjh58ef2', 'sj57boksib', 'quarantined0npzp', 'ixiybap8qa', 'zepzqydby4', 'cirtvml9vp', 'iovr4ymlkp', 'terrorismeverywherenews786', 'u7bbenxwyk', 'kg5plkedhr', 'qeihvn3dnq', 'm8', 'collided16', 'jmbvpanxr3', 'ca80', '125', 'gwnlhneku9', 'ai6kworbbt', '20upiowa', 'codythompson25', 'txtpx4umqh', '20firesalberta', 'gilmanrocks7', '20respondersaberdeenshireus', '1vi2rnbk2i', 'tdwprvb04y', '20respondersroads', 'hikdc1fm2f', 'harm5', 'bb17', '20failurecanadaspacex', 'lvizo9cssr', '20accidentpennsylvaniastrict', '6cz3bohrd4', 'vra50', 'pc7s8nxj6q', '9xohmmlmdy', '20murdererwhite', '20reactorerr', '509', '20zonehow', '20wavesomewhere', 'b2yvlmpepr', '20buildingsmackay', 'damages61', '231a', 'icd10', '20buildingsmidwestif', 'ei9x4h8thm', 'xyiwr9jetl', 'u8hsrtrxmm', 'eo2f96wxpz', '3sth9lrbun', 'jqxm4gcqz3', 'nh1news', '7jggqwbv6s', 'dydfvz7amj', 'fxux987vzx', 'nxttd9nrux', 'irqj3zkcuz', '20murdererleaving', '8km', '3bwwnlsxhb', 'jb25fhke6q', '300m', 'lw2fglrgxb', 'hmrt98oydj', 'tdaktglu5p', 'imawesome7986', 'mrvxbzywd4', 'whopper_jr_760', 'i2hhviumtm', '20fallbestcoast', 'nyty7fcqo6', 'hyypspn0yq', 'drvm8isote', 'ub1jzskmrc', '20stormmilky', 'i5k3vjicmg', 'cizjafnm4e', '860', '757', '2y5morpugt', '20spillsan', 'wezjqc4cf2', 'eqdm2opybg', '20bangneed', '1i19cuov7l', 'jamiegriff97', 'k4h8cq7puo', 'yhh7x0maio', '2y9dnp5vtg', '6xul6dcosh', '66obqmximb', 'rjju70rhyu', 'nxkum9h7wd', 'akzzoe5ce6', '20bangkenyakotolily_', 'cplyrewfz3', 'angel_star39', 'xszicdwxq0', 'xn09mx6sxy', 'onlinemh370', '2oroyunym2', 'c9jnxz3dxc', 'zepp1978', 'olliebailey11', '20reactoreaubonne', 'jpa6sajfe3', 'hendy_21', 'ii4ewe1qir', 'h3vusqzyqo', '20bangkenyadaviesmutia', 'c1qxjweqqu', 'zhp0sowxry', 'flqxd3q5py', '60s', '20falllivin', '610i', '20upfluffy', 'ep03', 'j2bone', '8400', 'ft7orfa52y', 'dv4mmlso1i', 'nbcvbso9nm', 'pblvpm6c27', 'xe0ee1fzfh', 'idws2zgysa', 'ehgtzhkan4', 'cqlm9jojop', 'exil1bkzmp', 'ehomn68ojb', '20stormthe', 'kaccpk85wf', '20disasterjonesboro', 'tb8gzembxu', 'vcv73buacz', '20buildingsvictoria', 'geqkdao4cv', 'dg0bgzecgm', '20reactornew', 'dbaujp29ub', 'onpnbx0zex', 'um5icn5et2', 'dlp8kpkt2k', 'kombatfans33', '4hcywrwn6l', '2twxz6vxbx', 'ms8e8mnddb', 'tls40nqipn', '20firenji', '6f9afql6wp', 'dyy7ml2nzj', 'p85nwcmkqu', '20firereading', 'ofan6dkoez', 'brianboru67', 'jimskiv92', 'hijinks1967', '20firesmadridin', '48tpnmbjvg', '20spillplains', 'ccvcte3lcw', '20stormnew', 'pz56zjssft', 'aftershock304people', 'pq3ipugkuy', 'rabidmonkeys1', 'zt5ofbiwtd', '20upjuly', '11th', '20emergencyukraine', 'ul5xdblmbk', '20burningepic', 'mxz7yx8ld1', '2025', 'm9k08oazve', 'sk398', 'ra2majpkq2', 'y7ghhyk05b', '20fireswolmers', '0ymf6txfch', '3i3d2ngent', 'jyiekeo2he', 'ûª93', 'mfkqyxd8xg', 'hhpvpael4n', 'typhoon4yygb', 'o7yyjlukfj', 'rjcaxjp4os', '20waveheat', 'nbc10', 'pq0d7mh3qr', 'a6ro9bmxcy', 'cxi82rfifs', 'emily4everever', 'flsa8mldsn', 'orovzfsku2', 'gvm70u2bpm', 'b00hr', 'arzemsr7fq', 'a6wmbnr51s', 'h2osoultech', '8xixbspot8', 'nhxse3rthx', '20firesso', 'o1enhjrkjd', 'q5qcoao8jp', 'wmutcdg36b', '20emergencywashington', 'rffpqbaz2f', '20serviceslos', 'z5grlrey6v', 'bnwygx6luh', '20emergencylas', '20burningbradford', 'olnfzb86zb', 'm1xykecrzr', '0mnpcer9no', 'rb2s0jmlej', '9asc1hhfnj', '3snyoohseq', 'ddr0zjxvqn', 'ogxsy4gwd1', '20murdererkach', '1994', 'bxgnq57xvb', 'car5qeuvhh', 'lrtu8rwn2f', 'jannet2208', '5uecmcv2pk', 'evacuate17', '71vdjhjnwv', 'kkdx8zmv4g', '11dvqjvxpo', 'lr4btvueom', 'cinla1964', '20collapsewiltshirewhat', '90s', '20servicesusa', 'urjwsvr311', '7jfreteii4', 'dwilliams313', 'nu6wrp716d', 'dofrh5yb01', '20accidenthyderabad', 'i7kztevb2v', 'mssq0svnbm', '6siirlnv6z', '5cm0lfzhxn', 'fqj0squ3lg', 'c6lgtotvsf', 'csxvwxuz6t', 'm5sbfrrsn7', 'yvo6q6w442', 'yerct4j244', 'uorxff0nfx', 'nufdgw9yev', '2okscwyohc', '20buildingsepic', 'zahnewjri8', 'kx8cu4s8t1', 'yetagc2d8a', '100nd', 'zagbmlsf4h', 'zkgqspwyj3', '3vfkedgrso', '6m0ynjwbc9', 'jwxrx1lsqo', '20disastertop', '20fallnigeriaphotographer', '20failurestateless', '7bevuje5ep', 'pu7c4hhbxj', '1665', 'r4wgxra59m', '4rtpjrhsqe', '6x0xhlbxji', '_301dc', 'x2', 'um3wtl5r7k', '2lqyxzq5dn', 'zevan9kjzl', 'uuzfs1l5kt', 'ny1', 'ny1burst', 'w7siidujoh', 'w2ixt1k0ab', 'm4jdzmgjow', 'n0uhasfkbv', 'hqod6v6dnc', 'tornadoaustin73rd', 'pgkbt3mbap', 'rp2dxfkhdq', 'akmihlris1', 'yr67ugesrm', 'sjoeing76t', '20stormusu', 'bhsuxvq6nf', 'benkin97', 'mili_5499', 'ashes2ashes', 'xlfi7ovhfj', 'raq4zpdvke', 'uhxodsc7wi', 'fz8ytwqkwv', 'xxkhjysn0p', '2mwc9ywjzy', '20emergencyi', 'v57nugmgkt', 'vecmsiuuh1', 'p769eo49fj', '20disastercanada', 'cali74142290', '20fallif', '0802i', 'i2el5acrrw', 'grlxurko8d', 'dobzc3pitm', '4e2gjmvrvi', 'zntg2wndmj', 'jlmicj6je5', 'gbay99', 'v0yrfh9dkc', '8pifutrb5u', '20bagging401', 'sholt87', 'eco11c', 'carlsbadbugkil1', '401ks', '23rd', 'mvsrjd4x3d', 'azl4xydvzk', 'hostagesthanjavur2', 'ex4fnjjl6h', 'zdhwrn6czc', '1rockstar62', 'valdes1978', 'm2yuxnqlqy', 'v8gkkfmfxt', 'xrja0xpl40', 'psi35au3pc', 'xdt4vhfn7b', '20disasterashford', '6qc8whdizy', 'inezzaes5d', 'york11000', 'dchfpxgy2m', 'xcgzc45gys', 'k0y7xfxmxa', '20bangkenyakijima_matako', '20firessacramento', 'fjdm8qhyai', '6gldwx71da', 'gztolll5wo', 'yubkhf9iyh', 'us0qqqhqvj', '16550', 'l0b14sj7jb', '20baggingevery', '6craekc9wb', 'ypvvqz8jzt', 'yejt18sbm0', 'rcqacn91be', '4during', 'aftershock320', 'e14epzhoth', '22a9d5do6q', 'tammy_w1997', '20firesplanet', '0szwlwl9qu', 'fqmyprlg9g', '6pm', 'bptzamjl2k', 'tni92fea3u', 'czbamzq3gl', 'jab541hhk0', 'je6zjwh5ub', '0xh758onup', 'ccdx7cglqw', 'cwzhgezaj4', '20bagging302', '815', 'zk69ugxmt8', '4cog0otiwn', '254', 'au5jwgt0ar', 'yhyy3o609u', 'werk9qibvv', '20bomberworldwide17', 'y217ceeemd', 'ucudwiu3an', '4playthursdays', '1716', 'cq7jj6yjfz', '688', 'y7peto0dx2', '20bombingbelgiumthe', 'opjwunuvg8', 'bti8jamfiu', 'rinkydnk2', 'neoprogressive1', 'push2left', 'qfjjdxes7g', 'fz1haej255', 'blood4', '290', '4yu5sy1cui', 'damageps4', 'cozmo23', '10m', '2baxg1wdpp', 'rt_4_a_mention', '20collapsei', 'ths9iqswp3', '20bagcalifornia', 'uoozxaus26', 'pw78nbljky', '924', 'hpzhe0cjvf', '20009don', 'uhl0akfvsm', 'mj8rezoxlj', 'ppji1tcnml', '0h7oua1pns', '171', 'uhfm1r3tq5', '61st', 'crashedf496d', '4virxkgmpc', 'mw9ambgafq', '20plannashville', 'dl60ja06tw', 'fwup9yurzy', 'catwoman1775', 'g5do2x6226', '20accidentsri', 'tfcdronra6', '45cmaqf8ns', '2jr3yo55dr', 'p1wmkxa9d8', 'wwfacu6nft', 'yi30zgizsw', '2jgvhw7yzs', 'mfjxh4p51u', 'j4fsdpfa63', 'ujk0e5gbcc', '9newsbrisbane', '9newsgoldcoast', 'kd3qsakbi5', 'n6rbnhmtd4', '9y0paj8sxd', 'oldjsowky5', 'vjgr6liaxh', '55jr66plov', 'k2bzuatuks', 'setting4success', '20disastermarbella', 'gam7otgisw', '20wavemaricopa', '1023', 'v8aftd9zez', 'wildfirekc5kh', 'ghmmuj7gbe', 'u9lvvlzhye', 'lyj57pq3yx', '5b7qt2yxda', 'dylanmcclure55', 'zw5jp46v5k', 'desolation2b', 'wox3vprixq', '20firenigeria', '22pm', 'rln09wke9g', 'tezltqeyw2', '92101more', 'u52rw9ji2r', 'gx75w3q9ye', '20bagnyclouis', 'muf5czqjrl', 'sslt8esmhy', '20dncthr4d', '20bombingi', '1970s', '1890', 'uilpg8i1ev', 'm9pxto2kww', 'annihilated70', '100000', 'sirens828', '864', '803', 'qaqqrjv9gu', 'sr14', '1700', 'qposkp3mwj', 'liveonk2', 'sequwmvfx4', 'qrhjei7grq', 'bitchl0vecannon', 'fz5ew4ihmb', 'yqhfio9xqm', 'jqso4fyzp4', 'f4xnplio5s', 'nh5pkfbfqm', '20bagif', 'vz640xoswj', 'm2hpnoak8b', 'nicolaclements4', '208', '267', '6773', 'ezeisasm0c', '20burningbombardment', '20spillsyd', 'tzyhdbw9f5', '9nly2tovud', '20emergencyemergency', '4ssuyhkgrb', 'tderbtgz2k', '119000', '966', 'eu8jypizsd', 'v5ogr3f5n9', 'man501', 'pa5sslefec', '20accidentthrissurhorrible', '6ffylajwps', '20fireslansdale', 'uyyyrkd6q3', '279', '00end', 'ftm4rkl8mn', '20trucklost', 'eeenice221', '20servicesbirmingham', 'swayoung01', '80m', 'ybe9jqoznr', '328szfletz', '20truckwoodcreek', 'czwjw4uv7i', '660', 'bn7xpzqdm0', 'kpqk0c4g0m', 'xwn7rgvkzc', 'swpdq84boi', 'mvrsyu2ppk', '20emergencyla', 'njrjxqbjr4', 'q99', '724gq5ebqz', 'h01j9pirie', '20planu', 'b231ul1o1k', 'mfckpvzfv8', 'tsunami6', 'sjh0hsrp4s', 'mattcohen4fake', '20plan', 'h20', 'pe2d3hcsni', '20zonein', '1epiyenqyl', '3enyndxppm', 'gqpi7jmkan', 'oz1ds3xu0d', 'lcnw4ead8v', 'yvafi3zujx', '550', '5040', 'eejrmktj0r', '1979', 'yopeypjkb2', 'h09nydbzov', '20firesindiana', 'gaotrg4mtr', 'pspm3ahgkq', '5kfovovjso', '20firestexas', 'coach_keith44', 'trpreston01', 'n3ow73oasw', 'gs9bmplbhh', 'dunmvj7itl', 'rgdrjv63hf', '17egmlni80', 'nz7ackrrji', 'tytpbc4gwi', 'qhwe5k7xuw', 'nigeltanner1', '18heard', 'ashton5sos', 'luke5sos', 'zsnsar1tw1', '20accidentfinancial', 'lsmx2vwr3j', '6nqru2q5tz', '3460', '20firesiphone', '499212', '153', '011072', 'jszzqst3xs', 'diego10news', 'paug7a68i0', 'alumrgl40e', '8h2kctfb8i', '5ng0fzpvds', 'blaze302yo', '8000', '4m5uheyfdo', '20storm3rd', 'byj5dfa2rv', 'pwwpum6rbj', 'yspon4d6qo', 'cubc0nq6fd', 'ufo4ublogeurope', 'demolishedkilkenny5000', '1pxpoqktjo', 'cbps1gskvo', '20upcatfish', '7aze4iogme', 'x5yeuylt1x', '2ugrmd1z1n', 'ap9jbrpmqg', 'q9lxo4qkji', '20bombglobal16yr', 'mmklapx2ok', '20emergencylp', 'x5xumtoeke', 'collidedmumbai16', 'ybyp68ievn', 'ld5p1sia2n', '2006', 'gid6jqn8ug', '111020', 'aetgbxm1pl', '20spilllas', 'bgaj2oax1p', '2500fps', '45twhj0l6m', 'vbffodtp6m', 'mzk5ujlfcv', 'ub3woz2ut1', '20stormhow', '0yl3yt4ylh', 'arkmc7vcln', '150', 'rescuers17th', 'ficd5qbqwl', 'pqslug4jk5', 'beautiful_juic1', '20bangkenyatkyonly1fmk', 'pvkgo79jni', 'apod4eivba', 'quarantinedoc73x', 'nu0d3uannz', 'mariaf30', '20disasteron', 'nljvp3vfyz', 'ttb9oil8r2', '20fireslatina', 'jk7npdpwro', '6xysdn2xz0', 'mjbiuvbmo6', 'i5cdtd8ftj', 'algtcn8baf', 'bz07c9wthx', 'asae15', 'r8ceprqxle', 'bbc5live', 'fp64yosjwx', '20emergencyvirginia', 'rd10ex6hvt', '87efcbiczm', 'k8bexkgwr2', 'uqva3dfbca', '1yixfg1hdy', 'igz7v24ge9', 'm75dnf2xyg', 'ixfne5jlep', '20reactorfort', 'as10004', '6wadnmstov', 'uplfsqmr0c', 't5agps7t2b', '20spillcorpus', 'zdpa4dbtsu', 'dmassa5', '2liwkjybe9', 'norge2040', 'inundatedseattle1st', 'cnyvvy4wat', '20bombgidipic', 'iuh718kcy0', '9pqyx4xool', '0fs9ksv5xk', 'i580', 'in8lys7v5l', '20reactorcheck', 'hrc3oxquik', 'wnptvbm5t7', '800', 'yxvmiflvc4', '3ife1zsop7', 'budmke3nnf', 'q2', '2y2wzk1frm', 'pc8bvuflfj', '20reactorparis', 'em5opytbpg', 'medic914', 'nervana_1', '7nagdsadwp', '2b', 'oskfyj8ck7', '20bagsyou', 'u3wao8asfg', 'hc6hzs4wsi', '0keh2treny', '20disasterusacoming', 'lci3pljx25', 'e2dbcpwd9u', 'cavb7pgepv', 'cgfzk8ha1r', 'borderlands2', 'qp6q8rs8on', 'owpd7vcfs6', 'prontouo91', 'sek6mq6njf', 'ik4len', '20zonethey', '7k5shaiqiw', 'ej2ghnafhy', 'wvvgmeja7l', '20spillhannah', '0853', 'odmx36wdhm', 'ipgmf4ttdx', '20spilllos', 'rqu5ub8plf', 'av2jsjfftc', 'victoria70', 'zdtcw9fsx1', 'f5miuhqaby', '4ftzjk94dt', '20failurecimahi', 'imawvmzs3a', '20murderertennessee', '615', 'jrgj17oamt', '75vlsw85gi', 'txy3us2ejs', '3u6mdlk7di', '4arwwrzpsr', 'mkjq9yfmp8', '20bombingistanbulinfographic', '20baggingmi8', '20trucktallahassee', 'ykuauov9jo', 'puxbc2loyk', 'lwlexxjus8', 'nux5xfpv2d', 'lgpne5hkao', '20baggingbody', 'jsuhupz6vp', 'n5vrffrbo3', 'jackperu1', '20accidenthavenford', 'illinois80', 'ta1yqclpsc', 'xtohi1hexy', '20bangim', 'obliteration828', '704', 'hld5xlywbn', '20bagschild', '7l9qazljvg', 'q0hsyfrwec', 'nosvu0zx4x', '5mjzjnkpfn', '20fall36', '38i', '3hoikdmocb', 'stw3pg3t0o', 'pqhq4jnztt', 'fx0w2sq05f', '20failurephoto', 'cdxe5vmzoj', '250000', 'lxjjgyv86a', 'u9x3perxco', '20updid', 'lvbuw01yoh', 'pg4y3i5ciu', '20buildingsselma2oaklanddudes', 'sgc72', 'h1xch54kd3', '4jno677zkv', 'silent0siris', 't4axz7kc3s', 'gan14pw9tg', '5n4husewly', 'mmiye1k8zz', 'fblnifda1c', '547', 'nf46paytvw', '67tjn9egyk', 'gyh00mrkjm', '20planaugusta', 'hxtupra5bc', '20emergencylittleton', '3ln8trhw6x', 'hgf52611', 'a3dsmbqkwu', 'gghfx8pzmh', '20stormmarrakech', '2lbtshxi3c', '0jmkdtcymj', 'usaems1', '4oa6swlxmr', '20bagone', 'zwvyisyp2b', '8c3fploxcr', 'cbgz9xun2k', '5ydb4s13pf', 'oyogii97yh', 'jasminehuerta24', '20murderanother', 'etyzy8gb2a', 'erws6ieldg', '631838', '79', '55807ink', 'vku3rtoz1j', 'tonycottee1986', '20collapseplaya', 'lsqe7nu6kl', '20bomberis', 'dn5buo7gsk', '20disastermì', 'bgytmqj3oo', 'rm6cnzkszl', 'ihhrkg4v1s', 'aryu5qngjj', 'auezxza5ak', 'b0zwi0qptu', 'mesgcngaz0', '20planalexandria', '7zlsumiess', 'tdcch01n7q', 'yg32yb2jdy', 'ex6jzqj3ni', 'swvuzxi6gt', 'xrp0rtkffj', 'dcdecfv934', 'dwbc1duvdk', 'babmf0w2yw', 'eganator2000', '712c', 'gjbainqwn9', 'jphgpl1c5x', 'rqkk15uhey', 'easlgea1b7']\n",
            "0 words have punctuation characters: []\n"
          ]
        }
      ]
    },
    {
      "cell_type": "markdown",
      "metadata": {
        "id": "u3F1ni6wpv0k"
      },
      "source": [
        "## Q6 (1pt)\n",
        "\n",
        "During the lecture, we learned that there is a special text tokenizer in NLTK called *TweetTokenizer.* Let's try to apply *CountVectorizer* with this tokenizer. Answer all the questions from the previous section using TweetTokenizer and compare the results."
      ]
    },
    {
      "cell_type": "code",
      "execution_count": 189,
      "metadata": {
        "id": "wc2hAf_ipv0l"
      },
      "outputs": [],
      "source": [
        "from nltk.tokenize import TweetTokenizer\n",
        "from nltk import tokenize\n",
        "import string"
      ]
    },
    {
      "cell_type": "code",
      "source": [
        "tw = TweetTokenizer()"
      ],
      "metadata": {
        "id": "pEkPgwV67czc"
      },
      "execution_count": 210,
      "outputs": []
    },
    {
      "cell_type": "code",
      "source": [
        "words_with_digit = []\n",
        "words_with_punctuation = []\n",
        "\n",
        "for word in word_list:\n",
        "  tokens = tw.tokenize(word)\n",
        "\n",
        "  for token in tokens:\n",
        "    if digit_pattern.search(token):\n",
        "      words_with_digit.append(token)\n",
        "\n",
        "    if punctuation_pattern.search(token):\n",
        "      words_with_punctuation.append(token)\n",
        "\n",
        "print(f\"{len(words_with_digit)} words have digits: {words_with_digit}\")\n",
        "print(f\"{len(words_with_punctuation)} words have punctuation characters: {words_with_punctuation}\")"
      ],
      "metadata": {
        "id": "pwjAlhknvTmZ",
        "outputId": "4bb45ad0-b292-4ea6-cce5-922f2e76e244",
        "colab": {
          "base_uri": "https://localhost:8080/"
        }
      },
      "execution_count": 211,
      "outputs": [
        {
          "output_type": "stream",
          "name": "stdout",
          "text": [
            "4605 words have digits: ['20collapseashes', '2015', '60', 't5trhjuau0', 'b1g', '1019', '8r13', '6qj', 'di8elzswnr', '20accidentsomewhere', '0', '4khbiw', '6ux4ozt', 'ma4ra7atql', 'cg579wldne', '7xglah10zl', '7ejf', '20bagnew', '35', '23', '419', '5flc', '1', '65', '11', '20bombingprincipality', '1', '8oowa2', 'zl7ojdaj3u', '3', '20burninggo', '1acd4900c1424d1', '20firesnicola', 'ns1aggfnxz', '3m', 'od250zshfy', 'wd9odwjj9l', '20on', '20fireuk', '11th2001', '20spillnew', '20firescartoon', 'ks100', '7o4lnfbe7k', '20respondersthis', 'tl93aod3er', '20', '79ncxn', 'z8r6r3nbtb', '5h', '53inch', '300w', '4x4', 'o097vsotxk', 'i23xy7iejj', '00', '06', '51pe', '01', '325ci', '5l', 'l6', 'c211hise0r', '10', '0qkvs', '7vu', '3', '80s', '4vtbhzg', 'yh5vetm0yz', '17wgug8z0m', '073izwx0lb', '18', 'e7fn5g5ruu', '75k', '52k', '4dplz', '20stormi', 'sf5jdnvdw9', '20wavefort', 'k9airfq3ql', '20reactordenver', 'ys3nmwwyvc', '7q3', '3mtho', '1auzb18', '40', '59wvom', 'z3ke_sk1', '20buildingswhiterun', '6ds67xai5e', 'y87gi3brlv', '1zbhvdcxzs', '33', '3quux', 'wk6b5z803o', '20respondersworldwideloved', '73', '20fires', '7', '2q1n', '33333', '9vw0uqqi1y', '20burningdublin', '20accidentjaipur', '3st', '20stormif', 'j3di85ist5', '1192', '20collapsemumbai', '3', '1ybe5mgzl4', '7zog3dpdu9', '7z', '405', '91jvycxxvi', '50', '9mosksn', '4ba', 'cd2ng2awql', '2wbivkzjip', '4mjyw7p7cf', '2icptki', 'a8jz5a26wi', '20murderercalifornia', 'ii2spvp89b', '33xfm', '0bvk5tub4j', '3xpbkaq', 'xb1', '5hrc1i', '8tygo0kizz', '20buildingsoklahoma', '1st', '300', 'h1xigcen7f', '20stormlubbock', 'pw3tzu0tay', '20upflorida', '9giaxd6jty', '19', '76uz', '20wavelongest', '2013', 'xc96rwuszb', 'xm9stfzcpv', '9', 'r1cnsjuayq', 'dq1ylcrf9k', '3y8l4s', '78c', '8j4rdwyjwu', '9mkzpzfkl2', '48', '870833', '3992279000', '1800', 'x8i0mhyrmn', '20disastersì', 'k4zomof319', 's2kxvm0cba', '3yf0w', '20firesduncan', '20fireworld', '1943', '6ecz0i', '123l5rc', 'u2do2mc2ri', '3om3xw6cz8', 'mh370', 'i1eeuxxz3a', '2015', 'g891m9gh4r', 'xq92x4bvg3', '2', '6hhmbdk9yo', 'm4tczaawpt', 's5', '20disasterthe', '8xc2dfe', '20bag', '3snm6oy', '9973', '16', '99', '9pu', '1sgzgtgfw9', 'b4', '12hr', 'l9fjpnszuo', '0enugu', '6d3ekh', '21', '2fs649qdwx', '88as3', 'x9mdhocpda', '11', '616', '20buildingsi', '070tjej', 'b2', '52', '15000270364', '51681ue', '3', '9rfo9gy3ne', 'o82yvxbztv', 'n5kmxuverg', '20stormìït', '50225', '103', '742992dramatic', 'vj44', '20upye', '2mk', '4au', '15', '3wnid4l', '7by', '50', 'hy5pbe12tm', 'c1njpli5or', '20buildingscharlotte', '1qochspybw', '8gpo', '7ncx', '47ob8ge', '0ulqu3e', 'cx6aupnemu', '434that', '400000', 'ûò800000', '8', 'b1bx0eruep', '4i47j70', '1sx6u', '8owc41fmbr', '7yvtl5', '3nd9r', '74', '75', '20murder', 't7ge0j3cay', '_33', '304', '20firescanada', '2', '20wavecrayford', '21', '20bombworldwidenew', '16yr', '8905gl', '2day', '7qxcffh', 'ia1hngnhvb', '1330', '8p', 'fj2', '212', '20bombwo', '5v29w19tfx', '5qkve', '10', '3fzidhqrk3', '88', '2rhz4n', '5bbq0av', '495', '31', '97', '20stormellensburg', '90', '9', '7d', '8b8', '8qc8bcxoko', '20murdererhaysville', '8s5ux', '034', '1a', '5s', '5c', 'o3wvsclicx', '14', '4evttqpeia', 'ue78c7egox', '20spillstreet', 'ap30pszkvx', '20burningst', '9vd6x4wdoy', '70', '8', '3g79prayyc', '1rllct0', 'sr37', '1141', '1', '1kmtrj7', '33', '209923', '87', '545328if', '1txxdkj', '2usa', '20upusa', '2fklv', '20bagswomen', 'y46isyzkc8', '20upatx', '0xa6fcjyec', '8cpcz2xohb', '18', 'c5ggszugw1', '2pimg9bice', '66', '20planim', '20failuresan', '2r', '20uppurgatory', 'm8ufjdtlsm', '48', 'a6ppegelox', '20reactorjapongermany', '39', 'e0uusnpsq5', '0omega', '7pdidfo', '20bombingon', '762', '1f', '99', '20emergencywho', '24', '09', '1b3', '104393', '96', '628624', '08780923344', '5', '2327564', 't1mbw0ia3o', '0py5lm', '40', 'o784', '4103', '5sos', '20respondersbasking', '1tgqhej', '3n', '2', '8gvlq4', '401', '20fireport', '3x', '29', '37', 'n844h1aspj', 'sz2rvwpwhj', '578dru', 'p4doa5yyje', 'ep016', '08', '8n8a8', '6wfi5', '20buildingsy', '20fireconcord', '375', 'd7zxz42qw1', '3mer', '6sd6qn', '9guckjghms', '20wavejapan', '55', '8jcyxhq1az', '_7', '20storm', 'wj7ujfs8fd', '20falllondon', '4', 'e1vkc2efst', '507iug', '100', '8jrxe', 'z10', 'sd7loww9nu', '7hkavtvx81', '20fireintermountain', '2pm', '20firema', '2nd', 'ja3w1s3tmr', '9e3w', '9jc8i9', '6zrv7', 'ss1zl36y9v', 'p3g3bqbczu', '5k', '6615434', '1agotw', '0blwoa', 'l6pif3lpen', '528', '8l', '0q0aufa', '7zwwrt', '20zonelouisianasundays', '17', '39a3bgm', '95', '99', '20reactorphoenix', '20bomberafricasuicide', '1o54f4', 'e9yfe3p7p1', '8gzbgmmaa1', 'lt3dave', '0j0', '20disastersacramento', 'vn0accf6d4', 'of3td6dglb', '5ytiex55lh', '5vceh', 'i7eskymoec', '20spillfinancial', '9ivnfg', '20bombingusaturkish', '7cibxls55f', '20disasteramerica', '8xsx', 's7vygenjuv', '2xf9ga', '19', '1fm4', '5jhmur', '2ncln', 'th9ywbbeet', '25', '6sdtzsgelq', '7npbfrzejl', 'y0kbyy8nce', 'l9udest', '3p', '9pm', '4hngtkdqmv', 'l1gh8064yv', 'k9fbtccu58', '0rpsai2', '20firespray', '20stormbeirut', '9i6', '16', '3cob', '7sri57p', '1tcpk', '70', '56igbz', 'wz55nbyao3', 'l7pmdmejs1', '2ni1pqu', '1943', '20buildingscopenhagen', '9cpwiecegv', '2u', '86v81dv00e', 'h132iul7mu', 'e1kbludwh5', '20stormstorm', '9ezqgg', 'u4gsbnu8wc', '77', '8437150124', '360wisenews', '3d5x', '1', '5km', 'v3azwoamzk', '4l3sr7a', '8xfz8ko', 'gk4unpznhn', 'qr6btdcqcj', 'd1vjoyg52a', '2xovp', '20firemanchester', '5amoknd', 'bm0sxzbnke', '92fwtobi3u', '4', '12giqbvlys', '8wr', '3ci9xw', 'b77t2qxdcs', '25sy9y295l', 'q8reoevlue', '2hdetg', '1360', '1360', '3g', '3mp', '20emergencycenter', '87', '20bomb', '4lep3', '52lna', '72ix7vm87w', '14', 'fs4y1c9mnf', '60th', 'l8w30wfw3r', '5tqc5', '2a', 'hu5cxqnobf', '33', '_7', '5yrme', 's2wm8lh7oo', 'n00dvxega2', 'b2b', 'b2bagency', '6vei1mhea4', '70', '20murdervictoria', '19', 'n71hmvervv', 'u6isxv2f3v', '213', '4678', 'o2jd4tbrwa', '6qiyivf', '20fireroanoke', '39zrwoy', '05', '12pm', '45pm', '7hy', '3zzuz6', '28t3nwhdky', '20spillcanadadtn', '8cf7', '2ub', '20burningnew', '1yn', '6tvvlg2fni', '7mlcd0l0b8', '3', '36', '20zonethe', '83s', 'ih8udz8mq3', '70', '6nk9y3', '3og66nfsig', '7nyabsw', '20bombersuicide', '8c6l8p', 'st5fgblsye', '0uk0h9hozn', '101', '9kgawp', 'ja0wgp8spe', '8fni5q', '26oo0fcl53', '0g', '20services', '6gjtk5', '9xctmp', '917', '033', '39zte', '4ryzmzsgdw', '809yc5a', '0zh', '7uv3v5', '20disaster3', 'f1bakpnyn6åê', '4x', '8', '2781', '6edev', '6mbpvwitxf', '20bangkenyacolnharun', '13', '8tniv1', '20baggingi', 'nf4iculoje', '20firesmy', '463p0ys0eb', 'fu1btuq1et', '20waveit', 'bp8bm8xsxw', 'p6cylz5lpt', '9gips9f', '20emergencylondon', '4d5o8', 'l7bjsq0y2o', '7a1', '30', 'u1fuwrgk5u', 'vg8hrbebda', '20firesdallas', 'x1xj0xvtj7', '1', '90blks', '8whts', '25', '5hwsxo2', '27', '123', 'u66kyg11zd', '20up', '7xekgx', '20stormsouth', '7uw', '2palj', '20wavenew', '2x', '20firesonly', '0dr', 'ba2rrxugsg', '70years', '8vzl1ns2io', 'p5zicjudxo', '8zx6yc', '30213', 'uz1yiz7n6m', '15h16', '158', '1017', 'lw9o2kdk18', '44episodesofgg', '4o4', '1dskf81', '7', '20truckhere', '180', '999', '3rbs6w', '29pm', '15pm', 'o8x4m5er6b', '415', '751', '0880', 'mo0', '20bagswashington', '5fhkxtrhyu', '051t5te', '629', '5i', '20burningkou', '6a', '88', '92', '5th', '3ugfpwmy2x', '20wave', '20buildingswe', 'l2nmywrmq2', '716z', 'c9t2f6dltm', '5pai8g', '1313', 'wj0u59mppb', '900037', '370', '6ime8kjacv', '70th', '0gs', '9am', 'c0slabbp7j', 'ge0yd3mkav', '20servicesorange', '80dzgco6vc', '7q1amh8', '9', '01ml', '05th', '29', '8ez', '08g', '20spillgoa', '2016', 'ny10th', '9fqb8cw', '4hx5s', '0fil', '23', '25573', '0bto', '32l333', '2nvtn', '368uf', '1', '9d', 'fj7kcrlir7', '2k13', '7mlmsuzv1z', '32215def', 'm5rjekvddp', '2pcs', '18w', '4wd', '1qt51r5h98', '1jbuenl', '9lfgt', '25', '3kfrx', '9m6j', '17', '20burningoutside', '0eudfv', '7me', '20disasterraì', '004', '_13', '20b3pnqxmd', '18', '4682', '18287flood', '1tytz15', '7u8t40k', '7hhcpe', '5aga1pd', 'x8zqbwnfo1', 'f4lhfmehzh', '50', '12', '72w', '72er6', '9iyi246', 'x9ofv1kmv7', 'b19z8vi3td', '1rlghft', 't81oayjowc', '0dqjeretxu', 'ik7mgidvbm', 'af1yzus8ln', '2ii3brc7nx', '20buildingsspying', '1', '4ohio', '4zmcqrmois', 'l9ekhnkbar', '12', 'y3fo0ghg8t', '9y8h', '20buildingssantiago', '20upla', '6th', '3j803f', '4ucy', 'p9rymfjcux', '6s', '8m', '0ghk693egj', 'hs2', '178', '1xb2nh', '1krpz3j1eu', '20spillunited', 'g37hujx6et', '20accidentnew', '111welfareworks', '65000', '5cgtqfk2ur', '3am', '4b58', '360', 'y2jt1amyfj', '3rd', '7nu7prxeul', 'rw8b50xz9m', '20respondersvictoria', '2z8ubsy5m8', '20murdereryou', '3kob7xbea0', '7dyoglhmre', '3rtd4zf', '20collapsetwo', 'mj2jq2psv6', '0fv', '20zonecalifornia', '6sdgz5dxnt', '20bagsunited', '4tid', 'o207jyabyz', '2ocxg', '9iqprw', '20failurebukittinggi', 'wc69xajis4', '1', '412', 'a8nmdkd3rv', 'tq3j2qgtzq', '7', '3kpbu6hgt5', 'gl4mcax0ny', '3sicroaanz', 'i27oa0hisp', '143', '2007', 'f1tcbg1mki', 'is2idc3ubj', 'bb4sp', '2oagm', 'u7vavyrgv9', '5j', '20respondersmichigankirsten', '3lamdj', '911', 'yo3t8qho9h', '8od', '64oz', '9cntp3nq6o', '6asaelm', '1', 'b1grego', '2t8wgb', 'n3yjb8tcpm', '50j3mv4', '666', '7mcc', '20bomb16yr', '5ortb8p51c', '2012', '96355', 'i8sj1kws1d', '5bdrfu1duo', '20upgotham', '20truckour', 'o61h2taae4', 'n95igskd3p', '2qxe', '20fireshelby', '5cc', '5xnznqb', '7hizja1', '7slbelp', '20upottawa', '20murdernew', '9t', '5dujgypima', '7yyx', '5cnynxx', '20spillpensacola', '0ce', '5e46', '9v1rvcomh2', '11', '30a', 'e3l1jqjh2u', '7vcezi6cbb', '4sb6', '100', 'qv7iydovx9', '312', '6tcvc', 'q2eblokeve', '6y34', 'x1441', '7krm', '01u3eii', '76xowli', '20truckformer', '20upwaterford', '5vbium', '20zonebedroom', '4000', '3ph6o1', '1xpw292tje', '21', '462446', '022017how', '9qpg0z3rh9', '1ete9', '1gw', 'im2hdsklq5', '20fireswashington', '1zq', '20bomberisis', '4mymf', '8nhd9idajs', '1hvu3', '0s', '3ldfuxu', '9ilhp8w', '8r', '833zq', '20spillrefugio', '8qoh1b', '1pdjoq4jc1', '600', '0', '8grorq1', 'nn6y0fd3l0', '20accidentpalo', 'bz3ir4gmwj', '7mzycu2iho', '20plando', 's0ktiliskq', '9xw9', 'on18cqgcoa', '20plancochrane', '22', '2q3fuerey5', '20firenew', '5bgcw3ezb5', '6qq2ys', '1hvvx', '9xyc', '130', '1980', '6ioabsl6i7', '2613', '1008pla', 'go0pkrfzmf', '20reactorusa', '5hkgxzjlmx', '21', '1200', '83', '2014', 'ek6kyhxpe9', 'yn6nxoucr1', 'wc8aqxedf7', '1z3jxx8', '20baggingformer', 'tm5hthfdo0', 'ik8m4yi9t4', '6xp966d', 'u2es0uk1u3', '20failureinvestigators', '7lk8d', '20bomberi', '456', '3jmmts', '1u', '2', '0ryenuo', '205', '478', '36', '5sos', '7o166y', '6i', '20disasterif', 'qh5axvhwh5', '1pdnlsp8xw', '0wbecdmhqo', '253', 'a2ss7pr4gw', '20firesfort', 'j2pykyo0en', '14wh0pjj2c', '5fdacxo', '20fireatlantahow', '20stormlet', '72', '3brme6sn4t', '20murderhuntsville', 'sb3rjqqzix', '86', 'm0dap5xlwo', '20bombingmemphiskurd', '9e6d', '5pmikavykl', '5jccrj2', '6nq', '20disasterlos', '7', '20collapsenew', '985dwwpdet', '20waveusaheat', '1r', '20bombingminority', '367', '0', '20accidentfashion', '3u8bq3', '20reactoranywhere', 'e9d9lk5fdw', '3htj2pypsg', '53143why', 'i9dspdkruk', '5azwkna', '8g6vb2r', '20truck', 'k5fijankjb', '8', '3', 'xy41z0o5ei', 'vg7jnah0iw', 'ny08', '7vsqqsvgni', '7supportphcollapsed', '20accidentthis', '7czll', '20firestoronto', '1620', '1mxsfoa', 'fw8elbnap7', '20fallinside', '4500', '20bombernews', '630', '9jxb3rx8mf', 'b5s5epj7um', '9gqrywa', '2011', '4lzj', '4tiles', '10', '2nip3d15dx', '3vd7hl', 'j5mkcbkcov', '4yi4nuovbv', '7', '1916', '8d', '52uus4tfn3', '578gunp8t9', '63ch', '20disasteroneonta', '1z2', 'w6yu7qs4cv', '4girdvz', '1', '95', '1z5q9zw', '39', 'dc70', '4pmur0q', '89', '18wce', '8ye1bj', 'x1onv3d5ux', '20emergencythe', '8ejsj', '17000', 'n8ezfctfce', '0e8qs', 'hz4lkffc59', '20disasterunder', '70', '1945', 'ow4gexynbh', '20emergencybeaumont', '0hojvya', '6e2pu', 'm5kxlpkfa1', 'k9cd0efvut', '20respondersportage', '0piq6', '20buildingsdallaslike', 'dm0uupqgwy', '8kburt7', '11juzhlgmt', '20skyhawkmm20', '_29', '300', '300', '3efiv', '3a3fgzfmzh', 'g0q0bzbjli', '6c5qpu', '6', '4qhwyfd', 'zg1yddywa5', '20baggingtexasg', '41y1cåêis', '9', '20servicespark', 'k1tmlwvjmj', '64cymg1ltg', '20stormworldwideviolent', '4', '20reactoraztec', '40mln', '0dxvz7fdh3', 'cc7d0wxk0m', '0fekgyby5f', 't07qxp5cbe', '8e0g', '20serviceshenderson', '7a', '30p', '44jldj', '20fireslondonthe', 'c0nkgp6w03åê', '1n6vn', 'rs22lj4qfp', 'ld0uniyw4k', '66yvulizbk', 'sa5cdwvdxt', '8eijdxapnp', '4kus', '15moferadio', '201', '1128', '7spydy1csc', '20reactorden', '9wqixgmhfh', 'pm2tnnfdww', '59', 't94lnfwf34', '2dm', '20zonestill', '20murdermagnolia', '9lpf4v4hmq', '20bombiraq', '2ag9auabr3', '4tubnwh', '9g6njfd', '1vk8', '20zonecolumbia', '100mb', 'q1', '1nt', '2hyf6ro', '10pm', '00pm', '5cq7dg', '20firesu', '1hlvrkwgip', '9f3rdn9n3d', '72254', '115film', '20burningselma2oaklandpeople', '0', '030', '014', '032', '2030', '320', '7', '14028', 'yg697fcqgr', '4e719w6m4v', '0nking0201', '0qsmxvm', '4gkoka', '20stormsd', 'u9cd0txe7z', '5k3s', '26arag', 'm1', '94', '04', '8ebj', '20k', '9eokggb', '5iyzsda6xb', '16the', '0lt9zzk', 'm2y9ym3if6', '20zoneca', '9hrcuzh', '11', 'r7pvtsduma', '3a', '0la1aw9uud', 'dh30000', 'y35qtvdsoh', '5', '8hgcbxukz0', '4kopkcyvtt', '20bomblagospic', '7nf', '20bang', '20respondersbloomington', '6hpnpch', '1un', '26', '1c9fa', '3w0pxfyyri', '20fireredding', '5pvw5gx', '5', 'j6wseptxga', '5sosfam', '9w7z', '20serviceswhippany', '9lyx7zmthe', '5pbc96rtmj', '9km', '48', 'a7x', '3', '448iturasya', '3smantibatam', '3the', 'yr8knephgu', '6ezkoof2xt', '78eg7k', '20trucksoutheast', 'l90dcpv9zu', '53', 'z8xiqngulc', '8x', '540', 'p18lzrlmy6', '8', '1egreer', 'v4br5gjmiy', '4i0rkcbk1d', '124', '13', '172', '1fvootqnej', 'j43nwkx0x3', 'q4kgftc2am', '6w6a2l4qae', '0idm6aq', '7v', '0yxbb5dzw5', '20bomber', '7k2do9v', '11th', '12throw', '4nbqnz', '570the', 'q0jhdcu6ly', '15th', '7mn', '2014', '4ws', '81sn4', '1pc', '7tgf', '97', '3zmgnck', '803', '20respondersfranklin', '20spilllyallpur', '20collapseaustralia', 'dq3ddgvgbf', '96km', '2015', '34', '2015', '4c5m1xd', '28pm', 'd02sbm0ojs', '20bangkenyajrowah', '3934', '7zlk979', '3drso9', '97', '9wowps78vd', '461', '09mcen', '20emergencygoogle', '6h', '4the', '8bhvxx2xl9', '4ou8s82hxj', '20disasterinexpressible', '5', '2008', '1n5txxe', '1000', '12000', '1lbvhn', '7', '20zonesouthern', '20firestips', '098lq', 'y8h5v1j2y7', '7qm', '20murdererwest', 'j3cirxjfa6', '4y4nx', '20disasterexpert', '8z', '20firessome', '2ha', '2005', '7ygrl', '2be7bwcmpl', '989', '8ryt9', 'a0ad8z5vsr', '20fallthat', '3qttuxr', '0drqlrsgy5', 'cp7c1ch0zu', '0pamznyyuw', '3939', '5qyczywkgg', '5ig9m5o', '20baggingglobaldrake', '2jhtlwuey0', 'g0dn1chluo', '4zqrsaqrrt', '6ar3ukvsxw', '9u', '1qe69t', '4ssvf', 'h6z7hxuqtu', '1995', '20emergencymoscow', '2015', '15', '6ry', '1rykmj', '20servicesbritish', '1', '2b', '3', '5xrc0a76vd', '70', '20firesfull', '02', '9ikhdyhvnc', '70', '200000', '100bn', 'po19h8ycnd', 'bb7ttdvjwe', '7ip', 'ew5wzc07fo', '9bliddngtf', '7jdnijx', '20bombingremembering', '361', '2a', '9', '731', '58p', 'l5awtundhm', '9kjcept', 'c7', 'i4aogcsoy5', '9pxv4', '2h0dpmv2ef', '20firessan', '4zn0mdsrvp', '28', '2tqej', 'g03dkpoonp', 'go0hpi0b4c', '1e0xngw', '420', '420', '20murdercereal', 'i4', '8nknl', '2', '4', '1', '27w', 'd3p88xdlec', 'j2ddvh7fy0', '5y', '152261', '106', '775995when', '1bb68k', 'n0tawgezjx', '4', '5nv5vc', '20bombworldwide', '19th', '64', 'o2cdkpsdfp', '20disastersuncorp', '37lndvk', '20servicesseattle', '4kdthctemv', '0', '83joo0xk29', '20firesq', 'g1bwl3dqqk', '20accidenttorontocould', 'kz35rgngjf', '2azxdlcxga', '80rbyj', '01', '16', '20firelos', '5iyaj', '99u', '3', '8rressd', '30jcssq', '20servicesolympia', 'yu6nue7gfb', '3gz5zqqthe', '20spillclean', 'tn1ax1xmbb', '77', '4xb4zwyhct', 'bp6mfjhars', '1wt36', '56pwh', '5', 'nq89drydbu', '5ebpybfh4d', '20bombingtokyo', '9', 'uo0aqk9kr8', 'n9c3i9v8go', '20emergencyseattle', '3i8r', '5hljucxi0s', '16', '7y', '20servicesvancouver', '1meeo3wjco', '852my', '7dcc', '5imd', '20bagscalifornia', '6b2qsu', '0s6ydfrwdq', '1fw0xhe', '20murdererchester', '63vnam', '5ipv1x', '6cr2', '54', '20firesmontana', '2t', '20burning', '5l0glkv', 'h9fsiaxv3q', 's7nbowa7tp', '3f7owdecy7', '12', '9iw', 'p6gqmctglj', '2bzg', 'fx7uzzxte4', 'ga14egplw9', 'ks7ln8hq8s', '99', '59uq30j', '20bombnigeria', '02', '20fireboston', '3yuvk', '20murdererhellnot', 'ww3', 't344phnpy9', '20disasterdhaka', '20fireslondon', '7okm21', '20bagswestside', '4misha', '5ita5p', '4qa', '1mvsqg0xke', '6uhih9pbru', '20stormdutch', '1puns', '4s2v', '6ztyg4', '2', '7', '7newsadl', 'r1xwdnvb0g', '2xxxx', 'b6nphxorzg', '55', '20truckfive', '1952', '8', '20bangphoto', '42', '910975', '78', '865828does', '20trucklaguna', '0ax4', '1970the', 'b4federal', '3b', 'wk63tm34a0', '9naw3qoqol', '90l2lb5wmr', '5', 'pt1', '9utqe9zfde', '1980', '95', 'b7omj7u3ei', '0oo0', 'nn4ztcmsru', 's5nuegswyj', '57em', '20accident19', '600858', '047821experts', '2', '20disaster', 'e0lugbl6pb', '40121', '2d', '20bangkenyaercjmnea', '5hipm', 'j3lyon', '9hd5v', '3wnjauar7w', 'i2aag6lp6w', 'zr5rgbgh03', '20bagging', '01y', '20murdererfresnohappy', '5tem', '2acrgdqhj0', 'of3q75fgeu', '20murdereverywherethis', '8zsry6', 'zz0cewew64', 'q5mp2q6hy8', '20waveapocalpytic', 'y8wloctevc', '20fire5', '15p', '7p', '9fxed', '20reactorfinnish', '9l', '20disasterany', '20burningwashington', '3lyc', '36', '6h', '20bagswomens', 'l1gfxgozvx', 'qr1l2jyuez', '3d', '4', '5hka2u', '2tnnlf', '55h37jn', 'h6tyysgr30', '7hanpcr5rk', '9zmwt9xydz', '20accidentexperts', 'v4smaeslk5', '365disasters', '911f3ixrh0', '20falllagos', '207mx', '20fallslappin', '4coffee', '58qa94c', 'tw4rw', '544', 't6seku4yvm', '4u4txl', 'ph7wllkrfi', '1', '8un', '5u5gakx2ch', '695807', '837865', 'kg4vaal', '20bangkenyatianta_', 'ot3bjjhh8s', '260th', 'ay49mtyyl8', '48id', '12news', '90th', 'g62txymzbv', '20disasterpennsylvania', '20fallnew', '140', '42cz', '6acswzo7cw', '20falldraw', '3tnuaciv3c', '20bombing', '6znv', '74ey', '20firesquare', '2k15', '2002', '81neizeknm', 'm4tui0p9nt', '20s', '20bagsd', 'mt029qj4ig', '2f', '20wavemalaysia', '7amdollela', '3la', '7aal', '54ya', '20bangkenyashawie17shawie', '7paovyzttw', '20responderscarmike', '5000', '4qqvm', '9d4nkg', '4yo', '3ev07ppapn', '2budv', '7pfr7kb', '8lbla1f', '8e7ry8ebmf', '0l', 'e84ifmcczn', '8bm', '20firesbeacon', '13', '1elreh1jlj', 'q3dtoqo04c', '20upguaranteed', 't8sv2ai7sw', '1', '4xk7', '28pg9xv', '2015', 'a7tjawwtj7', '20emergencywarszawaradioactive', '5lmydka', '9q', '20murderer', '93065', '7hb', 'l056yj2ioi', '20plancity', '8ihuco4glw', '5lpk', '5qhqo6ejtu', '20bombingsuicide', '20fallalex', '107', '410', '2hvgwd', '49', '2yca', '1u5ol1', 'si02qrguka', '0c1y8g7e9p', '61fpmr0', '420', '0krnxvy', '5loiwuyv5r', '77qv', '1043', '47', 'fd9dzspugk', '1928', '2qniqw', 'bd52fxdvhq', '20zonegreedy', 'j5onxfwlao', '6g49ywwsqj', '70', 'bs6xaqhsim', 'y3zfqjsvpz', '107', '79th', '7lv', '20upthings', 'a0v1ybysod', 'th2wlilbmo', '320', '5podgyw', 'za4axfjsvb', 'da9lzton1c', '9t4f', 'u9bkqt6xhr', '300000', '1200000', '11000000', '76howu', '0au', '20respondersliberty', '20failurehalton', '905', '877', '8591', 'al28rvkqpq', '6izdq', '20respondersa', '5pm', '4ue5oq', '1beegwrsis', '0t', '42rdt1o', '8tfq', '0sis', '6dfki', '20burningziam', '20spillamarillo', '6cx46e7qb7', '5vofj3', '20respondersyork', 'e65v80fcus', '20servicesemergency', '4p', '6wyw6f', '7o10bg3', 'm19ivwrdkk', 'x2wn7o2a3w', '7ad0l7cgee', '9tznp', '8lksld', '0iyuntxduv', 'gn3whnsfib', '5twoc', '3w3awo', '1xdyk', '4got', '81g18wsauk', 'od2ratxrqs', 'û_1', '20fireauburn', '160', '20failureindonesiainvestigators', '8e', '64xr9ltnoh', 's0eyq1wehe', '370', 'c5jutfxbm9', '6poqjlb', 'x1392', '20accidentsalt', '8015', '8jx6rts', '20emergency', '9pdti', '20bombll', '3h', '05', '1jcau', '6vaqpz', 'l4w0pcorbs', 'z8ij8ktkyk', '9nyxjndora', 'sg1ftkaegq', '7egkveb', '2ytnwc', '96', '3gvc', '20truckjacksonville', '58', '7c1', 'u4bdy1w7d4', '4buffalo', '1qzbd', '2010', '3usesgf', '370', '3l2', '0nl2yn', '1969', '9847', '20firei', '20collapseleeds', '08', 'l0deocxu6o', '20bagsanywehere', '5', 'sc4twjkxr1', 'yn6duotimr', '27emugm', '20upthe', '1862', 'iw7elszifz', '11', '05', 'qv1rmzi3j1', '7old5mjwph', '2go', 'w9cd6offcj', '20disasterbirmingham', '6ndbfopk5m', '0c', '20firesusa', '20stormamsterdam', '5dsk', 'bc19', 'm6x1', '0w', '88uz', '20bombingchicago', '6o', '20murdereranother', 'cj76k0yayj', 'lh9mrypdrj', 'mp3', '3i', '0iw6drf5x9', '5qhoehe9hf', '20firee1', 'ch4', '4faw8', '5tfm', 's0ctcqjvjx', '8', '30y', '20firebuildings', '4frtfka', '0f8xa4ih1u', '45', 'v5yuualoqw', '263chat', '6zhciun', '263789f4', '30s', '4z48od', 'eq4rxc9bb3', '92', '4', '20plankansas', 'h3dch6fyaw', '10566', '1i', '3', '2rt0v9f', '4ceoa', 'x5rc5nuamh', '1k2phqcuw8', '12am', '5b0w4l', '2xx5l1p', 'w0exzad5gc', 'eg1fskqbv6', '225', '241cn8yxjq', '4fnet', 'ks94', '41', '20bomberbirmingham', '1kaz5', '595w7tm', 'rv9dv6joew', '5fcjvml520', '8p', 'dh0s4buuk7', '001', '20bombinglagosimagine', '9pfeaqeski', '70rnkx', '19i', 'lk5uqkop1e', '8zoo', '928', '911health', '40w', 'us70', '397', '82', '15t', 'sa15t', '2jbibeib9g', 'p5ktaqw5qg', '20buildingsmadison', 'x6asgrjswc', '5twbzt', 'kl4r1ccwct', '3', '9hkxxbb82o', '1', '3mzp0', '20disasternewcastle', 'm9o08gurt4', '20burningin', '0xcragy', '7cti2iw', '2n5e2d', '2', 'p8', 'yr2po6jn', '5apwj', 'c2eyjnybfn', 'gt7gf0fsex', 'v5gtunwohy', '20stormchicago', '6peeip4y7w', '5yl4dc1tqt', '2fsk', '3kaafuoztc', '0rsuz', '7eyewitness', '7', '20stormkids', 'q5q1x5vcqk', '1osmiuxkhw', 'kp2lf4aute', '30aj9s', '4b8j', '20uph', '309943', '20bombnigeriapic', '92mn8yz', '20waveoklahoma', 's4srgrmqcz', '325', '10am', 'oa6b0z2h6y', '_10', '20disasterorlando', '35jyap0ul9', '94kyle', 'rg9yaybosa', '582', '5fex', '38pm', '4uqji', 'k5knnwugwt', '3me16', 'rv0fk7q4y5', 'ps1', '0gknpy4lua', '9obit', '20firesnorth', '2991620', '7', '6g7j7', '8bucnv', 'c720', '3dc', '3mtwh0jjns', '76qus', '0blkwcupzq', '6sy44kyysd', '2lgtzkwmqw', '20planchapel', 's7xdxuudcy', '20reactorwashington', '1ptwt', '9r', '4lh', 'r4utnewlna', '12u', '4yvzvap', '5qo', 'l3w8mipvnt', 'o85m1bjfrw', '20disasterhello', 'i1vpkq9yag', 'ty5gavn7uk', '70th', '1mgvd4x5oe', '9qpk1', 'q3xq8r658r', '20trucksaipan', 'k3', '6g', '2fcmupm', '3mzx', '7prs', '23', '8nrc9h', '9uwbvvp', 'fc3bxrthpg', '4kowglz', 'l4wjhz4aj6', '7vsaz', '7md', '9rr', '9v9', '46', '7d7vweq3es', '2pcs', '43', '5g', '8ihe1k', '20failurereality', '20accidentspain', 'cm9tve2vsq', '20firesthe', '254dho', '407v1y4hhg', '0vcsafx9by', '20truckaracaju', '07', '5l64cvr', 'vf6cklmcsx', '459', '2uvmq4vafq', '_114', 'qi8qdw5dfg', '3hqa', '20upturn', '2', '8ljws', '20buildingsa', '3glyoyf6oc', '45600', '5lnxvzc', '5', '4esbsa8int', '20responderswashington', '5', '06gbv', '20spillcaliforniarefugio', '1', '20accidentnot', '1965', 'k9asktwxfl', '8550013', '21k', '20upthat', '81trz', '1061thetwister', '0zl6', '1bvo', 'p4kofytkdx', '20stormukterrifying', '70w4', '20reactornavy', '0249y', '20responders', '4416', '2', '7', '4be9', '20bagginghave', 'tu9cglmgvr', '6e', 'to0bpieyms', '7l6bhexixv', 'o4xljnav8f', '20disasterthough', '10frxrl', '2x', '1nayr', 'r5bxzzhxkm', '6lojoorouk', '20fallmadrid', 'f7a66diiyk', '9h2w', '22days', '20upwoke', 'gw0cxoojyv', '2g', '11', '9zrqmd8ngz', '3942', '500th', '32', 'v9i4pfxo0c', '7lvgcmyiyj', '109', 'g7s34sw2am', '95roots', '20plan204', '555', '14cicptkna', '20fireseastern', '2m1gneaifl', '85mip0v', '2016', '9mtrq5jf4d', '29', '6goud', 'rg3bndkxjx', 'bq90pfzmrp', '98', '80', '5jejuy', '6r', '20bombingmeek', '6jjvcdn4ti', '4am', 'w56cf75mxe', '20bagginghouston', '20reactorworldfinnish', 'vb3vfm76ke', '58200', '7sv', 's43we7oe2i', '8qcgc3', '2', '2vzyt', '500', 'jq9nj6gko3', '8i8qlen', '1d', 'p5jpjgiipw', '20servicesaucklandemergency', '4state', '5chjmvs', '2sxzy1z', '1tvlfrhm1m', '8fgy35a', '150', '6pm', '4sap', '5yrbegzafx', 'x4ecggvnsn', '20waveinternational', 'jw3hn9ewft', '7kn', '3if', '91o9', 'o91f3cyy0r', '72', '4914njpio3', 'e7shtylbnl', '0rokdutyun', '65xr1p9soo', '20wavepacific', 'tk65ske0zm', 'br7gmmh5ek', '4kt2', '4rlc', '1s', '20collapseleicestericymi', 'gl6eejyjky', '3w5a', '521', '2009', '5dvgrvh', '39b', 'r6jdj9kigm', '3z1kxid', 'y3dm9ulqxg', 'x2qsjod40u', '0kh', '0ff', '9r5fsts7bd', '1970', '429cj', '8p', 'g5px', '4ykxt3kd62', '20accidentindiaomg', '7k', '20murderby', '7cx', 'fy0r9o7xsl', 'z4jyharrew', '8th', '7dasmvy', '4uegf8', 'an3w16c8f6', '5wj7r2', '4q4zd7ou34', '1lvo', '1pack', '2pack', '3pack', '70', 'ag65u29sgo', 'hj26sfddfi', 'h9vmmdebdx', '9878', '0ajisa5531', '51', '46', '950109', '439469how', '1983', '4me_sews', '20firesjohannesburg', '6kd', '0jw9', '20wavelondon', '8d', '20bagsoklahoma', '4lubnw1', '5uv6ok', '3x', '2', '37iof9', 'bp597yds2b', '20burningsan', '41i3kx2', 'h31knuwzz5', 'zu9yydf5di', '519', '6', '4yi', '6news', '199t7nd0pm', 'ly8x7rqbwn', '7', 'id667rlets', '5zfo1g', '9st', '1vjalja1sx', 'j3rtf2dt3x', 'zl7fhucxhl', '20murderaucklandhiroshima', '2j5qs8u', '8', '20baggingarizona', 'im2ad', 'fk1l4nozig', '120000', '23xqh', '4pqcmqchng', 'kk8cnppzmk', 'n08qluornx', '16mxbo', 'p10hndc0mm', '20bags', '20disasternew', 'x5jgkjv6ma', '1fbi', '4bcqzqjrzn', '1j', 'z3nevglufm', '5v1qn', '1d', '5sos', '57', '9tfmk', '1wopsgbvvv', '202', 'c1xhizprad', '241487', '3nkkcoh', 'nv7rk63pgc', '1b2fmc', '07', '2sgdofsmrq', '6uora', 'o8xvtlp4mf', '20firesmelbourne', '1ggbkj', '5ykax', '7d7ja', 'h6pm1w7ell', 'pk8dgvripw', 'rz0adzursw', '1b6', '20firesmid', 'co2', '20reactor', '1bc', '38lnva', '20zonelooks', '07', '4c58ooavhy', '20murderersan', '83', '5onus9q', '6kpwiz', '363', '14000', '20firesvancouver', '8ukmd', '5', 'm4', '20murdererseattle', '23rx4', '2', 'b7zwevsrgo', '3jqwo', '02', '2', '3c7', '2tp', '8p', 'l3gizrucy4', '8rwvkj', '20reactorvirginiahamptonroadsfor', '9qnq45zduw', '5coastal', '2jxkmkpalp', 'ec46lyqqc6', '56fr8vm', 'ww1', 'f9j3l2yjl4', '10th', 'n6zflxigvr', '7e4qcp', '5owvk', 'di5arr6hq6', '1vms7x2', '30min', '9gqi', '1xw0z8zeqw', '3pcntczoxv', 'n0akjm1e4b', '3nuih6pkui', '2ufcc6gh3m', '9k0xghb', '80ebvglmra', 'mo7dbbdfvr', '0scnwe8xbv', '20firegroton', 'ke1zs6naml', '14i', 'o7qogmoegu', '4', '20bombingaustralia', '2hours', '18gda', '20upbrooklyn', '9odqryjncf', '0xouv7dhwz', 'ia44nczlif', '1plht', '9', 'x1386', '13', '99sjy', 'a3rgqucugo', 'nb1e7mnce5', '036', '3fmyng', 'im6m4xaen2', '9', '20bagsattention', '2yqjq', '452', 'ed32pbvio7', '10x', '12v', '24v', '6v6480p', 'kp5dpoaf58', '295ss', 'a5iwus8evq', 'gi82n2juwn', '0ftrw', 'c4news', '3s5r', '2minutemix', '32p', '95', '03', '528', '530', '740', '20177', '707d', 'y8xknpqmnj', 'km8ucihrrn', '1dtour', 'z4ilb9y9nu', 'j295md1sow', '1s', '20responderssacramento', 'rm50vcvjsh', '73umw2igrz', '7j', '12tid', '20reactorwarsawfinnish', 'd8', '2okke', '20accident92', 'g90', '6nk', '44', '34', '9eq', '10', '9bomb', '2cd5y6y', '261', '0usdi5jcho', '7jhrjof', '20murderfiore', '7mepkbf9e8', '4ny', '2016', 'y7sipkb1kd', '0yo2l38ozr', '20emergencyevanston', 'q13', 'e981dgskab', '89', '20upcalifornia', '5koho39oje', '7be', 'u9fcb8dz3h', '3bdr5l', '20firessomewhere', '62', 'wf8itk2kvx', 'x1x6d5enef', '7g', '20collapseustwo', '3ep1q', '1qr7bq', '1lk1eqwyuw', 'jb038rdfak', 'v6qxnfhrxf', '4k', '500', 'e61x9y65qd', '0gdqm', '12yip', 'u2', 'u8rgb51d22', '2tnu95vgfe', '11', '14that', 'nx2d83a4du', '30pm', '34', '22', '4regionåêåênear', '0wdazlcm90', '1md8v', '5xqu', '201days', 's7grbznwlr', '941232', '20bagsin', '33', 'k2tbes65oa', '2872j5d4hb', '3rqs8ju', '0k1ihti', '6ldwho', '20wavearnhem', '5wxok', '2015', '36', '9le0b19lvf', '54xmmc', '0', '3bzx3g', '4', 't2kk8fya77', '20reactorjapannuclear', '3yev', '_1', '5w1', '37592', '500yy', '9e2f7bivle', '1', '3qbgos', '2kdq56xtws', '6t69', '600', '41iupkn', 'du19', '0nrdq', '3bw', '1urafc', '51d95x', '447', '30th', '1986', '2016', '23', 'e8dl1lncvu', 'qu1iug3e9r', '100s', '9x1o', '2015', '6fod', '20disaster573', '420', 'g38y8h1tjt', '605a', 'm0utldif77', '2iafpmqjep', 'cs8myauna4', '20firewestern', '8nadrgr4xc', '20stormvery', '3jqovk', 'gc0udfnfgg', 'ìñ1', '_28', '3ak1lrn', 'nj150', '0h', '9i6crcrq2m', '0fphr', '6zvhm2a', '48', '5i', '1907', '05tnksw', 'jn8s0drwbp', '6cadrhioxp', '3lv', '4gcr', '9jcibenckz', '4i0kz2akly', 'm7na4skfwr', '2mqzge', '1', '6aimd1uway', '9cgbjwmhii', '3', '41', '252426', '072013crews', '0gkx28l', '99oz7u3', '10', '61', '9mwxyp', '1za', '5', '12m', '5', '20bomberindonesiasuicide', '37dqvjhncv', '7ijlz6bcsp', '1921', '99mbyfl3id', '4ddmtguzzs', '7wn9xvs', 'fa07af174a71408', '1', '20murderchattanooga', '20stormkenyaslow', '3rcxo', '6', '20collapseleicesterleicester_merc', 'y4y8fcljed', '70', '20firetorontosuch', 'fw1ptaelgv', '9vsssz', 'bs6pjt09tc', '5ppjq', '20disasterfukushima', '6ddg', 'aw23wxtyjb', '9vfua', '20fallbcdon', '1ewm', '5rz', '8j09zutxwt', '9khv', '20buildingsnj', '1', '20emergencynorth', '4', '20failureasiarightways', 'vz1irh0nmm', '163', '1xuebfa', 'w0a1mjorhy', '20firepeoriawhat', '5r4xoqz', '20fall', '6oaniqi', 'r3pddjpiee', '20servicesalaska', '8kj1wdaigj', '45', '25', '20disasterleitchfield', 'o9dzgzqemf', '9xno6yz', '6ce1vwovhs', '5w2l2u', '000', '8902je', '_chelsdelong12', '13', '8fvqrizoux', '3n', '163', '2z2htdjqzd', '2hbli5', 'h5epx2d1ga', '2s95', '20plannagpurgovt', 'rs40000cr', '3_6_12', '2oopi', '6mmgl', '1ildkil', '8x5tbe0', '1998', '2i', '3', 'm00nf00l', '3xg7fy', '150', '0yaxrjicrr', '66', '20accident', '5hauk35', '358', '20planmadison', '15', '0aivrbr', '5l3b1ae', '7kgn', '20baggingwwe', '2k15', 'ep18', 'mr5bi4kd82', 'm151a1', 'm416', '9rryaylgyy', 'nm83johluu', '1d', '6mse1n', '8bxld', '20bombingearth', '911bombing', 'vn73o4sgzj', '20stormworldwidenew', '5', '20collapsemum', 'pw5dst9roz', 'r4yzhxk7lw', '20bagscharlotte', '07', '9r', '20bagusphoto', 'a9bnlse6qb', '91juh', '20stormroom', '234currently', '5zljgl', 'cy0ciu2u1c', '5amnmd', '9vsrt4g', '9tg7a5oqfp', 's01e09', '20failurevì_sterì', '7', '3ac5wuy1r0', '3nkculgvmw', '00cy9vxeff', '4taiji', '20fireshead', '3nqs', '3yu26v19zh', '35qwnglkos', '3k3l', '9', 'ee8rpoahpk', '20plancalgary', 'ha5boppejy', '20buildingsgreenpoint', '4qtpk9', '20serviceskodiak', '_4', '20bangwhy', '877', 'n6ahgfmudt', '20disasterwashington', '6exs23muy3', 'l9idherotj', '9tb82zmr2x', '039', '13000', '6yx1r', '0ufp', '9og', '8r5vpaoo5z', '75drj', '1', '20zonet', '20bombroadsideif', '20baggingsydney', '43', '97', '63', '2am', '20firesas', '1bb4xaz', '29', '63rd', 'zz5udilrea', '0', '20burningquincy', '17', '20bombingturkish', '6wrkl1e', '2fdpdaz', 'k8ughv2aif', '20buildingstucson', '54kfa9q', 'q4q8xsyzob', 'f56v61ampt', '20bombnigeria16yr', 'h3sxfv5mtc', 'qj3pvgavn7', 'ad38kwoglh', '99x', '20burningi', 'fk1vyh5qlk', '20firesportland', '8qv7n', '16', 'au3dbci7nf', '62t7', '20firesmoke', 'z6ee1jvhni', '097', '04', '20bagsswaning', '3q4', '20burninghttp', '7xd8w5y', '20bagginghuber', '9pmleb', '20respondersusafirst', '0t9yd557ry', '31tgtlz3ya', 'c7rco2emwf', '20bagsmens', '5wi9t', 'gx1otoh8sj', 'my8q1uwijn', '20bagsfife', '1lgkc', '20bagcheck', 'fb8snrg4hu', 'ao4ju9vmmf', '9mgw7hn', '060', '1028', '3', 'pf8dxwibdp', 'p1amginsys', '6pagjqfbzk', '1gaynxz', 'p93s2rfhx6', 'g3', '15000270653', '20firested', '6bmie', '20fallcurrently', '3fh', 'j2erzbmjqd', '233liveonline', 'io7kuug1uq', '617', 's0vgtkhw7v', '0vqtpz0', '20plansomewhere', '9xwpvmk', '20planm', '101', '4xaluh', 'o8y1sul4ow', '4cpnbbzkzg', '956it', 'g7', 'g20', '123127', '825133self', '8jxql8cv8z', '70', '7ybjae', '14', 'su4zvwadj7', '63', '20firehow', '5vd8yd', '1976', 'y678xsnvj6', '1h', 'gg0dzsvbz7', '91arcdw', '20servicesbrooklyn', '1q6ccffzv6', '9au', '20respondersfirst', '3oionqlfql', '1', 'zy3hpdjnwg', 'gz27audyha', 'p4ekgc9sig', '736324', '73', '990062shame', '1xssvgimvb', '06jst', '6aug', '12jst', '18jst', 'l6jbjaj8dm', 'n15b', '7psxp', '159', '43ewj', '7yjy', '20uplos', '8bqjtp6id5', '8kjs7zqajs', '11', 'k6uetsnlht', '19', '20bombersaudi', '9vupg', '28', '21', 'to9viqoofv', '3', '20wavenebraska', '8jio', '20murdererusa', '1tjndps', '21b6skpdur', '3sytj7', '2u1up3', '3h9tqrm', '6sczj', '20responderstexas', '7fcx8iz', '20bagsitting', '3zsptd', '5elbrv1', '1145', '45', '5', 'q4l7dg56jm', '1ex0ps', '5oqhq8quqv', '20accidentcanadadtn', 'm9ig3wq8lq', 'u30n3ffx8y', '26seeing', '20upi', 'ud7xobyua1', 'ae9cpiexak', 'yi3oivk2x4', '7g', '20bangphiladelphia', '77ciwxabva', '20truckevening', '7cmf3noync', '0ginwza', '20emergencywipp', 'j3x0doy7r3', '513', 'e4wk8uri8a', '7bjgl', '10muey8pxj', '5uoahw', '7ennullkzm', '777', '239', 'j8tyt1xrrk', '9d4nazoi94', 'hr88cwxpgz', '2ijs', '69mlhfefhr', '1', 'm8mvdspjp7', '10', '7buts', '4ep1', '4', '9', '0', '0r03c6njli', '1ti1nm', '0btniwagt1', '3oqela', '4h8', '6gsamy6mts', '140920', '150718', 'y7o55by36f', '5jjaj1', '6ffnyd', '1he4ufawzm', '73km', 'i6lmccclv5', '14g', '7zb9gm5z0h', '1843', '458dtr3ulx', '20planreddithttp', 'f7ljwxj5jp', '1rpohu', 'oi6cmagasi', '20firesa', '7o9ab2c', '20upcosmic', '1buf0xm53d', '4k8olzv9bv', '9lo0hzwjpz', '5zdbtktww7', '01', '20falli', 'ma3route', '434', 'cy1lfenyv8', '326', '20upwherever', '20bombinggccalleged', '6x1n2gq', '215', 'e1wrvyzfkv', '20fallnycok', '20accidentisraeli', '42mawzb8t9', 'o6onsjhcsd', 'p2', '8zxw1oh', '93infxzhx0', '15901', 'k14q8chwkp', '1', '20truckit', '7sxjg', '9zq2q', '0wxhe5', '30pcs', '12mm', '3', '60aoni', '732vrtt', '9z9hsmiavd', 'e2hltyyfak', '4ay', '1pflm532mg', '58qrugzvg0', 'f8gvwkfqox', '3xleak', 'ph0tos', '19yrs', '0sed', '05yq', '3o', '9viibxgjav', '9cp', '11', '4t5n0o', '11', '9oq', '0pik', 'o5xlxmkoyq', '1q', '20servicessydneyservices', 'bl59fw4sys', '20upìït', '307558', '81', '403118hey', '2fenu1syu6', '2v', '76', 'a2tiivnjdy', 'fw2xifj6ec', 'g2uimbekge', 'xh4dz1gpyw', 'g0hsyh7yav', '4i2wp5', '2zgvslox5p', '9edofc', '20baggingìït', '982988', '261624', '20truckunited', '450', '8gtrvece1n', '7xq8jrtl7i', 'j90dt2qnxb', '5hh41ew', '20plancalgarystorm', '93iaeec26t', '612bsbvw8k', '20failureberlin', '1', '87h5mba3n1', '0wcwpx', '20murderrealville', '10000', 'gv84wnhb7s', '33fbr25t1o', '3waegpi', '65', '9h0ym9ofsv', 'm9yda5k6jf', '20stormel', '7vmz', '7chicago', '6un7xc9sve', '1', '5thkrbh', 'y9w0v6te9o', '20upthis', '20bangi', '1j9aeux', '6vja8r4yxa', '9ugus2', '20fireslos', '70', '2ri0v', '20bagsi', 'p4zfxdnbch', '20bombernigeriasuicide', '2t910b', 'i4fz75utnh', 'h6amecx5k7', 'b8iwrdxcm0', '1600', '0uriz', '02pm', 'cf9e6tu3g7', '5xlsu', '20fireswedenshootings', '666canberra', 't4fvvnrpc5', '0zznbvfuvo', 'ca1st', '4', '20disasterhammersmith', '20firebrisbane', '4h46csz', '0mawmn', '138', 'rg4jishybs', 'r4kheh7iaf', 'gx9skuau9j', '1w58ehv9s1', 'p8', 'ih0hni3l', '3os54tn', '4', '1wefpqd', '5jztmcb', '41', '8', '77', 'lq4lxgs2xu', '8cakdrw', 'fs012trudg', '20emergencycolombianueva', '4ytzmfb', '9b4k2rv', 'p96rgbbayl', '59u2nnm', 'tm9zbhjcyf', '69', '69', '9a32pi', 'e2wgreicmz', '3fd4lf', '2sdmichb2z', '20reactorsomecity', '7', 'm27329', '1236', '20bangwandsworth', '4d9cd4mnvh', '6bex', '925', 'r1354', 'd12r8xpshy', '0vts', '1qw2p', '3945', '5l9ds', '8f1vzt', 'o1smuh2unn', '6wgiuqh', '20firestwittervillecollection', 'qd3dssfwue', '20fall627', '2', 'x8moyevjsj', '99', '8qqys0v', 'tu6scrsxvg', '4jbq05', '20fire', '38', '58un8n', '06w', '20stormatlanta', '82ndabndiv', '8m', '7dthj', '44', '414510', '942499ibrahimmisau', '5zcje7arci', 'gl3c1vc88p', '8392', 'so81ab3a1x', '1zcvau', '5g', '0dwkpc', '20bagpaignton', '3', '4lwvqsw', 'ur7fexszg4', 'wb8awoblcl', '3', '15so', '9azwd', '6nuvytu', '1fhrrhcimh', '4jk', 'g5zsru0zvq', '20wavefrisco', '20buildingsah', '8t36hwgoqd', '20baggingatl', '0l', 'v6', 'c8uxkizwm6', '9r16u', '20disasterhome', '22', '20fires28', '1895', '9pt', '0zwgxu', 'ef4swp9sxz', 'nb7maaaofs', 'j9lpdrxcde', '20murdererdundee', '20fireswhen', '20wavekarachi', '84q7vii', '7', 'u2kwof3wtj', '50shadezofgrey', 'p45perez', '20reactorse', 'x9cuihib5n', '20zone', 'mg5eajelul', '9an', '23e', '49e', '650', '559', '957thegame', '20upguildford', '0yzgw9zbhr', '2', '0vdbv', '45', '20firesselangorcalifornia', '7te5', '411', '2fyoy', '6wja', '20murdererearth', '5bm1dg', '4versions', 'w6o0uizf8p', 'o0ltqdjbqe', 'mo9wptyqkp', '20firescampsite', '20bombingafter', '350', 'ko0oz3ryfg', '8m', '4vj', 'ut7r2ixrjq', 'v3z96ydmvd', '2i5', '9qa2', '20accidentbangalore', 'p64xrvgjik', 'yx1ukbmtqb', '7', '20collapsebuscame', '2', '0ih05a9', 'he7q7h3nzf', 'k3pnnktlxh', '399x', '20fireoklahoma', 'i5', '43rd', 'ct9ejxolpu', 'sb5r7shccj', '20bangbedford', '16', '5z', '2wi', 'gi2p9tuvbi', 'db5', '1mc3irk', '6ysxghc8gz', '0t8vqkeari', '20respondersnashville', '0wye', 'g0r3zr1nqj', 'fl8gci84aj', '3l1', '1999', 'aq5zlim7l4', '9jdq71a', '6rksp6', 'b3x1wqzaor', '4y4ytwhd74', '8p', 'c89h', '210', '1ijya', '9dflv6ynqr', '9', '6qdi9um', 'uu64wfg17m', '1t3w0j', '20upl', 's2g', '20bombrecap', '6jzcedayrg', 'n2bcf4m64v', '8q4j', '6gsrb', '76zqkxg', '20wavealbuquerque', '6', '81hvv3n3rs', '24', '54fidfn', '8t', '20servicesnevada', '3p', '4x', '20collapseukaustralia', '6fynermusg', '23km', 'kf0qybkzol', '20upscotland', '369', '2bmcfx8', '7y2gnva2ev', 'a1a', '9dwyjqvfy4', '20murderleicester', 'd1ff3r3nt1sg00d', '5mizm', '99fwkcx', '4', '85g1pcccxg', '8acdf4zui6', '7', '0tslqjokvh', '20bangfairgrounds', '20reactorjohannesburg', '74', 'vl5tbr3wbr', '0x8jaqtowm', 'm1rosi2wcs', '709', 'w3esx6ud8t', '7va3s', '0efg', '4w', '1qhjvfh', '97343oregon', 'p0gos5urxg', 'hk9yf72ova', '20firesclimate', 'k0qtl8aodh', '7x9y7', '400t', 'e0pi0c54ff', '20buildings', '03l7nwqdje', 'y518jyrzav', '9ho', '0i', '70', '20stormd', '9ckgggyvou', 'u0vdbrxfia', '2ppzgpxybi', 'ds9khkffwc', '5fernandez', '18azai', 'dj1lwznieh', 'i9mxxkzhbl', 'm203ul6o7p', '15', '7qr', '8q', '55436', '1950', '3sq0y', 'c2x0qokgly', '5vkmsy', 'nr8jjmpmos', '20upkisumuloner', '6wvbz', '20firetaken', '2bepqn', '8gf7m', '8ae2ifr', '20accidentmumbai', 'wq3wjsgphl', 'i405', 'us101', 'js9ehp88wq', '20upgreensboro', 'b24fowler', '0406', '7nwrot', '70', '7z6cwwl', '20buildingsplease', 'fe9hivfmxq', 'q8ivrzojzv', '20bombworldwidepic', '6j', '1funemes7m', '7qcawo', '20accidentindonesia', '5cchoj0', '58', '0000', '2015061', '3', '20bangwho', '20truckniagara', '56plo', '9zvd2h7', '1uo1atrbbj', '78734', '20bangkenyak_matako_bot', '1', '2xmdidgpnr', 'k44tl3rfmy', '0honoti', '83bmprwh7w', '_2', 'ny3l1orzqb', '4vpnbv', '20wavejackson', 'ih0awv3l1o', '20murderoh', '20stormtorontothunder', '20firescape', '24zsqh', 'o9a26fn27y', 'f2tqmfh1yb', 'i6zqlk2puz', '3xdvx', '6jaf', '02', '33', '2nsmejj', '3tj8zjin21', '87kls', '707762', '014213aannnnd', 'p1jlurgwbu', '5mm44', 'ds76lozlsu', '38xmas', '370', '1texr', '20planlos', '0fnumxf', 'a5gnzbusqq', '2cutk1c', '20failure', '1', '123', '223347', '80', '827834', 'd7m9kgmpji', '8zy9n6fx9t', '9masbvz', '20planatlanta', '9ed10e', '7sdn6ev', '20murderhe', '37qpssnacv', '92pk0hujd8', '1', '5wfxbaqmbk', '3jxbiej', '20firessydney', '7nhwz3e', 'y2mt6v13e8', '5i', '2izkz', '13', '6ckd', '20emergencyjersey', '76', '20plannorth', '36chambers', '20bangkenyaykelquiban', '20murderbirmingham', '8gid', 'm3', '10km', '0w12pwpsfx', '1sft4i', 'j7hukhwmal', '1eb2dauyfn', '38745', '2cy9il', '2j', 'pp15000266858', '911', '950xijhnvh', '20upvancouver', '42', '48zg5ynebn', '20waveliverpool', 'qu8s89pvvt', '93dm6gnwwc', '77', '_797', 'z2vdgiyowf', '05ljo', '2be', '8oucm3r', 't8nz6h9zz4', '20zonedowntown', '08yzrq', '1', '4j4owj1', '0rjxuir', '9atj9vh', '6ruusqk', 'uc4j4jhvgr', '20firesbased', '5sekd7', '2r3ph', '32g', 'p7uhcb13qx', '1000', '60000', '42gw2i2q41', '0wzt', '20uplondon', '85vuf2', '1jhtz', '6148178684', '80726', '19558281179', '1382bigamist', '5tnv', '20disasternuclear', 'z7phpjtqud', '1km', 'x6el3ysycn', '3ipm5vh', '20upnew', '20zoneincognitozone', '2', 'ps2', 'bo3', '9', '0hw', '1979', '2017', '2019', '20upmanchester', '001', '6c', 'qn4zyisspo', '3vwp7wd56w', '20serviceswe', 'nv3uxv9imx', 'ej30ihrea9', '2g8', '9', '1', '3i6ygn', '9na', '4fxfllrien', 'i12nlsr8fk', '2099', 'ks111', '5zxpd', '02elqlopfk', '7jkuh5', 'ny35', '94', 'w192wkog1m', '5uyamdu', '0txrhys', '1mbtb68', '1aww8m', 'te2yerugsi', 'e4qonkzndz', '8', '1500', '8bsw', '0lmheaex9k', '0gwui', 'mv7ggglmvc', '20buildingsst', '14th', 'yh4r7ug21a', '141', 'm5', '60km', '20firepdxbe', '5vqu0', '3novices', '2i4eoggo5j', '20burningdenver', '7000', '9newsmornings', '20bomber19', '047821mosque', '51izpk', '91å', '20trucktrident', '90225', 'pp05etlk7t', '3ol8mhhpma', '71st', '7m3fqlx', 'oz6vlwwtnr', 'tj3ltpzfw1', '20disasterus3', '7', 'zm6vczqvwk', '6n', '6h', '4km', '45ybaj', 't4pv0nroov', '4', 'xb8nfxabum', '15', 'vt2aky5mgk', '6o', '1', '1975', 'ba4pusvjln', '4', '3ya4g', '5fea9yu', '1ybrk', '20bangenglish', '20serviceslondon', '3', '7qpg80ud7v', '18this', '0snplg', '16r', '12', '0jsbx', '4p10', '0', '5chktp', 'wx11d69gez', '0mtpr3s', '20servicessydney', 'z99pkjztrp', '56', '8jvqi9uspl', 'na2ey64vsg', 'gs50ddg1jy', '67', '4heed', '20up801', '20fireworcester', '9', '2', 'n6mcpgvwq2', 's8oinfgxyx', '20firesunited', 'n3vbtc6nca', '5lnidvobff', 'm5djllxozp', '2500', '20fireny', '6hkw5qlppt', '98', '250', '6l', 'v8', '5l', '20baggingnew', '8cdvm', '4axy', '2gljhvead9', '9huqn0h', '2zg935g', '52', '1ty', '11202demolition', '500', '8k0ja', 'fl09', 'ed1vpitswy', '6xsbddlziy', '7b2wf6ovfk', '34', '3cz', '3cz', '20murderi', 'ph2xli8nve', '22fuxhn7el', '1', '0rsverlztm', 'x17fubqbgg', '6rbu', '0ypwzur', '20spillnyc', '7laq18e', '1vmlfoo', '357', '4xnj9k7', '2young', '83199', '124', '434they', '0nl8cx', '6jl5keu', '8thctkw', '6e', '24', '4kbwpcmmbm', '1rreo2jg9u', '20buildingshero', 'be4', 'a2e6dcsk88', '9eh2lcqkxl', '17', 'ki9ehjhl8y', 'i7ap1mes8m', '2rtq9qmgpb', '9vev', '68', '61', '20bangkenyatarmineta3', '5dntx', '1cvegtizog', '20bomberhelsinkiislamic', '6k', '22nqpz', 'ne1', '50q8tk', '20fallny', 'xv3d9bpjhi', '81p71', '876', '1leq3', '_99', '1438', '70', '1erd2fpryp', '3ezyg', '50vdq7a1m5', 'qh6oxft9ir', '2x5', '6slh', '24', 'c5u9qsysej', '20upinverness', '3967', '20collapsevitì_ria', '5g', '1', '5zwose', '2016', '4egr', '21', '33', '0ap4g9y', '6hkca1dsna', '6agmkx2ww4', '150', 'os1wjrvx5c', '1', '20responderslong', '10k', '11am', 'g1nw99yj8u', '90630do', '2n1', '0', '7usulgq', '7', '8p', '0', '945hpa', '45m', '60m', '5ot9iew', '1xhsuewqn4', '4yd', 'm6lvkxl9ii', 'je86vetdxh', '1udz0nvoeh', '40hourfamine', '8g6', '0', '7seattle', 'r5live', '5', '20bombthe', '1940', '20collapseproud', 'jp9xyla3c5', '2005', '0x', '3nt', 'z16dtoqhhg', '304sometimes', 'x36', '05o', '36gccapaak', '6wkun', '627the', '7sp9c', '7o42rq', 'v6ijxccd2i', 'x3g2ox6k8r', '9b4zjugh7ydlb55iw', 'mh17', 'tt4kvmvujq', 'l0pmmtzlwp', '20reactorus', 'sy2whxt0k5', '20reactornuclear', 't1000s', 'xl61', '62', '74yfqxvak0', '6hl', '8zxn', '4t', '1p1mj', '45nds2', '1dw', '4izfdyc3cg', 'q6oxzq45ve', '3tcjnl', '4axg4b', '3om', '9xheos', 'yl67dkf4tb', '20reactorsalem', '98o2kc3a1z', '43sxg9z6xh', '0wratka2jl', '0tgc3', '0x', '4zqzgp', '0m1tw3datd', 'v1sfllowgh', '23', '23', '58ef2', 'sj57boksib', '0npzp', '8qa', '4', '9vp', '4ymlkp', '786', 'u7bbenxwyk', 'kg5plkedhr', '3dnq', 'm8', '16', '3', 'ca80', '125', '9', 'ai6kworbbt', '20upiowa', '25', '4umqh', '20firesalberta', '7', '20respondersaberdeenshireus', '1vi2rnbk2i', '04y', '20respondersroads', '1fm2f', '5', 'bb17', '20failurecanadaspacex', '9cssr', '20accidentpennsylvaniastrict', '6cz3bohrd4', '50', 'pc7s8nxj6q', '9xohmmlmdy', '20murdererwhite', '20reactorerr', '509', '20zonehow', '20wavesomewhere', 'b2yvlmpepr', '20buildingsmackay', '61', '231a', '10', '20buildingsmidwestif', 'ei9x4h8thm', '9jetl', 'u8hsrtrxmm', 'eo2f96wxpz', '3sth9lrbun', '4gcqz3', 'nh1news', '7jggqwbv6s', '7amj', '987vzx', '9nrux', '3zkcuz', '20murdererleaving', '8km', '3bwwnlsxhb', 'jb25fhke6q', '300m', 'lw2fglrgxb', '98oydj', '5p', '7986', '4', '_760', 'i2hhviumtm', '20fallbestcoast', '7fcqo6', '0yq', '8isote', 'ub1jzskmrc', '20stormmilky', 'i5k3vjicmg', '4e', '860', '757', '2y5morpugt', '20spillsan', '4cf2', '2opybg', '20bangneed', '1i19cuov7l', '97', 'k4h8cq7puo', '7x0maio', '2y9dnp5vtg', '6xul6dcosh', '66obqmximb', '70rhyu', '9h7wd', '5ce6', '20bangkenyakotolily_', '3', '39', '0', 'xn09mx6sxy', '370', '2oroyunym2', 'c9jnxz3dxc', '1978', '11', '20reactoreaubonne', '6sajfe3', '_21', 'ii4ewe1qir', 'h3vusqzyqo', '20bangkenyadaviesmutia', 'c1qxjweqqu', '0sowxry', '3q5py', '60s', '20falllivin', '610i', '20upfluffy', 'ep03', 'j2bone', '8400', 'ft7orfa52y', 'dv4mmlso1i', '9nm', '6c27', 'xe0ee1fzfh', '2zgysa', '4', '9jojop', '1bkzmp', '68ojb', '20stormthe', '85wf', '20disasterjonesboro', 'tb8gzembxu', '73buacz', '20buildingsvictoria', '4cv', 'dg0bgzecgm', '20reactornew', '29ub', '0zex', 'um5icn5et2', '8kpkt2k', '33', '4hcywrwn6l', '2twxz6vxbx', 'ms8e8mnddb', '40nqipn', '20firenji', '6f9afql6wp', '7ml2nzj', 'p8', '5nwcmkqu', '20firereading', '6dkoez', '67', '92', '1967', '20firesmadridin', '48tpnmbjvg', '20spillplains', '3lcw', '20stormnew', 'pz56zjssft', '304people', 'pq3ipugkuy', '1', 'zt5ofbiwtd', '20upjuly', '11th', '20emergencyukraine', 'ul5xdblmbk', '20burningepic', '7yx8ld1', '2025', 'm9k08oazve', 'sk398', 'ra2majpkq2', 'y7ghhyk05b', '20fireswolmers', '0ymf6txfch', '3i3d2ngent', '2he', 'ûª93', '8xg', '4n', '4yygb', 'o7yyjlukfj', '4os', '20waveheat', '10', 'pq0d7mh3qr', 'a6ro9bmxcy', '82rfifs', '4everever', '8mldsn', '2', '70u2bpm', 'b00hr', '7fq', 'a6wmbnr51s', 'h2osoultech', '8xixbspot8', '3rthx', '20firesso', 'o1enhjrkjd', 'q5qcoao8jp', '36b', '20emergencywashington', '2f', '20serviceslos', 'z5grlrey6v', '6luh', '20emergencylas', '20burningbradford', '86zb', 'm1xykecrzr', '0mnpcer9no', 'rb2s0jmlej', '9asc1hhfnj', '3snyoohseq', '0zjxvqn', '4gwd1', '20murdererkach', '1994', '57xvb', '5qeuvhh', '8rwn2f', '2208', '5uecmcv2pk', '17', '71vdjhjnwv', '8zmv4g', '11dvqjvxpo', 'lr4btvueom', '1964', '20collapsewiltshirewhat', '90s', '20servicesusa', '311', '7jfreteii4', '313', 'nu6wrp716d', '5yb01', '20accidenthyderabad', 'i7kztevb2v', '0svnbm', '6siirlnv6z', '5cm0lfzhxn', '0squ3lg', 'c6lgtotvsf', '6t', 'm5sbfrrsn7', '6q6w442', '4j244', '0nfx', '9yev', '2okscwyohc', '20buildingsepic', '8', 'kx8cu4s8t1', '2d8a', '100nd', '4h', '3', '3vfkedgrso', '6m0ynjwbc9', '1lsqo', '20disastertop', '20fallnigeriaphotographer', '20failurestateless', '7bevuje5ep', 'pu7c4hhbxj', '1665', 'r4wgxra59m', '4rtpjrhsqe', '6x0xhlbxji', '_301dc', 'x2', 'um3wtl5r7k', '2lqyxzq5dn', '9kjzl', '1l5kt', 'ny1', 'ny1burst', 'w7siidujoh', 'w2ixt1k0ab', 'm4jdzmgjow', 'n0uhasfkbv', '6v6dnc', '73rd', '3mbap', 'rp2dxfkhdq', '1', 'yr67ugesrm', '76t', '20stormusu', '6nf', '97', '_5499', '2ashes', '7ovhfj', '4zpdvke', '7wi', 'fz8ytwqkwv', '0p', '2mwc9ywjzy', '20emergencyi', 'v57nugmgkt', '1', 'p769eo49fj', '20disastercanada', '7414229', '0', '20fallif', '0802i', 'i2el5acrrw', '8d', '3pitm', '4e2gjmvrvi', '2wndmj', '6je5', '99', 'v0yrfh9dkc', '8p', '5u', '20bagging401', '87', '11c', '1', '401ks', '23rd', '4x3d', '4xydvzk', '2', 'ex4fnjjl6h', '6czc', '1rockstar62', '1978', 'm2yuxnqlqy', 'v8gkkfmfxt', '0xpl40', '35au3pc', '4vhfn7b', '20disasterashford', '6qc8whdizy', '5d', '11000', '2m', '45gys', 'k0y7xfxmxa', '20bangkenyakijima_matako', '20firessacramento', '8qhyai', '6gldwx71da', '5wo', '9iyh', 'us0qqqhqvj', '16550', 'l0b14sj7jb', '20baggingevery', '6craekc9wb', '8jzt', '18sbm0', '91be', '4during', '320', 'e14epzhoth', '22a9d5do6q', '1997', '20firesplanet', '0szwlwl9qu', '9g', '6pm', '2k', '92fea3u', '3gl', '541hhk0', 'je6zjwh5ub', '0xh758onup', '7cglqw', '4', '20bagging302', '815', 'zk69ugxmt8', '4cog0otiwn', '254', 'au5jwgt0ar', '3o609u', '9qibvv', '20bomberworldwide17', 'y217ceeemd', '3an', '4playthursdays', '1716', 'cq7jj6yjfz', '688', 'y7peto0dx2', '20bombingbelgiumthe', '8', '8jamfiu', '2', '1', '2left', '7g', 'fz1haej255', '4', '290', '4yu5sy1cui', '4', '23', '10m', '2baxg1wdpp', 'rt_4_a_mention', '20collapsei', '9iqswp3', '20bagcalifornia', '26', 'pw78nbljky', '924', '0cjvf', '20009don', '0akfvsm', 'mj8rezoxlj', '1tcnml', '0h7oua1pns', '171', '1r3tq5', '61st', '496d', '4virxkgmpc', 'mw9ambgafq', '20plannashville', 'dl60ja06tw', '9yurzy', '1775', 'g5do2x6226', '20accidentsri', '6', '45cmaqf8ns', '2jr3yo55dr', 'p1wmkxa9d8', '6nft', 'yi30zgizsw', '2jgvhw7yzs', '4p51u', 'j4fsdpfa63', '0e5gbcc', '9newsbrisbane', '9newsgoldcoast', 'kd3qsakbi5', 'n6rbnhmtd4', '9y0paj8sxd', '5', '6liaxh', '55jr66plov', 'k2bzuatuks', '4success', '20disastermarbella', '7otgisw', '20wavemaricopa', '1023', 'v8aftd9zez', '5kh', '7gbe', 'u9lvvlzhye', '57pq3yx', '5b7qt2yxda', '55', 'zw5jp46v5k', '2b', '3vprixq', '20firenigeria', '22pm', '09wke9g', '2', '92101more', 'u52rw9ji2r', 'gx75w3q9ye', '20bagnyclouis', '5czqjrl', '8esmhy', '20dncthr4d', '20bombingi', '1970s', '1890', '8i1ev', 'm9pxto2kww', '70', '100000', '828', '864', '803', '9gu', 'sr14', '1700', '3mwj', '2', '4', '7grq', '0vecannon', 'fz5ew4ihmb', '9xqm', '4fyzp4', 'f4xnplio5s', 'nh5pkfbfqm', '20bagif', 'vz640xoswj', 'm2hpnoak8b', '4', '208', '267', '6773', '0c', '20burningbombardment', '20spillsyd', '9f5', '9nly2tovud', '20emergencyemergency', '4ssuyhkgrb', '2k', '119000', '966', 'eu8jypizsd', 'v5ogr3f5n9', '501', 'pa5sslefec', '20accidentthrissurhorrible', '6ffylajwps', '20fireslansdale', '6q3', '279', '00end', '4rkl8mn', '20trucklost', '221', '20servicesbirmingham', '01', '80m', '9jqoznr', '328szfletz', '20truckwoodcreek', '4uv7i', '660', 'bn7xpzqdm0', '0c4g0m', '7rgvkzc', '84boi', '2ppk', '20emergencyla', '4', 'q99', '724gq5ebqz', 'h01j9pirie', '20planu', 'b231ul1o1k', '8', '6', '0hsrp4s', '4fake', '20plan', 'h20', 'pe2d3hcsni', '20zonein', '1epiyenqyl', '3enyndxppm', '7jmkan', 'oz1ds3xu0d', '4ead8v', '3zujx', '550', '5040', '0r', '1979', '2', 'h09nydbzov', '20firesindiana', '4mtr', '3ahgkq', '5kfovovjso', '20firestexas', '44', '01', 'n3ow73oasw', 'gs9bmplbhh', '7itl', '63hf', '17egmlni80', 'nz7ackrrji', '4gwi', '5k7xuw', '1', '18heard', '5sos', '5sos', '1tw1', '20accidentfinancial', '2vwr3j', '6nqru2q5tz', '3460', '20firesiphone', '499212', '153', '011072', '3xs', '10news', '7a68i0', '40e', '8h2kctfb8i', '5ng0fzpvds', '302yo', '8000', '4m5uheyfdo', '20storm3rd', '5dfa2rv', '6rbj', '4d6qo', '0nq6fd', '4ublogeurope', '5000', '1pxpoqktjo', '1gskvo', '20upcatfish', '7aze4iogme', 'x5yeuylt1x', '2ugrmd1z1n', 'ap9jbrpmqg', 'q9lxo4qkji', '20bombglobal16yr', '2ok', '20emergencylp', 'x5xumtoeke', '16', '68ievn', 'ld5p1sia2n', '2006', '6jqn8ug', '111020', '1pl', '20spilllas', '2oax1p', '2500fps', '45twhj0l6m', '6m', '5ujlfcv', 'ub3woz2ut1', '20stormhow', '0yl3yt4ylh', '7vcln', '150', '17th', '5qbqwl', '4jk5', '1', '20bangkenyatkyonly1fmk', '79jni', '4eivba', '73x', 'nu0d3uannz', '30', '20disasteron', '3vfyz', '9oil8r2', '20fireslatina', 'jk7npdpwro', '6xysdn2xz0', '6', 'i5cdtd8ftj', '8baf', 'bz07c9wthx', '15', 'r8ceprqxle', '5live', 'fp64yosjwx', '20emergencyvirginia', 'rd10ex6hvt', '87efcbiczm', 'k8bexkgwr2', '3dfbca', '1yixfg1hdy', '7v24ge9', 'm75dnf2xyg', '5jlep', '20reactorfort', 'as10004', '6wadnmstov', '0c', 't5agps7t2b', '20spillcorpus', '4dbtsu', '5', '2liwkjybe9', '2040', '1st', '4wat', '20bombgidipic', '718kcy0', '9pqyx4xool', '0fs9ksv5xk', 'i580', 'in8lys7v5l', '20reactorcheck', '3oxquik', '5t7', '800', '4', '3ife1zsop7', '3nnf', 'q2', '2y2wzk1frm', 'pc8bvuflfj', '20reactorparis', 'em5opytbpg', '914', '_1', '7nagdsadwp', '2b', '8ck7', '20bagsyou', 'u3wao8asfg', 'hc6hzs4wsi', '0keh2treny', '20disasterusacoming', '3pljx25', 'e2dbcpwd9u', '7pgepv', '8ha1r', '2', 'qp6q8rs8on', '7vcfs6', '91', '6mq6njf', 'ik4len', '20zonethey', '7k5shaiqiw', 'ej2ghnafhy', '7l', '20spillhannah', '0853', '36wdhm', '4ttdx', '20spilllos', '5ub8plf', 'av2jsjfftc', '70', '9fsx1', 'f5miuhqaby', '4ftzjk94dt', '20failurecimahi', '3a', '20murderertennessee', '615', '17oamt', '75vlsw85gi', '3us2ejs', '3u6mdlk7di', '4arwwrzpsr', '9yfmp8', '20bombingistanbulinfographic', '20baggingmi8', '20trucktallahassee', '9jo', '2loyk', '8', '5xfpv2d', '5hkao', '20baggingbody', '6vp', 'n5vrffrbo3', '1', '20accidenthavenford', '80', 'ta1yqclpsc', '1hexy', '20bangim', '828', '704', '5xlywbn', '20bagschild', '7l9qazljvg', 'q0hsyfrwec', '0zx4x', '5mjzjnkpfn', '20fall36', '38i', '3hoikdmocb', '3pg3t0o', '4jnztt', 'fx0w2sq05f', '20failurephoto', '5vmzoj', '250000', '86a', 'u9x3perxco', '20updid', '01yoh', 'pg4y3i5ciu', '20buildingsselma2oaklanddudes', '72', 'h1xch54kd3', '4jno677zkv', '0siris', 't4axz7kc3s', '14pw9tg', '5n4husewly', '1k8zz', '1c', '547', 'nf46paytvw', '67tjn9egyk', '00mrkjm', '20planaugusta', '5bc', '20emergencylittleton', '3ln8trhw6x', '52611', 'a3dsmbqkwu', '8p', '20stormmarrakech', '2lbtshxi3c', '0jmkdtcymj', '1', '4oa6swlxmr', '20bagone', '2b', '8c3fploxcr', '9xun2k', '5ydb4s13pf', '97yh', '24', '20murderanother', '8gb2a', '6ieldg', '631838', '79', '55807ink', '3rtoz1j', '1986', '20collapseplaya', '7nu6kl', '20bomberis', 'dn5buo7gsk', '20disastermì', '3oo', 'rm6cnzkszl', '4v1s', '5qngjj', '5ak', 'b0zwi0qptu', '0', '20planalexandria', '7zlsumiess', '01n7q', 'yg32yb2jdy', 'ex6jzqj3ni', '6gt', '0rtkffj', '934', '1duvdk', '0w2yw', '2000', '712c', '9', '1c5x', '15uhey', '1b7']\n",
            "0 words have punctuation characters: []\n"
          ]
        }
      ]
    },
    {
      "cell_type": "markdown",
      "metadata": {
        "id": "4LZMjKFjpv0l"
      },
      "source": [
        "## Q7 (4pt)\n",
        "\n",
        "In scikit-learn, we can evaluate the process of counting matrices using CountVectorizer. CountVectorizer, like other inheritors of the _VectorizerMixin, has arguments tokenizer and preprocessor. The preprocessor is applied at the very beginning to each line of your dataset, while the tokenizer should take a string and return tokens.\n",
        "\n",
        "Let's write a custom tokenizer that will do everything we need:\n",
        "\n",
        "1. Convert all letters to lowercase.\n",
        "2. Split the text into tokens using *TweetTokenizer* from the *nltk* package.\n",
        "3. Remove all tokens that contain non-Latin characters, except for emojies (we'll consider tokens containing only punctuation and at least one parenthesis as emoticons) and hashtags that contain only Latin letters after the initial #.\n",
        "4. Remove all tokens listed in nltk.corpus.stopwords.words('english').\n",
        "5. Perform stemming using *SnowballStemmer.*\n",
        "\n",
        "Demonstrate the operation of your function on the first text in the training dataset. You can access it by *.iloc[0]*\n",
        "\n",
        "Usefull site on regular expressions: https://regex101.com/"
      ]
    },
    {
      "cell_type": "code",
      "source": [
        "import nltk\n",
        "from nltk.corpus import stopwords\n",
        "from nltk.stem import SnowballStemmer"
      ],
      "metadata": {
        "id": "CHQ24NRu_HK8"
      },
      "execution_count": null,
      "outputs": []
    },
    {
      "cell_type": "code",
      "source": [
        "nltk.download('stopwords')"
      ],
      "metadata": {
        "id": "c4g5cwrr_J8J"
      },
      "execution_count": null,
      "outputs": []
    },
    {
      "cell_type": "code",
      "source": [
        "stemmer = SnowballStemmer('english')"
      ],
      "metadata": {
        "id": "zDpKCWTA_WJ7"
      },
      "execution_count": null,
      "outputs": []
    },
    {
      "cell_type": "code",
      "source": [],
      "metadata": {
        "id": "FZoh4WK6BRnR"
      },
      "execution_count": null,
      "outputs": []
    },
    {
      "cell_type": "code",
      "source": [
        "def custom_tokenizer(text):\n",
        "    # Lowercase transformation\n",
        "    text =\n",
        "\n",
        "    # Tokenize using TweetTokenizer\n",
        "    tokens =\n",
        "\n",
        "    # Filter tokens based on criteria\n",
        "    filtered_tokens = []\n",
        "    for token in tokens:\n",
        "        # Keep tokens that contain only Latin characters, \"smileys\", or valid hashtags\n",
        "\n",
        "\n",
        "    # Remove stopwords\n",
        "    filtered_tokens =\n",
        "\n",
        "    # Perform stemming\n",
        "    stemmed_tokens =\n",
        "\n",
        "    return stemmed_tokens"
      ],
      "metadata": {
        "id": "U9etFsDw_cJ5"
      },
      "execution_count": null,
      "outputs": []
    },
    {
      "cell_type": "code",
      "source": [],
      "metadata": {
        "id": "fGQWVa56B8Kv"
      },
      "execution_count": null,
      "outputs": []
    },
    {
      "cell_type": "markdown",
      "metadata": {
        "id": "zpQWnpltpv0m"
      },
      "source": [
        "## Q8 (2pt)\n",
        "\n",
        "1. Apply *CountVectorizer* with your tokenizer to the Train and Validation sets.\n",
        "2. Train *LogisticRegression* on the features obtained.\n",
        "3. Calculate f1-score on the validation set."
      ]
    },
    {
      "cell_type": "code",
      "source": [],
      "metadata": {
        "id": "yeFTsrIxP5pp"
      },
      "execution_count": null,
      "outputs": []
    },
    {
      "cell_type": "code",
      "source": [],
      "metadata": {
        "id": "cXKe4bh7QMBS"
      },
      "execution_count": null,
      "outputs": []
    },
    {
      "cell_type": "code",
      "source": [],
      "metadata": {
        "id": "s1e7VFTXQMBV"
      },
      "execution_count": null,
      "outputs": []
    },
    {
      "cell_type": "code",
      "source": [],
      "metadata": {
        "id": "Pz7vkG0VQMBW"
      },
      "execution_count": null,
      "outputs": []
    },
    {
      "cell_type": "code",
      "source": [],
      "metadata": {
        "id": "mxODuaZpQhJX"
      },
      "execution_count": null,
      "outputs": []
    },
    {
      "cell_type": "code",
      "source": [],
      "metadata": {
        "id": "I1A_3_DSQtXP"
      },
      "execution_count": null,
      "outputs": []
    },
    {
      "cell_type": "code",
      "source": [],
      "metadata": {
        "id": "FNYWE2sURC3P"
      },
      "execution_count": null,
      "outputs": []
    },
    {
      "cell_type": "code",
      "source": [
        "from sklearn.linear_model import LogisticRegression"
      ],
      "metadata": {
        "id": "v7XAbe0SRPgt"
      },
      "execution_count": null,
      "outputs": []
    },
    {
      "cell_type": "code",
      "source": [],
      "metadata": {
        "id": "zkM7mhB_RPgw"
      },
      "execution_count": null,
      "outputs": []
    },
    {
      "cell_type": "code",
      "source": [],
      "metadata": {
        "id": "h2fYwhfdRPgx"
      },
      "execution_count": null,
      "outputs": []
    },
    {
      "cell_type": "code",
      "source": [],
      "metadata": {
        "id": "behCjooVRPgy"
      },
      "execution_count": null,
      "outputs": []
    },
    {
      "cell_type": "markdown",
      "metadata": {
        "id": "DLDBbCk_pv0m"
      },
      "source": [
        "## Q9 (2pt)\n",
        "\n",
        "1. Repeat Q8, but with a TF-IDF vectorizer. How did the quality change?\n",
        "\n",
        "2. We can further reduce the size of our matrix by discarding *df* values close to one. Most likely, such words do not carry much information about the category since they occur quite frequently. Limit the maximum df in the parameters of TfIdfVectorizer, set the upper limit to 0.9. How did the matrix size change, and how did the quality change?\n",
        "\n",
        "3. We can also reduce the size of the matrix by removing words with very small *df* values. Were you able to improve the quality by doing this?"
      ]
    },
    {
      "cell_type": "code",
      "source": [
        "from sklearn.feature_extraction.text import TfidfVectorizer"
      ],
      "metadata": {
        "id": "sMAA2hLOWef-"
      },
      "execution_count": null,
      "outputs": []
    },
    {
      "cell_type": "code",
      "source": [],
      "metadata": {
        "id": "zIuiSBc7Rsiw"
      },
      "execution_count": null,
      "outputs": []
    },
    {
      "cell_type": "code",
      "source": [],
      "metadata": {
        "id": "9CvelSouWmUI"
      },
      "execution_count": null,
      "outputs": []
    },
    {
      "cell_type": "code",
      "source": [],
      "metadata": {
        "id": "dvSASmIpWmUK"
      },
      "execution_count": null,
      "outputs": []
    },
    {
      "cell_type": "code",
      "source": [],
      "metadata": {
        "id": "gob0eJ33WmUL"
      },
      "execution_count": null,
      "outputs": []
    },
    {
      "cell_type": "code",
      "source": [],
      "metadata": {
        "id": "6qXxve1dWmUM"
      },
      "execution_count": null,
      "outputs": []
    },
    {
      "cell_type": "code",
      "source": [],
      "metadata": {
        "id": "kPGHQfABW8hQ"
      },
      "execution_count": null,
      "outputs": []
    },
    {
      "cell_type": "code",
      "source": [],
      "metadata": {
        "id": "6VbhC57NW85F"
      },
      "execution_count": null,
      "outputs": []
    },
    {
      "cell_type": "code",
      "source": [],
      "metadata": {
        "id": "4yqSDGrWW85H"
      },
      "execution_count": null,
      "outputs": []
    },
    {
      "cell_type": "code",
      "source": [],
      "metadata": {
        "id": "EgEhaKzcW85J"
      },
      "execution_count": null,
      "outputs": []
    },
    {
      "cell_type": "code",
      "source": [],
      "metadata": {
        "id": "iRMOYkUkW85M"
      },
      "execution_count": null,
      "outputs": []
    },
    {
      "cell_type": "markdown",
      "metadata": {
        "id": "dQX1FcJzpv0n"
      },
      "source": [
        "## Q10 (2pt)\n",
        "\n",
        "Evaluate the best model. The minimal value of f1-score on the Test data should be at least 0.75."
      ]
    },
    {
      "cell_type": "code",
      "source": [],
      "metadata": {
        "id": "nGLzBeA9RyP_"
      },
      "execution_count": null,
      "outputs": []
    },
    {
      "cell_type": "code",
      "source": [],
      "metadata": {
        "id": "9rkxZyq4ULUX"
      },
      "execution_count": null,
      "outputs": []
    },
    {
      "cell_type": "code",
      "source": [],
      "metadata": {
        "id": "6-3f7Qn8R9HZ"
      },
      "execution_count": null,
      "outputs": []
    },
    {
      "cell_type": "code",
      "source": [],
      "metadata": {
        "id": "hBsD_hr7SSFZ"
      },
      "execution_count": null,
      "outputs": []
    },
    {
      "cell_type": "code",
      "source": [],
      "metadata": {
        "id": "tZ2_HdhCUpVt"
      },
      "execution_count": null,
      "outputs": []
    },
    {
      "cell_type": "code",
      "source": [],
      "metadata": {
        "id": "mYPv9166Usyy"
      },
      "execution_count": null,
      "outputs": []
    },
    {
      "cell_type": "code",
      "source": [],
      "metadata": {
        "id": "VcGAgokZUsyz"
      },
      "execution_count": null,
      "outputs": []
    },
    {
      "cell_type": "code",
      "source": [],
      "metadata": {
        "id": "4OQUXRPsUsyz"
      },
      "execution_count": null,
      "outputs": []
    },
    {
      "cell_type": "code",
      "source": [],
      "metadata": {
        "id": "ZUbSP8YxUsy0"
      },
      "execution_count": null,
      "outputs": []
    },
    {
      "cell_type": "markdown",
      "source": [
        "## Q11 (2pt)\n",
        "Visualize the most important features."
      ],
      "metadata": {
        "id": "xhNq40sJwyUv"
      }
    },
    {
      "cell_type": "code",
      "source": [],
      "metadata": {
        "id": "yoi6yuSaUzjb"
      },
      "execution_count": null,
      "outputs": []
    }
  ],
  "metadata": {
    "kernelspec": {
      "display_name": "Python 3 (ipykernel)",
      "language": "python",
      "name": "python3"
    },
    "language_info": {
      "codemirror_mode": {
        "name": "ipython",
        "version": 3
      },
      "file_extension": ".py",
      "mimetype": "text/x-python",
      "name": "python",
      "nbconvert_exporter": "python",
      "pygments_lexer": "ipython3",
      "version": "3.8.5"
    },
    "colab": {
      "provenance": []
    }
  },
  "nbformat": 4,
  "nbformat_minor": 0
}