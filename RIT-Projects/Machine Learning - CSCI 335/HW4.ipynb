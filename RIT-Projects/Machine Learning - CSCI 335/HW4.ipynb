{
  "cells": [
    {
      "cell_type": "markdown",
      "metadata": {
        "id": "KlI_sPCTpv0V"
      },
      "source": [
        "# Homework 4: Text Classification"
      ]
    },
    {
      "cell_type": "markdown",
      "metadata": {
        "id": "NFcPdYN8pv0X"
      },
      "source": [
        "In this homework, you will work with a dataset composed of the posts from Tweetter. The goal is to identify if there is an emergency information in the tweet or not. This is a binary classification task.\n",
        "\n",
        "\\\n",
        "\n",
        "We will use a dataset from Kaggle contest: https://www.kaggle.com/competitions/nlp-getting-started/data Download train.csv and test.csv files. The code below will split the first file into train and validation sets."
      ]
    },
    {
      "cell_type": "code",
      "execution_count": 321,
      "metadata": {
        "id": "eh0GsHQdpv0Z"
      },
      "outputs": [],
      "source": [
        "import pandas as pd\n",
        "import matplotlib.pyplot as plt\n",
        "import numpy as np"
      ]
    },
    {
      "cell_type": "code",
      "execution_count": 322,
      "metadata": {
        "id": "Y_72DoMVpv0a"
      },
      "outputs": [],
      "source": [
        "data = pd.read_csv('train.csv')"
      ]
    },
    {
      "cell_type": "code",
      "execution_count": 323,
      "metadata": {
        "id": "EoaoUXuNpv0b",
        "colab": {
          "base_uri": "https://localhost:8080/",
          "height": 206
        },
        "outputId": "1f27b3b7-198d-40b5-affd-f253a09139cb"
      },
      "outputs": [
        {
          "output_type": "execute_result",
          "data": {
            "text/plain": [
              "   id keyword location                                               text  \\\n",
              "0   1     NaN      NaN  Our Deeds are the Reason of this #earthquake M...   \n",
              "1   4     NaN      NaN             Forest fire near La Ronge Sask. Canada   \n",
              "2   5     NaN      NaN  All residents asked to 'shelter in place' are ...   \n",
              "3   6     NaN      NaN  13,000 people receive #wildfires evacuation or...   \n",
              "4   7     NaN      NaN  Just got sent this photo from Ruby #Alaska as ...   \n",
              "\n",
              "   target  \n",
              "0       1  \n",
              "1       1  \n",
              "2       1  \n",
              "3       1  \n",
              "4       1  "
            ],
            "text/html": [
              "\n",
              "  <div id=\"df-2c86f598-4f8b-460e-9dd0-014724545cf1\" class=\"colab-df-container\">\n",
              "    <div>\n",
              "<style scoped>\n",
              "    .dataframe tbody tr th:only-of-type {\n",
              "        vertical-align: middle;\n",
              "    }\n",
              "\n",
              "    .dataframe tbody tr th {\n",
              "        vertical-align: top;\n",
              "    }\n",
              "\n",
              "    .dataframe thead th {\n",
              "        text-align: right;\n",
              "    }\n",
              "</style>\n",
              "<table border=\"1\" class=\"dataframe\">\n",
              "  <thead>\n",
              "    <tr style=\"text-align: right;\">\n",
              "      <th></th>\n",
              "      <th>id</th>\n",
              "      <th>keyword</th>\n",
              "      <th>location</th>\n",
              "      <th>text</th>\n",
              "      <th>target</th>\n",
              "    </tr>\n",
              "  </thead>\n",
              "  <tbody>\n",
              "    <tr>\n",
              "      <th>0</th>\n",
              "      <td>1</td>\n",
              "      <td>NaN</td>\n",
              "      <td>NaN</td>\n",
              "      <td>Our Deeds are the Reason of this #earthquake M...</td>\n",
              "      <td>1</td>\n",
              "    </tr>\n",
              "    <tr>\n",
              "      <th>1</th>\n",
              "      <td>4</td>\n",
              "      <td>NaN</td>\n",
              "      <td>NaN</td>\n",
              "      <td>Forest fire near La Ronge Sask. Canada</td>\n",
              "      <td>1</td>\n",
              "    </tr>\n",
              "    <tr>\n",
              "      <th>2</th>\n",
              "      <td>5</td>\n",
              "      <td>NaN</td>\n",
              "      <td>NaN</td>\n",
              "      <td>All residents asked to 'shelter in place' are ...</td>\n",
              "      <td>1</td>\n",
              "    </tr>\n",
              "    <tr>\n",
              "      <th>3</th>\n",
              "      <td>6</td>\n",
              "      <td>NaN</td>\n",
              "      <td>NaN</td>\n",
              "      <td>13,000 people receive #wildfires evacuation or...</td>\n",
              "      <td>1</td>\n",
              "    </tr>\n",
              "    <tr>\n",
              "      <th>4</th>\n",
              "      <td>7</td>\n",
              "      <td>NaN</td>\n",
              "      <td>NaN</td>\n",
              "      <td>Just got sent this photo from Ruby #Alaska as ...</td>\n",
              "      <td>1</td>\n",
              "    </tr>\n",
              "  </tbody>\n",
              "</table>\n",
              "</div>\n",
              "    <div class=\"colab-df-buttons\">\n",
              "\n",
              "  <div class=\"colab-df-container\">\n",
              "    <button class=\"colab-df-convert\" onclick=\"convertToInteractive('df-2c86f598-4f8b-460e-9dd0-014724545cf1')\"\n",
              "            title=\"Convert this dataframe to an interactive table.\"\n",
              "            style=\"display:none;\">\n",
              "\n",
              "  <svg xmlns=\"http://www.w3.org/2000/svg\" height=\"24px\" viewBox=\"0 -960 960 960\">\n",
              "    <path d=\"M120-120v-720h720v720H120Zm60-500h600v-160H180v160Zm220 220h160v-160H400v160Zm0 220h160v-160H400v160ZM180-400h160v-160H180v160Zm440 0h160v-160H620v160ZM180-180h160v-160H180v160Zm440 0h160v-160H620v160Z\"/>\n",
              "  </svg>\n",
              "    </button>\n",
              "\n",
              "  <style>\n",
              "    .colab-df-container {\n",
              "      display:flex;\n",
              "      gap: 12px;\n",
              "    }\n",
              "\n",
              "    .colab-df-convert {\n",
              "      background-color: #E8F0FE;\n",
              "      border: none;\n",
              "      border-radius: 50%;\n",
              "      cursor: pointer;\n",
              "      display: none;\n",
              "      fill: #1967D2;\n",
              "      height: 32px;\n",
              "      padding: 0 0 0 0;\n",
              "      width: 32px;\n",
              "    }\n",
              "\n",
              "    .colab-df-convert:hover {\n",
              "      background-color: #E2EBFA;\n",
              "      box-shadow: 0px 1px 2px rgba(60, 64, 67, 0.3), 0px 1px 3px 1px rgba(60, 64, 67, 0.15);\n",
              "      fill: #174EA6;\n",
              "    }\n",
              "\n",
              "    .colab-df-buttons div {\n",
              "      margin-bottom: 4px;\n",
              "    }\n",
              "\n",
              "    [theme=dark] .colab-df-convert {\n",
              "      background-color: #3B4455;\n",
              "      fill: #D2E3FC;\n",
              "    }\n",
              "\n",
              "    [theme=dark] .colab-df-convert:hover {\n",
              "      background-color: #434B5C;\n",
              "      box-shadow: 0px 1px 3px 1px rgba(0, 0, 0, 0.15);\n",
              "      filter: drop-shadow(0px 1px 2px rgba(0, 0, 0, 0.3));\n",
              "      fill: #FFFFFF;\n",
              "    }\n",
              "  </style>\n",
              "\n",
              "    <script>\n",
              "      const buttonEl =\n",
              "        document.querySelector('#df-2c86f598-4f8b-460e-9dd0-014724545cf1 button.colab-df-convert');\n",
              "      buttonEl.style.display =\n",
              "        google.colab.kernel.accessAllowed ? 'block' : 'none';\n",
              "\n",
              "      async function convertToInteractive(key) {\n",
              "        const element = document.querySelector('#df-2c86f598-4f8b-460e-9dd0-014724545cf1');\n",
              "        const dataTable =\n",
              "          await google.colab.kernel.invokeFunction('convertToInteractive',\n",
              "                                                    [key], {});\n",
              "        if (!dataTable) return;\n",
              "\n",
              "        const docLinkHtml = 'Like what you see? Visit the ' +\n",
              "          '<a target=\"_blank\" href=https://colab.research.google.com/notebooks/data_table.ipynb>data table notebook</a>'\n",
              "          + ' to learn more about interactive tables.';\n",
              "        element.innerHTML = '';\n",
              "        dataTable['output_type'] = 'display_data';\n",
              "        await google.colab.output.renderOutput(dataTable, element);\n",
              "        const docLink = document.createElement('div');\n",
              "        docLink.innerHTML = docLinkHtml;\n",
              "        element.appendChild(docLink);\n",
              "      }\n",
              "    </script>\n",
              "  </div>\n",
              "\n",
              "\n",
              "<div id=\"df-2bc7e4bb-757b-4f75-843c-9beac0dc5b3a\">\n",
              "  <button class=\"colab-df-quickchart\" onclick=\"quickchart('df-2bc7e4bb-757b-4f75-843c-9beac0dc5b3a')\"\n",
              "            title=\"Suggest charts\"\n",
              "            style=\"display:none;\">\n",
              "\n",
              "<svg xmlns=\"http://www.w3.org/2000/svg\" height=\"24px\"viewBox=\"0 0 24 24\"\n",
              "     width=\"24px\">\n",
              "    <g>\n",
              "        <path d=\"M19 3H5c-1.1 0-2 .9-2 2v14c0 1.1.9 2 2 2h14c1.1 0 2-.9 2-2V5c0-1.1-.9-2-2-2zM9 17H7v-7h2v7zm4 0h-2V7h2v10zm4 0h-2v-4h2v4z\"/>\n",
              "    </g>\n",
              "</svg>\n",
              "  </button>\n",
              "\n",
              "<style>\n",
              "  .colab-df-quickchart {\n",
              "      --bg-color: #E8F0FE;\n",
              "      --fill-color: #1967D2;\n",
              "      --hover-bg-color: #E2EBFA;\n",
              "      --hover-fill-color: #174EA6;\n",
              "      --disabled-fill-color: #AAA;\n",
              "      --disabled-bg-color: #DDD;\n",
              "  }\n",
              "\n",
              "  [theme=dark] .colab-df-quickchart {\n",
              "      --bg-color: #3B4455;\n",
              "      --fill-color: #D2E3FC;\n",
              "      --hover-bg-color: #434B5C;\n",
              "      --hover-fill-color: #FFFFFF;\n",
              "      --disabled-bg-color: #3B4455;\n",
              "      --disabled-fill-color: #666;\n",
              "  }\n",
              "\n",
              "  .colab-df-quickchart {\n",
              "    background-color: var(--bg-color);\n",
              "    border: none;\n",
              "    border-radius: 50%;\n",
              "    cursor: pointer;\n",
              "    display: none;\n",
              "    fill: var(--fill-color);\n",
              "    height: 32px;\n",
              "    padding: 0;\n",
              "    width: 32px;\n",
              "  }\n",
              "\n",
              "  .colab-df-quickchart:hover {\n",
              "    background-color: var(--hover-bg-color);\n",
              "    box-shadow: 0 1px 2px rgba(60, 64, 67, 0.3), 0 1px 3px 1px rgba(60, 64, 67, 0.15);\n",
              "    fill: var(--button-hover-fill-color);\n",
              "  }\n",
              "\n",
              "  .colab-df-quickchart-complete:disabled,\n",
              "  .colab-df-quickchart-complete:disabled:hover {\n",
              "    background-color: var(--disabled-bg-color);\n",
              "    fill: var(--disabled-fill-color);\n",
              "    box-shadow: none;\n",
              "  }\n",
              "\n",
              "  .colab-df-spinner {\n",
              "    border: 2px solid var(--fill-color);\n",
              "    border-color: transparent;\n",
              "    border-bottom-color: var(--fill-color);\n",
              "    animation:\n",
              "      spin 1s steps(1) infinite;\n",
              "  }\n",
              "\n",
              "  @keyframes spin {\n",
              "    0% {\n",
              "      border-color: transparent;\n",
              "      border-bottom-color: var(--fill-color);\n",
              "      border-left-color: var(--fill-color);\n",
              "    }\n",
              "    20% {\n",
              "      border-color: transparent;\n",
              "      border-left-color: var(--fill-color);\n",
              "      border-top-color: var(--fill-color);\n",
              "    }\n",
              "    30% {\n",
              "      border-color: transparent;\n",
              "      border-left-color: var(--fill-color);\n",
              "      border-top-color: var(--fill-color);\n",
              "      border-right-color: var(--fill-color);\n",
              "    }\n",
              "    40% {\n",
              "      border-color: transparent;\n",
              "      border-right-color: var(--fill-color);\n",
              "      border-top-color: var(--fill-color);\n",
              "    }\n",
              "    60% {\n",
              "      border-color: transparent;\n",
              "      border-right-color: var(--fill-color);\n",
              "    }\n",
              "    80% {\n",
              "      border-color: transparent;\n",
              "      border-right-color: var(--fill-color);\n",
              "      border-bottom-color: var(--fill-color);\n",
              "    }\n",
              "    90% {\n",
              "      border-color: transparent;\n",
              "      border-bottom-color: var(--fill-color);\n",
              "    }\n",
              "  }\n",
              "</style>\n",
              "\n",
              "  <script>\n",
              "    async function quickchart(key) {\n",
              "      const quickchartButtonEl =\n",
              "        document.querySelector('#' + key + ' button');\n",
              "      quickchartButtonEl.disabled = true;  // To prevent multiple clicks.\n",
              "      quickchartButtonEl.classList.add('colab-df-spinner');\n",
              "      try {\n",
              "        const charts = await google.colab.kernel.invokeFunction(\n",
              "            'suggestCharts', [key], {});\n",
              "      } catch (error) {\n",
              "        console.error('Error during call to suggestCharts:', error);\n",
              "      }\n",
              "      quickchartButtonEl.classList.remove('colab-df-spinner');\n",
              "      quickchartButtonEl.classList.add('colab-df-quickchart-complete');\n",
              "    }\n",
              "    (() => {\n",
              "      let quickchartButtonEl =\n",
              "        document.querySelector('#df-2bc7e4bb-757b-4f75-843c-9beac0dc5b3a button');\n",
              "      quickchartButtonEl.style.display =\n",
              "        google.colab.kernel.accessAllowed ? 'block' : 'none';\n",
              "    })();\n",
              "  </script>\n",
              "</div>\n",
              "    </div>\n",
              "  </div>\n"
            ]
          },
          "metadata": {},
          "execution_count": 323
        }
      ],
      "source": [
        "data.head()"
      ]
    },
    {
      "cell_type": "markdown",
      "metadata": {
        "id": "bFtgmczApv0f"
      },
      "source": [
        "## Q1 (1pt)\n",
        "\n",
        "Print information about missing values. Fill in missing values with an empty string [Example in SGD notebook](https://github.com/anton-selitskiy/RIT_ML/blob/main/SGD.ipynb)"
      ]
    },
    {
      "cell_type": "code",
      "source": [
        "data.isnull().sum()"
      ],
      "metadata": {
        "id": "WJfTrXpcr35G",
        "colab": {
          "base_uri": "https://localhost:8080/"
        },
        "outputId": "8daabdb6-8ad3-4e78-b882-e3effe4abc39"
      },
      "execution_count": 324,
      "outputs": [
        {
          "output_type": "execute_result",
          "data": {
            "text/plain": [
              "id             0\n",
              "keyword       61\n",
              "location    2533\n",
              "text           0\n",
              "target         0\n",
              "dtype: int64"
            ]
          },
          "metadata": {},
          "execution_count": 324
        }
      ]
    },
    {
      "cell_type": "code",
      "source": [
        "data.fillna('', inplace=True)"
      ],
      "metadata": {
        "id": "uck7KVcZsmCr"
      },
      "execution_count": 325,
      "outputs": []
    },
    {
      "cell_type": "code",
      "source": [
        "data.isnull().sum()"
      ],
      "metadata": {
        "id": "X6JkH0_Nsc3I",
        "colab": {
          "base_uri": "https://localhost:8080/"
        },
        "outputId": "9474d69c-d95a-4cde-a8b5-6d4a54d8fa43"
      },
      "execution_count": 326,
      "outputs": [
        {
          "output_type": "execute_result",
          "data": {
            "text/plain": [
              "id          0\n",
              "keyword     0\n",
              "location    0\n",
              "text        0\n",
              "target      0\n",
              "dtype: int64"
            ]
          },
          "metadata": {},
          "execution_count": 326
        }
      ]
    },
    {
      "cell_type": "code",
      "source": [
        "data.head()"
      ],
      "metadata": {
        "id": "yDNd1-wBtiww",
        "colab": {
          "base_uri": "https://localhost:8080/",
          "height": 206
        },
        "outputId": "34d29caa-a5c1-4e32-d856-ebe587ac7592"
      },
      "execution_count": 327,
      "outputs": [
        {
          "output_type": "execute_result",
          "data": {
            "text/plain": [
              "   id keyword location                                               text  \\\n",
              "0   1                   Our Deeds are the Reason of this #earthquake M...   \n",
              "1   4                              Forest fire near La Ronge Sask. Canada   \n",
              "2   5                   All residents asked to 'shelter in place' are ...   \n",
              "3   6                   13,000 people receive #wildfires evacuation or...   \n",
              "4   7                   Just got sent this photo from Ruby #Alaska as ...   \n",
              "\n",
              "   target  \n",
              "0       1  \n",
              "1       1  \n",
              "2       1  \n",
              "3       1  \n",
              "4       1  "
            ],
            "text/html": [
              "\n",
              "  <div id=\"df-ce8913f3-7669-4758-a36a-fe03581e188c\" class=\"colab-df-container\">\n",
              "    <div>\n",
              "<style scoped>\n",
              "    .dataframe tbody tr th:only-of-type {\n",
              "        vertical-align: middle;\n",
              "    }\n",
              "\n",
              "    .dataframe tbody tr th {\n",
              "        vertical-align: top;\n",
              "    }\n",
              "\n",
              "    .dataframe thead th {\n",
              "        text-align: right;\n",
              "    }\n",
              "</style>\n",
              "<table border=\"1\" class=\"dataframe\">\n",
              "  <thead>\n",
              "    <tr style=\"text-align: right;\">\n",
              "      <th></th>\n",
              "      <th>id</th>\n",
              "      <th>keyword</th>\n",
              "      <th>location</th>\n",
              "      <th>text</th>\n",
              "      <th>target</th>\n",
              "    </tr>\n",
              "  </thead>\n",
              "  <tbody>\n",
              "    <tr>\n",
              "      <th>0</th>\n",
              "      <td>1</td>\n",
              "      <td></td>\n",
              "      <td></td>\n",
              "      <td>Our Deeds are the Reason of this #earthquake M...</td>\n",
              "      <td>1</td>\n",
              "    </tr>\n",
              "    <tr>\n",
              "      <th>1</th>\n",
              "      <td>4</td>\n",
              "      <td></td>\n",
              "      <td></td>\n",
              "      <td>Forest fire near La Ronge Sask. Canada</td>\n",
              "      <td>1</td>\n",
              "    </tr>\n",
              "    <tr>\n",
              "      <th>2</th>\n",
              "      <td>5</td>\n",
              "      <td></td>\n",
              "      <td></td>\n",
              "      <td>All residents asked to 'shelter in place' are ...</td>\n",
              "      <td>1</td>\n",
              "    </tr>\n",
              "    <tr>\n",
              "      <th>3</th>\n",
              "      <td>6</td>\n",
              "      <td></td>\n",
              "      <td></td>\n",
              "      <td>13,000 people receive #wildfires evacuation or...</td>\n",
              "      <td>1</td>\n",
              "    </tr>\n",
              "    <tr>\n",
              "      <th>4</th>\n",
              "      <td>7</td>\n",
              "      <td></td>\n",
              "      <td></td>\n",
              "      <td>Just got sent this photo from Ruby #Alaska as ...</td>\n",
              "      <td>1</td>\n",
              "    </tr>\n",
              "  </tbody>\n",
              "</table>\n",
              "</div>\n",
              "    <div class=\"colab-df-buttons\">\n",
              "\n",
              "  <div class=\"colab-df-container\">\n",
              "    <button class=\"colab-df-convert\" onclick=\"convertToInteractive('df-ce8913f3-7669-4758-a36a-fe03581e188c')\"\n",
              "            title=\"Convert this dataframe to an interactive table.\"\n",
              "            style=\"display:none;\">\n",
              "\n",
              "  <svg xmlns=\"http://www.w3.org/2000/svg\" height=\"24px\" viewBox=\"0 -960 960 960\">\n",
              "    <path d=\"M120-120v-720h720v720H120Zm60-500h600v-160H180v160Zm220 220h160v-160H400v160Zm0 220h160v-160H400v160ZM180-400h160v-160H180v160Zm440 0h160v-160H620v160ZM180-180h160v-160H180v160Zm440 0h160v-160H620v160Z\"/>\n",
              "  </svg>\n",
              "    </button>\n",
              "\n",
              "  <style>\n",
              "    .colab-df-container {\n",
              "      display:flex;\n",
              "      gap: 12px;\n",
              "    }\n",
              "\n",
              "    .colab-df-convert {\n",
              "      background-color: #E8F0FE;\n",
              "      border: none;\n",
              "      border-radius: 50%;\n",
              "      cursor: pointer;\n",
              "      display: none;\n",
              "      fill: #1967D2;\n",
              "      height: 32px;\n",
              "      padding: 0 0 0 0;\n",
              "      width: 32px;\n",
              "    }\n",
              "\n",
              "    .colab-df-convert:hover {\n",
              "      background-color: #E2EBFA;\n",
              "      box-shadow: 0px 1px 2px rgba(60, 64, 67, 0.3), 0px 1px 3px 1px rgba(60, 64, 67, 0.15);\n",
              "      fill: #174EA6;\n",
              "    }\n",
              "\n",
              "    .colab-df-buttons div {\n",
              "      margin-bottom: 4px;\n",
              "    }\n",
              "\n",
              "    [theme=dark] .colab-df-convert {\n",
              "      background-color: #3B4455;\n",
              "      fill: #D2E3FC;\n",
              "    }\n",
              "\n",
              "    [theme=dark] .colab-df-convert:hover {\n",
              "      background-color: #434B5C;\n",
              "      box-shadow: 0px 1px 3px 1px rgba(0, 0, 0, 0.15);\n",
              "      filter: drop-shadow(0px 1px 2px rgba(0, 0, 0, 0.3));\n",
              "      fill: #FFFFFF;\n",
              "    }\n",
              "  </style>\n",
              "\n",
              "    <script>\n",
              "      const buttonEl =\n",
              "        document.querySelector('#df-ce8913f3-7669-4758-a36a-fe03581e188c button.colab-df-convert');\n",
              "      buttonEl.style.display =\n",
              "        google.colab.kernel.accessAllowed ? 'block' : 'none';\n",
              "\n",
              "      async function convertToInteractive(key) {\n",
              "        const element = document.querySelector('#df-ce8913f3-7669-4758-a36a-fe03581e188c');\n",
              "        const dataTable =\n",
              "          await google.colab.kernel.invokeFunction('convertToInteractive',\n",
              "                                                    [key], {});\n",
              "        if (!dataTable) return;\n",
              "\n",
              "        const docLinkHtml = 'Like what you see? Visit the ' +\n",
              "          '<a target=\"_blank\" href=https://colab.research.google.com/notebooks/data_table.ipynb>data table notebook</a>'\n",
              "          + ' to learn more about interactive tables.';\n",
              "        element.innerHTML = '';\n",
              "        dataTable['output_type'] = 'display_data';\n",
              "        await google.colab.output.renderOutput(dataTable, element);\n",
              "        const docLink = document.createElement('div');\n",
              "        docLink.innerHTML = docLinkHtml;\n",
              "        element.appendChild(docLink);\n",
              "      }\n",
              "    </script>\n",
              "  </div>\n",
              "\n",
              "\n",
              "<div id=\"df-021354a7-934f-4c97-80fa-9975ab493f93\">\n",
              "  <button class=\"colab-df-quickchart\" onclick=\"quickchart('df-021354a7-934f-4c97-80fa-9975ab493f93')\"\n",
              "            title=\"Suggest charts\"\n",
              "            style=\"display:none;\">\n",
              "\n",
              "<svg xmlns=\"http://www.w3.org/2000/svg\" height=\"24px\"viewBox=\"0 0 24 24\"\n",
              "     width=\"24px\">\n",
              "    <g>\n",
              "        <path d=\"M19 3H5c-1.1 0-2 .9-2 2v14c0 1.1.9 2 2 2h14c1.1 0 2-.9 2-2V5c0-1.1-.9-2-2-2zM9 17H7v-7h2v7zm4 0h-2V7h2v10zm4 0h-2v-4h2v4z\"/>\n",
              "    </g>\n",
              "</svg>\n",
              "  </button>\n",
              "\n",
              "<style>\n",
              "  .colab-df-quickchart {\n",
              "      --bg-color: #E8F0FE;\n",
              "      --fill-color: #1967D2;\n",
              "      --hover-bg-color: #E2EBFA;\n",
              "      --hover-fill-color: #174EA6;\n",
              "      --disabled-fill-color: #AAA;\n",
              "      --disabled-bg-color: #DDD;\n",
              "  }\n",
              "\n",
              "  [theme=dark] .colab-df-quickchart {\n",
              "      --bg-color: #3B4455;\n",
              "      --fill-color: #D2E3FC;\n",
              "      --hover-bg-color: #434B5C;\n",
              "      --hover-fill-color: #FFFFFF;\n",
              "      --disabled-bg-color: #3B4455;\n",
              "      --disabled-fill-color: #666;\n",
              "  }\n",
              "\n",
              "  .colab-df-quickchart {\n",
              "    background-color: var(--bg-color);\n",
              "    border: none;\n",
              "    border-radius: 50%;\n",
              "    cursor: pointer;\n",
              "    display: none;\n",
              "    fill: var(--fill-color);\n",
              "    height: 32px;\n",
              "    padding: 0;\n",
              "    width: 32px;\n",
              "  }\n",
              "\n",
              "  .colab-df-quickchart:hover {\n",
              "    background-color: var(--hover-bg-color);\n",
              "    box-shadow: 0 1px 2px rgba(60, 64, 67, 0.3), 0 1px 3px 1px rgba(60, 64, 67, 0.15);\n",
              "    fill: var(--button-hover-fill-color);\n",
              "  }\n",
              "\n",
              "  .colab-df-quickchart-complete:disabled,\n",
              "  .colab-df-quickchart-complete:disabled:hover {\n",
              "    background-color: var(--disabled-bg-color);\n",
              "    fill: var(--disabled-fill-color);\n",
              "    box-shadow: none;\n",
              "  }\n",
              "\n",
              "  .colab-df-spinner {\n",
              "    border: 2px solid var(--fill-color);\n",
              "    border-color: transparent;\n",
              "    border-bottom-color: var(--fill-color);\n",
              "    animation:\n",
              "      spin 1s steps(1) infinite;\n",
              "  }\n",
              "\n",
              "  @keyframes spin {\n",
              "    0% {\n",
              "      border-color: transparent;\n",
              "      border-bottom-color: var(--fill-color);\n",
              "      border-left-color: var(--fill-color);\n",
              "    }\n",
              "    20% {\n",
              "      border-color: transparent;\n",
              "      border-left-color: var(--fill-color);\n",
              "      border-top-color: var(--fill-color);\n",
              "    }\n",
              "    30% {\n",
              "      border-color: transparent;\n",
              "      border-left-color: var(--fill-color);\n",
              "      border-top-color: var(--fill-color);\n",
              "      border-right-color: var(--fill-color);\n",
              "    }\n",
              "    40% {\n",
              "      border-color: transparent;\n",
              "      border-right-color: var(--fill-color);\n",
              "      border-top-color: var(--fill-color);\n",
              "    }\n",
              "    60% {\n",
              "      border-color: transparent;\n",
              "      border-right-color: var(--fill-color);\n",
              "    }\n",
              "    80% {\n",
              "      border-color: transparent;\n",
              "      border-right-color: var(--fill-color);\n",
              "      border-bottom-color: var(--fill-color);\n",
              "    }\n",
              "    90% {\n",
              "      border-color: transparent;\n",
              "      border-bottom-color: var(--fill-color);\n",
              "    }\n",
              "  }\n",
              "</style>\n",
              "\n",
              "  <script>\n",
              "    async function quickchart(key) {\n",
              "      const quickchartButtonEl =\n",
              "        document.querySelector('#' + key + ' button');\n",
              "      quickchartButtonEl.disabled = true;  // To prevent multiple clicks.\n",
              "      quickchartButtonEl.classList.add('colab-df-spinner');\n",
              "      try {\n",
              "        const charts = await google.colab.kernel.invokeFunction(\n",
              "            'suggestCharts', [key], {});\n",
              "      } catch (error) {\n",
              "        console.error('Error during call to suggestCharts:', error);\n",
              "      }\n",
              "      quickchartButtonEl.classList.remove('colab-df-spinner');\n",
              "      quickchartButtonEl.classList.add('colab-df-quickchart-complete');\n",
              "    }\n",
              "    (() => {\n",
              "      let quickchartButtonEl =\n",
              "        document.querySelector('#df-021354a7-934f-4c97-80fa-9975ab493f93 button');\n",
              "      quickchartButtonEl.style.display =\n",
              "        google.colab.kernel.accessAllowed ? 'block' : 'none';\n",
              "    })();\n",
              "  </script>\n",
              "</div>\n",
              "    </div>\n",
              "  </div>\n"
            ]
          },
          "metadata": {},
          "execution_count": 327
        }
      ]
    },
    {
      "cell_type": "markdown",
      "source": [
        "Now we will split our data into Test, Validation, and Test sets. You don't want to use Test set untill Q10."
      ],
      "metadata": {
        "id": "gN6ORx7PfP6W"
      }
    },
    {
      "cell_type": "code",
      "execution_count": 328,
      "metadata": {
        "id": "EZw19GDppv0d"
      },
      "outputs": [],
      "source": [
        "from sklearn.model_selection import train_test_split\n",
        "\n",
        "train, validation = train_test_split(data, test_size=0.3, random_state=42)"
      ]
    },
    {
      "cell_type": "code",
      "source": [
        "validation, test = train_test_split(validation, test_size=0.4, random_state=42)\n",
        "\n",
        "data.head()"
      ],
      "metadata": {
        "id": "53e0l06zSwmH",
        "colab": {
          "base_uri": "https://localhost:8080/",
          "height": 206
        },
        "outputId": "f3963fda-7910-483d-d7d0-8cc093a6962c"
      },
      "execution_count": 329,
      "outputs": [
        {
          "output_type": "execute_result",
          "data": {
            "text/plain": [
              "   id keyword location                                               text  \\\n",
              "0   1                   Our Deeds are the Reason of this #earthquake M...   \n",
              "1   4                              Forest fire near La Ronge Sask. Canada   \n",
              "2   5                   All residents asked to 'shelter in place' are ...   \n",
              "3   6                   13,000 people receive #wildfires evacuation or...   \n",
              "4   7                   Just got sent this photo from Ruby #Alaska as ...   \n",
              "\n",
              "   target  \n",
              "0       1  \n",
              "1       1  \n",
              "2       1  \n",
              "3       1  \n",
              "4       1  "
            ],
            "text/html": [
              "\n",
              "  <div id=\"df-d936a376-1dcd-48bb-9d73-fccc779ce259\" class=\"colab-df-container\">\n",
              "    <div>\n",
              "<style scoped>\n",
              "    .dataframe tbody tr th:only-of-type {\n",
              "        vertical-align: middle;\n",
              "    }\n",
              "\n",
              "    .dataframe tbody tr th {\n",
              "        vertical-align: top;\n",
              "    }\n",
              "\n",
              "    .dataframe thead th {\n",
              "        text-align: right;\n",
              "    }\n",
              "</style>\n",
              "<table border=\"1\" class=\"dataframe\">\n",
              "  <thead>\n",
              "    <tr style=\"text-align: right;\">\n",
              "      <th></th>\n",
              "      <th>id</th>\n",
              "      <th>keyword</th>\n",
              "      <th>location</th>\n",
              "      <th>text</th>\n",
              "      <th>target</th>\n",
              "    </tr>\n",
              "  </thead>\n",
              "  <tbody>\n",
              "    <tr>\n",
              "      <th>0</th>\n",
              "      <td>1</td>\n",
              "      <td></td>\n",
              "      <td></td>\n",
              "      <td>Our Deeds are the Reason of this #earthquake M...</td>\n",
              "      <td>1</td>\n",
              "    </tr>\n",
              "    <tr>\n",
              "      <th>1</th>\n",
              "      <td>4</td>\n",
              "      <td></td>\n",
              "      <td></td>\n",
              "      <td>Forest fire near La Ronge Sask. Canada</td>\n",
              "      <td>1</td>\n",
              "    </tr>\n",
              "    <tr>\n",
              "      <th>2</th>\n",
              "      <td>5</td>\n",
              "      <td></td>\n",
              "      <td></td>\n",
              "      <td>All residents asked to 'shelter in place' are ...</td>\n",
              "      <td>1</td>\n",
              "    </tr>\n",
              "    <tr>\n",
              "      <th>3</th>\n",
              "      <td>6</td>\n",
              "      <td></td>\n",
              "      <td></td>\n",
              "      <td>13,000 people receive #wildfires evacuation or...</td>\n",
              "      <td>1</td>\n",
              "    </tr>\n",
              "    <tr>\n",
              "      <th>4</th>\n",
              "      <td>7</td>\n",
              "      <td></td>\n",
              "      <td></td>\n",
              "      <td>Just got sent this photo from Ruby #Alaska as ...</td>\n",
              "      <td>1</td>\n",
              "    </tr>\n",
              "  </tbody>\n",
              "</table>\n",
              "</div>\n",
              "    <div class=\"colab-df-buttons\">\n",
              "\n",
              "  <div class=\"colab-df-container\">\n",
              "    <button class=\"colab-df-convert\" onclick=\"convertToInteractive('df-d936a376-1dcd-48bb-9d73-fccc779ce259')\"\n",
              "            title=\"Convert this dataframe to an interactive table.\"\n",
              "            style=\"display:none;\">\n",
              "\n",
              "  <svg xmlns=\"http://www.w3.org/2000/svg\" height=\"24px\" viewBox=\"0 -960 960 960\">\n",
              "    <path d=\"M120-120v-720h720v720H120Zm60-500h600v-160H180v160Zm220 220h160v-160H400v160Zm0 220h160v-160H400v160ZM180-400h160v-160H180v160Zm440 0h160v-160H620v160ZM180-180h160v-160H180v160Zm440 0h160v-160H620v160Z\"/>\n",
              "  </svg>\n",
              "    </button>\n",
              "\n",
              "  <style>\n",
              "    .colab-df-container {\n",
              "      display:flex;\n",
              "      gap: 12px;\n",
              "    }\n",
              "\n",
              "    .colab-df-convert {\n",
              "      background-color: #E8F0FE;\n",
              "      border: none;\n",
              "      border-radius: 50%;\n",
              "      cursor: pointer;\n",
              "      display: none;\n",
              "      fill: #1967D2;\n",
              "      height: 32px;\n",
              "      padding: 0 0 0 0;\n",
              "      width: 32px;\n",
              "    }\n",
              "\n",
              "    .colab-df-convert:hover {\n",
              "      background-color: #E2EBFA;\n",
              "      box-shadow: 0px 1px 2px rgba(60, 64, 67, 0.3), 0px 1px 3px 1px rgba(60, 64, 67, 0.15);\n",
              "      fill: #174EA6;\n",
              "    }\n",
              "\n",
              "    .colab-df-buttons div {\n",
              "      margin-bottom: 4px;\n",
              "    }\n",
              "\n",
              "    [theme=dark] .colab-df-convert {\n",
              "      background-color: #3B4455;\n",
              "      fill: #D2E3FC;\n",
              "    }\n",
              "\n",
              "    [theme=dark] .colab-df-convert:hover {\n",
              "      background-color: #434B5C;\n",
              "      box-shadow: 0px 1px 3px 1px rgba(0, 0, 0, 0.15);\n",
              "      filter: drop-shadow(0px 1px 2px rgba(0, 0, 0, 0.3));\n",
              "      fill: #FFFFFF;\n",
              "    }\n",
              "  </style>\n",
              "\n",
              "    <script>\n",
              "      const buttonEl =\n",
              "        document.querySelector('#df-d936a376-1dcd-48bb-9d73-fccc779ce259 button.colab-df-convert');\n",
              "      buttonEl.style.display =\n",
              "        google.colab.kernel.accessAllowed ? 'block' : 'none';\n",
              "\n",
              "      async function convertToInteractive(key) {\n",
              "        const element = document.querySelector('#df-d936a376-1dcd-48bb-9d73-fccc779ce259');\n",
              "        const dataTable =\n",
              "          await google.colab.kernel.invokeFunction('convertToInteractive',\n",
              "                                                    [key], {});\n",
              "        if (!dataTable) return;\n",
              "\n",
              "        const docLinkHtml = 'Like what you see? Visit the ' +\n",
              "          '<a target=\"_blank\" href=https://colab.research.google.com/notebooks/data_table.ipynb>data table notebook</a>'\n",
              "          + ' to learn more about interactive tables.';\n",
              "        element.innerHTML = '';\n",
              "        dataTable['output_type'] = 'display_data';\n",
              "        await google.colab.output.renderOutput(dataTable, element);\n",
              "        const docLink = document.createElement('div');\n",
              "        docLink.innerHTML = docLinkHtml;\n",
              "        element.appendChild(docLink);\n",
              "      }\n",
              "    </script>\n",
              "  </div>\n",
              "\n",
              "\n",
              "<div id=\"df-2b9758fe-42c2-4272-a782-21b8c13340ec\">\n",
              "  <button class=\"colab-df-quickchart\" onclick=\"quickchart('df-2b9758fe-42c2-4272-a782-21b8c13340ec')\"\n",
              "            title=\"Suggest charts\"\n",
              "            style=\"display:none;\">\n",
              "\n",
              "<svg xmlns=\"http://www.w3.org/2000/svg\" height=\"24px\"viewBox=\"0 0 24 24\"\n",
              "     width=\"24px\">\n",
              "    <g>\n",
              "        <path d=\"M19 3H5c-1.1 0-2 .9-2 2v14c0 1.1.9 2 2 2h14c1.1 0 2-.9 2-2V5c0-1.1-.9-2-2-2zM9 17H7v-7h2v7zm4 0h-2V7h2v10zm4 0h-2v-4h2v4z\"/>\n",
              "    </g>\n",
              "</svg>\n",
              "  </button>\n",
              "\n",
              "<style>\n",
              "  .colab-df-quickchart {\n",
              "      --bg-color: #E8F0FE;\n",
              "      --fill-color: #1967D2;\n",
              "      --hover-bg-color: #E2EBFA;\n",
              "      --hover-fill-color: #174EA6;\n",
              "      --disabled-fill-color: #AAA;\n",
              "      --disabled-bg-color: #DDD;\n",
              "  }\n",
              "\n",
              "  [theme=dark] .colab-df-quickchart {\n",
              "      --bg-color: #3B4455;\n",
              "      --fill-color: #D2E3FC;\n",
              "      --hover-bg-color: #434B5C;\n",
              "      --hover-fill-color: #FFFFFF;\n",
              "      --disabled-bg-color: #3B4455;\n",
              "      --disabled-fill-color: #666;\n",
              "  }\n",
              "\n",
              "  .colab-df-quickchart {\n",
              "    background-color: var(--bg-color);\n",
              "    border: none;\n",
              "    border-radius: 50%;\n",
              "    cursor: pointer;\n",
              "    display: none;\n",
              "    fill: var(--fill-color);\n",
              "    height: 32px;\n",
              "    padding: 0;\n",
              "    width: 32px;\n",
              "  }\n",
              "\n",
              "  .colab-df-quickchart:hover {\n",
              "    background-color: var(--hover-bg-color);\n",
              "    box-shadow: 0 1px 2px rgba(60, 64, 67, 0.3), 0 1px 3px 1px rgba(60, 64, 67, 0.15);\n",
              "    fill: var(--button-hover-fill-color);\n",
              "  }\n",
              "\n",
              "  .colab-df-quickchart-complete:disabled,\n",
              "  .colab-df-quickchart-complete:disabled:hover {\n",
              "    background-color: var(--disabled-bg-color);\n",
              "    fill: var(--disabled-fill-color);\n",
              "    box-shadow: none;\n",
              "  }\n",
              "\n",
              "  .colab-df-spinner {\n",
              "    border: 2px solid var(--fill-color);\n",
              "    border-color: transparent;\n",
              "    border-bottom-color: var(--fill-color);\n",
              "    animation:\n",
              "      spin 1s steps(1) infinite;\n",
              "  }\n",
              "\n",
              "  @keyframes spin {\n",
              "    0% {\n",
              "      border-color: transparent;\n",
              "      border-bottom-color: var(--fill-color);\n",
              "      border-left-color: var(--fill-color);\n",
              "    }\n",
              "    20% {\n",
              "      border-color: transparent;\n",
              "      border-left-color: var(--fill-color);\n",
              "      border-top-color: var(--fill-color);\n",
              "    }\n",
              "    30% {\n",
              "      border-color: transparent;\n",
              "      border-left-color: var(--fill-color);\n",
              "      border-top-color: var(--fill-color);\n",
              "      border-right-color: var(--fill-color);\n",
              "    }\n",
              "    40% {\n",
              "      border-color: transparent;\n",
              "      border-right-color: var(--fill-color);\n",
              "      border-top-color: var(--fill-color);\n",
              "    }\n",
              "    60% {\n",
              "      border-color: transparent;\n",
              "      border-right-color: var(--fill-color);\n",
              "    }\n",
              "    80% {\n",
              "      border-color: transparent;\n",
              "      border-right-color: var(--fill-color);\n",
              "      border-bottom-color: var(--fill-color);\n",
              "    }\n",
              "    90% {\n",
              "      border-color: transparent;\n",
              "      border-bottom-color: var(--fill-color);\n",
              "    }\n",
              "  }\n",
              "</style>\n",
              "\n",
              "  <script>\n",
              "    async function quickchart(key) {\n",
              "      const quickchartButtonEl =\n",
              "        document.querySelector('#' + key + ' button');\n",
              "      quickchartButtonEl.disabled = true;  // To prevent multiple clicks.\n",
              "      quickchartButtonEl.classList.add('colab-df-spinner');\n",
              "      try {\n",
              "        const charts = await google.colab.kernel.invokeFunction(\n",
              "            'suggestCharts', [key], {});\n",
              "      } catch (error) {\n",
              "        console.error('Error during call to suggestCharts:', error);\n",
              "      }\n",
              "      quickchartButtonEl.classList.remove('colab-df-spinner');\n",
              "      quickchartButtonEl.classList.add('colab-df-quickchart-complete');\n",
              "    }\n",
              "    (() => {\n",
              "      let quickchartButtonEl =\n",
              "        document.querySelector('#df-2b9758fe-42c2-4272-a782-21b8c13340ec button');\n",
              "      quickchartButtonEl.style.display =\n",
              "        google.colab.kernel.accessAllowed ? 'block' : 'none';\n",
              "    })();\n",
              "  </script>\n",
              "</div>\n",
              "    </div>\n",
              "  </div>\n"
            ]
          },
          "metadata": {},
          "execution_count": 329
        }
      ]
    },
    {
      "cell_type": "markdown",
      "metadata": {
        "id": "wD6Lh88gpv0h"
      },
      "source": [
        "## Q2 (2pt)\n",
        "\n",
        "1. What is the distribution of the classes in the Training set?\n",
        "\n",
        "2. Plot the bar-plot for 10 mostly frequent values in column \"keyword\".\n",
        "\n",
        "Comment on the information you've seen. [EDA notbook could be helpful](https://github.com/anton-selitskiy/RIT_ML/blob/main/EDA_and_Pipeline1.ipynb)"
      ]
    },
    {
      "cell_type": "code",
      "source": [
        "from sklearn.feature_extraction.text import CountVectorizer\n",
        "vec = CountVectorizer(ngram_range=(1,1))"
      ],
      "metadata": {
        "id": "lS2oo6Jguf1J"
      },
      "execution_count": 330,
      "outputs": []
    },
    {
      "cell_type": "code",
      "source": [
        "X_train_transformed = vec.fit_transform(train['keyword'])"
      ],
      "metadata": {
        "id": "jn14riGD27vw"
      },
      "execution_count": 331,
      "outputs": []
    },
    {
      "cell_type": "code",
      "source": [
        "keyword_list = list(vec.vocabulary_.items())\n",
        "sorted_keyword_dictionary = dict(sorted(keyword_list, key=lambda item: item[1], reverse=True))\n",
        "\n",
        "# Convert the sorted dictionary back to a list of tuples\n",
        "sorted_keyword_items = list(sorted_keyword_dictionary.items())"
      ],
      "metadata": {
        "id": "ksdDo9XYvyoQ"
      },
      "execution_count": 332,
      "outputs": []
    },
    {
      "cell_type": "code",
      "source": [
        "# Assuming you already have sorted_keyword_items from the previous code\n",
        "top_10_keywords = sorted_keyword_items[:10]\n",
        "\n",
        "# Extracting keywords and values for plotting\n",
        "keywords, values = zip(*top_10_keywords)\n",
        "\n",
        "# Create a bar plot\n",
        "plt.figure(figsize=(10, 6))\n",
        "plt.bar(keywords, values, color='skyblue')\n",
        "plt.xlabel('Keywords')\n",
        "plt.ylabel('Values')\n",
        "plt.title('Top 10 Keywords with Highest Values')\n",
        "plt.xticks(rotation=45, ha='right')\n",
        "plt.tight_layout()\n",
        "plt.ylim(200, 250)\n",
        "\n",
        "# Show the plot\n",
        "plt.show()\n"
      ],
      "metadata": {
        "id": "3CSxHPXHRcc5",
        "outputId": "4430107c-0632-4d8b-fe19-18d1861be372",
        "colab": {
          "base_uri": "https://localhost:8080/",
          "height": 503
        }
      },
      "execution_count": 333,
      "outputs": [
        {
          "output_type": "display_data",
          "data": {
            "text/plain": [
              "<Figure size 1000x600 with 1 Axes>"
            ],
            "image/png": "[encoded data removed]"
          },
          "metadata": {}
        }
      ]
    },
    {
      "cell_type": "markdown",
      "metadata": {
        "id": "KM4yo44Rpv0j"
      },
      "source": [
        "## Q3 (1pt)\n",
        "\n",
        "Join text columns in a new column and delete the column with id."
      ]
    },
    {
      "cell_type": "code",
      "source": [
        "data['text'] = data['keyword'] + data['location'] + data['text']\n",
        "data.drop(['id', 'keyword', 'location'], axis=1, inplace=True)"
      ],
      "metadata": {
        "id": "EHahLrNfUqvn"
      },
      "execution_count": 334,
      "outputs": []
    },
    {
      "cell_type": "code",
      "source": [
        "data.head(100)"
      ],
      "metadata": {
        "id": "zYW5db-dwP7-",
        "outputId": "cdd93bb7-e226-4c1b-c40c-954f8aa0148c",
        "colab": {
          "base_uri": "https://localhost:8080/",
          "height": 424
        }
      },
      "execution_count": 335,
      "outputs": [
        {
          "output_type": "execute_result",
          "data": {
            "text/plain": [
              "                                                 text  target\n",
              "0   Our Deeds are the Reason of this #earthquake M...       1\n",
              "1              Forest fire near La Ronge Sask. Canada       1\n",
              "2   All residents asked to 'shelter in place' are ...       1\n",
              "3   13,000 people receive #wildfires evacuation or...       1\n",
              "4   Just got sent this photo from Ruby #Alaska as ...       1\n",
              "..                                                ...     ...\n",
              "95  accidentCharlotte9 Mile backup on I-77 South.....       1\n",
              "96  accidentBaton Rouge, LAHas an accident changed...       0\n",
              "97  accidentHagerstown, MD#BREAKING: there was a d...       1\n",
              "98  accidentGloucestershire , UK@flowri were you m...       0\n",
              "99  accidentonly had a car for not even a week and...       1\n",
              "\n",
              "[100 rows x 2 columns]"
            ],
            "text/html": [
              "\n",
              "  <div id=\"df-32cd856d-0d10-4147-b518-394ab2c2dca9\" class=\"colab-df-container\">\n",
              "    <div>\n",
              "<style scoped>\n",
              "    .dataframe tbody tr th:only-of-type {\n",
              "        vertical-align: middle;\n",
              "    }\n",
              "\n",
              "    .dataframe tbody tr th {\n",
              "        vertical-align: top;\n",
              "    }\n",
              "\n",
              "    .dataframe thead th {\n",
              "        text-align: right;\n",
              "    }\n",
              "</style>\n",
              "<table border=\"1\" class=\"dataframe\">\n",
              "  <thead>\n",
              "    <tr style=\"text-align: right;\">\n",
              "      <th></th>\n",
              "      <th>text</th>\n",
              "      <th>target</th>\n",
              "    </tr>\n",
              "  </thead>\n",
              "  <tbody>\n",
              "    <tr>\n",
              "      <th>0</th>\n",
              "      <td>Our Deeds are the Reason of this #earthquake M...</td>\n",
              "      <td>1</td>\n",
              "    </tr>\n",
              "    <tr>\n",
              "      <th>1</th>\n",
              "      <td>Forest fire near La Ronge Sask. Canada</td>\n",
              "      <td>1</td>\n",
              "    </tr>\n",
              "    <tr>\n",
              "      <th>2</th>\n",
              "      <td>All residents asked to 'shelter in place' are ...</td>\n",
              "      <td>1</td>\n",
              "    </tr>\n",
              "    <tr>\n",
              "      <th>3</th>\n",
              "      <td>13,000 people receive #wildfires evacuation or...</td>\n",
              "      <td>1</td>\n",
              "    </tr>\n",
              "    <tr>\n",
              "      <th>4</th>\n",
              "      <td>Just got sent this photo from Ruby #Alaska as ...</td>\n",
              "      <td>1</td>\n",
              "    </tr>\n",
              "    <tr>\n",
              "      <th>...</th>\n",
              "      <td>...</td>\n",
              "      <td>...</td>\n",
              "    </tr>\n",
              "    <tr>\n",
              "      <th>95</th>\n",
              "      <td>accidentCharlotte9 Mile backup on I-77 South.....</td>\n",
              "      <td>1</td>\n",
              "    </tr>\n",
              "    <tr>\n",
              "      <th>96</th>\n",
              "      <td>accidentBaton Rouge, LAHas an accident changed...</td>\n",
              "      <td>0</td>\n",
              "    </tr>\n",
              "    <tr>\n",
              "      <th>97</th>\n",
              "      <td>accidentHagerstown, MD#BREAKING: there was a d...</td>\n",
              "      <td>1</td>\n",
              "    </tr>\n",
              "    <tr>\n",
              "      <th>98</th>\n",
              "      <td>accidentGloucestershire , UK@flowri were you m...</td>\n",
              "      <td>0</td>\n",
              "    </tr>\n",
              "    <tr>\n",
              "      <th>99</th>\n",
              "      <td>accidentonly had a car for not even a week and...</td>\n",
              "      <td>1</td>\n",
              "    </tr>\n",
              "  </tbody>\n",
              "</table>\n",
              "<p>100 rows × 2 columns</p>\n",
              "</div>\n",
              "    <div class=\"colab-df-buttons\">\n",
              "\n",
              "  <div class=\"colab-df-container\">\n",
              "    <button class=\"colab-df-convert\" onclick=\"convertToInteractive('df-32cd856d-0d10-4147-b518-394ab2c2dca9')\"\n",
              "            title=\"Convert this dataframe to an interactive table.\"\n",
              "            style=\"display:none;\">\n",
              "\n",
              "  <svg xmlns=\"http://www.w3.org/2000/svg\" height=\"24px\" viewBox=\"0 -960 960 960\">\n",
              "    <path d=\"M120-120v-720h720v720H120Zm60-500h600v-160H180v160Zm220 220h160v-160H400v160Zm0 220h160v-160H400v160ZM180-400h160v-160H180v160Zm440 0h160v-160H620v160ZM180-180h160v-160H180v160Zm440 0h160v-160H620v160Z\"/>\n",
              "  </svg>\n",
              "    </button>\n",
              "\n",
              "  <style>\n",
              "    .colab-df-container {\n",
              "      display:flex;\n",
              "      gap: 12px;\n",
              "    }\n",
              "\n",
              "    .colab-df-convert {\n",
              "      background-color: #E8F0FE;\n",
              "      border: none;\n",
              "      border-radius: 50%;\n",
              "      cursor: pointer;\n",
              "      display: none;\n",
              "      fill: #1967D2;\n",
              "      height: 32px;\n",
              "      padding: 0 0 0 0;\n",
              "      width: 32px;\n",
              "    }\n",
              "\n",
              "    .colab-df-convert:hover {\n",
              "      background-color: #E2EBFA;\n",
              "      box-shadow: 0px 1px 2px rgba(60, 64, 67, 0.3), 0px 1px 3px 1px rgba(60, 64, 67, 0.15);\n",
              "      fill: #174EA6;\n",
              "    }\n",
              "\n",
              "    .colab-df-buttons div {\n",
              "      margin-bottom: 4px;\n",
              "    }\n",
              "\n",
              "    [theme=dark] .colab-df-convert {\n",
              "      background-color: #3B4455;\n",
              "      fill: #D2E3FC;\n",
              "    }\n",
              "\n",
              "    [theme=dark] .colab-df-convert:hover {\n",
              "      background-color: #434B5C;\n",
              "      box-shadow: 0px 1px 3px 1px rgba(0, 0, 0, 0.15);\n",
              "      filter: drop-shadow(0px 1px 2px rgba(0, 0, 0, 0.3));\n",
              "      fill: #FFFFFF;\n",
              "    }\n",
              "  </style>\n",
              "\n",
              "    <script>\n",
              "      const buttonEl =\n",
              "        document.querySelector('#df-32cd856d-0d10-4147-b518-394ab2c2dca9 button.colab-df-convert');\n",
              "      buttonEl.style.display =\n",
              "        google.colab.kernel.accessAllowed ? 'block' : 'none';\n",
              "\n",
              "      async function convertToInteractive(key) {\n",
              "        const element = document.querySelector('#df-32cd856d-0d10-4147-b518-394ab2c2dca9');\n",
              "        const dataTable =\n",
              "          await google.colab.kernel.invokeFunction('convertToInteractive',\n",
              "                                                    [key], {});\n",
              "        if (!dataTable) return;\n",
              "\n",
              "        const docLinkHtml = 'Like what you see? Visit the ' +\n",
              "          '<a target=\"_blank\" href=https://colab.research.google.com/notebooks/data_table.ipynb>data table notebook</a>'\n",
              "          + ' to learn more about interactive tables.';\n",
              "        element.innerHTML = '';\n",
              "        dataTable['output_type'] = 'display_data';\n",
              "        await google.colab.output.renderOutput(dataTable, element);\n",
              "        const docLink = document.createElement('div');\n",
              "        docLink.innerHTML = docLinkHtml;\n",
              "        element.appendChild(docLink);\n",
              "      }\n",
              "    </script>\n",
              "  </div>\n",
              "\n",
              "\n",
              "<div id=\"df-ec9e3c22-4b19-40ab-a87f-5e33f3dd9531\">\n",
              "  <button class=\"colab-df-quickchart\" onclick=\"quickchart('df-ec9e3c22-4b19-40ab-a87f-5e33f3dd9531')\"\n",
              "            title=\"Suggest charts\"\n",
              "            style=\"display:none;\">\n",
              "\n",
              "<svg xmlns=\"http://www.w3.org/2000/svg\" height=\"24px\"viewBox=\"0 0 24 24\"\n",
              "     width=\"24px\">\n",
              "    <g>\n",
              "        <path d=\"M19 3H5c-1.1 0-2 .9-2 2v14c0 1.1.9 2 2 2h14c1.1 0 2-.9 2-2V5c0-1.1-.9-2-2-2zM9 17H7v-7h2v7zm4 0h-2V7h2v10zm4 0h-2v-4h2v4z\"/>\n",
              "    </g>\n",
              "</svg>\n",
              "  </button>\n",
              "\n",
              "<style>\n",
              "  .colab-df-quickchart {\n",
              "      --bg-color: #E8F0FE;\n",
              "      --fill-color: #1967D2;\n",
              "      --hover-bg-color: #E2EBFA;\n",
              "      --hover-fill-color: #174EA6;\n",
              "      --disabled-fill-color: #AAA;\n",
              "      --disabled-bg-color: #DDD;\n",
              "  }\n",
              "\n",
              "  [theme=dark] .colab-df-quickchart {\n",
              "      --bg-color: #3B4455;\n",
              "      --fill-color: #D2E3FC;\n",
              "      --hover-bg-color: #434B5C;\n",
              "      --hover-fill-color: #FFFFFF;\n",
              "      --disabled-bg-color: #3B4455;\n",
              "      --disabled-fill-color: #666;\n",
              "  }\n",
              "\n",
              "  .colab-df-quickchart {\n",
              "    background-color: var(--bg-color);\n",
              "    border: none;\n",
              "    border-radius: 50%;\n",
              "    cursor: pointer;\n",
              "    display: none;\n",
              "    fill: var(--fill-color);\n",
              "    height: 32px;\n",
              "    padding: 0;\n",
              "    width: 32px;\n",
              "  }\n",
              "\n",
              "  .colab-df-quickchart:hover {\n",
              "    background-color: var(--hover-bg-color);\n",
              "    box-shadow: 0 1px 2px rgba(60, 64, 67, 0.3), 0 1px 3px 1px rgba(60, 64, 67, 0.15);\n",
              "    fill: var(--button-hover-fill-color);\n",
              "  }\n",
              "\n",
              "  .colab-df-quickchart-complete:disabled,\n",
              "  .colab-df-quickchart-complete:disabled:hover {\n",
              "    background-color: var(--disabled-bg-color);\n",
              "    fill: var(--disabled-fill-color);\n",
              "    box-shadow: none;\n",
              "  }\n",
              "\n",
              "  .colab-df-spinner {\n",
              "    border: 2px solid var(--fill-color);\n",
              "    border-color: transparent;\n",
              "    border-bottom-color: var(--fill-color);\n",
              "    animation:\n",
              "      spin 1s steps(1) infinite;\n",
              "  }\n",
              "\n",
              "  @keyframes spin {\n",
              "    0% {\n",
              "      border-color: transparent;\n",
              "      border-bottom-color: var(--fill-color);\n",
              "      border-left-color: var(--fill-color);\n",
              "    }\n",
              "    20% {\n",
              "      border-color: transparent;\n",
              "      border-left-color: var(--fill-color);\n",
              "      border-top-color: var(--fill-color);\n",
              "    }\n",
              "    30% {\n",
              "      border-color: transparent;\n",
              "      border-left-color: var(--fill-color);\n",
              "      border-top-color: var(--fill-color);\n",
              "      border-right-color: var(--fill-color);\n",
              "    }\n",
              "    40% {\n",
              "      border-color: transparent;\n",
              "      border-right-color: var(--fill-color);\n",
              "      border-top-color: var(--fill-color);\n",
              "    }\n",
              "    60% {\n",
              "      border-color: transparent;\n",
              "      border-right-color: var(--fill-color);\n",
              "    }\n",
              "    80% {\n",
              "      border-color: transparent;\n",
              "      border-right-color: var(--fill-color);\n",
              "      border-bottom-color: var(--fill-color);\n",
              "    }\n",
              "    90% {\n",
              "      border-color: transparent;\n",
              "      border-bottom-color: var(--fill-color);\n",
              "    }\n",
              "  }\n",
              "</style>\n",
              "\n",
              "  <script>\n",
              "    async function quickchart(key) {\n",
              "      const quickchartButtonEl =\n",
              "        document.querySelector('#' + key + ' button');\n",
              "      quickchartButtonEl.disabled = true;  // To prevent multiple clicks.\n",
              "      quickchartButtonEl.classList.add('colab-df-spinner');\n",
              "      try {\n",
              "        const charts = await google.colab.kernel.invokeFunction(\n",
              "            'suggestCharts', [key], {});\n",
              "      } catch (error) {\n",
              "        console.error('Error during call to suggestCharts:', error);\n",
              "      }\n",
              "      quickchartButtonEl.classList.remove('colab-df-spinner');\n",
              "      quickchartButtonEl.classList.add('colab-df-quickchart-complete');\n",
              "    }\n",
              "    (() => {\n",
              "      let quickchartButtonEl =\n",
              "        document.querySelector('#df-ec9e3c22-4b19-40ab-a87f-5e33f3dd9531 button');\n",
              "      quickchartButtonEl.style.display =\n",
              "        google.colab.kernel.accessAllowed ? 'block' : 'none';\n",
              "    })();\n",
              "  </script>\n",
              "</div>\n",
              "    </div>\n",
              "  </div>\n"
            ]
          },
          "metadata": {},
          "execution_count": 335
        }
      ]
    },
    {
      "cell_type": "markdown",
      "metadata": {
        "id": "WS0LXtJ1pv0j"
      },
      "source": [
        "## Q4 (1pt)\n",
        "\n",
        "Work with train set.\n",
        "\n",
        "1. Transform the data using CountVectorizer.\n",
        "2. What is the shape of the resulted matrix?\n"
      ]
    },
    {
      "cell_type": "code",
      "source": [
        "vec = CountVectorizer(ngram_range=(1,1))\n",
        "X_train_transformed = vec.fit_transform(train['text'])\n",
        "X_train_transformed.shape"
      ],
      "metadata": {
        "id": "nCfHWpEv36CC",
        "outputId": "bc2c3d72-e0d0-499c-c1a6-999d2d929ed1",
        "colab": {
          "base_uri": "https://localhost:8080/"
        }
      },
      "execution_count": 336,
      "outputs": [
        {
          "output_type": "execute_result",
          "data": {
            "text/plain": [
              "(5329, 16937)"
            ]
          },
          "metadata": {},
          "execution_count": 336
        }
      ]
    },
    {
      "cell_type": "markdown",
      "metadata": {
        "id": "gJAGnvs1pv0k"
      },
      "source": [
        "## Q5 (2pt)\n",
        "\n",
        "The matrix in the previous question has many columns. Let's take a look at the dictionary of tokens, method *.vocabulary_* of CountVectorizer object.\n",
        "\n",
        "1. Find all the words in this dictionary that contain digits. How many such words were found?\n",
        "\n",
        "2. Find all the words that contain punctuation characters. How many such words were found?"
      ]
    },
    {
      "cell_type": "code",
      "source": [
        "import re"
      ],
      "metadata": {
        "id": "0e6FCR8P53Aa"
      },
      "execution_count": 337,
      "outputs": []
    },
    {
      "cell_type": "code",
      "source": [
        "keyword_list = list(vec.vocabulary_)"
      ],
      "metadata": {
        "id": "3Njwxvthwtz6"
      },
      "execution_count": 338,
      "outputs": []
    },
    {
      "cell_type": "code",
      "source": [
        "digit_pattern = re.compile(r'\\d')\n",
        "punctuation_pattern = re.compile(r'\\W')\n",
        "\n",
        "keys_with_digit = []\n",
        "keys_with_punctuation = []\n",
        "\n",
        "for key in keyword_list:\n",
        "  if (digit_pattern.search(key)):\n",
        "    keys_with_digit.append(key)\n",
        "\n",
        "  if (punctuation_pattern.search(key)):\n",
        "    keys_with_punctuation.append(key)\n",
        "\n",
        "\n",
        "print(f\"{len(keys_with_digit)} words have digits: {keys_with_digit}\")\n",
        "print(f\"{len(keys_with_punctuation)} words have punctuation characters: {keys_with_punctuation}\")"
      ],
      "metadata": {
        "id": "-9TQAmzb4-dz",
        "outputId": "70cd499f-b5e2-4583-f9fb-812db93bbe73",
        "colab": {
          "base_uri": "https://localhost:8080/"
        }
      },
      "execution_count": 339,
      "outputs": [
        {
          "output_type": "stream",
          "name": "stdout",
          "text": [
            "3663 words have digits: ['2015', '60', 't5trhjuau0', 'b1g', 'bmurph1019', 'termn8r13', 'oaskgki6qj', 'di8elzswnr', 'tagzbcxfj0', 'xxfk4khbiw', 'mkx6ux4ozt', 'ma4ra7atql', 'cg579wldne', '7xglah10zl', 'musbik7ejf', '35', '23', '419', 'hcdiwe5flc', 'roughdeal1', '11', 'jackmulholland1', 'czdw8oowa2', 'zl7ojdaj3u', 'lkjfabqzb3', '1acd4900c1424d1', 'ns1aggfnxz', '3m', 'od250zshfy', 'wd9odwjj9l', 'tweetlikeitsseptember11th2001', 'ks100', '7o4lnfbe7k', 'tl93aod3er', '20', 'obix79ncxn', 'z8r6r3nbtb', 'namffldh5h', '53inch', '300w', '4x4', 'o097vsotxk', 'i23xy7iejj', '00', '06', 'thhjjw51pe', '01', '325ci', '5l', 'l6', 'c211hise0r', '10', 'xbznu0qkvs', 'jlczidz7vu', 'mylittlepwnies3', '80s', 'lhw4vtbhzg', 'yh5vetm0yz', '17wgug8z0m', '073izwx0lb', '18', 'e7fn5g5ruu', '75k', '52k', 'shhlv4dplz', 'sf5jdnvdw9', 'k9airfq3ql', 'ys3nmwwyvc', 'alpotnb7q3', 'wlmsq3mtho', 'gxq1auzb18', '40', 'uelz59wvom', 'z3ke_sk1', '6ds67xai5e', 'y87gi3brlv', '1zbhvdcxzs', 'raishimi33', 'yqjpn3quux', 'wk6b5z803o', 'kcrnmjkj73', 'gajtugaui7', 'mnkaji2q1n', '33333', '9vw0uqqi1y', 'tyjxrfd3st', 'j3di85ist5', 'swb1192', 'ameenshaikh3', '1ybe5mgzl4', '7zog3dpdu9', 'tilgurkv7z', '405', '91jvycxxvi', '50', 'saf9mosksn', 'qfrawln4ba', 'cd2ng2awql', '2wbivkzjip', '4mjyw7p7cf', 'vcq2icptki', 'a8jz5a26wi', 'ii2spvp89b', 'rodpt33xfm', '0bvk5tub4j', 'nps3xpbkaq', 'xb1', 'vpvj5hrc1i', '8tygo0kizz', '1st', '300', 'h1xigcen7f', 'pw3tzu0tay', '9giaxd6jty', '19', 'oogoto76uz', '2013', 'xc96rwuszb', 'xm9stfzcpv', 'robertmeyer9', 'r1cnsjuayq', 'dq1ylcrf9k', 'ohcx3y8l4s', 'hfvnyft78c', '8j4rdwyjwu', '9mkzpzfkl2', '9000', '1800', 'x8i0mhyrmn', 'k4zomof319', 's2kxvm0cba', 'qsheu3yf0w', '1943', 'sqfp6ecz0i', 'oef123l5rc', 'u2do2mc2ri', '3om3xw6cz8', 'mh370', 'i1eeuxxz3a', 'wattys2015', 'g891m9gh4r', 'xq92x4bvg3', 'mirrorlady2', '6hhmbdk9yo', 'm4tczaawpt', 's5', 'cas8xc2dfe', 'hpd3snm6oy', '9973', '16', '99', 'gsmddmu9pu', '1sgzgtgfw9', 'b4', '12hr', 'l9fjpnszuo', 'mskn6d3ekh', '21', '2fs649qdwx', 'kltit88as3', 'x9mdhocpda', 'wwu070tjej', 'b2', '52', '15000270364', 'nyv51681ue', 'cbs3', '9rfo9gy3ne', 'o82yvxbztv', 'n5kmxuverg', 'vj44', 'uwobuuw2mk', 'eac4au', '15', 'fvp3wnid4l', 'qelroci7by', 'friend50', 'hy5pbe12tm', 'c1njpli5or', '1qochspybw', 'kiildu8gpo', 'wudlkq7ncx', 'fqv47ob8ge', 'cwm0ulqu3e', 'cx6aupnemu', '400000', 'ûò800000', 'txzxcnudr8', 'b1bx0eruep', 'bgy4i47j70', 'ixjqg1sx6u', '8owc41fmbr', 'ohbv7yvtl5', 'ymuti3nd9r', '74', '75', 't7ge0j3cay', 'camilla_33', 'wbcshirl2', 'rodarmer21', '16yr', 'zbzc8905gl', '2day', 'dno7qxcffh', 'ia1hngnhvb', 'marek1330', 'ffkcj8pfj2', 'music212', '5v29w19tfx', 'enrjh5qkve', 'windows10', '3fzidhqrk3', 'stankyboy88', 'acfi2rhz4n', 'pst5bbq0av', '495', '31', '97', '90', 'nkkctttsd9', 'cybksxhf7d', 'vcjcykq8b8', '8qc8bcxoko', 'bytbz8s5ux', '034', '1a', '5s', '5c', 'o3wvsclicx', '14', '4evttqpeia', 'ue78c7egox', 'ap30pszkvx', '9vd6x4wdoy', '70', 'ltvvpflsg8', '3g79prayyc', 'isi1rllct0', 'sr37', '1141', 'mylieruxk1', 'kah1kmtrj7', 'qmo1txxdkj', 'death2usa', 'tngye2fklv', 'y46isyzkc8', '0xa6fcjyec', '8cpcz2xohb', 'c5ggszugw1', '2pimg9bice', 'glosblue66', 'sjkgjxff2r', 'm8ufjdtlsm', '48', 'a6ppegelox', '39', 'e0uusnpsq5', 'utc7pdidfo', 'haji_hunter762', 'oioecbsh1f', 'tomarse99', '24', '09', 'hxwfbpp1b3', '087809233445', '2327564d', 't1mbw0ia3o', 'clfa0py5lm', 'o784', '4103', 'calum5sos', 'dih1tgqhej', 'jlwgshyy3n', 'round2', 'fqqi8gvlq4', 'hwy401', 'aprensss3x', 'xizkjfff29', 'grzchkdf37', 'n844h1aspj', 'sz2rvwpwhj', 'lajx578dru', 'p4doa5yyje', 'ep016', '08', 'ejkrf8n8a8', 'sphwe6wfi5', '375', 'd7zxz42qw1', 'jcdd6sd6qn', '9guckjghms', '55', '8jcyxhq1az', 'kevr_7', 'wj7ujfs8fd', 'tbqsqtmqv4', 'e1vkc2efst', 'beua507iug', '100', 'wvlah8jrxe', 'z10', 'sd7loww9nu', '7hkavtvx81', '2pm', '2nd', 'ja3w1s3tmr', 'wqikqx9e3w', 'kncm9jc8i9', 'jvivt6zrv7', 'ss1zl36y9v', 'p3g3bqbczu', 'rpbxdfnx5k', '6615434', 'dmlj1agotw', 'qmif0blwoa', 'l6pif3lpen', 'chrisman528', 'enpjcfma8l', 'moa0q0aufa', 'nkou7zwwrt', '17', 'wvj39a3bgm', 'dieanpink95', 'yu_nita99', 'pioy1o54f4', 'e9yfe3p7p1', '8gzbgmmaa1', 'lt3dave', 'orxdqfz0j0', 'vn0accf6d4', 'of3td6dglb', '5ytiex55lh', 'ysxun5vceh', 'i7eskymoec', 'efcn9ivnfg', '7cibxls55f', 'bbdpnj8xsx', 's7vygenjuv', 'xfhh2xf9ga', 'joeybats19', 'rqwuoy1fm4', 'dili5jhmur', 'ndxrk2ncln', 'th9ywbbeet', '25', '6sdtzsgelq', '7npbfrzejl', 'y0kbyy8nce', 'l9udest', 'btpqdehl3p', '9pm', '4hngtkdqmv', 'l1gh8064yv', 'k9fbtccu58', 'xyj0rpsai2', 'jkpjpch9i6', 'chrisdyson16', 'iylvzy3cob', 'teq7sri57p', 'pdehd1tcpk', 'targ56igbz', 'wz55nbyao3', 'l7pmdmejs1', 'mdp2ni1pqu', '9cpwiecegv', 'rzlytnez2u', '86v81dv00e', 'h132iul7mu', 'e1kbludwh5', 'nkaw9ezqgg', 'u4gsbnu8wc', '77', '8437150124', '360wisenews', 'eatfro3d5x', '5km', 'v3azwoamzk', 'rny4l3sr7a', 'igx8xfz8ko', 'gk4unpznhn', 'qr6btdcqcj', 'd1vjoyg52a', 'chorr2xovp', 'tqh5amoknd', 'bm0sxzbnke', '92fwtobi3u', 'cor4', '12giqbvlys', 'jwfiilj8wr', 'czqr3ci9xw', 'b77t2qxdcs', '25sy9y295l', 'q8reoevlue', 'jlzk2hdetg', 'judson1360', 'xtra1360', '3g', 'comuiok3mp', 'welshninja87', 'tuvbr4lep3', 'cpeqv52lna', '72ix7vm87w', 'ageekyfangirl14', 'fs4y1c9mnf', 'l8w30wfw3r', 'icrzi5tqc5', 'onxhkfhn2a', 'hu5cxqnobf', 'uymxocfs33', 'lauren_miller_7', 'lgglf5yrme', 's2wm8lh7oo', 'n00dvxega2', 'b2b', 'b2bagency', '6vei1mhea4', 'samanthaturne19', 'n71hmvervv', 'u6isxv2f3v', '213', '4678', 'o2jd4tbrwa', 'jfx6qiyivf', 'lma39zrwoy', '05', '12pm', '45pm', 'ayfdjeb7hy', 'vnni3zzuz6', '28t3nwhdky', 'pdosrg8cf7', 'kpvymhm2ub', 'phixznv1yn', '6tvvlg2fni', '7mlcd0l0b8', 'nlbltynv36', 'cjvbqxw83s', 'ih8udz8mq3', 'uqnj6nk9y3', '3og66nfsig', 'uhf7nyabsw', 'nonm8c6l8p', 'st5fgblsye', '0uk0h9hozn', '101', 'ujrx9kgawp', 'ja0wgp8spe', 'ryah8fni5q', '26oo0fcl53', 'ipwysnik0g', 'gkye6gjtk5', 'jejc9xctmp', '917', '033', 'wxces39zte', '4ryzmzsgdw', 'mgr809yc5a', 'uzwxjbg0zh', 'pbya7uv3v5', 'f1bakpnyn6åê', 'lzxwoaye4x', '2781', 'vckit6edev', '6mbpvwitxf', 'mmchale13', 'vbsj8tniv1', 'nf4iculoje', '463p0ys0eb', 'fu1btuq1et', 'bp8bm8xsxw', 'p6cylz5lpt', 'jpu9gips9f', 'ndjja4d5o8', 'l7bjsq0y2o', 'blcbabm7a1', '30', 'u1fuwrgk5u', 'vg8hrbebda', 'x1xj0xvtj7', 'a1', '90blks', '8whts', 'dnu5hwsxo2', '27', 'zonewolf123', 'u66kyg11zd', 'defj7xekgx', 'kxewlhh7uw', 'qnvxj2palj', 'rqiuqxnm2x', 'rgyuakc0dr', 'ba2rrxugsg', '70years', '8vzl1ns2io', 'p5zicjudxo', 'kzhb8zx6yc', '13', 'uz1yiz7n6m', 'ijwar15h16', '158', '1017', 'lw9o2kdk18', 'ihave44episodesofgg', 'weudlkc4o4', 'trl1dskf81', 'qzvkpahsq7', '180', '999', 'zdtz3rbs6w', '29pm', '15pm', 'o8x4m5er6b', '415', '751', '0880', '5fhkxtrhyu', 'ioq051t5te', '629', 'klxaucnp5i', 'lhdcpnzx6a', '88', '92', '5th', '3ugfpwmy2x', 'l2nmywrmq2', 'bozlwr716z', 'c9t2f6dltm', 'mzqq5pai8g', 'wj0u59mppb', '900037', '6ime8kjacv', '70th', 'qreinwg0gs', '9am', 'c0slabbp7j', 'ge0yd3mkav', '80dzgco6vc', 'qwo7q1amh8', 'esrkmazeq9', 'udkesj01ml', '05th', '29', 'yqyiwjn8ez', 'bqblwiw08g', 'osi2016', '10th', 'tbm9fqb8cw', 'mcsek4hx5s', 'iifgaz0fil', 'jt_ruff23', 'btjpeo0bto', 'clyj32l333', 'dlaub2nvtn', 'xpfmr368uf', 'nmaumydke1', 'jzprciqa9d', 'fj7kcrlir7', '2k13', '7mlmsuzv1z', 'm5rjekvddp', '2pcs', '18w', '4wd', '1qt51r5h98', 'oqh1jbuenl', 'bagef9lfgt', 'bvxqa3kfrx', 'emvohm9m6j', 'hhwv0eudfv', 'kmndkfa7me', 'emrzicb004', 'lwilliams_13', '20b3pnqxmd', 'kee1tytz15', 'spe7u8t40k', 'ohyd7hhcpe', 'fqj5aga1pd', 'x8zqbwnfo1', 'f4lhfmehzh', 'pattyds50', '12', '72w', 'mjmwa72er6', 'adx9iyi246', 'x9ofv1kmv7', 'b19z8vi3td', 'yvv1rlghft', 't81oayjowc', '0dqjeretxu', 'ik7mgidvbm', 'af1yzus8ln', '2ii3brc7nx', 'kshllcenterpri1', 'progress4ohio', '4zmcqrmois', 'l9ekhnkbar', 'y3fo0ghg8t', 'layzba9y8h', '6th', 'orjb3j803f', 'cqyvfr4ucy', 'p9rymfjcux', 'yojkfqej6s', '8m', '0ghk693egj', 'hs2', '178', 'lzml1xb2nh', '1krpz3j1eu', 'g37hujx6et', 'msgdoing111welfareworks', '65000', '5cgtqfk2ur', '3am', 'nmtlpo4b58', '360', 'y2jt1amyfj', '3rd', '7nu7prxeul', 'rw8b50xz9m', '2z8ubsy5m8', '3kob7xbea0', '7dyoglhmre', 'hkm3rtd4zf', 'mj2jq2psv6', 'swwylrk0fv', '6sdgz5dxnt', 'bjzssw4tid', 'o207jyabyz', 'cjctb2ocxg', 'ugzu9iqprw', 'wc69xajis4', 'ledofficial1', 'a8nmdkd3rv', 'tq3j2qgtzq', 'igxrqpotm7', '3kpbu6hgt5', 'gl4mcax0ny', '3sicroaanz', 'i27oa0hisp', '143', '2007', 'f1tcbg1mki', 'is2idc3ubj', 'bb4sp', 'sayzt2oagm', 'u7vavyrgv9', 'zrzejpef5j', 'amea3lamdj', '911', 'yo3t8qho9h', '8odtzmvqar', '64oz', '9cntp3nq6o', 'qdf6asaelm', 'benjm1', 'b1grego', 'vbhu2t8wgb', 'n3yjb8tcpm', 'udj50j3mv4', 'dhggxo7mcc', '5ortb8p51c', '2012', '96355', 'i8sj1kws1d', '5bdrfu1duo', 'o61h2taae4', 'n95igskd3p', 'tzszmf2qxe', 'esemjrn5cc', 'pue5xnznqb', 'ecd7hizja1', 'gvj7slbelp', 'qadrkejz9t', '5dujgypima', 'sywuel7yyx', 'lkz5cnynxx', 'mfsbwpj0ce', 'pnssia5e46', '9v1rvcomh2', '30a', 'e3l1jqjh2u', '7vcezi6cbb', 'azovgv4sb6', 'qv7iydovx9', 'ofecs6tcvc', 'q2eblokeve', 'encmhz6y34', 'x1441', 'cvjyml7krm', 'fph01u3eii', 'mcc76xowli', 'uqkx5vbium', '4000', 'igll3ph6o1', '1xpw292tje', '9qpg0z3rh9', 'bjvfk1ete9', 'dzlense1gw', 'im2hdsklq5', 'iwsdbgd1zq', 'wpilp4mymf', '8nhd9idajs', 'psbxl1hvu3', 'be_ram0s', 'dsb3ldfuxu', 'ttq9ilhp8w', 'lxvlqvbc8r', 'acmrm833zq', 'lzob8qoh1b', '1pdjoq4jc1', '600', 'pjigxpvpl0', 'qyu8grorq1', 'nn6y0fd3l0', 'bz3ir4gmwj', '7mzycu2iho', 's0ktiliskq', 'olpbmy9xw9', 'on18cqgcoa', 'martinmj22', '2q3fuerey5', '5bgcw3ezb5', 'tfan6qq2ys', 'eujgu1hvvx', 'itfbbz9xyc', '130', '1980', '6ioabsl6i7', 'ophiuchus2613', '1008pla', 'go0pkrfzmf', '5hkgxzjlmx', 'siren_song21', '1200', '83', '2014', 'ek6kyhxpe9', 'yn6nxoucr1', 'wc8aqxedf7', 'iqj1z3jxx8', 'tm5hthfdo0', 'ik8m4yi9t4', 'dmb6xp966d', 'u2es0uk1u3', 'bgrab7lk8d', 'noahj456', 'xnto3jmmts', 'cfevtrsc1u', 'vfctrzaok2', 'acb0ryenuo', '36', 'michael5sos', 'lnzi7o166y', 'tmpfwjpi6i', 'qh5axvhwh5', '1pdnlsp8xw', '0wbecdmhqo', 'a2ss7pr4gw', 'j2pykyo0en', '14wh0pjj2c', 'xyi5fdacxo', 'georgefoster72', '3brme6sn4t', 'sb3rjqqzix', 'tomdean86', 'm0dap5xlwo', 'ghghqm9e6d', '5pmikavykl', 'sks5jccrj2', 'vsoxkbt6nq', 'tms7', '985dwwpdet', 'wmdihdiz1r', '367', 'emdjnnltp0', 'fxdh3u8bq3', 'e9d9lk5fdw', '3htj2pypsg', 'i9dspdkruk', 'nep5azwkna', 'xlq8g6vb2r', 'k5fijankjb', 'nicklee8', 'london3', 'xy41z0o5ei', 'vg7jnah0iw', '7vsqqsvgni', 'cezhq7czll', '1620', 'ssn1mxsfoa', 'fw8elbnap7', '4500', 'vijfnhl630', '9jxb3rx8mf', 'b5s5epj7um', 'hpa9gqrywa', '2011', 'qdmvtj4lzj', '4tiles', 'win10', '2nip3d15dx', 'qpur3vd7hl', 'j5mkcbkcov', '4yi4nuovbv', 'yahoo7', '1916', '8ddijzynkf', '52uus4tfn3', '578gunp8t9', 'tatzfk63ch', 'jnromse1z2', 'w6yu7qs4cv', 'sqn4girdvz', 'wgwiqmicl1', '95', 'acc1z5q9zw', 'hdumpty39', 'pms4pmur0q', 'russaky89', 'zhgu8ye1bj', 'x1onv3d5ux', 'wbogs8ejsj', '17000', 'n8ezfctfce', 'gknrp0e8qs', 'hz4lkffc59', '1945', 'ow4gexynbh', 'pme0hojvya', 'edyfo6e2pu', 'm5kxlpkfa1', 'k9cd0efvut', 'scghl0piq6', 'dm0uupqgwy', 'adz8kburt7', '11juzhlgmt', '20skyhawkmm20', 'traplord_29', 'fredosantana300', 'lilreese300', 'mtgfx3efiv', '3a3fgzfmzh', 'g0q0bzbjli', 'exyr6c5qpu', 'danielkemp6', 'fel4qhwyfd', 'zg1yddywa5', 'dodxi41y1cåêis', 'hlmyaanrc9', 'k1tmlwvjmj', '64cymg1ltg', 'xssgedsbh4', '40mln', '0dxvz7fdh3', 'cc7d0wxk0m', '0fekgyby5f', 't07qxp5cbe', 'mkqsvp8e0g', '7a', '30p', 'fdiu44jldj', 'c0nkgp6w03åê', 'hworb1n6vn', 'rs22lj4qfp', 'ld0uniyw4k', '66yvulizbk', 'sa5cdwvdxt', '8eijdxapnp', '4kus', '15moferadio', 'heavybag201', 'hughes1128', '7spydy1csc', '9wqixgmhfh', 'pm2tnnfdww', 'friend59', 't94lnfwf34', 'rocyyei2dm', '9lpf4v4hmq', '2ag9auabr3', 'qna4tubnwh', 'anp9g6njfd', 'gexhzu1vk8', '100mb', 'q1', 'avzsyie1nt', 'zdj2hyf6ro', '10pm', '00pm', 'semw5cq7dg', '1hlvrkwgip', '9f3rdn9n3d', 'rslm72254', '115film', 'daalpenzp0', '030', 'sct014', 'bkn032', '2030', '320', 'rhxmghspd7', '14028', 'yg697fcqgr', '4e719w6m4v', 'drag0nking0201', 'sww0qsmxvm', 'bcdp4gkoka', 'u9cd0txe7z', 'vgzgok5k3s', 'ywkk26arag', 'm1', '94', '04', 'zdtoyd8ebj', '20k', 'sky9eokggb', '5iyzsda6xb', 'xzv0lt9zzk', 'm2y9ym3if6', 'pty9hrcuzh', 'r7pvtsduma', 'ltyefjdm3a', '0la1aw9uud', 'dh30000', 'y35qtvdsoh', 'qhujajctr5', '8hgcbxukz0', '4kopkcyvtt', 'dfyasvj7nf', 'avv6hpnpch', 'auxsmdg1un', '26', 'qsipl1c9fa', '3w0pxfyyri', 'yqg5pvw5gx', 'j6wseptxga', '5sosfam', 'qwgiwc9w7z', '9lyx7zmthe', '5pbc96rtmj', '9km', 'roh3', 'alrasyid448iturasya', 'roh3smantibatam', 'yr8knephgu', '6ezkoof2xt', 'facm78eg7k', 'l90dcpv9zu', '53', 'z8xiqngulc', 'uzsqzycb8x', '540', 'p18lzrlmy6', 'hollyorange8', 'bonn1egreer', 'v4br5gjmiy', '4i0rkcbk1d', '124', '172', '1fvootqnej', 'j43nwkx0x3', 'q4kgftc2am', '6w6a2l4qae', 'rku0idm6aq', 'monijjth7v', '0yxbb5dzw5', 'txg7k2do9v', 'tube4nbqnz', 'q0jhdcu6ly', '15th', 'kgswhsr7mn', 'zombiefunrun2014', 'latssuo4ws', 'hgdrk81sn4', 'pfsryjs1pc', 'skdbot7tgf', 'camilacabello97', 'ptq3zmgnck', 'ajpnebg803', 'dq3ddgvgbf', '96km', 'time2015', '34', 'utc2015', 'qew4c5m1xd', '28pm', 'd02sbm0ojs', '3934', 'grh7zlk979', 'cgdj3drso9', 'charstevens97', '9wowps78vd', 'aknynpv461', 'hfzk09mcen', 'ndgpwyxu6h', '8bhvxx2xl9', '4ou8s82hxj', 'zsdvweglf5', '2008', 'njd1n5txxe', '1000', '12000', 'avwe1lbvhn', 'zweygphpf7', 'xuhmj098lq', 'y8h5v1j2y7', 'eysvvza7qm', 'j3cirxjfa6', 'amrox4y4nx', 'avvsoino8z', 'qcyqhvn2ha', 'jtxji7ygrl', '2be7bwcmpl', 'legna989', 'dgelj8ryt9', 'a0ad8z5vsr', 'bqv3qttuxr', '0drqlrsgy5', 'cp7c1ch0zu', '0pamznyyuw', '3939', '5qyczywkgg', 'ktd5ig9m5o', '2jhtlwuey0', 'g0dn1chluo', '4zqrsaqrrt', '6ar3ukvsxw', 'wcfpznsn9u', 'vsvy1qe69t', 'eelex4ssvf', 'h6z7hxuqtu', 'hunterlove1995', 'usar2015', 'usar15', 'qhfqlui6ry', 'aomq1rykmj', 'annealiz1', 'rcburzsb2b', 'ehsfklgri3', '5xrc0a76vd', '02', '9ikhdyhvnc', '200000', '100bn', 'po19h8ycnd', 'bb7ttdvjwe', 'hpvodud7ip', 'ew5wzc07fo', '9bliddngtf', 'yuo7jdnijx', '361', '2a', 'eaaqumkkc9', '731', 'vvplfqv58p', 'l5awtundhm', 'bwe9kjcept', 'c7', 'i4aogcsoy5', 'djiwg9pxv4', '2h0dpmv2ef', '4zn0mdsrvp', '28', 'rgpem2tqej', 'g03dkpoonp', 'go0hpi0b4c', 'yao1e0xngw', 'babysweet420', '420', 'ksxto8nknl', 'homealone2', 'film4', '27w', 'd3p88xdlec', 'j2ddvh7fy0', 'bjycrgfh5y', 'yilt1bb68k', 'n0tawgezjx', 'vmkexjtyg4', 'calk5nv5vc', '19th', '64', 'o2cdkpsdfp', 'cwz37lndvk', '4kdthctemv', 'thyzomvwu0', '83joo0xk29', 'g1bwl3dqqk', 'kz35rgngjf', '2azxdlcxga', 'axvq80rbyj', 'sophieingle01', 'angharadjames16', 'zpsnx5iyaj', 'qms8rressd', 'zla30jcssq', 'yu6nue7gfb', '3gz5zqqthe', 'tn1ax1xmbb', 'neil_eastwood77', '4xb4zwyhct', 'bp6mfjhars', 'hukjz1wt36', 'dxwfx56pwh', 'gpaulista5', 'nq89drydbu', '5ebpybfh4d', 'uo0aqk9kr8', 'n9c3i9v8go', 'mkwyvm3i8r', '5hljucxi0s', 'fifa16', 'kgtxnnbj7y', '1meeo3wjco', 'giyaad7dcc', 'wgmzmj5imd', 'qvsp6b2qsu', '0s6ydfrwdq', 'gne1fw0xhe', 'pfmn63vnam', 'natz5ipv1x', 'leaeby6cr2', '54', 'srslcxhc2t', 'pwd5l0glkv', 'h9fsiaxv3q', 's7nbowa7tp', '3f7owdecy7', 'hkbxxvd9iw', 'p6gqmctglj', 'zsykzj2bzg', 'fx7uzzxte4', 'ga14egplw9', 'ks7ln8hq8s', 'mauds99', 'ush59uq30j', 'ksawlyux02', 'rvkyj3yuvk', 'ww3', 't344phnpy9', 'drno7okm21', 'allthekidneybeansandsorbet4misha', 'wmnb5ita5p', 'mflrvbh4qa', '1mvsqg0xke', '6uhih9pbru', 'mudgu1puns', 'vbswhz4s2v', 'ingu6ztyg4', 'pcaldicott7', '7newsadl', 'r1xwdnvb0g', 'quedv2xxxx', 'b6nphxorzg', 'bigburgerboi55', '1952', 'mcejzzxgh8', 'jrdwyy0ax4', 'since1970the', 'b4federal', 'wgqkxmby3b', 'wk63tm34a0', '9naw3qoqol', '90l2lb5wmr', 'iggfnbixt5', 'pt1', '9utqe9zfde', 'qpr1980', 'rorington95', 'b7omj7u3ei', 'mtmoia0oo0', 'nn4ztcmsru', 's5nuegswyj', 'qdhxto57em', 'e0lugbl6pb', 'gskjqwyi2d', 'zzsee5hipm', 'j3lyon', 'pjlda9hd5v', '3wnjauar7w', 'i2aag6lp6w', 'zr5rgbgh03', 'sbhhkkz01y', 'xpddwh5tem', '2acrgdqhj0', 'of3q75fgeu', 'jbrk8zsry6', 'zz0cewew64', 'q5mp2q6hy8', 'y8wloctevc', '15p', '7p', 'feikc9fxed', 'uhkxmxab9l', 'chr3lyc', 'iaff36', 'jyiegtnc6h', 'l1gfxgozvx', 'qr1l2jyuez', 'jtjofltms4', 'vplr5hka2u', 'sxhw2tnnlf', 'cxb55h37jn', 'h6tyysgr30', '7hanpcr5rk', '9zmwt9xydz', 'v4smaeslk5', '365disasters', '911f3ixrh0', 'eeewo207mx', 'writes4coffee', 'sto58qa94c', 'tw4rw', '544', 't6seku4yvm', 'tjoz4u4txl', 'ph7wllkrfi', 'any1', 'oxxrnab8un', '5u5gakx2ch', 'kg4vaal', 'ot3bjjhh8s', '260th', 'ay49mtyyl8', 'votejkt48id', '12news', '90th', 'g62txymzbv', '140', 'sigeeq42cz', '6acswzo7cw', '3tnuaciv3c', 'ncjpgf6znv', 'gerjau74ey', 'summer2k15', '2002', '81neizeknm', 'm4tui0p9nt', '20s', 'mt029qj4ig', 'rbmucurs2f', '7amdollela', '3la', '7aal', 'dhambp54ya', 'shawie17shawie', '7paovyzttw', '5000', '33', 'tyyfg4qqvm', 'onvd9d4nkg', 'hhtwayt4yo', '3ev07ppapn', 'xuzee2budv', 'mhl7pfr7kb', 'lou8lbla1f', '8e7ry8ebmf', 'kacrlpjc0l', 'e84ifmcczn', 'gopsicp8bm', 'dacherryontop13', '1elreh1jlj', 'q3dtoqo04c', 't8sv2ai7sw', 'healthweekly1', 'pzeixi4xk7', 'njd28pg9xv', 'ashes2015', 'a7tjawwtj7', 'swq5lmydka', 'aauizggc9q', 'steph93065', 'jmawrlt7hb', 'l056yj2ioi', '8ihuco4glw', 'dehmym5lpk', '5qhqo6ejtu', '107', '410', 'bsmj2hvgwd', 'bxalnedy49', 'hddbmu2yca', 'sgxp1u5ol1', 'si02qrguka', '0c1y8g7e9p', 'cgf61fpmr0', 'media420', 'jnn0krnxvy', '5loiwuyv5r', 'zrtrpl77qv', 'dmac1043', 'bradleybrad47', 'fd9dzspugk', '1928', 'wpkl2qniqw', 'bd52fxdvhq', 'j5onxfwlao', '6g49ywwsqj', 'bs6xaqhsim', 'y3zfqjsvpz', 'xehwmsh7lv', 'a0v1ybysod', 'th2wlilbmo', 'vam5podgyw', 'za4axfjsvb', 'da9lzton1c', 'xgkyvf9t4f', 'u9bkqt6xhr', '300000', '1200000', '11000000', 'prci76howu', 'rtcufag0au', '905', '877', '8591', 'al28rvkqpq', 'ndwep6izdq', '5pm', 'zlco4ue5oq', '1beegwrsis', 'drculiyp0t', 'bla42rdt1o', 'einsqs8tfq', 'neur0sis', 'zyrzx6dfki', '6cx46e7qb7', 'tgcr5vofj3', 'e65v80fcus', 'drbcrypj4p', 'jwiv6wyw6f', 'qvs7o10bg3', 'm19ivwrdkk', 'x2wn7o2a3w', '7ad0l7cgee', 'hhzql9tznp', 'pkfv8lksld', '0iyuntxduv', 'gn3whnsfib', 'fwpof5twoc', 'lvlh3w3awo', 'viwxy1xdyk', '4got', '81g18wsauk', 'od2ratxrqs', 'û_1', '160', 'pnhpljho8e', '64xr9ltnoh', 's0eyq1wehe', 'c5jutfxbm9', 'uxp6poqjlb', 'x1392', '8015', 'oqw8jx6rts', 'bvckd9pdti', 'uonebahh3h', 'jasoncundy05', 'wkpzp1jcau', 'hzpx6vaqpz', 'l4w0pcorbs', 'z8ij8ktkyk', '9nyxjndora', 'sg1ftkaegq', 'rkb7egkveb', 'knbv2ytnwc', 'ianokavo96', 'rvmmut3gvc', '58', 'ybdsljw7c1', 'u4bdy1w7d4', 'news4buffalo', 'gxqwd1qzbd', '2010', 'vve3usesgf', '370', 'gyqlaoz3l2', 'pckf0nl2yn', 'gayler1969', 'melissaross9847', 'mackinnon08', 'l0deocxu6o', 'aliveafter5', 'sc4twjkxr1', 'yn6duotimr', 'slc27emugm', '1862', 'iw7elszifz', 'montetjwitter11', 'nolesfan05', 'qv1rmzi3j1', '7old5mjwph', 'offers2go', 'w9cd6offcj', '6ndbfopk5m', 'dazqamoo0c', 'seshqn5dsk', 'bc19', 'm6x1', 'sqpshaws0w', 'udlebh88uz', 'zoipkpbd6o', 'cj76k0yayj', 'lh9mrypdrj', 'mp3', 'pqhuthss3i', '0iw6drf5x9', '5qhoehe9hf', 'e1', 'ch4', 'jgdlx4faw8', 'kmxzho5tfm', 's0ctcqjvjx', 'leyjwnnah8', 'dlizfkk30y', 'wal4frtfka', '0f8xa4ih1u', 'ngkrzpza45', 'v5yuualoqw', '263chat', 'eug6zhciun', '263789f4', '30s', 'htez4z48od', 'eq4rxc9bb3', 'meganbee92', 'iywzallsn4', 'h3dch6fyaw', 'luigmhma1i', 'bumzvmwam3', 'jhc2rt0v9f', 'yzazf4ceoa', 'x5rc5nuamh', '1k2phqcuw8', '12am', 'dggm5b0w4l', 'eyr2xx5l1p', 'w0exzad5gc', 'eg1fskqbv6', 'ildbeje225', '241cn8yxjq', 'mhtw4fnet', 'ks94', 'ihphzckm41', 'ibype1kaz5', 'obp595w7tm', 'rv9dv6joew', '5fcjvml520', 'fvyrwhux8p', 'dh0s4buuk7', 'c_pinto001', '9pfeaqeski', 'fntg70rnkx', 'lk5uqkop1e', 'vgvjgr8zoo', '928', 'renew911health', '40w', 'us70', 'flow397', '82', '15t', 'sa15t', '2jbibeib9g', 'p5ktaqw5qg', 'x6asgrjswc', 'bfes5twbzt', 'kl4r1ccwct', 'myhhthsli3', '9hkxxbb82o', 'joelsherman1', 'ijobz3mzp0', 'm9o08gurt4', 'ptc0xcragy', 'jkd7cti2iw', 'lajn2n5e2d', 'jasonpope2', 'p8yr2po6jn', 'vbqmz5apwj', 'c2eyjnybfn', 'gt7gf0fsex', 'v5gtunwohy', '6peeip4y7w', '5yl4dc1tqt', 'gllawb2fsk', '3kaafuoztc', 'ldbao0rsuz', 'abc7eyewitness', 'abc7', 'q5q1x5vcqk', '1osmiuxkhw', 'kp2lf4aute', 'hvbj30aj9s', 'lhpgxc4b8j', '309943', 'pol92mn8yz', 's4srgrmqcz', '325', '10am', 'oa6b0z2h6y', 'afk_10', '35jyap0ul9', 'jones94kyle', 'rg9yaybosa', '582', '616', 'nvfkzv5fex', '38pm', 'epzgg4uqji', 'k5knnwugwt', 'ipxpi3me16', 'rv0fk7q4y5', 'ps1', '0gknpy4lua', 'czpdn9obit', 'jennife29916207', 'dmtab6g7j7', 'lbpx8bucnv', 'c720', '3dc', '3mtwh0jjns', 'bbqnk76qus', '0blkwcupzq', '6sy44kyysd', '2lgtzkwmqw', 's7xdxuudcy', 'lqjjy1ptwt', 'reffbkvg9r', 'qzdqrbr4lh', 'r4utnewlna', '12u', 'esk4yvzvap', 'imtygds5qo', 'l3w8mipvnt', 'o85m1bjfrw', 'i1vpkq9yag', 'ty5gavn7uk', '1mgvd4x5oe', 'odydt9qpk1', 'q3xq8r658r', 'k3', 'norkxbrs6g', 'igm2fcmupm', 'uxcfbj3mzx', 'hmwhob7prs', 'modnao23', 'cihc8nrc9h', 'tui9uwbvvp', 'fc3bxrthpg', 'biu4kowglz', 'l4wjhz4aj6', 'kmgdv7vsaz', 'bytsfms7md', 'kxplyom9rr', 'xwnjysv9v9', '46', '7d7vweq3es', 'vdefmulx43', 'yqpaijsa5g', 'zsqm8ihe1k', 'cm9tve2vsq', 'hxdg254dho', '407v1y4hhg', '0vcsafx9by', 'gpbxrrdc07', 'nss5l64cvr', 'vf6cklmcsx', '459', '2uvmq4vafq', 'mayhem_114', 'qi8qdw5dfg', 'tyewzf3hqa', 'espn2', 'eerkh8ljws', '3glyoyf6oc', '45600', 'vmf5lnxvzc', 'uotpnsqpz5', '4esbsa8int', 'fcfpijiqt5', 'kjsvw06gbv', 'bieyguqpb1', '1965', 'k9asktwxfl', '8550013', '21k', 'ezbtg81trz', '106', '1061thetwister', 'xkonkz0zl6', 'dxvtgi1bvo', 'p4kofytkdx', 'nqxqyi70w4', 'gpvzv0249y', 'iafflocal4416', 'tj_robertson2', 'mqydxrlae7', 'epjjkb4be9', 'tu9cglmgvr', 'wvexjjrg6e', 'to0bpieyms', '7l6bhexixv', 'o4xljnav8f', 'udp10frxrl', 'wblimlmt2x', 'fvlgu1nayr', 'r5bxzzhxkm', '6lojoorouk', 'f7a66diiyk', 'xqiadg9h2w', '22days', 'gw0cxoojyv', 'msdizftz2g', '9zrqmd8ngz', '3942', '500th', '32', 'v9i4pfxo0c', '7lvgcmyiyj', '109', 'g7s34sw2am', '95roots', '14cicptkna', '2m1gneaifl', 'uqh85mip0v', 'rio2016', '9mtrq5jf4d', 'cbs29', 'edznx6goud', 'rg3bndkxjx', 'bq90pfzmrp', 'envw98', 'jdabe80', 'btus5jejuy', 'zrtfxluk6r', '6jjvcdn4ti', '4am', 'w56cf75mxe', 'vb3vfm76ke', 'silverstar58200', 'ogzjokd7sv', 's43we7oe2i', 'kkeh8qcgc3', 'hbbgy2vzyt', 'cw500', 'jq9nj6gko3', 'vtp8i8qlen', '1d', 'p5jpjgiipw', 'your4state', 'aog5chjmvs', 'cln2sxzy1z', '1tvlfrhm1m', 'flo8fgy35a', '150', 'pkuamxw6pm', 'pawvnj4sap', '5yrbegzafx', 'x4ecggvnsn', 'jw3hn9ewft', 'nywrkrq7kn', 'uisnqiu3if', 'nnmqlz91o9', 'o91f3cyy0r', '72', '4914njpio3', 'e7shtylbnl', '0rokdutyun', '65xr1p9soo', 'tk65ske0zm', 'br7gmmh5ek', 'dxfqou4kt2', 'twykzn4rlc', 'gusramzp1s', 'gl6eejyjky', 'wqtdnp3w5a', '2009', 'xtf5dvgrvh', 'qkrltrd39b', 'r6jdj9kigm', 'nxs3z1kxid', 'y3dm9ulqxg', 'x2qsjod40u', 'kfkaosh0kh', 'zhrtcvu0ff', '9r5fsts7bd', '1970', '429cj', 'wqul8pg5px', '4ykxt3kd62', '7k', 'qbecjli7cx', 'fy0r9o7xsl', 'z4jyharrew', '8th', 'oqb7dasmvy', 'oqeq4uegf8', 'an3w16c8f6', 'yrfz5wj7r2', '4q4zd7ou34', 'ixjjlp1lvo', '1pack', '2pack', '3pack', 'ag65u29sgo', 'hj26sfddfi', 'h9vmmdebdx', 'mrospd9878', '0ajisa5531', '51', 'lovemywife1983', '4the', 'time4me_sews', 'cbxnhhz6kd', 'boygbp0jw9', 'bdotq8dsln', 'wgl4lubnw1', 'yhqu5uv6ok', '3x', 'braoubgec2', 'mcwd37iof9', 'bp597yds2b', 'uvq41i3kx2', 'h31knuwzz5', 'zu9yydf5di', 'scotto519', 'heyot6', 'sqsyueh4yi', 'koin6news', '199t7nd0pm', 'ly8x7rqbwn', 'unsayjdtu7', 'id667rlets', 'dadz5zfo1g', 'kfzvmxj9st', '1vjalja1sx', 'j3rtf2dt3x', 'zl7fhucxhl', 'jlu2j5qs8u', 'praiz8', 'im2ad', 'fk1l4nozig', '120000', 'fcixk23xqh', '4pqcmqchng', 'kk8cnppzmk', 'n08qluornx', 'toyu16mxbo', 'p10hndc0mm', 'x5jgkjv6ma', 'ljylxz1fbi', '4bcqzqjrzn', 'fnpdjwvw1j', 'z3nevglufm', 'eltne5v1qn', '57', 'ldjet9tfmk', '1wopsgbvvv', '202', 'c1xhizprad', '241487', 'yfy3nkkcoh', 'nv7rk63pgc', 'qwtk1b2fmc', 'alvinnelson07', '2sgdofsmrq', 'xlegc6uora', 'o8xvtlp4mf', 'soea1ggbkj', 'cuvkf5ykax', 'hibdw7d7ja', 'h6pm1w7ell', 'pk8dgvripw', 'rz0adzursw', 'aqinavl1b6', 'co2', 'shrhkfj1bc', 'pvmr38lnva', 'seagull07', '4c58ooavhy', 'libertygeek83', 'lej5onus9q', 'izjk6kpwiz', 'lizzie363', '14000', 'vxjcx8ukmd', 'wwxbgubww5', 'm4', 'vzpkn23rx4', 'qegmrhsms2', 'b7zwevsrgo', 'tqwrw3jqwo', 'rzxqssun02', 'home2', 'paobghv3c7', '103', 'kbtzzzg2tp', 'rbrw8pwipj', 'l3gizrucy4', 'crcn8rwvkj', '9qnq45zduw', '2jxkmkpalp', 'ec46lyqqc6', 'kxy56fr8vm', 'ww1', 'f9j3l2yjl4', 'n6zflxigvr', 'obfd7e4qcp', 'yazje5owvk', 'di5arr6hq6', 'lec1vms7x2', '30min', 'uubovy9gqi', '1xw0z8zeqw', '3pcntczoxv', 'n0akjm1e4b', '3nuih6pkui', '2ufcc6gh3m', 'hep9k0xghb', '80ebvglmra', 'mo7dbbdfvr', '0scnwe8xbv', 'ke1zs6naml', 'o7qogmoegu', 'ssb4', '2hours', 'wactt18gda', '9odqryjncf', '0xouv7dhwz', 'ia44nczlif', 'ogtuv1plht', 'npoqlkqup9', 'x1386', 'xkmlq99sjy', 'a3rgqucugo', 'nb1e7mnce5', 'omar_molina036', 'zpxe3fmyng', 'im6m4xaen2', 'njlqrqcnl9', 'sbila2yqjq', '452', 'ed32pbvio7', '10x', '12v', '24v', 'ifm6v6480p', 'kp5dpoaf58', '295ss', 'a5iwus8evq', 'gi82n2juwn', 'wyokt0ftrw', 'c4news', 'sqgogj3s5r', '2minutemix', 'wftcrlz32p', '03', '528', '530', '740', '20177', '707d', 'y8xknpqmnj', 'km8ucihrrn', 'addtexastonext1dtour', 'z4ilb9y9nu', 'j295md1sow', 'abyhrgss1s', 'rm50vcvjsh', '73umw2igrz', 'fhkhcqpl7j', 'jdkqc12tid', 'd8awx2okke', 'g90', 'kxxnszp6nk', 'arizzo44', 'jlester34', 'xgnjgle9eq', 'tcs2cd5y6y', '0usdi5jcho', 'xyg7jhrjof', '7mepkbf9e8', 'exsqijf4ny', 'tedcruz2016', 'y7sipkb1kd', '0yo2l38ozr', 'q13', 'e981dgskab', 'gunnersfan89', '5koho39oje', 'cnkvile7be', 'u9fcb8dz3h', 'mwmt3bdr5l', 'randerson62', 'wf8itk2kvx', 'x1x6d5enef', 'xhehjfft7g', 'jbjrg3ep1q', 'mnsy1qr7bq', '1lk1eqwyuw', 'jb038rdfak', 'v6qxnfhrxf', '4k', '500', 'e61x9y65qd', 'ovlet0gdqm', 'ehklp12yip', 'u2', 'u8rgb51d22', '2tnu95vgfe', 'nx2d83a4du', '30pm', 'psalm34', '22', '4regionåêåênear', '0wdazlcm90', 'vcirn1md8v', 'nruzhr5xqu', 'thexfiles201days', 's7grbznwlr', 'limpar33', 'k2tbes65oa', '2872j5d4hb', 'odv3rqs8ju', 'fce0k1ihti', 'gted6ldwho', 'yhaqa5wxok', 'pop2015', 'nå¼36', '9le0b19lvf', 'krsy54xmmc', 'zqmtrbkas0', 'yeqq3bzx3g', 'kmvrzasxy4', 't2kk8fya77', 'xkurdr3yev', 'atheistic_1', 'ddhwori5w1', '37592', 'zcvfc500yy', '9e2f7bivle', 'zoepzsoky1', 'mjtn3qbgos', '2kdq56xtws', 'dialta6t69', 'vgf41iupkn', 'du19', 'ykdsp0nrdq', 'vdgfxyx3bw', 'ubfr1urafc', 'alnv51d95x', 'katiecool447', '30th', '1986', '2016', 'gilbert23', 'e8dl1lncvu', 'qu1iug3e9r', '100s', 'vjbhxn9x1o', 'isea2015', 'rpneaj6fod', '573', 'dratomic420', 'g38y8h1tjt', 'kukmal605a', 'm0utldif77', '2iafpmqjep', 'cs8myauna4', '8nadrgr4xc', 'qchv3jqovk', 'gc0udfnfgg', 'ìñ1', 'raabchar_28', 'aez3ak1lrn', 'cbaxcuba0h', '9i6crcrq2m', 'sikkg0fphr', 'ayp6zvhm2a', 'emiliorivera48', 'tziolfte5i', 'aphiabeta1907', 'uan05tnksw', 'jn8s0drwbp', '6cadrhioxp', 'news3lv', 'exdbcx4gcr', '9jcibenckz', '4i0kz2akly', 'm7na4skfwr', 'nmpn2mqzge', 'eyevziopg1', '6aimd1uway', '9cgbjwmhii', 'dan0gkx28l', 'khd99oz7u3', 'blutz10', 'nckogwjq61', 'xszx9mwxyp', 'nmfsgkf1za', '12m', 'tfgrayudc5', '37dqvjhncv', '7ijlz6bcsp', '1921', '99mbyfl3id', '4ddmtguzzs', 'you7wn9xvs', 'fa07af174a71408', 'ybjezkurw1', 'cgvuy3rcxo', 'yrvgykdbm6', 'y4y8fcljed', 'fw1ptaelgv', 'fkfa9vsssz', 'bs6pjt09tc', 'wxhmp5ppjq', 'ftunlh6ddg', 'aw23wxtyjb', 'abgct9vfua', 'nmhztb1ewm', 'rjebpib5rz', '8j09zutxwt', 'gpcecp9khv', 'alexeivolkov1', 'anutoopkf4', 'vz1irh0nmm', 'insurers163', 'nyo1xuebfa', 'w0a1mjorhy', 'wzc5r4xoqz', 'mbo6oaniqi', 'r3pddjpiee', '8kj1wdaigj', 'daniglasgow45', 'top25', 'o9dzgzqemf', 'axk9xno6yz', '6ce1vwovhs', 'pijg5w2l2u', 'lknu8902je', '_chelsdelong12', 'kendra_leigh13', '8fvqrizoux', 'qqsmshaj3n', '163', '2z2htdjqzd', 'xuub2hbli5', 'h5epx2d1ga', 'suilzs2s95', 'rs40000cr', '3_6_12', 'jojnq2oopi', 'dskui6mmgl', 'rrq1ildkil', 'niv8x5tbe0', '1998', 'lpgfqnpjd3', 'm00nf00l', 'ibed3xg7fy', '0yaxrjicrr', '66', 'jst5hauk35', '358', 'nbc15', 'pis0aivrbr', 'kea5l3b1ae', 'ffnzit7kgn', '2k15', 'ep18', 'mr5bi4kd82', 'm151a1', 'm416', '9rryaylgyy', 'nm83johluu', 'drfkarlz1d', 'zkkn6mse1n', 'fzhjf8bxld', '911bombing', 'vn73o4sgzj', 'vdiliicyr5', 'pw5dst9roz', 'r4yzhxk7lw', '07', 'fpkiqbus9r', 'a9bnlse6qb', 'wxela91juh', 'sruj5zljgl', 'cy0ciu2u1c', 'aatt5amnmd', 'ysg9vsrt4g', '9tg7a5oqfp', 's01e09', 'gxyivswki7', '3ac5wuy1r0', '3nkculgvmw', '00cy9vxeff', 'tweet4taiji', 'jslxtq3nqs', '3yu26v19zh', '35qwnglkos', 'sxwjyr3k3l', 'kezi9', 'ee8rpoahpk', 'ha5boppejy', 'msuy4qtpk9', 'savannahross_4', 'chibi877', 'n6ahgfmudt', '6exs23muy3', 'l9idherotj', '9tb82zmr2x', '039', '13000', 'aptap6yx1r', 'jilfbr0ufp', 'usvyhdg9og', '8r5vpaoo5z', 'jvcxb75drj', 'qwsbvflpe1', '43', 'laurathorne97', 'mesqtvdu63', '2am', 'tft1bb4xaz', 'colinhoffman29', '63rd', 'zz5udilrea', 'pkkcdwjyg0', 'dougmartin17', 'nvp6wrkl1e', 'bdn2fdpdaz', 'k8ughv2aif', 'spt54kfa9q', 'q4q8xsyzob', 'f56v61ampt', 'h3sxfv5mtc', 'qj3pvgavn7', 'ad38kwoglh', 'ifqqpur99x', 'fk1vyh5qlk', 'lkwxu8qv7n', 'au3dbci7nf', 'bovjrf62t7', 'z6ee1jvhni', 'janenelson097', 'kkimmbue04', 'owbujez3q4', 'wrb7xd8w5y', 'cilo9pmleb', '0t9yd557ry', '31tgtlz3ya', 'c7rco2emwf', 'scxfc5wi9t', 'gx1otoh8sj', 'my8q1uwijn', 'optps1lgkc', 'fb8snrg4hu', 'ao4ju9vmmf', 'oyy9mgw7hn', '060', '1028', 'pf8dxwibdp', 'p1amginsys', '6pagjqfbzk', 'gix1gaynxz', 'p93s2rfhx6', 'g3', '15000270653', 'kcoff6bmie', 'gbrnulp3fh', 'j2erzbmjqd', '233liveonline', 'io7kuug1uq', 's0vgtkhw7v', 'qvx0vqtpz0', 'iys9xwpvmk', 'vaping101', 'cykr4xaluh', 'o8y1sul4ow', '4cpnbbzkzg', 'g7', 'g20', '8jxql8cv8z', 'egcv7ybjae', 'su4zvwadj7', 'wvtpuryx63', 'moll5vd8yd', '1976', 'y678xsnvj6', 'txetcysm1h', 'gg0dzsvbz7', 'kbe91arcdw', '1q6ccffzv6', 'vxuftvt9au', '3oionqlfql', 'zy3hpdjnwg', 'gz27audyha', 'p4ekgc9sig', '1xssvgimvb', '06jst', '6aug', '12jst', '18jst', 'l6jbjaj8dm', 'n15b', 'lqgoe7psxp', '159', 'fjddx43ewj', 'vdukcv7yjy', '8bqjtp6id5', '8kjs7zqajs', 'k6uetsnlht', 'lwane9vupg', 'cpqgufzb28', 'to9viqoofv', 'wild_lionx3', 'tgtcru8jio', 'vbo1tjndps', '21b6skpdur', 'wbcb3sytj7', 'qgyn2u1up3', 'wis3h9tqrm', 'cntwb6sczj', 'gvd7fcx8iz', 'ehlq3zsptd', 'djx5elbrv1', '1145', '45', 'mjstefggu5', 'q4l7dg56jm', 'fven1ex0ps', '5oqhq8quqv', 'm9ig3wq8lq', 'u30n3ffx8y', 'ud7xobyua1', 'ae9cpiexak', 'yi3oivk2x4', 'qtizcbww7g', '77ciwxabva', '7cmf3noync', 'ymp0ginwza', 'j3x0doy7r3', '513', 'e4wk8uri8a', 'xtljz7bjgl', '10muey8pxj', 'sahq5uoahw', '7ennullkzm', '777', '239', 'j8tyt1xrrk', '9d4nazoi94', 'hr88cwxpgz', 'rptouz2ijs', '69mlhfefhr', 'abnzqwlig1', 'm8mvdspjp7', 'biuey7buts', 'jwqybe4ep1', 'qpwotugui9', 'gvaipmlsl0', '0r03c6njli', 'olnk1ti1nm', '0btniwagt1', 'hhzy3oqela', 'mctjnzx4h8', '6gsamy6mts', 'y7o55by36f', 'qycw5jjaj1', 'zvre6ffnyd', '1he4ufawzm', '73km', 'i6lmccclv5', 'bmxsndx14g', '7zb9gm5z0h', '1843', '458dtr3ulx', 'f7ljwxj5jp', 'nekm1rpohu', 'oi6cmagasi', 'oez7o9ab2c', '1buf0xm53d', '4k8olzv9bv', '9lo0hzwjpz', '5zdbtktww7', 'cwcvbubs01', 'ma3route', 'bonnieg434', 'cy1lfenyv8', 'volfan326', 'tmz6x1n2gq', 'hsjb215', 'e1wrvyzfkv', '42mawzb8t9', 'o6onsjhcsd', 'p2', 'cyu8zxw1oh', '93infxzhx0', '15901', 'k14q8chwkp', 'sjnyfszcu1', 'fzujg7sxjg', '41', 'gmoul9zq2q', 'krnw0wxhe5', '30pcs', '12mm', 'znsvstgwx3', 'rpda60aoni', 'raf732vrtt', '9z9hsmiavd', 'e2hltyyfak', 'pmxezuo4ay', '1pflm532mg', '58qrugzvg0', 'f8gvwkfqox', 's3xleak', 'ph0tos', '19yrs', 'exp0sed', 'ixrehm05yq', 'snqfhpym3o', '9viibxgjav', 'rvsyxwj9cp', 'tonyakappes11', 'xyav4t5n0o', 'rukjyjg9oq', 'xzlrwc0pik', 'o5xlxmkoyq', 'zzcbbqyj1q', 'bl59fw4sys', '2fenu1syu6', 'kavaovjz2v', 'jdtpirnm76', 'a2tiivnjdy', 'fw2xifj6ec', 'g2uimbekge', 'xh4dz1gpyw', 'g0hsyh7yav', 'fymp4i2wp5', '2zgvslox5p', 'jkym9edofc', '450', '8gtrvece1n', '7xq8jrtl7i', 'j90dt2qnxb', 'oer5hh41ew', '93iaeec26t', '612bsbvw8k', '87h5mba3n1', 'qjuu0wcwpx', '10000', 'gv84wnhb7s', '33fbr25t1o', 'lue3waegpi', '65', '9h0ym9ofsv', 'm9yda5k6jf', 'qwqnni7vmz', 'abc7chicago', '6un7xc9sve', 'qyx5thkrbh', 'y9w0v6te9o', 'mul1j9aeux', '6vja8r4yxa', 'bhzr9ugus2', 'ohndh2ri0v', 'p4zfxdnbch', 'guaj2t910b', 'i4fz75utnh', 'h6amecx5k7', 'b8iwrdxcm0', '1600', 'glpfu0uriz', '02pm', 'cf9e6tu3g7', 'macob5xlsu', '666canberra', 't4fvvnrpc5', '0zznbvfuvo', 'vmjrtuvmh4', 'geu4h46csz', 'gzib0mawmn', '138', 'rg4jishybs', 'r4kheh7iaf', 'gx9skuau9j', '1w58ehv9s1', 'p8ih0hni3l', 'omb3os54tn', 'lqd1wefpqd', 'uml5jztmcb', 'dr_baseball41', 'granttamane8', 'dtop77', 'lq4lxgs2xu', 'tbx8cakdrw', 'fs012trudg', 'met4ytzmfb', 'avu9b4k2rv', 'p96rgbbayl', 'sje59u2nnm', 'tm9zbhjcyf', '69', 'jods9a32pi', 'e2wgreicmz', 'jans3fd4lf', '2sdmichb2z', 'kerrykatona7', 'm27329', '1236', '4d9cd4mnvh', 'unhqcq6bex', '925', 'r1354', 'd12r8xpshy', 'fftokd0vts', 'ljxce1qw2p', '3945', 'dgbeh5l9ds', 'ndis8f1vzt', 'o1smuh2unn', 'xqj6wgiuqh', 'qd3dssfwue', '627', 'hyider_ghost2', 'x8moyevjsj', 'steveycheese99', 'dwu8qqys0v', 'tu6scrsxvg', 'idhj4jbq05', '38', 'etkd58un8n', 'lrelvrm06w', '82ndabndiv', 'ugesklcn8m', 'kqpky7dthj', '5zcje7arci', 'gl3c1vc88p', '8392', 'so81ab3a1x', 'hvxu1zcvau', 'ijmccmhh5g', 'hbhx0dwkpc', 'zujwuiomb3', 'iap4lwvqsw', 'ur7fexszg4', 'wb8awoblcl', 'umzkc9azwd', 'zqo6nuvytu', '1fhrrhcimh', 'wgefbuk4jk', 'g5zsru0zvq', '8t36hwgoqd', '0l', 'v6', 'c8uxkizwm6', 'snxgh9r16u', 'thomasvissman22', '1895', 'zckxtfc9pt', 'tuai0zwgxu', 'ef4swp9sxz', 'nb7maaaofs', 'j9lpdrxcde', 'itg84q7vii', 'sjxllzosw7', 'u2kwof3wtj', '50shadezofgrey', 'p45perez', 'x9cuihib5n', 'mg5eajelul', 'pcxarbh9an', 'birkbje23e', 'buzwjmw49e', '957thegame', '0yzgw9zbhr', 'rhtaqjvqn2', 'comlg0vdbv', 'aoesbvns45', 'jrkgyl7te5', 'breaking411', 'onlvf2fyoy', 'vaunps6wja', 'ioqm5bm1dg', 'w6o0uizf8p', 'o0ltqdjbqe', 'mo9wptyqkp', '350', 'ko0oz3ryfg', 'lvkoemsq8m', 'cjirhhh4vj', 'ut7r2ixrjq', 'v3z96ydmvd', 'kxslftz2i5', 'taxuxp9qa2', 'p64xrvgjik', 'yx1ukbmtqb', 'fqcdphccg7', 'khf0ih05a9', 'he7q7h3nzf', 'k3pnnktlxh', 'dzlpnp399x', 'i5', '43rd', 'ct9ejxolpu', 'sb5r7shccj', 'widda16', 'qzrcinaf5z', 'iyjejop2wi', 'gi2p9tuvbi', 'db5', 'hgb1mc3irk', '6ysxghc8gz', '0t8vqkeari', 'byvubg0wye', 'g0r3zr1nqj', 'fl8gci84aj', 'dvonwiv3l1', '1999', 'aq5zlim7l4', 'fvr9jdq71a', 'qxxn6rksp6', 'b3x1wqzaor', '4y4ytwhd74', 'obky8pc89h', '210', 'ypbvs1ijya', '9dflv6ynqr', 'muanfwcrw9', 'ols6qdi9um', 'uu64wfg17m', 'gxgm1t3w0j', 's2g', '6jzcedayrg', 'n2bcf4m64v', 'wdueaj8q4j', 'carvv6gsrb', 'lan76zqkxg', 'kristenkoin6', '81hvv3n3rs', 'tprimo24', 'mrv54fidfn', 'projeavg8t', '3p', 'xqrlewia4x', '6fynermusg', '23km', 'kf0qybkzol', 'kaylak369', 'pgb2bmcfx8', '7y2gnva2ev', 'a1a', '9dwyjqvfy4', 'd1ff3r3nt1sg00d', 'cubze5mizm', 'vox99fwkcx', 'uavfrtlfs4', '85g1pcccxg', '8acdf4zui6', 'infinitegrace7', '0tslqjokvh', 'gordon_r74', 'vl5tbr3wbr', '0x8jaqtowm', 'm1rosi2wcs', 'w3esx6ud8t', 'jlput7va3s', 'txrswi0efg', 'rlpttkbg4w', 'ozk1qhjvfh', 'p0gos5urxg', 'hk9yf72ova', 'k0qtl8aodh', 'zqbxe7x9y7', '400t', 'e0pi0c54ff', '03l7nwqdje', 'y518jyrzav', 'pdkhbdg9ho', 'bsrerjby0i', 'hiroshima70', '9ckgggyvou', 'u0vdbrxfia', '2ppzgpxybi', 'ds9khkffwc', 'david5fernandez', 'ecmj18azai', 'dj1lwznieh', 'i9mxxkzhbl', 'm203ul6o7p', 'dead_dreamer15', 'dlvzaay7qr', 'gdrssjbh8q', '55436', '1950', 'xezbs3sq0y', 'c2x0qokgly', 'jvai5vkmsy', 'nr8jjmpmos', 'ekfaz6wvbz', 'sstj2bepqn', 'fnmje8gf7m', 'nye8ae2ifr', 'wq3wjsgphl', '96', 'i405', 'us101', 'js9ehp88wq', 'b24fowler', 'daewony0406', 'fprt7nwrot', 'bkh7z6cwwl', 'fe9hivfmxq', 'q8ivrzojzv', 'gnynjhne6j', '1funemes7m', 'fqsk7qcawo', 'zct5cchoj0', 'badr58', '0000', '20150613', 'fgdeh56plo', 'kot9zvd2h7', '1uo1atrbbj', 'vets78734', '2xmdidgpnr', 'k44tl3rfmy', 'ipt0honoti', '83bmprwh7w', 'eeasterling_2', 'ny3l1orzqb', 'rujv4vpnbv', 'ih0awv3l1o', 'awxr24zsqh', 'o9a26fn27y', 'f2tqmfh1yb', 'i6zqlk2puz', 'sxmlg3xdvx', 'ltmgdp6jaf', 'ryleedowns02', 'nevaehburton33', 'roi2nsmejj', '3tj8zjin21', 'lxtjc87kls', 'p1jlurgwbu', 'apwxs5mm44', 'ds76lozlsu', 'otsm38xmas', 'ceiao1texr', 'fmu0fnumxf', 'a5gnzbusqq', 'ixw2cutk1c', 'scynic1', 'ryanoss123', 'd7m9kgmpji', '8zy9n6fx9t', 'itz9masbvz', 'wveo9ed10e', 'mly7sdn6ev', '37qpssnacv', '92pk0hujd8', 'ecmujkkqx1', '5wfxbaqmbk', 'rfb3jxbiej', 'gxe7nhwz3e', 'y2mt6v13e8', 'fyjwjdkm5i', 'anlhw2izkz', 'wamkre6ckd', 'pyramidhead76', 'calum36chambers', 'ztfead8gid', 'm3', '10km', '0w12pwpsfx', 'xwvw1sft4i', 'j7hukhwmal', '1eb2dauyfn', '38745', 'upgd2cy9il', 'mzrhfojt2j', 'pp15000266858', 'pdx911', '950xijhnvh', 'elxn42', '48zg5ynebn', 'qu8s89pvvt', '93dm6gnwwc', 'audreyp77', 'teena_797', 'z2vdgiyowf', 'lzasr05ljo', 'iemxgse2be', 'skq8oucm3r', 't8nz6h9zz4', 'ojus08yzrq', 'auf4j4owj1', 'mis0rjxuir', 'rsv9atj9vh', 'dly6ruusqk', 'uc4j4jhvgr', 'otfw5sekd7', 'ibsvy2r3ph', 'vsgqolr32g', 'p7uhcb13qx', 'libertybell1000', '60000', '42gw2i2q41', 'gbepdi0wzt', 'gjfd85vuf2', 'hppld1jhtz', 'rteugb5tnv', 'z7phpjtqud', '1km', 'x6el3ysycn', 'nas3ipm5vh', 'mgs2', 'ps2', 'bo3', 'gedoxsppl9', 'wmmkirj0hw', 'darrylb1979', '2017', '2019', 'zeno001', '6c', 'qn4zyisspo', '3vwp7wd56w', 'nv3uxv9imx', 'ej30ihrea9', 'jhscgda2g8', 'baseballquotes1', 'owje3i6ygn', 'vxsqpfe9na', '4fxfllrien', 'i12nlsr8fk', 'ks111', 'xsgwm5zxpd', '02elqlopfk', 'ojyw7jkuh5', 'ny35', 'tmzxopvs94', 'w192wkog1m', 'jmu5uyamdu', 'uea0txrhys', 'fkd1mbtb68', 'xwms1aww8m', 'te2yerugsi', 'e4qonkzndz', '1500', 'dhgavw8bsw', '0lmheaex9k', 'fuerk0gwui', 'mv7ggglmvc', '14th', 'yh4r7ug21a', '141', 'm5', '60km', 'tbstk5vqu0', '3novices', '2i4eoggo5j', '7000', '9newsmornings', 'gigw51izpk', '91å', '90225', '87', 'pp05etlk7t', '3ol8mhhpma', '71st', 'kif7m3fqlx', 'oz6vlwwtnr', 'tj3ltpzfw1', 'jssmmlnaq7', 'zm6vczqvwk', 'dknlznom6n', 'mqbyravk6h', '4km', 'obsz45ybaj', 't4pv0nroov', 'pseylyzck4', 'xb8nfxabum', 'jadehelm15', 'vt2aky5mgk', 'khsbzkfd6o', 'rhee1975', 'ba4pusvjln', 'drayesha4', 'wjljq3ya4g', 'ucy5fea9yu', 'dnwwo1ybrk', '7qpg80ud7v', 'ajay0snplg', 'qxhowcv16r', 'demetae12', 'iidkc0jsbx', 'bptmlf4p10', 'micjnpuhg0', 'vddi5chktp', 'wx11d69gez', 'met0mtpr3s', 'z99pkjztrp', '56', '8jvqi9uspl', 'na2ey64vsg', 'gs50ddg1jy', 'antpips67', 'wmur9', 'ydgmgbryl2', 'n6mcpgvwq2', 's8oinfgxyx', 'n3vbtc6nca', '5lnidvobff', 'm5djllxozp', '2500', '6hkw5qlppt', '98', '250', '6l', 'v8', 'dkozymvy5l', 'xrdwr8cdvm', 'fxtffl4axy', '2gljhvead9', 'cfe9huqn0h', 'cyv2zg935g', 'vicken52', 'goonc1ty', 'jsccx8k0ja', 'ed1vpitswy', '6xsbddlziy', '7b2wf6ovfk', 'cameronhigdon34', 'optich3cz', 'askh3cz', 'ph2xli8nve', '22fuxhn7el', 'wmoyibwec1', '0rsverlztm', 'x17fubqbgg', 'jbodkm6rbu', 'tux0ypwzur', 'wbi7laq18e', 'phh1vmlfoo', 'susanj357', 'hrl4xnj9k7', 'sweet2young', 'r_lauren83199', 'xojademarie124', 'twpl0nl8cx', 'ltf6jl5keu', 'zlq8thctkw', 'indigo6e', '4kbwpcmmbm', '1rreo2jg9u', 'be4', 'a2e6dcsk88', '9eh2lcqkxl', 'ki9ehjhl8y', 'i7ap1mes8m', '2rtq9qmgpb', 'ohholj9vev', '68', '61', 'tarmineta3', 'inkuv5dntx', '1cvegtizog', 'mpoaefql6k', 'hbdo22nqpz', 'kgkz50q8tk', 'xv3d9bpjhi', 'hcwrk81p71', 'biigd1leq3', 'argus_99', 'heidia1438', '1erd2fpryp', 'fkqjy3ezyg', '50vdq7a1m5', 'qh6oxft9ir', 'ng2x5', 'zfwmjh6slh', 'abcnews24', '000', 'c5u9qsysej', '3967', 'gnpstnvi5g', 'uaodoquda1', 'blzt5zwose', 'trump2016', 'xvaoqo4egr', 'kaputt21', 'kasiadear33', 'bae0ap4g9y', '6hkca1dsna', '6agmkx2ww4', 'stallion150', 'os1wjrvx5c', 'hksbmijqz1', '10k', '11am', 'g1nw99yj8u', 'jvjalyg2n1', 'qxmweljbc0', 'gfs7usulgq', '8picbkdjm0', '945hpa', '45m', '60m', 'nbd5ot9iew', '1xhsuewqn4', 'uppwxda4yd', 'm6lvkxl9ii', 'je86vetdxh', '1udz0nvoeh', '40hourfamine', 'xqdvghz8g6', 'jannellix0', 'kiro7seattle', 'r5live', 'itzzkwfhg5', '1940', 'jp9xyla3c5', '2005', 'sdxzhjco0x', 'wkmfdig3nt', 'z16dtoqhhg', 'x36', 'rczalru05o', '36gccapaak', 'nqjzs6wkun', 'gbqtc7sp9c', 'hxox7o42rq', 'v6ijxccd2i', 'x3g2ox6k8r', 'mh17', 'tt4kvmvujq', 'l0pmmtzlwp', 'sy2whxt0k5', 't1000s', 'xl61', '62', '74yfqxvak0', 'kxrehvt6hl', 'tdeqwm8zxn', '78', 'kestuuyc4t', 'pzfbb1p1mj', 'njqv45nds2', 'ydjpoph1dw', '4izfdyc3cg', 'q6oxzq45ve', 'kabk3tcjnl', 'epex4axg4b', 'etswuod3om', 'qgum9xheos', 'yl67dkf4tb', '98o2kc3a1z', '43sxg9z6xh', '0wratka2jl', 'rkdzb0tgc3', 'xzvmzqus0x', 'xomi4zqzgp', '0m1tw3datd', 'v1sfllowgh', 'wyattb23', 'rfvjh58ef2', 'sj57boksib', '0npzp', 'ixiybap8qa', 'zepzqydby4', 'cirtvml9vp', 'iovr4ymlkp', 'news786', 'u7bbenxwyk', 'kg5plkedhr', 'qeihvn3dnq', 'm8', 'jmbvpanxr3', '80', '125', 'gwnlhneku9', 'ai6kworbbt', 'codythompson25', 'txtpx4umqh', 'gilmanrocks7', '1vi2rnbk2i', 'tdwprvb04y', 'hikdc1fm2f', 'bb17', 'lvizo9cssr', '6cz3bohrd4', 'vra50', 'pc7s8nxj6q', '9xohmmlmdy', '509', 'b2yvlmpepr', 's61', '231a', 'icd10', 'ei9x4h8thm', 'xyiwr9jetl', 'u8hsrtrxmm', 'eo2f96wxpz', '3sth9lrbun', 'jqxm4gcqz3', 'nh1news', '7jggqwbv6s', 'dydfvz7amj', 'fxux987vzx', 'nxttd9nrux', 'irqj3zkcuz', '8km', '3bwwnlsxhb', 'jb25fhke6q', '300m', 'lw2fglrgxb', 'hmrt98oydj', 'tdaktglu5p', 'imawesome7986', 'mrvxbzywd4', 'whopper_jr_760', 'i2hhviumtm', 'nyty7fcqo6', 'hyypspn0yq', 'drvm8isote', 'ub1jzskmrc', 'i5k3vjicmg', 'cizjafnm4e', '2y5morpugt', 'wezjqc4cf2', 'eqdm2opybg', '1i19cuov7l', 'jamiegriff97', 'k4h8cq7puo', 'yhh7x0maio', '2y9dnp5vtg', '6xul6dcosh', '66obqmximb', 'rjju70rhyu', 'nxkum9h7wd', 'akzzoe5ce6', 'cplyrewfz3', 'angel_star39', 'xszicdwxq0', 'xn09mx6sxy', 'onlinemh370', '2oroyunym2', 'c9jnxz3dxc', 'zepp1978', 'olliebailey11', 'jpa6sajfe3', 'hendy_21', 'ii4ewe1qir', 'h3vusqzyqo', 'c1qxjweqqu', 'zhp0sowxry', 'flqxd3q5py', '60s', 'ep03', 'j2bone', '8400', 'ft7orfa52y', 'dv4mmlso1i', 'nbcvbso9nm', 'pblvpm6c27', 'xe0ee1fzfh', 'idws2zgysa', 'ehgtzhkan4', 'cqlm9jojop', 'exil1bkzmp', 'ehomn68ojb', 'kaccpk85wf', 'tb8gzembxu', 'vcv73buacz', 'geqkdao4cv', 'dg0bgzecgm', 'dbaujp29ub', 'onpnbx0zex', 'um5icn5et2', 'dlp8kpkt2k', 'kombatfans33', '4hcywrwn6l', '2twxz6vxbx', 'ms8e8mnddb', 'tls40nqipn', '6f9afql6wp', 'dyy7ml2nzj', 'p85nwcmkqu', 'ofan6dkoez', 'brianboru67', 'jimskiv92', 'hijinks1967', '48tpnmbjvg', 'ccvcte3lcw', 'pz56zjssft', 'pq3ipugkuy', 'rabidmonkeys1', 'zt5ofbiwtd', 'ul5xdblmbk', 'mxz7yx8ld1', '2025', 'm9k08oazve', 'sk398', 'ra2majpkq2', 'y7ghhyk05b', '0ymf6txfch', '3i3d2ngent', 'jyiekeo2he', 'ûª93', 'mfkqyxd8xg', 'hhpvpael4n', '4yygb', 'o7yyjlukfj', 'rjcaxjp4os', 'nbc10', 'pq0d7mh3qr', 'a6ro9bmxcy', 'cxi82rfifs', 'emily4everever', 'flsa8mldsn', 'orovzfsku2', 'gvm70u2bpm', 'arzemsr7fq', 'a6wmbnr51s', '8xixbspot8', 'nhxse3rthx', 'o1enhjrkjd', 'q5qcoao8jp', 'wmutcdg36b', 'rffpqbaz2f', 'z5grlrey6v', 'bnwygx6luh', 'olnfzb86zb', 'm1xykecrzr', '0mnpcer9no', 'rb2s0jmlej', '9asc1hhfnj', '3snyoohseq', 'ddr0zjxvqn', 'ogxsy4gwd1', '1994', 'bxgnq57xvb', 'car5qeuvhh', 'lrtu8rwn2f', 'jannet2208', '5uecmcv2pk', '71vdjhjnwv', 'kkdx8zmv4g', '11dvqjvxpo', 'lr4btvueom', 'cinla1964', '90s', 'urjwsvr311', '7jfreteii4', 'dwilliams313', 'nu6wrp716d', 'dofrh5yb01', 'i7kztevb2v', 'mssq0svnbm', '6siirlnv6z', '5cm0lfzhxn', 'fqj0squ3lg', 'c6lgtotvsf', 'csxvwxuz6t', 'm5sbfrrsn7', 'yvo6q6w442', 'yerct4j244', 'uorxff0nfx', 'nufdgw9yev', '2okscwyohc', 'zahnewjri8', 'kx8cu4s8t1', 'yetagc2d8a', '100nd', 'zagbmlsf4h', 'zkgqspwyj3', '3vfkedgrso', '6m0ynjwbc9', 'jwxrx1lsqo', '7bevuje5ep', 'pu7c4hhbxj', '1665', 'r4wgxra59m', '4rtpjrhsqe', '6x0xhlbxji', '_301dc', 'x2', 'um3wtl5r7k', '2lqyxzq5dn', 'zevan9kjzl', 'uuzfs1l5kt', 'ny1', 'ny1burst', 'w7siidujoh', 'w2ixt1k0ab', 'm4jdzmgjow', 'n0uhasfkbv', 'hqod6v6dnc', '73rd', 'pgkbt3mbap', 'rp2dxfkhdq', 'akmihlris1', 'yr67ugesrm', 'sjoeing76t', 'bhsuxvq6nf', 'benkin97', 'mili_5499', 'ashes2ashes', 'xlfi7ovhfj', 'raq4zpdvke', 'uhxodsc7wi', 'fz8ytwqkwv', 'xxkhjysn0p', '2mwc9ywjzy', 'v57nugmgkt', 'vecmsiuuh1', 'p769eo49fj', 'cali74142290', 'i2el5acrrw', 'grlxurko8d', 'dobzc3pitm', '4e2gjmvrvi', 'zntg2wndmj', 'jlmicj6je5', 'gbay99', 'v0yrfh9dkc', '8pifutrb5u', 'sholt87', 'eco11c', 'carlsbadbugkil1', '401ks', '23rd', 'mvsrjd4x3d', 'azl4xydvzk', 'ex4fnjjl6h', 'zdhwrn6czc', '1rockstar62', 'valdes1978', 'm2yuxnqlqy', 'v8gkkfmfxt', 'xrja0xpl40', 'psi35au3pc', 'xdt4vhfn7b', '6qc8whdizy', 'inezzaes5d', '11000', 'dchfpxgy2m', 'xcgzc45gys', 'k0y7xfxmxa', 'fjdm8qhyai', '6gldwx71da', 'gztolll5wo', 'yubkhf9iyh', 'us0qqqhqvj', '16550', 'l0b14sj7jb', '6craekc9wb', 'ypvvqz8jzt', 'yejt18sbm0', 'rcqacn91be', 'e14epzhoth', '22a9d5do6q', 'tammy_w1997', '0szwlwl9qu', 'fqmyprlg9g', '6pm', 'bptzamjl2k', 'tni92fea3u', 'czbamzq3gl', 'jab541hhk0', 'je6zjwh5ub', '0xh758onup', 'ccdx7cglqw', 'cwzhgezaj4', 'zk69ugxmt8', '4cog0otiwn', 'au5jwgt0ar', 'yhyy3o609u', 'werk9qibvv', 'y217ceeemd', 'ucudwiu3an', '4playthursdays', '1716', 'cq7jj6yjfz', '688', 'y7peto0dx2', 'opjwunuvg8', 'bti8jamfiu', 'rinkydnk2', 'neoprogressive1', 'push2left', 'qfjjdxes7g', 'fz1haej255', '290', '4yu5sy1cui', 'cozmo23', '10m', '2baxg1wdpp', 'rt_4_a_mention', 'ths9iqswp3', 'uoozxaus26', 'pw78nbljky', '924', 'hpzhe0cjvf', 'uhl0akfvsm', 'mj8rezoxlj', 'ppji1tcnml', '0h7oua1pns', '171', 'uhfm1r3tq5', '61st', 'f496d', '4virxkgmpc', 'mw9ambgafq', 'dl60ja06tw', 'fwup9yurzy', 'catwoman1775', 'g5do2x6226', 'tfcdronra6', '45cmaqf8ns', '2jr3yo55dr', 'p1wmkxa9d8', 'wwfacu6nft', 'yi30zgizsw', '2jgvhw7yzs', 'mfjxh4p51u', 'j4fsdpfa63', 'ujk0e5gbcc', '9newsbrisbane', '9newsgoldcoast', 'kd3qsakbi5', 'n6rbnhmtd4', '9y0paj8sxd', 'oldjsowky5', 'vjgr6liaxh', '55jr66plov', 'k2bzuatuks', 'setting4success', 'gam7otgisw', '1023', 'v8aftd9zez', 'kc5kh', 'ghmmuj7gbe', 'u9lvvlzhye', 'lyj57pq3yx', '5b7qt2yxda', 'dylanmcclure55', 'zw5jp46v5k', 'wox3vprixq', '22pm', 'rln09wke9g', 'tezltqeyw2', 'u52rw9ji2r', 'gx75w3q9ye', 'muf5czqjrl', 'sslt8esmhy', '20dncthr4d', '1970s', '1890', 'uilpg8i1ev', 'm9pxto2kww', '100000', 'qaqqrjv9gu', 'sr14', '1700', 'qposkp3mwj', 'liveonk2', 'sequwmvfx4', 'qrhjei7grq', 'bitchl0vecannon', 'fz5ew4ihmb', 'yqhfio9xqm', 'jqso4fyzp4', 'f4xnplio5s', 'nh5pkfbfqm', 'vz640xoswj', 'm2hpnoak8b', 'nicolaclements4', '208', '267', '6773', 'ezeisasm0c', 'tzyhdbw9f5', '9nly2tovud', '4ssuyhkgrb', 'tderbtgz2k', '119000', '966', 'eu8jypizsd', 'v5ogr3f5n9', '501', 'pa5sslefec', '6ffylajwps', 'uyyyrkd6q3', '279', '00end', 'ftm4rkl8mn', 'eeenice221', 'swayoung01', '80m', 'ybe9jqoznr', '328szfletz', 'czwjw4uv7i', '660', 'bn7xpzqdm0', 'kpqk0c4g0m', 'xwn7rgvkzc', 'swpdq84boi', 'mvrsyu2ppk', 'njrjxqbjr4', 'q99', '724gq5ebqz', 'h01j9pirie', 'b231ul1o1k', 'mfckpvzfv8', 'sjh0hsrp4s', 'mattcohen4fake', 'h20', 'pe2d3hcsni', '1epiyenqyl', '3enyndxppm', 'gqpi7jmkan', 'oz1ds3xu0d', 'lcnw4ead8v', 'yvafi3zujx', '550', '5040', 'eejrmktj0r', '1979', 'yopeypjkb2', 'h09nydbzov', 'gaotrg4mtr', 'pspm3ahgkq', '5kfovovjso', 'coach_keith44', 'trpreston01', 'n3ow73oasw', 'gs9bmplbhh', 'dunmvj7itl', 'rgdrjv63hf', '17egmlni80', 'nz7ackrrji', 'tytpbc4gwi', 'qhwe5k7xuw', 'nigeltanner1', '5sos', 'ashton5sos', 'luke5sos', 'zsnsar1tw1', 'lsmx2vwr3j', '6nqru2q5tz', '3460', 'jszzqst3xs', '10news', 'paug7a68i0', 'alumrgl40e', '8h2kctfb8i', '5ng0fzpvds', '8000', '4m5uheyfdo', 'byj5dfa2rv', 'pwwpum6rbj', 'yspon4d6qo', 'cubc0nq6fd', 'ufo4ublogeurope', '1pxpoqktjo', 'cbps1gskvo', '7aze4iogme', 'x5yeuylt1x', '2ugrmd1z1n', 'ap9jbrpmqg', 'q9lxo4qkji', 'mmklapx2ok', 'x5xumtoeke', 'ybyp68ievn', 'ld5p1sia2n', '2006', 'gid6jqn8ug', '111020', 'aetgbxm1pl', 'bgaj2oax1p', '2500fps', '45twhj0l6m', 'vbffodtp6m', 'mzk5ujlfcv', 'ub3woz2ut1', '0yl3yt4ylh', 'arkmc7vcln', 'ficd5qbqwl', 'pqslug4jk5', 'beautiful_juic1', 'tkyonly1fmk', 'pvkgo79jni', 'apod4eivba', 'oc73x', 'nu0d3uannz', 'mariaf30', 'nljvp3vfyz', 'ttb9oil8r2', 'jk7npdpwro', '6xysdn2xz0', 'mjbiuvbmo6', 'i5cdtd8ftj', 'algtcn8baf', 'bz07c9wthx', 'asae15', 'r8ceprqxle', 'bbc5live', 'fp64yosjwx', 'rd10ex6hvt', '87efcbiczm', 'k8bexkgwr2', 'uqva3dfbca', '1yixfg1hdy', 'igz7v24ge9', 'm75dnf2xyg', 'ixfne5jlep', 'as10004', '6wadnmstov', 'uplfsqmr0c', 't5agps7t2b', 'zdpa4dbtsu', 'dmassa5', '2liwkjybe9', 'norge2040', 'cnyvvy4wat', 'iuh718kcy0', '9pqyx4xool', '0fs9ksv5xk', 'i580', 'in8lys7v5l', 'hrc3oxquik', 'wnptvbm5t7', '800', 'yxvmiflvc4', '3ife1zsop7', 'budmke3nnf', 'q2', '2y2wzk1frm', 'pc8bvuflfj', 'em5opytbpg', 'medic914', 'nervana_1', '7nagdsadwp', '2b', 'oskfyj8ck7', 'u3wao8asfg', 'hc6hzs4wsi', '0keh2treny', 'lci3pljx25', 'e2dbcpwd9u', 'cavb7pgepv', 'cgfzk8ha1r', 'borderlands2', 'qp6q8rs8on', 'owpd7vcfs6', 'prontouo91', 'sek6mq6njf', 'ik4len', '7k5shaiqiw', 'ej2ghnafhy', 'wvvgmeja7l', '0853', 'odmx36wdhm', 'ipgmf4ttdx', 'rqu5ub8plf', 'av2jsjfftc', 'zdtcw9fsx1', 'f5miuhqaby', '4ftzjk94dt', 'imawvmzs3a', '615', 'jrgj17oamt', '75vlsw85gi', 'txy3us2ejs', '3u6mdlk7di', '4arwwrzpsr', 'mkjq9yfmp8', 'ykuauov9jo', 'puxbc2loyk', 'lwlexxjus8', 'nux5xfpv2d', 'lgpne5hkao', 'jsuhupz6vp', 'n5vrffrbo3', 'jackperu1', 'ta1yqclpsc', 'xtohi1hexy', 'hld5xlywbn', '7l9qazljvg', 'q0hsyfrwec', 'nosvu0zx4x', '5mjzjnkpfn', '3hoikdmocb', 'stw3pg3t0o', 'pqhq4jnztt', 'fx0w2sq05f', 'cdxe5vmzoj', '250000', 'lxjjgyv86a', 'u9x3perxco', 'lvbuw01yoh', 'pg4y3i5ciu', 'sgc72', 'h1xch54kd3', '4jno677zkv', 'silent0siris', 't4axz7kc3s', 'gan14pw9tg', '5n4husewly', 'mmiye1k8zz', 'fblnifda1c', '547', 'nf46paytvw', '67tjn9egyk', 'gyh00mrkjm', 'hxtupra5bc', '3ln8trhw6x', 'hgf52611', 'a3dsmbqkwu', 'gghfx8pzmh', '2lbtshxi3c', '0jmkdtcymj', 'ems1', '4oa6swlxmr', 'zwvyisyp2b', '8c3fploxcr', 'cbgz9xun2k', '5ydb4s13pf', 'oyogii97yh', 'jasminehuerta24', 'etyzy8gb2a', 'erws6ieldg', 'vku3rtoz1j', 'tonycottee1986', 'lsqe7nu6kl', 'dn5buo7gsk', 'bgytmqj3oo', 'rm6cnzkszl', 'ihhrkg4v1s', 'aryu5qngjj', 'auezxza5ak', 'b0zwi0qptu', 'mesgcngaz0', '7zlsumiess', 'tdcch01n7q', 'yg32yb2jdy', 'ex6jzqj3ni', 'swvuzxi6gt', 'xrp0rtkffj', 'dcdecfv934', 'dwbc1duvdk', 'babmf0w2yw', 'eganator2000', '712c', 'gjbainqwn9', 'jphgpl1c5x', 'rqkk15uhey', 'easlgea1b7']\n",
            "0 words have punctuation characters: []\n"
          ]
        }
      ]
    },
    {
      "cell_type": "markdown",
      "metadata": {
        "id": "u3F1ni6wpv0k"
      },
      "source": [
        "## Q6 (1pt)\n",
        "\n",
        "During the lecture, we learned that there is a special text tokenizer in NLTK called *TweetTokenizer.* Let's try to apply *CountVectorizer* with this tokenizer. Answer all the questions from the previous section using TweetTokenizer and compare the results."
      ]
    },
    {
      "cell_type": "code",
      "execution_count": 363,
      "metadata": {
        "id": "wc2hAf_ipv0l"
      },
      "outputs": [],
      "source": [
        "from nltk.tokenize import TweetTokenizer\n",
        "from nltk import tokenize\n",
        "import string"
      ]
    },
    {
      "cell_type": "code",
      "source": [
        "tw = TweetTokenizer()"
      ],
      "metadata": {
        "id": "pEkPgwV67czc"
      },
      "execution_count": 341,
      "outputs": []
    },
    {
      "cell_type": "code",
      "source": [
        "keys_with_digit = []\n",
        "keys_with_punctuation = []\n",
        "\n",
        "for word in keyword_list:\n",
        "  tokens = tw.tokenize(word)\n",
        "\n",
        "  if any(token.isdigit() for token in tokens):\n",
        "    keys_with_digit.append(token)\n",
        "\n",
        "  if any(token in string.punctuation for token in tokens):\n",
        "    keys_with_punctuation.append(token)\n",
        "\n",
        "print(f\"{len(keys_with_digit)} words have digits: {keys_with_digit}\")\n",
        "print(f\"{len(keys_with_punctuation)} words have punctuation characters: {keys_with_punctuation}\")"
      ],
      "metadata": {
        "id": "pwjAlhknvTmZ",
        "outputId": "3189dd85-12bb-42cc-ba4b-5f72b8ae8f94",
        "colab": {
          "base_uri": "https://localhost:8080/"
        }
      },
      "execution_count": 364,
      "outputs": [
        {
          "output_type": "stream",
          "name": "stdout",
          "text": [
            "700 words have digits: ['1b7', '1b7', '1b7', '1b7', '1b7', '1b7', '1b7', '1b7', '1b7', '1b7', '1b7', '1b7', '1b7', '1b7', '1b7', '1b7', '1b7', '1b7', '1b7', '1b7', '1b7', '1b7', '1b7', '1b7', '1b7', '1b7', '1b7', '1b7', '1b7', '1b7', '1b7', '1b7', '1b7', '1b7', '1b7', '1b7', '1b7', '1b7', '1b7', '1b7', '1b7', '1b7', '1b7', '1b7', '1b7', '1b7', '1b7', '1b7', '1b7', '1b7', '1b7', '1b7', '1b7', '1b7', '1b7', '1b7', '1b7', '1b7', '1b7', '1b7', '1b7', '1b7', '1b7', '1b7', '1b7', '1b7', '1b7', '1b7', '1b7', '1b7', '1b7', '1b7', '1b7', '1b7', '1b7', '1b7', '1b7', '1b7', '1b7', '1b7', '1b7', '1b7', '1b7', '1b7', '1b7', '1b7', '1b7', '1b7', '1b7', '1b7', '1b7', '1b7', '1b7', '1b7', '1b7', '1b7', '1b7', '1b7', '1b7', '1b7', '1b7', '1b7', '1b7', '1b7', '1b7', '1b7', '1b7', '1b7', '1b7', '1b7', '1b7', '1b7', '1b7', '1b7', '1b7', '1b7', '1b7', '1b7', '1b7', '1b7', '1b7', '1b7', '1b7', '1b7', '1b7', '1b7', '1b7', '1b7', '1b7', '1b7', '1b7', '1b7', '1b7', '1b7', '1b7', '1b7', '1b7', '1b7', '1b7', '1b7', '1b7', '1b7', '1b7', '1b7', '1b7', '1b7', '1b7', '1b7', '1b7', '1b7', '1b7', '1b7', '1b7', '1b7', '1b7', '1b7', '1b7', '1b7', '1b7', '1b7', '1b7', '1b7', '1b7', '1b7', '1b7', '1b7', '1b7', '1b7', '1b7', '1b7', '1b7', '1b7', '1b7', '1b7', '1b7', '1b7', '1b7', '1b7', '1b7', '1b7', '1b7', '1b7', '1b7', '1b7', '1b7', '1b7', '1b7', '1b7', '1b7', '1b7', '1b7', '1b7', '1b7', '1b7', '1b7', '1b7', '1b7', '1b7', '1b7', '1b7', '1b7', '1b7', '1b7', '1b7', '1b7', '1b7', '1b7', '1b7', '1b7', '1b7', '1b7', '1b7', '1b7', '1b7', '1b7', '1b7', '1b7', '1b7', '1b7', '1b7', '1b7', '1b7', '1b7', '1b7', '1b7', '1b7', '1b7', '1b7', '1b7', '1b7', '1b7', '1b7', '1b7', '1b7', '1b7', '1b7', '1b7', '1b7', '1b7', '1b7', '1b7', '1b7', '1b7', '1b7', '1b7', '1b7', '1b7', '1b7', '1b7', '1b7', '1b7', '1b7', '1b7', '1b7', '1b7', '1b7', '1b7', '1b7', '1b7', '1b7', '1b7', '1b7', '1b7', '1b7', '1b7', '1b7', '1b7', '1b7', '1b7', '1b7', '1b7', '1b7', '1b7', '1b7', '1b7', '1b7', '1b7', '1b7', '1b7', '1b7', '1b7', '1b7', '1b7', '1b7', '1b7', '1b7', '1b7', '1b7', '1b7', '1b7', '1b7', '1b7', '1b7', '1b7', '1b7', '1b7', '1b7', '1b7', '1b7', '1b7', '1b7', '1b7', '1b7', '1b7', '1b7', '1b7', '1b7', '1b7', '1b7', '1b7', '1b7', '1b7', '1b7', '1b7', '1b7', '1b7', '1b7', '1b7', '1b7', '1b7', '1b7', '1b7', '1b7', '1b7', '1b7', '1b7', '1b7', '1b7', '1b7', '1b7', '1b7', '1b7', '1b7', '1b7', '1b7', '1b7', '1b7', '1b7', '1b7', '1b7', '1b7', '1b7', '1b7', '1b7', '1b7', '1b7', '1b7', '1b7', '1b7', '1b7', '1b7', '1b7', '1b7', '1b7', '1b7', '1b7', '1b7', '1b7', '1b7', '1b7', '1b7', '1b7', '1b7', '1b7', '1b7', '1b7', '1b7', '1b7', '1b7', '1b7', '1b7', '1b7', '1b7', '1b7', '1b7', '1b7', '1b7', '1b7', '1b7', '1b7', '1b7', '1b7', '1b7', '1b7', '1b7', '1b7', '1b7', '1b7', '1b7', '1b7', '1b7', '1b7', '1b7', '1b7', '1b7', '1b7', '1b7', '1b7', '1b7', '1b7', '1b7', '1b7', '1b7', '1b7', '1b7', '1b7', '1b7', '1b7', '1b7', '1b7', '1b7', '1b7', '1b7', '1b7', '1b7', '1b7', '1b7', '1b7', '1b7', '1b7', '1b7', '1b7', '1b7', '1b7', '1b7', '1b7', '1b7', '1b7', '1b7', '1b7', '1b7', '1b7', '1b7', '1b7', '1b7', '1b7', '1b7', '1b7', '1b7', '1b7', '1b7', '1b7', '1b7', '1b7', '1b7', '1b7', '1b7', '1b7', '1b7', '1b7', '1b7', '1b7', '1b7', '1b7', '1b7', '1b7', '1b7', '1b7', '1b7', '1b7', '1b7', '1b7', '1b7', '1b7', '1b7', '1b7', '1b7', '1b7', '1b7', '1b7', '1b7', '1b7', '1b7', '1b7', '1b7', '1b7', '1b7', '1b7', '1b7', '1b7', '1b7', '1b7', '1b7', '1b7', '1b7', '1b7', '1b7', '1b7', '1b7', '1b7', '1b7', '1b7', '1b7', '1b7', '1b7', '1b7', '1b7', '1b7', '1b7', '1b7', '1b7', '1b7', '1b7', '1b7', '1b7', '1b7', '1b7', '1b7', '1b7', '1b7', '1b7', '1b7', '1b7', '1b7', '1b7', '1b7', '1b7', '1b7', '1b7', '1b7', '1b7', '1b7', '1b7', '1b7', '1b7', '1b7', '1b7', '1b7', '1b7', '1b7', '1b7', '1b7', '1b7', '1b7', '1b7', '1b7', '1b7', '1b7', '1b7', '1b7', '1b7', '1b7', '1b7', '1b7', '1b7', '1b7', '1b7', '1b7', '1b7', '1b7', '1b7', '1b7', '1b7', '1b7', '1b7', '1b7', '1b7', '1b7', '1b7', '1b7', '1b7', '1b7', '1b7', '1b7', '1b7', '1b7', '1b7', '1b7', '1b7', '1b7', '1b7', '1b7', '1b7', '1b7', '1b7', '1b7', '1b7', '1b7', '1b7', '1b7', '1b7', '1b7', '1b7', '1b7', '1b7', '1b7', '1b7', '1b7', '1b7', '1b7', '1b7', '1b7', '1b7', '1b7', '1b7', '1b7', '1b7', '1b7', '1b7', '1b7', '1b7', '1b7', '1b7', '1b7', '1b7', '1b7', '1b7', '1b7', '1b7', '1b7', '1b7', '1b7', '1b7', '1b7', '1b7', '1b7', '1b7', '1b7', '1b7', '1b7', '1b7', '1b7', '1b7', '1b7', '1b7', '1b7', '1b7', '1b7', '1b7', '1b7', '1b7', '1b7', '1b7', '1b7', '1b7', '1b7', '1b7', '1b7', '1b7', '1b7', '1b7', '1b7', '1b7', '1b7', '1b7', '1b7', '1b7', '1b7', '1b7', '1b7', '1b7', '1b7', '1b7', '1b7', '1b7', '1b7', '1b7', '1b7', '1b7', '1b7', '1b7', '1b7', '1b7', '1b7', '1b7', '1b7', '1b7', '1b7', '1b7', '1b7', '1b7', '1b7', '1b7', '1b7', '1b7', '1b7', '1b7', '1b7', '1b7', '1b7', '1b7', '1b7', '1b7', '1b7', '1b7', '1b7', '1b7', '1b7', '1b7', '1b7', '1b7', '1b7', '1b7', '1b7', '1b7', '1b7', '1b7', '1b7', '1b7', '1b7']\n",
            "27 words have punctuation characters: ['1b7', '1b7', '1b7', '1b7', '1b7', '1b7', '1b7', '1b7', '1b7', '1b7', '1b7', '1b7', '1b7', '1b7', '1b7', '1b7', '1b7', '1b7', '1b7', '1b7', '1b7', '1b7', '1b7', '1b7', '1b7', '1b7', '1b7']\n"
          ]
        }
      ]
    },
    {
      "cell_type": "markdown",
      "metadata": {
        "id": "4LZMjKFjpv0l"
      },
      "source": [
        "## Q7 (4pt)\n",
        "\n",
        "In scikit-learn, we can evaluate the process of counting matrices using CountVectorizer. CountVectorizer, like other inheritors of the _VectorizerMixin, has arguments tokenizer and preprocessor. The preprocessor is applied at the very beginning to each line of your dataset, while the tokenizer should take a string and return tokens.\n",
        "\n",
        "Let's write a custom tokenizer that will do everything we need:\n",
        "\n",
        "1. Convert all letters to lowercase.\n",
        "2. Split the text into tokens using *TweetTokenizer* from the *nltk* package.\n",
        "3. Remove all tokens that contain non-Latin characters, except for emojies (we'll consider tokens containing only punctuation and at least one parenthesis as emoticons) and hashtags that contain only Latin letters after the initial #.\n",
        "4. Remove all tokens listed in nltk.corpus.stopwords.words('english').\n",
        "5. Perform stemming using *SnowballStemmer.*\n",
        "\n",
        "Demonstrate the operation of your function on the first text in the training dataset. You can access it by *.iloc[0]*\n",
        "\n",
        "Usefull site on regular expressions: https://regex101.com/"
      ]
    },
    {
      "cell_type": "code",
      "source": [
        "import nltk\n",
        "from nltk.corpus import stopwords\n",
        "from nltk.stem import SnowballStemmer"
      ],
      "metadata": {
        "id": "CHQ24NRu_HK8"
      },
      "execution_count": 344,
      "outputs": []
    },
    {
      "cell_type": "code",
      "source": [
        "nltk.download('stopwords')"
      ],
      "metadata": {
        "id": "c4g5cwrr_J8J",
        "colab": {
          "base_uri": "https://localhost:8080/"
        },
        "outputId": "1094b468-661d-4259-b3e5-f6ad23c23856"
      },
      "execution_count": 345,
      "outputs": [
        {
          "output_type": "stream",
          "name": "stderr",
          "text": [
            "[nltk_data] Downloading package stopwords to /root/nltk_data...\n",
            "[nltk_data]   Package stopwords is already up-to-date!\n"
          ]
        },
        {
          "output_type": "execute_result",
          "data": {
            "text/plain": [
              "True"
            ]
          },
          "metadata": {},
          "execution_count": 345
        }
      ]
    },
    {
      "cell_type": "code",
      "source": [
        "stemmer = SnowballStemmer('english')"
      ],
      "metadata": {
        "id": "zDpKCWTA_WJ7"
      },
      "execution_count": 346,
      "outputs": []
    },
    {
      "cell_type": "code",
      "source": [],
      "metadata": {
        "id": "FZoh4WK6BRnR"
      },
      "execution_count": 346,
      "outputs": []
    },
    {
      "cell_type": "code",
      "source": [
        "def custom_tokenizer(text):\n",
        "    # Lowercase transformation\n",
        "    text =\n",
        "\n",
        "    # Tokenize using TweetTokenizer\n",
        "    tokens =\n",
        "\n",
        "    # Filter tokens based on criteria\n",
        "    filtered_tokens = []\n",
        "    for token in tokens:\n",
        "        # Keep tokens that contain only Latin characters, \"smileys\", or valid hashtags\n",
        "\n",
        "\n",
        "    # Remove stopwords\n",
        "    filtered_tokens =\n",
        "\n",
        "    # Perform stemming\n",
        "    stemmed_tokens =\n",
        "\n",
        "    return stemmed_tokens"
      ],
      "metadata": {
        "id": "U9etFsDw_cJ5",
        "colab": {
          "base_uri": "https://localhost:8080/",
          "height": 140
        },
        "outputId": "2b0489c0-e8d1-4b65-f664-0d318ba4b750"
      },
      "execution_count": 347,
      "outputs": [
        {
          "output_type": "error",
          "ename": "SyntaxError",
          "evalue": "invalid syntax (<ipython-input-347-caac166c2bdf>, line 3)",
          "traceback": [
            "\u001b[0;36m  File \u001b[0;32m\"<ipython-input-347-caac166c2bdf>\"\u001b[0;36m, line \u001b[0;32m3\u001b[0m\n\u001b[0;31m    text =\u001b[0m\n\u001b[0m          ^\u001b[0m\n\u001b[0;31mSyntaxError\u001b[0m\u001b[0;31m:\u001b[0m invalid syntax\n"
          ]
        }
      ]
    },
    {
      "cell_type": "code",
      "source": [],
      "metadata": {
        "id": "fGQWVa56B8Kv"
      },
      "execution_count": null,
      "outputs": []
    },
    {
      "cell_type": "markdown",
      "metadata": {
        "id": "zpQWnpltpv0m"
      },
      "source": [
        "## Q8 (2pt)\n",
        "\n",
        "1. Apply *CountVectorizer* with your tokenizer to the Train and Validation sets.\n",
        "2. Train *LogisticRegression* on the features obtained.\n",
        "3. Calculate f1-score on the validation set."
      ]
    },
    {
      "cell_type": "code",
      "source": [],
      "metadata": {
        "id": "yeFTsrIxP5pp"
      },
      "execution_count": null,
      "outputs": []
    },
    {
      "cell_type": "code",
      "source": [],
      "metadata": {
        "id": "cXKe4bh7QMBS"
      },
      "execution_count": null,
      "outputs": []
    },
    {
      "cell_type": "code",
      "source": [],
      "metadata": {
        "id": "s1e7VFTXQMBV"
      },
      "execution_count": null,
      "outputs": []
    },
    {
      "cell_type": "code",
      "source": [],
      "metadata": {
        "id": "Pz7vkG0VQMBW"
      },
      "execution_count": null,
      "outputs": []
    },
    {
      "cell_type": "code",
      "source": [],
      "metadata": {
        "id": "mxODuaZpQhJX"
      },
      "execution_count": null,
      "outputs": []
    },
    {
      "cell_type": "code",
      "source": [],
      "metadata": {
        "id": "I1A_3_DSQtXP"
      },
      "execution_count": null,
      "outputs": []
    },
    {
      "cell_type": "code",
      "source": [],
      "metadata": {
        "id": "FNYWE2sURC3P"
      },
      "execution_count": null,
      "outputs": []
    },
    {
      "cell_type": "code",
      "source": [
        "from sklearn.linear_model import LogisticRegression"
      ],
      "metadata": {
        "id": "v7XAbe0SRPgt"
      },
      "execution_count": null,
      "outputs": []
    },
    {
      "cell_type": "code",
      "source": [],
      "metadata": {
        "id": "zkM7mhB_RPgw"
      },
      "execution_count": null,
      "outputs": []
    },
    {
      "cell_type": "code",
      "source": [],
      "metadata": {
        "id": "h2fYwhfdRPgx"
      },
      "execution_count": null,
      "outputs": []
    },
    {
      "cell_type": "code",
      "source": [],
      "metadata": {
        "id": "behCjooVRPgy"
      },
      "execution_count": null,
      "outputs": []
    },
    {
      "cell_type": "markdown",
      "metadata": {
        "id": "DLDBbCk_pv0m"
      },
      "source": [
        "## Q9 (2pt)\n",
        "\n",
        "1. Repeat Q8, but with a TF-IDF vectorizer. How did the quality change?\n",
        "\n",
        "2. We can further reduce the size of our matrix by discarding *df* values close to one. Most likely, such words do not carry much information about the category since they occur quite frequently. Limit the maximum df in the parameters of TfIdfVectorizer, set the upper limit to 0.9. How did the matrix size change, and how did the quality change?\n",
        "\n",
        "3. We can also reduce the size of the matrix by removing words with very small *df* values. Were you able to improve the quality by doing this?"
      ]
    },
    {
      "cell_type": "code",
      "source": [
        "from sklearn.feature_extraction.text import TfidfVectorizer"
      ],
      "metadata": {
        "id": "sMAA2hLOWef-"
      },
      "execution_count": null,
      "outputs": []
    },
    {
      "cell_type": "code",
      "source": [],
      "metadata": {
        "id": "zIuiSBc7Rsiw"
      },
      "execution_count": null,
      "outputs": []
    },
    {
      "cell_type": "code",
      "source": [],
      "metadata": {
        "id": "9CvelSouWmUI"
      },
      "execution_count": null,
      "outputs": []
    },
    {
      "cell_type": "code",
      "source": [],
      "metadata": {
        "id": "dvSASmIpWmUK"
      },
      "execution_count": null,
      "outputs": []
    },
    {
      "cell_type": "code",
      "source": [],
      "metadata": {
        "id": "gob0eJ33WmUL"
      },
      "execution_count": null,
      "outputs": []
    },
    {
      "cell_type": "code",
      "source": [],
      "metadata": {
        "id": "6qXxve1dWmUM"
      },
      "execution_count": null,
      "outputs": []
    },
    {
      "cell_type": "code",
      "source": [],
      "metadata": {
        "id": "kPGHQfABW8hQ"
      },
      "execution_count": null,
      "outputs": []
    },
    {
      "cell_type": "code",
      "source": [],
      "metadata": {
        "id": "6VbhC57NW85F"
      },
      "execution_count": null,
      "outputs": []
    },
    {
      "cell_type": "code",
      "source": [],
      "metadata": {
        "id": "4yqSDGrWW85H"
      },
      "execution_count": null,
      "outputs": []
    },
    {
      "cell_type": "code",
      "source": [],
      "metadata": {
        "id": "EgEhaKzcW85J"
      },
      "execution_count": null,
      "outputs": []
    },
    {
      "cell_type": "code",
      "source": [],
      "metadata": {
        "id": "iRMOYkUkW85M"
      },
      "execution_count": null,
      "outputs": []
    },
    {
      "cell_type": "markdown",
      "metadata": {
        "id": "dQX1FcJzpv0n"
      },
      "source": [
        "## Q10 (2pt)\n",
        "\n",
        "Evaluate the best model. The minimal value of f1-score on the Test data should be at least 0.75."
      ]
    },
    {
      "cell_type": "code",
      "source": [],
      "metadata": {
        "id": "nGLzBeA9RyP_"
      },
      "execution_count": null,
      "outputs": []
    },
    {
      "cell_type": "code",
      "source": [],
      "metadata": {
        "id": "9rkxZyq4ULUX"
      },
      "execution_count": null,
      "outputs": []
    },
    {
      "cell_type": "code",
      "source": [],
      "metadata": {
        "id": "6-3f7Qn8R9HZ"
      },
      "execution_count": null,
      "outputs": []
    },
    {
      "cell_type": "code",
      "source": [],
      "metadata": {
        "id": "hBsD_hr7SSFZ"
      },
      "execution_count": null,
      "outputs": []
    },
    {
      "cell_type": "code",
      "source": [],
      "metadata": {
        "id": "tZ2_HdhCUpVt"
      },
      "execution_count": null,
      "outputs": []
    },
    {
      "cell_type": "code",
      "source": [],
      "metadata": {
        "id": "mYPv9166Usyy"
      },
      "execution_count": null,
      "outputs": []
    },
    {
      "cell_type": "code",
      "source": [],
      "metadata": {
        "id": "VcGAgokZUsyz"
      },
      "execution_count": null,
      "outputs": []
    },
    {
      "cell_type": "code",
      "source": [],
      "metadata": {
        "id": "4OQUXRPsUsyz"
      },
      "execution_count": null,
      "outputs": []
    },
    {
      "cell_type": "code",
      "source": [],
      "metadata": {
        "id": "ZUbSP8YxUsy0"
      },
      "execution_count": null,
      "outputs": []
    },
    {
      "cell_type": "markdown",
      "source": [
        "## Q11 (2pt)\n",
        "Visualize the most important features."
      ],
      "metadata": {
        "id": "xhNq40sJwyUv"
      }
    },
    {
      "cell_type": "code",
      "source": [],
      "metadata": {
        "id": "yoi6yuSaUzjb"
      },
      "execution_count": null,
      "outputs": []
    }
  ],
  "metadata": {
    "kernelspec": {
      "display_name": "Python 3 (ipykernel)",
      "language": "python",
      "name": "python3"
    },
    "language_info": {
      "codemirror_mode": {
        "name": "ipython",
        "version": 3
      },
      "file_extension": ".py",
      "mimetype": "text/x-python",
      "name": "python",
      "nbconvert_exporter": "python",
      "pygments_lexer": "ipython3",
      "version": "3.8.5"
    },
    "colab": {
      "provenance": []
    }
  },
  "nbformat": 4,
  "nbformat_minor": 0
}