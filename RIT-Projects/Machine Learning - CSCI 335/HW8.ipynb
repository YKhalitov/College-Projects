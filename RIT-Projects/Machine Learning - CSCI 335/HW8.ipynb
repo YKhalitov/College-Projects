{
  "cells": [
    {
      "cell_type": "code",
      "execution_count": 1,
      "metadata": {
        "id": "InITFBGfl3DV"
      },
      "outputs": [],
      "source": [
        "#from google.colab import drive\n",
        "#drive.mount(\"/content/gdrive\")\n",
        "import numpy as np\n",
        "import pandas as pd\n",
        "import random\n",
        "from sklearn.tree import DecisionTreeRegressor\n",
        "from sklearn.model_selection import train_test_split\n",
        "from sklearn.preprocessing import OneHotEncoder\n",
        "from sklearn.compose import ColumnTransformer\n",
        "import matplotlib.pyplot as plt"
      ]
    },
    {
      "cell_type": "markdown",
      "metadata": {
        "id": "rTEcsjs_1e4P"
      },
      "source": [
        "#Homework 8\n",
        "In this homework, we will write Gradient Boosting class and apply it to the date from the insuarance company about hospitalization chance. After transformation, data are numpy arrays, not dataframes."
      ]
    },
    {
      "cell_type": "code",
      "execution_count": 13,
      "metadata": {
        "id": "1O3g4yh6yIXH",
        "outputId": "c1a0f0ea-ef30-4e69-d042-c2c860f13c92",
        "colab": {
          "base_uri": "https://localhost:8080/",
          "height": 206
        }
      },
      "outputs": [
        {
          "output_type": "execute_result",
          "data": {
            "text/plain": [
              "   ClaimsTruncated  CharlsonIndex  LengthOfStay  AgeAtFirstClaim Sex  \\\n",
              "0                0              3             0               30   M   \n",
              "1                0              0             0               30   M   \n",
              "2                1              0             0               80   F   \n",
              "3                0              0             1               20   F   \n",
              "4                0              1             0               60   F   \n",
              "\n",
              "   DaysInHospital  \n",
              "0              -1  \n",
              "1              -1  \n",
              "2               1  \n",
              "3               1  \n",
              "4              -1  "
            ],
            "text/html": [
              "\n",
              "  <div id=\"df-5b9c4e70-c721-45ba-b7a0-510a2502f8ec\" class=\"colab-df-container\">\n",
              "    <div>\n",
              "<style scoped>\n",
              "    .dataframe tbody tr th:only-of-type {\n",
              "        vertical-align: middle;\n",
              "    }\n",
              "\n",
              "    .dataframe tbody tr th {\n",
              "        vertical-align: top;\n",
              "    }\n",
              "\n",
              "    .dataframe thead th {\n",
              "        text-align: right;\n",
              "    }\n",
              "</style>\n",
              "<table border=\"1\" class=\"dataframe\">\n",
              "  <thead>\n",
              "    <tr style=\"text-align: right;\">\n",
              "      <th></th>\n",
              "      <th>ClaimsTruncated</th>\n",
              "      <th>CharlsonIndex</th>\n",
              "      <th>LengthOfStay</th>\n",
              "      <th>AgeAtFirstClaim</th>\n",
              "      <th>Sex</th>\n",
              "      <th>DaysInHospital</th>\n",
              "    </tr>\n",
              "  </thead>\n",
              "  <tbody>\n",
              "    <tr>\n",
              "      <th>0</th>\n",
              "      <td>0</td>\n",
              "      <td>3</td>\n",
              "      <td>0</td>\n",
              "      <td>30</td>\n",
              "      <td>M</td>\n",
              "      <td>-1</td>\n",
              "    </tr>\n",
              "    <tr>\n",
              "      <th>1</th>\n",
              "      <td>0</td>\n",
              "      <td>0</td>\n",
              "      <td>0</td>\n",
              "      <td>30</td>\n",
              "      <td>M</td>\n",
              "      <td>-1</td>\n",
              "    </tr>\n",
              "    <tr>\n",
              "      <th>2</th>\n",
              "      <td>1</td>\n",
              "      <td>0</td>\n",
              "      <td>0</td>\n",
              "      <td>80</td>\n",
              "      <td>F</td>\n",
              "      <td>1</td>\n",
              "    </tr>\n",
              "    <tr>\n",
              "      <th>3</th>\n",
              "      <td>0</td>\n",
              "      <td>0</td>\n",
              "      <td>1</td>\n",
              "      <td>20</td>\n",
              "      <td>F</td>\n",
              "      <td>1</td>\n",
              "    </tr>\n",
              "    <tr>\n",
              "      <th>4</th>\n",
              "      <td>0</td>\n",
              "      <td>1</td>\n",
              "      <td>0</td>\n",
              "      <td>60</td>\n",
              "      <td>F</td>\n",
              "      <td>-1</td>\n",
              "    </tr>\n",
              "  </tbody>\n",
              "</table>\n",
              "</div>\n",
              "    <div class=\"colab-df-buttons\">\n",
              "\n",
              "  <div class=\"colab-df-container\">\n",
              "    <button class=\"colab-df-convert\" onclick=\"convertToInteractive('df-5b9c4e70-c721-45ba-b7a0-510a2502f8ec')\"\n",
              "            title=\"Convert this dataframe to an interactive table.\"\n",
              "            style=\"display:none;\">\n",
              "\n",
              "  <svg xmlns=\"http://www.w3.org/2000/svg\" height=\"24px\" viewBox=\"0 -960 960 960\">\n",
              "    <path d=\"M120-120v-720h720v720H120Zm60-500h600v-160H180v160Zm220 220h160v-160H400v160Zm0 220h160v-160H400v160ZM180-400h160v-160H180v160Zm440 0h160v-160H620v160ZM180-180h160v-160H180v160Zm440 0h160v-160H620v160Z\"/>\n",
              "  </svg>\n",
              "    </button>\n",
              "\n",
              "  <style>\n",
              "    .colab-df-container {\n",
              "      display:flex;\n",
              "      gap: 12px;\n",
              "    }\n",
              "\n",
              "    .colab-df-convert {\n",
              "      background-color: #E8F0FE;\n",
              "      border: none;\n",
              "      border-radius: 50%;\n",
              "      cursor: pointer;\n",
              "      display: none;\n",
              "      fill: #1967D2;\n",
              "      height: 32px;\n",
              "      padding: 0 0 0 0;\n",
              "      width: 32px;\n",
              "    }\n",
              "\n",
              "    .colab-df-convert:hover {\n",
              "      background-color: #E2EBFA;\n",
              "      box-shadow: 0px 1px 2px rgba(60, 64, 67, 0.3), 0px 1px 3px 1px rgba(60, 64, 67, 0.15);\n",
              "      fill: #174EA6;\n",
              "    }\n",
              "\n",
              "    .colab-df-buttons div {\n",
              "      margin-bottom: 4px;\n",
              "    }\n",
              "\n",
              "    [theme=dark] .colab-df-convert {\n",
              "      background-color: #3B4455;\n",
              "      fill: #D2E3FC;\n",
              "    }\n",
              "\n",
              "    [theme=dark] .colab-df-convert:hover {\n",
              "      background-color: #434B5C;\n",
              "      box-shadow: 0px 1px 3px 1px rgba(0, 0, 0, 0.15);\n",
              "      filter: drop-shadow(0px 1px 2px rgba(0, 0, 0, 0.3));\n",
              "      fill: #FFFFFF;\n",
              "    }\n",
              "  </style>\n",
              "\n",
              "    <script>\n",
              "      const buttonEl =\n",
              "        document.querySelector('#df-5b9c4e70-c721-45ba-b7a0-510a2502f8ec button.colab-df-convert');\n",
              "      buttonEl.style.display =\n",
              "        google.colab.kernel.accessAllowed ? 'block' : 'none';\n",
              "\n",
              "      async function convertToInteractive(key) {\n",
              "        const element = document.querySelector('#df-5b9c4e70-c721-45ba-b7a0-510a2502f8ec');\n",
              "        const dataTable =\n",
              "          await google.colab.kernel.invokeFunction('convertToInteractive',\n",
              "                                                    [key], {});\n",
              "        if (!dataTable) return;\n",
              "\n",
              "        const docLinkHtml = 'Like what you see? Visit the ' +\n",
              "          '<a target=\"_blank\" href=https://colab.research.google.com/notebooks/data_table.ipynb>data table notebook</a>'\n",
              "          + ' to learn more about interactive tables.';\n",
              "        element.innerHTML = '';\n",
              "        dataTable['output_type'] = 'display_data';\n",
              "        await google.colab.output.renderOutput(dataTable, element);\n",
              "        const docLink = document.createElement('div');\n",
              "        docLink.innerHTML = docLinkHtml;\n",
              "        element.appendChild(docLink);\n",
              "      }\n",
              "    </script>\n",
              "  </div>\n",
              "\n",
              "\n",
              "<div id=\"df-65893a97-c4f4-47b1-a2a9-6a0e1300bab3\">\n",
              "  <button class=\"colab-df-quickchart\" onclick=\"quickchart('df-65893a97-c4f4-47b1-a2a9-6a0e1300bab3')\"\n",
              "            title=\"Suggest charts\"\n",
              "            style=\"display:none;\">\n",
              "\n",
              "<svg xmlns=\"http://www.w3.org/2000/svg\" height=\"24px\"viewBox=\"0 0 24 24\"\n",
              "     width=\"24px\">\n",
              "    <g>\n",
              "        <path d=\"M19 3H5c-1.1 0-2 .9-2 2v14c0 1.1.9 2 2 2h14c1.1 0 2-.9 2-2V5c0-1.1-.9-2-2-2zM9 17H7v-7h2v7zm4 0h-2V7h2v10zm4 0h-2v-4h2v4z\"/>\n",
              "    </g>\n",
              "</svg>\n",
              "  </button>\n",
              "\n",
              "<style>\n",
              "  .colab-df-quickchart {\n",
              "      --bg-color: #E8F0FE;\n",
              "      --fill-color: #1967D2;\n",
              "      --hover-bg-color: #E2EBFA;\n",
              "      --hover-fill-color: #174EA6;\n",
              "      --disabled-fill-color: #AAA;\n",
              "      --disabled-bg-color: #DDD;\n",
              "  }\n",
              "\n",
              "  [theme=dark] .colab-df-quickchart {\n",
              "      --bg-color: #3B4455;\n",
              "      --fill-color: #D2E3FC;\n",
              "      --hover-bg-color: #434B5C;\n",
              "      --hover-fill-color: #FFFFFF;\n",
              "      --disabled-bg-color: #3B4455;\n",
              "      --disabled-fill-color: #666;\n",
              "  }\n",
              "\n",
              "  .colab-df-quickchart {\n",
              "    background-color: var(--bg-color);\n",
              "    border: none;\n",
              "    border-radius: 50%;\n",
              "    cursor: pointer;\n",
              "    display: none;\n",
              "    fill: var(--fill-color);\n",
              "    height: 32px;\n",
              "    padding: 0;\n",
              "    width: 32px;\n",
              "  }\n",
              "\n",
              "  .colab-df-quickchart:hover {\n",
              "    background-color: var(--hover-bg-color);\n",
              "    box-shadow: 0 1px 2px rgba(60, 64, 67, 0.3), 0 1px 3px 1px rgba(60, 64, 67, 0.15);\n",
              "    fill: var(--button-hover-fill-color);\n",
              "  }\n",
              "\n",
              "  .colab-df-quickchart-complete:disabled,\n",
              "  .colab-df-quickchart-complete:disabled:hover {\n",
              "    background-color: var(--disabled-bg-color);\n",
              "    fill: var(--disabled-fill-color);\n",
              "    box-shadow: none;\n",
              "  }\n",
              "\n",
              "  .colab-df-spinner {\n",
              "    border: 2px solid var(--fill-color);\n",
              "    border-color: transparent;\n",
              "    border-bottom-color: var(--fill-color);\n",
              "    animation:\n",
              "      spin 1s steps(1) infinite;\n",
              "  }\n",
              "\n",
              "  @keyframes spin {\n",
              "    0% {\n",
              "      border-color: transparent;\n",
              "      border-bottom-color: var(--fill-color);\n",
              "      border-left-color: var(--fill-color);\n",
              "    }\n",
              "    20% {\n",
              "      border-color: transparent;\n",
              "      border-left-color: var(--fill-color);\n",
              "      border-top-color: var(--fill-color);\n",
              "    }\n",
              "    30% {\n",
              "      border-color: transparent;\n",
              "      border-left-color: var(--fill-color);\n",
              "      border-top-color: var(--fill-color);\n",
              "      border-right-color: var(--fill-color);\n",
              "    }\n",
              "    40% {\n",
              "      border-color: transparent;\n",
              "      border-right-color: var(--fill-color);\n",
              "      border-top-color: var(--fill-color);\n",
              "    }\n",
              "    60% {\n",
              "      border-color: transparent;\n",
              "      border-right-color: var(--fill-color);\n",
              "    }\n",
              "    80% {\n",
              "      border-color: transparent;\n",
              "      border-right-color: var(--fill-color);\n",
              "      border-bottom-color: var(--fill-color);\n",
              "    }\n",
              "    90% {\n",
              "      border-color: transparent;\n",
              "      border-bottom-color: var(--fill-color);\n",
              "    }\n",
              "  }\n",
              "</style>\n",
              "\n",
              "  <script>\n",
              "    async function quickchart(key) {\n",
              "      const quickchartButtonEl =\n",
              "        document.querySelector('#' + key + ' button');\n",
              "      quickchartButtonEl.disabled = true;  // To prevent multiple clicks.\n",
              "      quickchartButtonEl.classList.add('colab-df-spinner');\n",
              "      try {\n",
              "        const charts = await google.colab.kernel.invokeFunction(\n",
              "            'suggestCharts', [key], {});\n",
              "      } catch (error) {\n",
              "        console.error('Error during call to suggestCharts:', error);\n",
              "      }\n",
              "      quickchartButtonEl.classList.remove('colab-df-spinner');\n",
              "      quickchartButtonEl.classList.add('colab-df-quickchart-complete');\n",
              "    }\n",
              "    (() => {\n",
              "      let quickchartButtonEl =\n",
              "        document.querySelector('#df-65893a97-c4f4-47b1-a2a9-6a0e1300bab3 button');\n",
              "      quickchartButtonEl.style.display =\n",
              "        google.colab.kernel.accessAllowed ? 'block' : 'none';\n",
              "    })();\n",
              "  </script>\n",
              "</div>\n",
              "    </div>\n",
              "  </div>\n"
            ],
            "application/vnd.google.colaboratory.intrinsic+json": {
              "type": "dataframe",
              "variable_name": "data",
              "summary": "{\n  \"name\": \"data\",\n  \"rows\": 76038,\n  \"fields\": [\n    {\n      \"column\": \"ClaimsTruncated\",\n      \"properties\": {\n        \"dtype\": \"number\",\n        \"std\": 0,\n        \"min\": 0,\n        \"max\": 1,\n        \"num_unique_values\": 2,\n        \"samples\": [\n          1,\n          0\n        ],\n        \"semantic_type\": \"\",\n        \"description\": \"\"\n      }\n    },\n    {\n      \"column\": \"CharlsonIndex\",\n      \"properties\": {\n        \"dtype\": \"number\",\n        \"std\": 0,\n        \"min\": 0,\n        \"max\": 5,\n        \"num_unique_values\": 4,\n        \"samples\": [\n          0,\n          5\n        ],\n        \"semantic_type\": \"\",\n        \"description\": \"\"\n      }\n    },\n    {\n      \"column\": \"LengthOfStay\",\n      \"properties\": {\n        \"dtype\": \"number\",\n        \"std\": 17,\n        \"min\": 0,\n        \"max\": 1744,\n        \"num_unique_values\": 187,\n        \"samples\": [\n          379,\n          254\n        ],\n        \"semantic_type\": \"\",\n        \"description\": \"\"\n      }\n    },\n    {\n      \"column\": \"AgeAtFirstClaim\",\n      \"properties\": {\n        \"dtype\": \"number\",\n        \"std\": 26,\n        \"min\": -1,\n        \"max\": 80,\n        \"num_unique_values\": 10,\n        \"samples\": [\n          10,\n          80\n        ],\n        \"semantic_type\": \"\",\n        \"description\": \"\"\n      }\n    },\n    {\n      \"column\": \"Sex\",\n      \"properties\": {\n        \"dtype\": \"category\",\n        \"num_unique_values\": 2,\n        \"samples\": [\n          \"F\",\n          \"M\"\n        ],\n        \"semantic_type\": \"\",\n        \"description\": \"\"\n      }\n    },\n    {\n      \"column\": \"DaysInHospital\",\n      \"properties\": {\n        \"dtype\": \"number\",\n        \"std\": 0,\n        \"min\": -1,\n        \"max\": 1,\n        \"num_unique_values\": 2,\n        \"samples\": [\n          1,\n          -1\n        ],\n        \"semantic_type\": \"\",\n        \"description\": \"\"\n      }\n    }\n  ]\n}"
            }
          },
          "metadata": {},
          "execution_count": 13
        }
      ],
      "source": [
        "data = pd.read_csv('https://raw.githubusercontent.com/anton-selitskiy/RIT_ML/main/2023_fall/Hospital.csv')\n",
        "data.head()"
      ]
    },
    {
      "cell_type": "code",
      "execution_count": 3,
      "metadata": {
        "id": "J3IVlpskyafP"
      },
      "outputs": [],
      "source": [
        "X = data.iloc[:,:-1]\n",
        "y = data.iloc[:,-1].values"
      ]
    },
    {
      "cell_type": "code",
      "execution_count": 4,
      "metadata": {
        "id": "GfPXBN47NAJs"
      },
      "outputs": [],
      "source": [
        "X_train, X_test, y_train, y_test = train_test_split(X, y, test_size=0.4, random_state=42)\n",
        "X_val, X_test, y_val, y_test = train_test_split(X_test, y_test, test_size=0.5, random_state=42)"
      ]
    },
    {
      "cell_type": "code",
      "execution_count": 5,
      "metadata": {
        "id": "ySV7wLciNAGN"
      },
      "outputs": [],
      "source": [
        "transform = ColumnTransformer([('OneHot', OneHotEncoder(drop='first', handle_unknown='infrequent_if_exist'), ['Sex'])], remainder='passthrough')"
      ]
    },
    {
      "cell_type": "code",
      "execution_count": 6,
      "metadata": {
        "id": "f-GYgbYgQx1a"
      },
      "outputs": [],
      "source": [
        "X_train_transformed = transform.fit_transform(X_train)\n",
        "X_val_transformed = transform.transform(X_val)\n",
        "X_test_transformed = transform.transform(X_test)"
      ]
    },
    {
      "cell_type": "markdown",
      "metadata": {
        "id": "hOU7RIFFLYAs"
      },
      "source": [
        "#Gradient Boosting\n",
        "\n",
        "$$\n",
        "a_N(x) = b_0(x)+\\eta\\sum_{n=1}^N \\gamma_n b_n(x) = b_0(x) + \\eta \\gamma_1 b_1(x) +\\ldots + \\eta \\gamma_N b_N(x)\n",
        "$$\n",
        "Prediction is\n",
        "$$\n",
        "\\hat{y}=\\operatorname{sign} a_N(x).\n",
        "$$\n",
        "\n",
        "After you built this sum, next model $b_{N+1}(x)$ is trained on\n",
        "$$\n",
        "s^{(i)} = -\\left.\\frac{\\partial L(y, z)}{\\partial z}\\right|_{z=a_N(x^{(i)})}.\n",
        "$$\n",
        "\n",
        "After that, $\\gamma_{N+1}$ is chosen from the following condition:\n",
        "$$\n",
        "L(y, a_N(x)+\\gamma_{N+1}b_{N+1}(x)) \\to \\underset{\\gamma_{N+1}}{\\min}.\n",
        "$$"
      ]
    },
    {
      "cell_type": "markdown",
      "metadata": {
        "id": "KIpdgoJhoPAo"
      },
      "source": [
        "##Q1 (12 pt). Implement boosting for binary classification.\n",
        "\n",
        "Since gradient boosting is trained by sequentially creating models, it may happen that the model that is optimal in terms of generalization is obtained at an intermediate iteration. Usually, to control this behavior, a validation dataset is also passed to the `fit` method, which allows you to assess the overall model quality during training. In addition, it's not usefull to train a really deep model with 1000 or more trees if the optimal ensemble was achieved, for example, at the 70th iteration and did not improve for some number of iterations. Therefore, we will also use early stopping if there are no improvements over a certain number of iterations.\n",
        "\n",
        "You will fill-in three things:\n",
        "\n",
        "1 (4 pt). Function `_fit_new_model`\n",
        "\n",
        "2 (4 pt). Early stopping in `fit`\n",
        "\n",
        "3 (4 pt). Function `predict_proba` (Convert $a(x)$ into probability as in logistic regression)."
      ]
    },
    {
      "cell_type": "code",
      "execution_count": 18,
      "metadata": {
        "id": "0LfhmdJLnZAT"
      },
      "outputs": [],
      "source": [
        "class Boosting:\n",
        "\n",
        "    def __init__(\n",
        "        self,\n",
        "        base_model_class=DecisionTreeRegressor,\n",
        "        base_model_params: dict={'max_features': 0.1},\n",
        "        n_estimators: int=10,\n",
        "        learning_rate: float=0.1,\n",
        "        subsample: float=0.3,\n",
        "        random_seed: int=228,\n",
        "        custom_loss: list or tuple=None,\n",
        "        use_best_model: bool=False,\n",
        "        n_iter_early_stopping: int=None\n",
        "    ):\n",
        "\n",
        "        # Base model class\n",
        "        self.base_model_class = base_model_class\n",
        "        # Parameters for the base model\n",
        "        self.base_model_params = base_model_params\n",
        "        # Number of the base models\n",
        "        self.n_estimators = n_estimators\n",
        "        # Learnin rate (eta)\n",
        "        self.learning_rate = learning_rate\n",
        "        # Fraction of the training data for training of the individual model\n",
        "        self.subsample = subsample\n",
        "        # seed for bootstrap (if we want to reproduse the model, we could use it in base_model parameters)\n",
        "        self.random_seed = random_seed\n",
        "        # Use the number of models with the lowest validation loss\n",
        "        self.use_best_model = use_best_model\n",
        "        # The number of iterations without decreasing of the validation loss\n",
        "        self.n_iter_early_stopping = n_iter_early_stopping\n",
        "\n",
        "        # Placeholder for the first model prediction (a_0)\n",
        "        self.initial_model_pred = None\n",
        "\n",
        "        # Lis of the weights\n",
        "        self.gammas = []\n",
        "\n",
        "        # List of the base models\n",
        "        self.models = [self.base_model_class(**self.base_model_params) for _ in range(self.n_estimators)]\n",
        "\n",
        "        # Log-loss, if user's loss, then pass list: custom_loss = [loss, derivative]\n",
        "        if custom_loss is not None:\n",
        "            self.loss_fn, self.loss_derivative = custom_loss\n",
        "        else:\n",
        "            self.sigmoid = lambda z: 1 / (1 + np.exp(-z))\n",
        "            self.loss_fn = lambda y, z: -np.log(self.sigmoid(y * z)).mean()  #for two arrays returns a number\n",
        "            self.loss_derivative = lambda y, z: (-y * self.sigmoid(-y * z)) #for two arrays returns an array\n",
        "\n",
        "    def _fit_initial_model(self, X, y):\n",
        "        \"\"\"\n",
        "        Function for the first model. It can be a constant, corresponding to the most popular class\n",
        "        or any other model. We will use a constant.\n",
        "        \"\"\"\n",
        "\n",
        "        idx = random.sample(range(X.shape[0]), int(self.subsample*X.shape[0]))\n",
        "        X_s = X[idx,:]\n",
        "        y_s = y[idx]\n",
        "\n",
        "        c, c_counts = np.unique(y_s, return_counts=True)\n",
        "\n",
        "        self.initial_model_pred = c[np.argmax(c_counts)]\n",
        "\n",
        "\n",
        "    def _fit_new_model(self, X: np.ndarray, y: np.ndarray or list, old_predictions: np.ndarray, n_model: int):\n",
        "        \"\"\"\n",
        "        Function for an individual model of the boosting\n",
        "        :param X: features\n",
        "        :param y: target\n",
        "        :param n_model: number of the current model\n",
        "        \"\"\"\n",
        "\n",
        "        # Your code is here ╰( ͡° ͜ʖ ͡° )つ──☆*:\n",
        "\n",
        "        # Take the fraction self.subsample of the data (X, y, old_predictions):\n",
        "\n",
        "\n",
        "        # Compiute pseudo-residuals s using negative self.loss_derivative of y and old_predictions:\n",
        "\n",
        "\n",
        "        # Fit n-th base model self.models[n_model].fit on (X_subset, s):\n",
        "\n",
        "        # Take the fraction self.subsample of the data (X, y, old_predictions):\n",
        "        sample_size = int(self.subsample * X.shape[0])\n",
        "        indices = np.random.choice(X.shape[0], size=sample_size, replace=False)\n",
        "        X_subset, y_subset, old_predictions_subset = X[indices], y[indices], old_predictions[indices]\n",
        "\n",
        "        # Compute pseudo-residuals s using negative self.loss_derivative of y and old_predictions:\n",
        "        residuals = -self.loss_derivative(y_subset, old_predictions_subset)\n",
        "\n",
        "        # Fit n-th base model self.models[n_model].fit on (X_subset, s):\n",
        "        self.models[n_model].fit(X_subset, residuals)\n",
        "\n",
        "\n",
        "    def _find_optimal_gamma(self, y: np.ndarray or list, old_predictions: np.ndarray,\n",
        "                            new_predictions: np.ndarray, boundaries: tuple or list=(0.01, 1)):\n",
        "        \"\"\"\n",
        "        Function determines the best  gamma (the coeffitient for the new model).\n",
        "        :param y: target\n",
        "        :param old_predictions: prediction from the sum of previous models\n",
        "        :param new_predictions: prediction of the new model\n",
        "        :param boudnaries: array-like object with left and right boundaries for gamma\n",
        "        \"\"\"\n",
        "        # Define initial loss and gamma\n",
        "        loss, optimal_gamma = self.loss_fn(y, old_predictions), 0\n",
        "        # Gridsearch for gamma\n",
        "        gammas = np.linspace(*boundaries, 100)\n",
        "        for gamma in gammas:\n",
        "            predictions = old_predictions + gamma * new_predictions\n",
        "            gamma_loss = self.loss_fn(y, predictions)\n",
        "            if gamma_loss < loss:\n",
        "                optimal_gamma = gamma\n",
        "                loss = gamma_loss\n",
        "\n",
        "        return optimal_gamma\n",
        "\n",
        "\n",
        "    def fit(self, X, y, eval_set=None):\n",
        "        \"\"\"\n",
        "        Function of the training the boosting model\n",
        "        :param X: features (n_elments, n_features)\n",
        "        :param y: target (n_elements, )\n",
        "        :eval_set: tuple (X_val, y_val) or None\n",
        "        \"\"\"\n",
        "\n",
        "        early_stop = np.zeros(self.n_iter_early_stopping)\n",
        "        self._fit_initial_model(X,y)\n",
        "        old_predictions = self.initial_model_pred*np.ones(len(y)) #.predict(X)\n",
        "        self.loss = []\n",
        "        self.loss_eval = []\n",
        "        if eval_set != None:\n",
        "            predictions_eval = self.initial_model_pred*np.ones(len(eval_set[1])) #.predict(eval_set[0])\n",
        "        for i in range(self.n_estimators):\n",
        "            # fit new model\n",
        "            self._fit_new_model(X,y,old_predictions,i)\n",
        "            # prediction of the i-th model\n",
        "            new_predictions = self.models[i].predict(X)\n",
        "            # calculate new gamma\n",
        "            opt_gamma = self._find_optimal_gamma(y,old_predictions,new_predictions)\n",
        "            self.gammas.append(opt_gamma)\n",
        "            # update a(x)\n",
        "            old_predictions = old_predictions + self.learning_rate*opt_gamma*new_predictions\n",
        "            # calculate loss\n",
        "            self.loss.append(self.loss_fn(y, old_predictions))\n",
        "            # in case of evaluation set\n",
        "            if eval_set != None:\n",
        "                predictions_eval = predictions_eval + self.gammas[i]*self.learning_rate*self.models[i].predict(eval_set[0])\n",
        "                self.loss_eval.append(self.loss_fn(eval_set[1], predictions_eval))\n",
        "                print('test_loss:', self.loss_eval[i], '  train_loss:', self.loss[i])\n",
        "\n",
        "                early_stop = np.roll(early_stop, 1)\n",
        "                early_stop[0] = self.loss_eval[i]\n",
        "\n",
        "                if np.linalg.norm(early_stop - self.loss_eval[i]) < 0.001:\n",
        "                  print(\"Stopping Early\")\n",
        "                  break\n",
        "\n",
        "                # Update array early_stop with new validation loss value from the right\n",
        "                # and check if all the values are close to the current self.loss_eval[i]\n",
        "                # e.g., if np.linalg.norm(early_stop - self.loss_eval[i]) < 0.001: break\n",
        "\n",
        "            else:\n",
        "                print('train_loss:', self.loss[i])\n",
        "        if (eval_set != None) and self.use_best_model:\n",
        "             self.gammas = self.gammas[:np.argmin(self.loss_eval)+1]\n",
        "\n",
        "\n",
        "\n",
        "\n",
        "    def predict(self, X: np.ndarray):\n",
        "        \"\"\"\n",
        "        Function that predicts the classes\n",
        "        :param X: feature matrix\n",
        "        \"\"\"\n",
        "\n",
        "        pred = self.initial_model_pred*np.ones(len(X)) #.predict(X)\n",
        "        for i in range(len(self.gammas)):\n",
        "          pred = pred+self.gammas[i]*self.learning_rate*self.models[i].predict(X)\n",
        "        return np.sign(pred)\n",
        "\n",
        "    def predict_proba(self, X: np.ndarray):\n",
        "        \"\"\"\n",
        "        Function predicts probabilities of class +1\n",
        "        :param X: feature matrix\n",
        "        \"\"\"\n",
        "\n",
        "        pred = self.initial_model_pred*np.ones(len(X))\n",
        "        for i in range(len(self.gammas)):\n",
        "            pred += self.gammas[i] * self.learning_rate * self.models[i].predict(X)\n",
        "        probabilities = self.sigmoid(pred)\n",
        "        return probabilities\n",
        "\n",
        "\n",
        "\n",
        "    @property\n",
        "    def feature_importances_(self):\n",
        "        \"\"\"\n",
        "        Extra credits (+3 pt)\n",
        "        Function calculates feature importance.\n",
        "        And it should be an attribute of the class\n",
        "        \"\"\"\n",
        "        feature_importances = np.zeros_like(self.base_model_params['max_features'])\n",
        "\n",
        "        for model in self.models:\n",
        "            feature_importances += model.feature_importances_\n",
        "\n",
        "        return feature_importances / len(self.models)"
      ]
    },
    {
      "cell_type": "markdown",
      "metadata": {
        "id": "lSrWqtPHoGAx"
      },
      "source": [
        "The following cell will run your class. It should take about 10 seconds"
      ]
    },
    {
      "cell_type": "code",
      "execution_count": 19,
      "metadata": {
        "id": "083XGF8C_JMK",
        "outputId": "8297c340-afe9-4b1a-ce7b-f3ac8ee81ae4",
        "colab": {
          "base_uri": "https://localhost:8080/"
        }
      },
      "outputs": [
        {
          "output_type": "stream",
          "name": "stdout",
          "text": [
            "test_loss: 0.46993281490670297   train_loss: 0.46100478519183835\n",
            "test_loss: 0.46674917245363995   train_loss: 0.45726732336572157\n",
            "test_loss: 0.4636136319074796   train_loss: 0.4535875393740808\n",
            "test_loss: 0.4606972400995357   train_loss: 0.45005867227053353\n",
            "test_loss: 0.4579166961775021   train_loss: 0.4466685954903712\n",
            "test_loss: 0.4551453413201619   train_loss: 0.44329700941950895\n",
            "test_loss: 0.4525231376662666   train_loss: 0.44009126300147294\n",
            "test_loss: 0.44994929689373947   train_loss: 0.43708422899776395\n",
            "test_loss: 0.44745757193168556   train_loss: 0.4341644624349228\n",
            "test_loss: 0.44512790797201907   train_loss: 0.4313644954778776\n",
            "test_loss: 0.44291179695266397   train_loss: 0.4286274175829869\n",
            "test_loss: 0.44073539395350586   train_loss: 0.4260098637096033\n",
            "test_loss: 0.43871158966637863   train_loss: 0.42343144193356363\n",
            "test_loss: 0.43665143003025775   train_loss: 0.4209512062149227\n",
            "test_loss: 0.43473728789410065   train_loss: 0.4185978617923232\n",
            "test_loss: 0.43295259602667296   train_loss: 0.4163688689416711\n",
            "test_loss: 0.4311936293674548   train_loss: 0.41413023109229086\n",
            "test_loss: 0.42951688832018003   train_loss: 0.4120112490279555\n",
            "test_loss: 0.4277759407313111   train_loss: 0.40995744962058844\n",
            "test_loss: 0.4262835284477025   train_loss: 0.40797575358869764\n",
            "test_loss: 0.42482332698597497   train_loss: 0.4060595294012783\n",
            "test_loss: 0.4233086305359978   train_loss: 0.4042396940800554\n",
            "test_loss: 0.4218614530959789   train_loss: 0.40242759193797706\n",
            "test_loss: 0.420634135176292   train_loss: 0.4007004921328764\n",
            "test_loss: 0.41936879431187674   train_loss: 0.3990305330818667\n",
            "test_loss: 0.4181869382838689   train_loss: 0.3974236817286392\n",
            "test_loss: 0.4168914644424394   train_loss: 0.3959305683798335\n",
            "test_loss: 0.4157872474987808   train_loss: 0.39436613063369214\n",
            "test_loss: 0.4146993586915148   train_loss: 0.39290610723207015\n",
            "test_loss: 0.41370229085401306   train_loss: 0.3915282312235437\n",
            "test_loss: 0.41268796048573475   train_loss: 0.3901457648543431\n",
            "test_loss: 0.41157526928239563   train_loss: 0.3887895139895434\n",
            "test_loss: 0.4106456909389396   train_loss: 0.38746733484618306\n",
            "test_loss: 0.4096364771538341   train_loss: 0.3861945786392971\n",
            "test_loss: 0.4087346429592   train_loss: 0.38499011903173536\n",
            "test_loss: 0.40791934943822034   train_loss: 0.38378967814005793\n",
            "test_loss: 0.4070646469168883   train_loss: 0.38260225406250065\n",
            "test_loss: 0.40628009079838673   train_loss: 0.38148122463217954\n",
            "test_loss: 0.40549302705613316   train_loss: 0.3803827237732429\n",
            "test_loss: 0.4047553442805698   train_loss: 0.3793270093547858\n",
            "test_loss: 0.4040499807373259   train_loss: 0.37829983170465176\n",
            "test_loss: 0.40324991285107553   train_loss: 0.3773056661689294\n",
            "test_loss: 0.402586140095868   train_loss: 0.3762997795191104\n",
            "test_loss: 0.4018817553428995   train_loss: 0.3753667979182516\n",
            "test_loss: 0.4011791850144325   train_loss: 0.3744424689913568\n",
            "test_loss: 0.40052608592285266   train_loss: 0.3735809988534186\n",
            "test_loss: 0.3999636773766825   train_loss: 0.3727684363231102\n",
            "test_loss: 0.3994298902861837   train_loss: 0.37194184935278096\n",
            "test_loss: 0.39883099230997504   train_loss: 0.3711415867978812\n",
            "test_loss: 0.3983139824291022   train_loss: 0.37034698942588756\n",
            "test_loss: 0.39772567928343705   train_loss: 0.36960578103428887\n",
            "test_loss: 0.3971715640558003   train_loss: 0.3688395022212158\n",
            "test_loss: 0.39670163866225877   train_loss: 0.36810756536808137\n",
            "test_loss: 0.39620613957283274   train_loss: 0.3673784273538316\n",
            "test_loss: 0.39578393981241894   train_loss: 0.36669338007752084\n",
            "test_loss: 0.3954368836264458   train_loss: 0.36600948274536554\n",
            "test_loss: 0.3950222098563703   train_loss: 0.36534692388042744\n",
            "test_loss: 0.3946276344343053   train_loss: 0.36471461183639525\n",
            "test_loss: 0.394267945962411   train_loss: 0.3641052289359388\n",
            "test_loss: 0.39386456720963003   train_loss: 0.36349969250600844\n",
            "test_loss: 0.3934613819294184   train_loss: 0.3629068875099544\n",
            "test_loss: 0.3930328510407708   train_loss: 0.3623150587463625\n",
            "test_loss: 0.3926318571401678   train_loss: 0.3617448447310648\n",
            "test_loss: 0.3922601770748542   train_loss: 0.3611832367452129\n",
            "test_loss: 0.3919417158319149   train_loss: 0.36064425296358366\n",
            "test_loss: 0.3916922507889433   train_loss: 0.3601226691642703\n",
            "test_loss: 0.3914017619080925   train_loss: 0.35961418692109853\n",
            "test_loss: 0.39109159279577604   train_loss: 0.3591018342284049\n",
            "test_loss: 0.3907620991916776   train_loss: 0.358612117138842\n",
            "test_loss: 0.39044844484362634   train_loss: 0.3581159342969449\n",
            "test_loss: 0.3902199535713459   train_loss: 0.3576545134095336\n",
            "test_loss: 0.38991255221413856   train_loss: 0.3571684289423553\n",
            "test_loss: 0.38959142585236356   train_loss: 0.35673574563175114\n",
            "test_loss: 0.3893289718471131   train_loss: 0.35629079262537194\n",
            "test_loss: 0.38909493293814196   train_loss: 0.355879327327091\n",
            "test_loss: 0.38882400750913987   train_loss: 0.355447023099513\n",
            "test_loss: 0.38861131997946513   train_loss: 0.3550319934398165\n",
            "test_loss: 0.38831120505254163   train_loss: 0.35461494458786563\n",
            "test_loss: 0.38807023566985804   train_loss: 0.3542221688633044\n",
            "test_loss: 0.3878613038129382   train_loss: 0.3538173664969049\n",
            "test_loss: 0.38763677021701903   train_loss: 0.3534565176532799\n",
            "test_loss: 0.38751041292663074   train_loss: 0.3531036952332701\n",
            "test_loss: 0.3873554334354421   train_loss: 0.3527395161644529\n",
            "test_loss: 0.3871567964333506   train_loss: 0.35241018198919694\n",
            "test_loss: 0.3870547436277607   train_loss: 0.3520584112717629\n",
            "test_loss: 0.386855937660519   train_loss: 0.35171085621463294\n",
            "test_loss: 0.38665608048867645   train_loss: 0.3513627985034608\n",
            "test_loss: 0.3865438004689414   train_loss: 0.35102918225573976\n",
            "test_loss: 0.3863753727184528   train_loss: 0.3506997539893679\n",
            "test_loss: 0.3861603177666319   train_loss: 0.35038833922012896\n",
            "test_loss: 0.38604166959909875   train_loss: 0.35008077452305947\n",
            "test_loss: 0.3858530635137929   train_loss: 0.34979469456063805\n",
            "test_loss: 0.385683149642903   train_loss: 0.3494854694032899\n",
            "test_loss: 0.3855359322386604   train_loss: 0.3491920784353955\n",
            "test_loss: 0.3853207958567281   train_loss: 0.3488898920232358\n",
            "test_loss: 0.3851474620169153   train_loss: 0.34861167559418393\n",
            "test_loss: 0.38501576486642547   train_loss: 0.3483433987853285\n",
            "test_loss: 0.38492129110377954   train_loss: 0.3480806537606024\n",
            "test_loss: 0.38490238576084135   train_loss: 0.34783571966659094\n",
            "Stopping Early\n",
            "CPU times: user 7.64 s, sys: 48.7 ms, total: 7.68 s\n",
            "Wall time: 7.72 s\n"
          ]
        }
      ],
      "source": [
        "%%time\n",
        "\n",
        "boosting = Boosting(n_estimators = 1000, n_iter_early_stopping = 6, use_best_model=True)\n",
        "boosting.fit(X_train_transformed, y_train, [X_val_transformed, y_val])"
      ]
    },
    {
      "cell_type": "code",
      "execution_count": 20,
      "metadata": {
        "colab": {
          "base_uri": "https://localhost:8080/",
          "height": 447
        },
        "id": "1TeOTVvYr40O",
        "outputId": "6ec82d7e-5566-49dd-c003-81692cc09103"
      },
      "outputs": [
        {
          "output_type": "execute_result",
          "data": {
            "text/plain": [
              "[<matplotlib.lines.Line2D at 0x78d1528adb40>]"
            ]
          },
          "metadata": {},
          "execution_count": 20
        },
        {
          "output_type": "display_data",
          "data": {
            "text/plain": [
              "<Figure size 640x480 with 1 Axes>"
            ],
            "image/png": "[encoded data removed]"
          },
          "metadata": {}
        }
      ],
      "source": [
        "plt.plot(boosting.loss)\n",
        "plt.plot(boosting.loss_eval)"
      ]
    },
    {
      "cell_type": "code",
      "execution_count": 9,
      "metadata": {
        "id": "7LfaWiibGO_w"
      },
      "outputs": [],
      "source": []
    },
    {
      "cell_type": "markdown",
      "metadata": {
        "id": "vm6y2wOEGPYq"
      },
      "source": [
        "## Q2 (4 pt). Use your trained Boosting classifier.\n",
        "(a) Choose the threshold form (0, 1) to get recall $\\approx 0.5$ on the validation set.\n",
        "\n",
        "`recall_score((y_val+1)//2, boosting.predict_proba(X_val_transformed)>threshhold)`\n",
        "\n",
        "(b) Plot Confusion Matrix for the Test based on this threshhold and calculate recall on Test.\n",
        "\n",
        "(c) Plot ROC curve"
      ]
    },
    {
      "cell_type": "code",
      "execution_count": 10,
      "metadata": {
        "id": "2BVl892Q_brN"
      },
      "outputs": [],
      "source": [
        "from sklearn.metrics import ConfusionMatrixDisplay, recall_score, RocCurveDisplay"
      ]
    },
    {
      "cell_type": "code",
      "execution_count": 43,
      "metadata": {
        "id": "Bqovpzi0eFlJ",
        "outputId": "13dbfbb1-1e4d-48aa-f721-95d6b68ba742",
        "colab": {
          "base_uri": "https://localhost:8080/"
        }
      },
      "outputs": [
        {
          "output_type": "stream",
          "name": "stdout",
          "text": [
            "Best threshold : 0.256\n"
          ]
        }
      ],
      "source": [
        "#find best threshold\n",
        "needed_recall = 0.5\n",
        "best = 1.0\n",
        "best_threshold = 1.0\n",
        "for threshold in range(0, 1001):\n",
        "  threshold *= 0.001\n",
        "  resulting_recall = abs(recall_score((y_val+1)//2, boosting.predict_proba(X_val_transformed)>threshold) - needed_recall)\n",
        "  if (resulting_recall < best):\n",
        "    best = resulting_recall\n",
        "    best_threshold = threshold\n",
        "\n",
        "print(f\"Best threshold : {best_threshold}\")"
      ]
    },
    {
      "cell_type": "code",
      "execution_count": 44,
      "metadata": {
        "id": "Y52DpSgpArOd",
        "outputId": "fe197c31-311c-4fe4-ba70-eedbddeb1900",
        "colab": {
          "base_uri": "https://localhost:8080/"
        }
      },
      "outputs": [
        {
          "output_type": "execute_result",
          "data": {
            "text/plain": [
              "0.4973284011508426"
            ]
          },
          "metadata": {},
          "execution_count": 44
        }
      ],
      "source": [
        "recall_score((y_val+1)//2, boosting.predict_proba(X_val_transformed)>best_threshold)"
      ]
    },
    {
      "cell_type": "code",
      "execution_count": 45,
      "metadata": {
        "id": "XZ4lZgNdABCf",
        "outputId": "4805c1ff-1669-45ba-d8c8-09d86843f196",
        "colab": {
          "base_uri": "https://localhost:8080/",
          "height": 466
        }
      },
      "outputs": [
        {
          "output_type": "execute_result",
          "data": {
            "text/plain": [
              "<sklearn.metrics._plot.confusion_matrix.ConfusionMatrixDisplay at 0x78d14ef93e80>"
            ]
          },
          "metadata": {},
          "execution_count": 45
        },
        {
          "output_type": "display_data",
          "data": {
            "text/plain": [
              "<Figure size 640x480 with 2 Axes>"
            ],
            "image/png": "[encoded data removed]"
          },
          "metadata": {}
        }
      ],
      "source": [
        "ConfusionMatrixDisplay.from_predictions((y_val+1)//2, boosting.predict_proba(X_val_transformed)>best_threshold)"
      ]
    },
    {
      "cell_type": "code",
      "source": [
        "RocCurveDisplay.from_predictions((y_val+1)//2, boosting.predict_proba(X_val_transformed)>best_threshold)"
      ],
      "metadata": {
        "id": "qo2nrsJ9Jdg4",
        "outputId": "e7eddcd5-5d70-453f-f0d2-4cbe66b0fbd4",
        "colab": {
          "base_uri": "https://localhost:8080/",
          "height": 466
        }
      },
      "execution_count": 46,
      "outputs": [
        {
          "output_type": "execute_result",
          "data": {
            "text/plain": [
              "<sklearn.metrics._plot.roc_curve.RocCurveDisplay at 0x78d1572fc220>"
            ]
          },
          "metadata": {},
          "execution_count": 46
        },
        {
          "output_type": "display_data",
          "data": {
            "text/plain": [
              "<Figure size 640x480 with 1 Axes>"
            ],
            "image/png": "[encoded data removed]"
          },
          "metadata": {}
        }
      ]
    },
    {
      "cell_type": "markdown",
      "metadata": {
        "id": "d1q9Ds-_BzQl"
      },
      "source": [
        "## Q3 (4 pt). Train LightGBM Classifier on your data.\n",
        "(a) Choose the threshold form (0, 1) to get recall $\\approx 0.5$ on the validation set.\n",
        "\n",
        "`recall_score((y_val+1)//2, gb.predict_proba(X_val_transformed)[:,1]>threshhold)`\n",
        "\n",
        "(b) Plot Confusion Matrix for the Test based on this threshhold and calculate recall on Test.\n",
        "\n",
        "(c) Plot ROC curve\n",
        "\n",
        "`RocCurveDisplay.from_predictions(y_test, gb.predict_proba(X_test_transformed)[:,1])`\n",
        "\n",
        "(d) Compare with the result of your model from Q2."
      ]
    },
    {
      "cell_type": "code",
      "execution_count": 11,
      "metadata": {
        "id": "al4SWHVVA0o2"
      },
      "outputs": [],
      "source": [
        "import lightgbm as lgb"
      ]
    },
    {
      "cell_type": "code",
      "execution_count": 49,
      "metadata": {
        "id": "y6ap7-0JXoiD",
        "outputId": "5c4201bf-2bac-4026-a8fa-df67c0d428eb",
        "colab": {
          "base_uri": "https://localhost:8080/",
          "height": 214
        }
      },
      "outputs": [
        {
          "output_type": "stream",
          "name": "stdout",
          "text": [
            "[LightGBM] [Info] Number of positive: 6920, number of negative: 38702\n",
            "[LightGBM] [Info] Auto-choosing row-wise multi-threading, the overhead of testing was 0.002600 seconds.\n",
            "You can set `force_row_wise=true` to remove the overhead.\n",
            "And if memory is not enough, you can set `force_col_wise=true`.\n",
            "[LightGBM] [Info] Total Bins 106\n",
            "[LightGBM] [Info] Number of data points in the train set: 45622, number of used features: 6\n",
            "[LightGBM] [Info] [binary:BoostFromScore]: pavg=0.151681 -> initscore=-1.721476\n",
            "[LightGBM] [Info] Start training from score -1.721476\n"
          ]
        },
        {
          "output_type": "execute_result",
          "data": {
            "text/plain": [
              "LGBMClassifier()"
            ],
            "text/html": [
              "<style>#sk-container-id-1 {color: black;background-color: white;}#sk-container-id-1 pre{padding: 0;}#sk-container-id-1 div.sk-toggleable {background-color: white;}#sk-container-id-1 label.sk-toggleable__label {cursor: pointer;display: block;width: 100%;margin-bottom: 0;padding: 0.3em;box-sizing: border-box;text-align: center;}#sk-container-id-1 label.sk-toggleable__label-arrow:before {content: \"▸\";float: left;margin-right: 0.25em;color: #696969;}#sk-container-id-1 label.sk-toggleable__label-arrow:hover:before {color: black;}#sk-container-id-1 div.sk-estimator:hover label.sk-toggleable__label-arrow:before {color: black;}#sk-container-id-1 div.sk-toggleable__content {max-height: 0;max-width: 0;overflow: hidden;text-align: left;background-color: #f0f8ff;}#sk-container-id-1 div.sk-toggleable__content pre {margin: 0.2em;color: black;border-radius: 0.25em;background-color: #f0f8ff;}#sk-container-id-1 input.sk-toggleable__control:checked~div.sk-toggleable__content {max-height: 200px;max-width: 100%;overflow: auto;}#sk-container-id-1 input.sk-toggleable__control:checked~label.sk-toggleable__label-arrow:before {content: \"▾\";}#sk-container-id-1 div.sk-estimator input.sk-toggleable__control:checked~label.sk-toggleable__label {background-color: #d4ebff;}#sk-container-id-1 div.sk-label input.sk-toggleable__control:checked~label.sk-toggleable__label {background-color: #d4ebff;}#sk-container-id-1 input.sk-hidden--visually {border: 0;clip: rect(1px 1px 1px 1px);clip: rect(1px, 1px, 1px, 1px);height: 1px;margin: -1px;overflow: hidden;padding: 0;position: absolute;width: 1px;}#sk-container-id-1 div.sk-estimator {font-family: monospace;background-color: #f0f8ff;border: 1px dotted black;border-radius: 0.25em;box-sizing: border-box;margin-bottom: 0.5em;}#sk-container-id-1 div.sk-estimator:hover {background-color: #d4ebff;}#sk-container-id-1 div.sk-parallel-item::after {content: \"\";width: 100%;border-bottom: 1px solid gray;flex-grow: 1;}#sk-container-id-1 div.sk-label:hover label.sk-toggleable__label {background-color: #d4ebff;}#sk-container-id-1 div.sk-serial::before {content: \"\";position: absolute;border-left: 1px solid gray;box-sizing: border-box;top: 0;bottom: 0;left: 50%;z-index: 0;}#sk-container-id-1 div.sk-serial {display: flex;flex-direction: column;align-items: center;background-color: white;padding-right: 0.2em;padding-left: 0.2em;position: relative;}#sk-container-id-1 div.sk-item {position: relative;z-index: 1;}#sk-container-id-1 div.sk-parallel {display: flex;align-items: stretch;justify-content: center;background-color: white;position: relative;}#sk-container-id-1 div.sk-item::before, #sk-container-id-1 div.sk-parallel-item::before {content: \"\";position: absolute;border-left: 1px solid gray;box-sizing: border-box;top: 0;bottom: 0;left: 50%;z-index: -1;}#sk-container-id-1 div.sk-parallel-item {display: flex;flex-direction: column;z-index: 1;position: relative;background-color: white;}#sk-container-id-1 div.sk-parallel-item:first-child::after {align-self: flex-end;width: 50%;}#sk-container-id-1 div.sk-parallel-item:last-child::after {align-self: flex-start;width: 50%;}#sk-container-id-1 div.sk-parallel-item:only-child::after {width: 0;}#sk-container-id-1 div.sk-dashed-wrapped {border: 1px dashed gray;margin: 0 0.4em 0.5em 0.4em;box-sizing: border-box;padding-bottom: 0.4em;background-color: white;}#sk-container-id-1 div.sk-label label {font-family: monospace;font-weight: bold;display: inline-block;line-height: 1.2em;}#sk-container-id-1 div.sk-label-container {text-align: center;}#sk-container-id-1 div.sk-container {/* jupyter's `normalize.less` sets `[hidden] { display: none; }` but bootstrap.min.css set `[hidden] { display: none !important; }` so we also need the `!important` here to be able to override the default hidden behavior on the sphinx rendered scikit-learn.org. See: https://github.com/scikit-learn/scikit-learn/issues/21755 */display: inline-block !important;position: relative;}#sk-container-id-1 div.sk-text-repr-fallback {display: none;}</style><div id=\"sk-container-id-1\" class=\"sk-top-container\"><div class=\"sk-text-repr-fallback\"><pre>LGBMClassifier()</pre><b>In a Jupyter environment, please rerun this cell to show the HTML representation or trust the notebook. <br />On GitHub, the HTML representation is unable to render, please try loading this page with nbviewer.org.</b></div><div class=\"sk-container\" hidden><div class=\"sk-item\"><div class=\"sk-estimator sk-toggleable\"><input class=\"sk-toggleable__control sk-hidden--visually\" id=\"sk-estimator-id-1\" type=\"checkbox\" checked><label for=\"sk-estimator-id-1\" class=\"sk-toggleable__label sk-toggleable__label-arrow\">LGBMClassifier</label><div class=\"sk-toggleable__content\"><pre>LGBMClassifier()</pre></div></div></div></div></div>"
            ]
          },
          "metadata": {},
          "execution_count": 49
        }
      ],
      "source": [
        "gb = lgb.LGBMClassifier()\n",
        "gb.fit(X_train_transformed, y_train)"
      ]
    },
    {
      "cell_type": "code",
      "execution_count": 50,
      "metadata": {
        "id": "EXvoTwQ9Xwk3",
        "outputId": "dd6877be-eef7-4226-be10-54ef5704d374",
        "colab": {
          "base_uri": "https://localhost:8080/"
        }
      },
      "outputs": [
        {
          "output_type": "stream",
          "name": "stdout",
          "text": [
            "Best threshold : 0.275\n"
          ]
        }
      ],
      "source": [
        "#find best threshold\n",
        "needed_recall = 0.5\n",
        "best = 1.0\n",
        "best_threshold = 1.0\n",
        "for threshold in range(0, 1001):\n",
        "  threshold *= 0.001\n",
        "  resulting_recall = abs(recall_score((y_val+1)//2, gb.predict_proba(X_val_transformed)[:,1]>threshold) - needed_recall)\n",
        "  if (resulting_recall < best):\n",
        "    best = resulting_recall\n",
        "    best_threshold = threshold\n",
        "\n",
        "print(f\"Best threshold : {best_threshold}\")"
      ]
    },
    {
      "cell_type": "code",
      "execution_count": 51,
      "metadata": {
        "id": "zshgsEDBYXPW",
        "outputId": "fa5e7363-7d71-4e3f-909d-d5ad50b55c09",
        "colab": {
          "base_uri": "https://localhost:8080/"
        }
      },
      "outputs": [
        {
          "output_type": "execute_result",
          "data": {
            "text/plain": [
              "0.4989724619810933"
            ]
          },
          "metadata": {},
          "execution_count": 51
        }
      ],
      "source": [
        "recall_score((y_val+1)//2, gb.predict_proba(X_val_transformed)[:,1]>best_threshold)"
      ]
    },
    {
      "cell_type": "code",
      "execution_count": 52,
      "metadata": {
        "colab": {
          "base_uri": "https://localhost:8080/",
          "height": 466
        },
        "id": "wY0nBhnqX3eW",
        "outputId": "a85d234c-e381-4277-818b-1c77de1f1d2c"
      },
      "outputs": [
        {
          "output_type": "execute_result",
          "data": {
            "text/plain": [
              "<sklearn.metrics._plot.confusion_matrix.ConfusionMatrixDisplay at 0x78d1576e1630>"
            ]
          },
          "metadata": {},
          "execution_count": 52
        },
        {
          "output_type": "display_data",
          "data": {
            "text/plain": [
              "<Figure size 640x480 with 2 Axes>"
            ],
            "image/png": "[encoded data removed]"
          },
          "metadata": {}
        }
      ],
      "source": [
        "ConfusionMatrixDisplay.from_predictions((y_val+1)//2, gb.predict_proba(X_val_transformed)[:,1]>best_threshold)"
      ]
    },
    {
      "cell_type": "code",
      "execution_count": 53,
      "metadata": {
        "id": "nUtFi3T2YDuy",
        "outputId": "c1a95c49-e1bf-4b4b-9561-ac8b5f27df01",
        "colab": {
          "base_uri": "https://localhost:8080/",
          "height": 466
        }
      },
      "outputs": [
        {
          "output_type": "execute_result",
          "data": {
            "text/plain": [
              "<sklearn.metrics._plot.roc_curve.RocCurveDisplay at 0x78d15359c220>"
            ]
          },
          "metadata": {},
          "execution_count": 53
        },
        {
          "output_type": "display_data",
          "data": {
            "text/plain": [
              "<Figure size 640x480 with 1 Axes>"
            ],
            "image/png": "[encoded data removed]"
          },
          "metadata": {}
        }
      ],
      "source": [
        "RocCurveDisplay.from_predictions(y_test, gb.predict_proba(X_test_transformed)[:,1])"
      ]
    },
    {
      "cell_type": "code",
      "execution_count": 12,
      "metadata": {
        "id": "_BJVLCjdE4Qa"
      },
      "outputs": [],
      "source": []
    },
    {
      "cell_type": "markdown",
      "metadata": {
        "id": "kA3XN_oQir3M"
      },
      "source": [
        "Are you satisfied with the result?\n",
        "\n",
        "***LightGBM seems to do a better job***"
      ]
    }
  ],
  "metadata": {
    "colab": {
      "machine_shape": "hm",
      "provenance": []
    },
    "kernelspec": {
      "display_name": "Python 3",
      "name": "python3"
    }
  },
  "nbformat": 4,
  "nbformat_minor": 0
}