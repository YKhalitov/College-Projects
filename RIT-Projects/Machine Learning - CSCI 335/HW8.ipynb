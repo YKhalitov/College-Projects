{
  "cells": [
    {
      "cell_type": "code",
      "execution_count": 18,
      "metadata": {
        "id": "InITFBGfl3DV"
      },
      "outputs": [],
      "source": [
        "#from google.colab import drive\n",
        "#drive.mount(\"/content/gdrive\")\n",
        "import numpy as np\n",
        "import pandas as pd\n",
        "import random\n",
        "from sklearn.tree import DecisionTreeRegressor\n",
        "from sklearn.model_selection import train_test_split\n",
        "from sklearn.preprocessing import OneHotEncoder\n",
        "from sklearn.compose import ColumnTransformer\n",
        "import matplotlib.pyplot as plt"
      ]
    },
    {
      "cell_type": "markdown",
      "metadata": {
        "id": "rTEcsjs_1e4P"
      },
      "source": [
        "#Homework 8\n",
        "In this homework, we will write Gradient Boosting class and apply it to the date from the insuarance company about hospitalization chance. After transformation, data are numpy arrays, not dataframes."
      ]
    },
    {
      "cell_type": "code",
      "execution_count": 19,
      "metadata": {
        "id": "1O3g4yh6yIXH",
        "outputId": "bc170a00-e9dc-485c-8ac5-b1c20b294956",
        "colab": {
          "base_uri": "https://localhost:8080/",
          "height": 206
        }
      },
      "outputs": [
        {
          "output_type": "execute_result",
          "data": {
            "text/plain": [
              "   ClaimsTruncated  CharlsonIndex  LengthOfStay  AgeAtFirstClaim Sex  \\\n",
              "0                0              3             0               30   M   \n",
              "1                0              0             0               30   M   \n",
              "2                1              0             0               80   F   \n",
              "3                0              0             1               20   F   \n",
              "4                0              1             0               60   F   \n",
              "\n",
              "   DaysInHospital  \n",
              "0              -1  \n",
              "1              -1  \n",
              "2               1  \n",
              "3               1  \n",
              "4              -1  "
            ],
            "text/html": [
              "\n",
              "  <div id=\"df-da1fc6f9-1e15-404b-a4aa-1e6d805b86ca\" class=\"colab-df-container\">\n",
              "    <div>\n",
              "<style scoped>\n",
              "    .dataframe tbody tr th:only-of-type {\n",
              "        vertical-align: middle;\n",
              "    }\n",
              "\n",
              "    .dataframe tbody tr th {\n",
              "        vertical-align: top;\n",
              "    }\n",
              "\n",
              "    .dataframe thead th {\n",
              "        text-align: right;\n",
              "    }\n",
              "</style>\n",
              "<table border=\"1\" class=\"dataframe\">\n",
              "  <thead>\n",
              "    <tr style=\"text-align: right;\">\n",
              "      <th></th>\n",
              "      <th>ClaimsTruncated</th>\n",
              "      <th>CharlsonIndex</th>\n",
              "      <th>LengthOfStay</th>\n",
              "      <th>AgeAtFirstClaim</th>\n",
              "      <th>Sex</th>\n",
              "      <th>DaysInHospital</th>\n",
              "    </tr>\n",
              "  </thead>\n",
              "  <tbody>\n",
              "    <tr>\n",
              "      <th>0</th>\n",
              "      <td>0</td>\n",
              "      <td>3</td>\n",
              "      <td>0</td>\n",
              "      <td>30</td>\n",
              "      <td>M</td>\n",
              "      <td>-1</td>\n",
              "    </tr>\n",
              "    <tr>\n",
              "      <th>1</th>\n",
              "      <td>0</td>\n",
              "      <td>0</td>\n",
              "      <td>0</td>\n",
              "      <td>30</td>\n",
              "      <td>M</td>\n",
              "      <td>-1</td>\n",
              "    </tr>\n",
              "    <tr>\n",
              "      <th>2</th>\n",
              "      <td>1</td>\n",
              "      <td>0</td>\n",
              "      <td>0</td>\n",
              "      <td>80</td>\n",
              "      <td>F</td>\n",
              "      <td>1</td>\n",
              "    </tr>\n",
              "    <tr>\n",
              "      <th>3</th>\n",
              "      <td>0</td>\n",
              "      <td>0</td>\n",
              "      <td>1</td>\n",
              "      <td>20</td>\n",
              "      <td>F</td>\n",
              "      <td>1</td>\n",
              "    </tr>\n",
              "    <tr>\n",
              "      <th>4</th>\n",
              "      <td>0</td>\n",
              "      <td>1</td>\n",
              "      <td>0</td>\n",
              "      <td>60</td>\n",
              "      <td>F</td>\n",
              "      <td>-1</td>\n",
              "    </tr>\n",
              "  </tbody>\n",
              "</table>\n",
              "</div>\n",
              "    <div class=\"colab-df-buttons\">\n",
              "\n",
              "  <div class=\"colab-df-container\">\n",
              "    <button class=\"colab-df-convert\" onclick=\"convertToInteractive('df-da1fc6f9-1e15-404b-a4aa-1e6d805b86ca')\"\n",
              "            title=\"Convert this dataframe to an interactive table.\"\n",
              "            style=\"display:none;\">\n",
              "\n",
              "  <svg xmlns=\"http://www.w3.org/2000/svg\" height=\"24px\" viewBox=\"0 -960 960 960\">\n",
              "    <path d=\"M120-120v-720h720v720H120Zm60-500h600v-160H180v160Zm220 220h160v-160H400v160Zm0 220h160v-160H400v160ZM180-400h160v-160H180v160Zm440 0h160v-160H620v160ZM180-180h160v-160H180v160Zm440 0h160v-160H620v160Z\"/>\n",
              "  </svg>\n",
              "    </button>\n",
              "\n",
              "  <style>\n",
              "    .colab-df-container {\n",
              "      display:flex;\n",
              "      gap: 12px;\n",
              "    }\n",
              "\n",
              "    .colab-df-convert {\n",
              "      background-color: #E8F0FE;\n",
              "      border: none;\n",
              "      border-radius: 50%;\n",
              "      cursor: pointer;\n",
              "      display: none;\n",
              "      fill: #1967D2;\n",
              "      height: 32px;\n",
              "      padding: 0 0 0 0;\n",
              "      width: 32px;\n",
              "    }\n",
              "\n",
              "    .colab-df-convert:hover {\n",
              "      background-color: #E2EBFA;\n",
              "      box-shadow: 0px 1px 2px rgba(60, 64, 67, 0.3), 0px 1px 3px 1px rgba(60, 64, 67, 0.15);\n",
              "      fill: #174EA6;\n",
              "    }\n",
              "\n",
              "    .colab-df-buttons div {\n",
              "      margin-bottom: 4px;\n",
              "    }\n",
              "\n",
              "    [theme=dark] .colab-df-convert {\n",
              "      background-color: #3B4455;\n",
              "      fill: #D2E3FC;\n",
              "    }\n",
              "\n",
              "    [theme=dark] .colab-df-convert:hover {\n",
              "      background-color: #434B5C;\n",
              "      box-shadow: 0px 1px 3px 1px rgba(0, 0, 0, 0.15);\n",
              "      filter: drop-shadow(0px 1px 2px rgba(0, 0, 0, 0.3));\n",
              "      fill: #FFFFFF;\n",
              "    }\n",
              "  </style>\n",
              "\n",
              "    <script>\n",
              "      const buttonEl =\n",
              "        document.querySelector('#df-da1fc6f9-1e15-404b-a4aa-1e6d805b86ca button.colab-df-convert');\n",
              "      buttonEl.style.display =\n",
              "        google.colab.kernel.accessAllowed ? 'block' : 'none';\n",
              "\n",
              "      async function convertToInteractive(key) {\n",
              "        const element = document.querySelector('#df-da1fc6f9-1e15-404b-a4aa-1e6d805b86ca');\n",
              "        const dataTable =\n",
              "          await google.colab.kernel.invokeFunction('convertToInteractive',\n",
              "                                                    [key], {});\n",
              "        if (!dataTable) return;\n",
              "\n",
              "        const docLinkHtml = 'Like what you see? Visit the ' +\n",
              "          '<a target=\"_blank\" href=https://colab.research.google.com/notebooks/data_table.ipynb>data table notebook</a>'\n",
              "          + ' to learn more about interactive tables.';\n",
              "        element.innerHTML = '';\n",
              "        dataTable['output_type'] = 'display_data';\n",
              "        await google.colab.output.renderOutput(dataTable, element);\n",
              "        const docLink = document.createElement('div');\n",
              "        docLink.innerHTML = docLinkHtml;\n",
              "        element.appendChild(docLink);\n",
              "      }\n",
              "    </script>\n",
              "  </div>\n",
              "\n",
              "\n",
              "<div id=\"df-332a3008-8ee9-4e5b-83f7-35d308210ea8\">\n",
              "  <button class=\"colab-df-quickchart\" onclick=\"quickchart('df-332a3008-8ee9-4e5b-83f7-35d308210ea8')\"\n",
              "            title=\"Suggest charts\"\n",
              "            style=\"display:none;\">\n",
              "\n",
              "<svg xmlns=\"http://www.w3.org/2000/svg\" height=\"24px\"viewBox=\"0 0 24 24\"\n",
              "     width=\"24px\">\n",
              "    <g>\n",
              "        <path d=\"M19 3H5c-1.1 0-2 .9-2 2v14c0 1.1.9 2 2 2h14c1.1 0 2-.9 2-2V5c0-1.1-.9-2-2-2zM9 17H7v-7h2v7zm4 0h-2V7h2v10zm4 0h-2v-4h2v4z\"/>\n",
              "    </g>\n",
              "</svg>\n",
              "  </button>\n",
              "\n",
              "<style>\n",
              "  .colab-df-quickchart {\n",
              "      --bg-color: #E8F0FE;\n",
              "      --fill-color: #1967D2;\n",
              "      --hover-bg-color: #E2EBFA;\n",
              "      --hover-fill-color: #174EA6;\n",
              "      --disabled-fill-color: #AAA;\n",
              "      --disabled-bg-color: #DDD;\n",
              "  }\n",
              "\n",
              "  [theme=dark] .colab-df-quickchart {\n",
              "      --bg-color: #3B4455;\n",
              "      --fill-color: #D2E3FC;\n",
              "      --hover-bg-color: #434B5C;\n",
              "      --hover-fill-color: #FFFFFF;\n",
              "      --disabled-bg-color: #3B4455;\n",
              "      --disabled-fill-color: #666;\n",
              "  }\n",
              "\n",
              "  .colab-df-quickchart {\n",
              "    background-color: var(--bg-color);\n",
              "    border: none;\n",
              "    border-radius: 50%;\n",
              "    cursor: pointer;\n",
              "    display: none;\n",
              "    fill: var(--fill-color);\n",
              "    height: 32px;\n",
              "    padding: 0;\n",
              "    width: 32px;\n",
              "  }\n",
              "\n",
              "  .colab-df-quickchart:hover {\n",
              "    background-color: var(--hover-bg-color);\n",
              "    box-shadow: 0 1px 2px rgba(60, 64, 67, 0.3), 0 1px 3px 1px rgba(60, 64, 67, 0.15);\n",
              "    fill: var(--button-hover-fill-color);\n",
              "  }\n",
              "\n",
              "  .colab-df-quickchart-complete:disabled,\n",
              "  .colab-df-quickchart-complete:disabled:hover {\n",
              "    background-color: var(--disabled-bg-color);\n",
              "    fill: var(--disabled-fill-color);\n",
              "    box-shadow: none;\n",
              "  }\n",
              "\n",
              "  .colab-df-spinner {\n",
              "    border: 2px solid var(--fill-color);\n",
              "    border-color: transparent;\n",
              "    border-bottom-color: var(--fill-color);\n",
              "    animation:\n",
              "      spin 1s steps(1) infinite;\n",
              "  }\n",
              "\n",
              "  @keyframes spin {\n",
              "    0% {\n",
              "      border-color: transparent;\n",
              "      border-bottom-color: var(--fill-color);\n",
              "      border-left-color: var(--fill-color);\n",
              "    }\n",
              "    20% {\n",
              "      border-color: transparent;\n",
              "      border-left-color: var(--fill-color);\n",
              "      border-top-color: var(--fill-color);\n",
              "    }\n",
              "    30% {\n",
              "      border-color: transparent;\n",
              "      border-left-color: var(--fill-color);\n",
              "      border-top-color: var(--fill-color);\n",
              "      border-right-color: var(--fill-color);\n",
              "    }\n",
              "    40% {\n",
              "      border-color: transparent;\n",
              "      border-right-color: var(--fill-color);\n",
              "      border-top-color: var(--fill-color);\n",
              "    }\n",
              "    60% {\n",
              "      border-color: transparent;\n",
              "      border-right-color: var(--fill-color);\n",
              "    }\n",
              "    80% {\n",
              "      border-color: transparent;\n",
              "      border-right-color: var(--fill-color);\n",
              "      border-bottom-color: var(--fill-color);\n",
              "    }\n",
              "    90% {\n",
              "      border-color: transparent;\n",
              "      border-bottom-color: var(--fill-color);\n",
              "    }\n",
              "  }\n",
              "</style>\n",
              "\n",
              "  <script>\n",
              "    async function quickchart(key) {\n",
              "      const quickchartButtonEl =\n",
              "        document.querySelector('#' + key + ' button');\n",
              "      quickchartButtonEl.disabled = true;  // To prevent multiple clicks.\n",
              "      quickchartButtonEl.classList.add('colab-df-spinner');\n",
              "      try {\n",
              "        const charts = await google.colab.kernel.invokeFunction(\n",
              "            'suggestCharts', [key], {});\n",
              "      } catch (error) {\n",
              "        console.error('Error during call to suggestCharts:', error);\n",
              "      }\n",
              "      quickchartButtonEl.classList.remove('colab-df-spinner');\n",
              "      quickchartButtonEl.classList.add('colab-df-quickchart-complete');\n",
              "    }\n",
              "    (() => {\n",
              "      let quickchartButtonEl =\n",
              "        document.querySelector('#df-332a3008-8ee9-4e5b-83f7-35d308210ea8 button');\n",
              "      quickchartButtonEl.style.display =\n",
              "        google.colab.kernel.accessAllowed ? 'block' : 'none';\n",
              "    })();\n",
              "  </script>\n",
              "</div>\n",
              "    </div>\n",
              "  </div>\n"
            ],
            "application/vnd.google.colaboratory.intrinsic+json": {
              "type": "dataframe",
              "variable_name": "data",
              "summary": "{\n  \"name\": \"data\",\n  \"rows\": 76038,\n  \"fields\": [\n    {\n      \"column\": \"ClaimsTruncated\",\n      \"properties\": {\n        \"dtype\": \"number\",\n        \"std\": 0,\n        \"min\": 0,\n        \"max\": 1,\n        \"num_unique_values\": 2,\n        \"samples\": [\n          1,\n          0\n        ],\n        \"semantic_type\": \"\",\n        \"description\": \"\"\n      }\n    },\n    {\n      \"column\": \"CharlsonIndex\",\n      \"properties\": {\n        \"dtype\": \"number\",\n        \"std\": 0,\n        \"min\": 0,\n        \"max\": 5,\n        \"num_unique_values\": 4,\n        \"samples\": [\n          0,\n          5\n        ],\n        \"semantic_type\": \"\",\n        \"description\": \"\"\n      }\n    },\n    {\n      \"column\": \"LengthOfStay\",\n      \"properties\": {\n        \"dtype\": \"number\",\n        \"std\": 17,\n        \"min\": 0,\n        \"max\": 1744,\n        \"num_unique_values\": 187,\n        \"samples\": [\n          379,\n          254\n        ],\n        \"semantic_type\": \"\",\n        \"description\": \"\"\n      }\n    },\n    {\n      \"column\": \"AgeAtFirstClaim\",\n      \"properties\": {\n        \"dtype\": \"number\",\n        \"std\": 26,\n        \"min\": -1,\n        \"max\": 80,\n        \"num_unique_values\": 10,\n        \"samples\": [\n          10,\n          80\n        ],\n        \"semantic_type\": \"\",\n        \"description\": \"\"\n      }\n    },\n    {\n      \"column\": \"Sex\",\n      \"properties\": {\n        \"dtype\": \"category\",\n        \"num_unique_values\": 2,\n        \"samples\": [\n          \"F\",\n          \"M\"\n        ],\n        \"semantic_type\": \"\",\n        \"description\": \"\"\n      }\n    },\n    {\n      \"column\": \"DaysInHospital\",\n      \"properties\": {\n        \"dtype\": \"number\",\n        \"std\": 0,\n        \"min\": -1,\n        \"max\": 1,\n        \"num_unique_values\": 2,\n        \"samples\": [\n          1,\n          -1\n        ],\n        \"semantic_type\": \"\",\n        \"description\": \"\"\n      }\n    }\n  ]\n}"
            }
          },
          "metadata": {},
          "execution_count": 19
        }
      ],
      "source": [
        "data = pd.read_csv('https://raw.githubusercontent.com/anton-selitskiy/RIT_ML/main/2023_fall/Hospital.csv')\n",
        "data.head()"
      ]
    },
    {
      "cell_type": "code",
      "execution_count": 20,
      "metadata": {
        "id": "J3IVlpskyafP"
      },
      "outputs": [],
      "source": [
        "X = data.iloc[:,:-1]\n",
        "y = data.iloc[:,-1].values"
      ]
    },
    {
      "cell_type": "code",
      "execution_count": 21,
      "metadata": {
        "id": "GfPXBN47NAJs"
      },
      "outputs": [],
      "source": [
        "X_train, X_test, y_train, y_test = train_test_split(X, y, test_size=0.4, random_state=42)\n",
        "X_val, X_test, y_val, y_test = train_test_split(X_test, y_test, test_size=0.5, random_state=42)"
      ]
    },
    {
      "cell_type": "code",
      "execution_count": 22,
      "metadata": {
        "id": "ySV7wLciNAGN"
      },
      "outputs": [],
      "source": [
        "transform = ColumnTransformer([('OneHot', OneHotEncoder(drop='first', handle_unknown='infrequent_if_exist'), ['Sex'])], remainder='passthrough')"
      ]
    },
    {
      "cell_type": "code",
      "execution_count": 23,
      "metadata": {
        "id": "f-GYgbYgQx1a"
      },
      "outputs": [],
      "source": [
        "X_train_transformed = transform.fit_transform(X_train)\n",
        "X_val_transformed = transform.transform(X_val)\n",
        "X_test_transformed = transform.transform(X_test)"
      ]
    },
    {
      "cell_type": "markdown",
      "metadata": {
        "id": "hOU7RIFFLYAs"
      },
      "source": [
        "#Gradient Boosting\n",
        "\n",
        "$$\n",
        "a_N(x) = b_0(x)+\\eta\\sum_{n=1}^N \\gamma_n b_n(x) = b_0(x) + \\eta \\gamma_1 b_1(x) +\\ldots + \\eta \\gamma_N b_N(x)\n",
        "$$\n",
        "Prediction is\n",
        "$$\n",
        "\\hat{y}=\\operatorname{sign} a_N(x).\n",
        "$$\n",
        "\n",
        "After you built this sum, next model $b_{N+1}(x)$ is trained on\n",
        "$$\n",
        "s^{(i)} = -\\left.\\frac{\\partial L(y, z)}{\\partial z}\\right|_{z=a_N(x^{(i)})}.\n",
        "$$\n",
        "\n",
        "After that, $\\gamma_{N+1}$ is chosen from the following condition:\n",
        "$$\n",
        "L(y, a_N(x)+\\gamma_{N+1}b_{N+1}(x)) \\to \\underset{\\gamma_{N+1}}{\\min}.\n",
        "$$"
      ]
    },
    {
      "cell_type": "markdown",
      "metadata": {
        "id": "KIpdgoJhoPAo"
      },
      "source": [
        "##Q1 (12 pt). Implement boosting for binary classification.\n",
        "\n",
        "Since gradient boosting is trained by sequentially creating models, it may happen that the model that is optimal in terms of generalization is obtained at an intermediate iteration. Usually, to control this behavior, a validation dataset is also passed to the `fit` method, which allows you to assess the overall model quality during training. In addition, it's not usefull to train a really deep model with 1000 or more trees if the optimal ensemble was achieved, for example, at the 70th iteration and did not improve for some number of iterations. Therefore, we will also use early stopping if there are no improvements over a certain number of iterations.\n",
        "\n",
        "You will fill-in three things:\n",
        "\n",
        "1 (4 pt). Function `_fit_new_model`\n",
        "\n",
        "2 (4 pt). Early stopping in `fit`\n",
        "\n",
        "3 (4 pt). Function `predict_proba` (Convert $a(x)$ into probability as in logistic regression)."
      ]
    },
    {
      "cell_type": "code",
      "execution_count": 24,
      "metadata": {
        "id": "0LfhmdJLnZAT"
      },
      "outputs": [],
      "source": [
        "class Boosting:\n",
        "\n",
        "    def __init__(\n",
        "        self,\n",
        "        base_model_class=DecisionTreeRegressor,\n",
        "        base_model_params: dict={'max_features': 0.1},\n",
        "        n_estimators: int=10,\n",
        "        learning_rate: float=0.1,\n",
        "        subsample: float=0.3,\n",
        "        random_seed: int=228,\n",
        "        custom_loss: list or tuple=None,\n",
        "        use_best_model: bool=False,\n",
        "        n_iter_early_stopping: int=None\n",
        "    ):\n",
        "\n",
        "        # Base model class\n",
        "        self.base_model_class = base_model_class\n",
        "        # Parameters for the base model\n",
        "        self.base_model_params = base_model_params\n",
        "        # Number of the base models\n",
        "        self.n_estimators = n_estimators\n",
        "        # Learnin rate (eta)\n",
        "        self.learning_rate = learning_rate\n",
        "        # Fraction of the training data for training of the individual model\n",
        "        self.subsample = subsample\n",
        "        # seed for bootstrap (if we want to reproduse the model, we could use it in base_model parameters)\n",
        "        self.random_seed = random_seed\n",
        "        # Use the number of models with the lowest validation loss\n",
        "        self.use_best_model = use_best_model\n",
        "        # The number of iterations without decreasing of the validation loss\n",
        "        self.n_iter_early_stopping = n_iter_early_stopping\n",
        "\n",
        "        # Placeholder for the first model prediction (a_0)\n",
        "        self.initial_model_pred = None\n",
        "\n",
        "        # Lis of the weights\n",
        "        self.gammas = []\n",
        "\n",
        "        # List of the base models\n",
        "        self.models = [self.base_model_class(**self.base_model_params) for _ in range(self.n_estimators)]\n",
        "\n",
        "        # Log-loss, if user's loss, then pass list: custom_loss = [loss, derivative]\n",
        "        if custom_loss is not None:\n",
        "            self.loss_fn, self.loss_derivative = custom_loss\n",
        "        else:\n",
        "            self.sigmoid = lambda z: 1 / (1 + np.exp(-z))\n",
        "            self.loss_fn = lambda y, z: -np.log(self.sigmoid(y * z)).mean()  #for two arrays returns a number\n",
        "            self.loss_derivative = lambda y, z: (-y * self.sigmoid(-y * z)) #for two arrays returns an array\n",
        "\n",
        "    def _fit_initial_model(self, X, y):\n",
        "        \"\"\"\n",
        "        Function for the first model. It can be a constant, corresponding to the most popular class\n",
        "        or any other model. We will use a constant.\n",
        "        \"\"\"\n",
        "\n",
        "        idx = random.sample(range(X.shape[0]), int(self.subsample*X.shape[0]))\n",
        "        X_s = X[idx,:]\n",
        "        y_s = y[idx]\n",
        "\n",
        "        c, c_counts = np.unique(y_s, return_counts=True)\n",
        "\n",
        "        self.initial_model_pred = c[np.argmax(c_counts)]\n",
        "\n",
        "\n",
        "    def _fit_new_model(self, X: np.ndarray, y: np.ndarray or list, old_predictions: np.ndarray, n_model: int):\n",
        "        \"\"\"\n",
        "        Function for an individual model of the boosting\n",
        "        :param X: features\n",
        "        :param y: target\n",
        "        :param n_model: number of the current model\n",
        "        \"\"\"\n",
        "\n",
        "        # Take the fraction self.subsample of the data (X, y, old_predictions):\n",
        "        sample_size = int(self.subsample * X.shape[0])\n",
        "        indices = np.random.choice(X.shape[0], size=sample_size, replace=False)\n",
        "        X_subset, y_subset, old_predictions_subset = X[indices], y[indices], old_predictions[indices]\n",
        "\n",
        "        # Compute pseudo-residuals s using negative self.loss_derivative of y and old_predictions:\n",
        "        residuals = -self.loss_derivative(y_subset, old_predictions_subset)\n",
        "\n",
        "        # Fit n-th base model self.models[n_model].fit on (X_subset, s):\n",
        "        self.models[n_model].fit(X_subset, residuals)\n",
        "\n",
        "\n",
        "    def _find_optimal_gamma(self, y: np.ndarray or list, old_predictions: np.ndarray,\n",
        "                            new_predictions: np.ndarray, boundaries: tuple or list=(0.01, 1)):\n",
        "        \"\"\"\n",
        "        Function determines the best  gamma (the coeffitient for the new model).\n",
        "        :param y: target\n",
        "        :param old_predictions: prediction from the sum of previous models\n",
        "        :param new_predictions: prediction of the new model\n",
        "        :param boudnaries: array-like object with left and right boundaries for gamma\n",
        "        \"\"\"\n",
        "        # Define initial loss and gamma\n",
        "        loss, optimal_gamma = self.loss_fn(y, old_predictions), 0\n",
        "        # Gridsearch for gamma\n",
        "        gammas = np.linspace(*boundaries, 100)\n",
        "        for gamma in gammas:\n",
        "            predictions = old_predictions + gamma * new_predictions\n",
        "            gamma_loss = self.loss_fn(y, predictions)\n",
        "            if gamma_loss < loss:\n",
        "                optimal_gamma = gamma\n",
        "                loss = gamma_loss\n",
        "\n",
        "        return optimal_gamma\n",
        "\n",
        "\n",
        "    def fit(self, X, y, eval_set=None):\n",
        "        \"\"\"\n",
        "        Function of the training the boosting model\n",
        "        :param X: features (n_elments, n_features)\n",
        "        :param y: target (n_elements, )\n",
        "        :eval_set: tuple (X_val, y_val) or None\n",
        "        \"\"\"\n",
        "\n",
        "        early_stop = np.zeros(self.n_iter_early_stopping)\n",
        "        self._fit_initial_model(X,y)\n",
        "        old_predictions = self.initial_model_pred*np.ones(len(y)) #.predict(X)\n",
        "        self.loss = []\n",
        "        self.loss_eval = []\n",
        "        if eval_set != None:\n",
        "            predictions_eval = self.initial_model_pred*np.ones(len(eval_set[1])) #.predict(eval_set[0])\n",
        "        for i in range(self.n_estimators):\n",
        "            # fit new model\n",
        "            self._fit_new_model(X,y,old_predictions,i)\n",
        "            # prediction of the i-th model\n",
        "            new_predictions = self.models[i].predict(X)\n",
        "            # calculate new gamma\n",
        "            opt_gamma = self._find_optimal_gamma(y,old_predictions,new_predictions)\n",
        "            self.gammas.append(opt_gamma)\n",
        "            # update a(x)\n",
        "            old_predictions = old_predictions + self.learning_rate*opt_gamma*new_predictions\n",
        "            # calculate loss\n",
        "            self.loss.append(self.loss_fn(y, old_predictions))\n",
        "            # in case of evaluation set\n",
        "            if eval_set != None:\n",
        "                predictions_eval = predictions_eval + self.gammas[i]*self.learning_rate*self.models[i].predict(eval_set[0])\n",
        "                self.loss_eval.append(self.loss_fn(eval_set[1], predictions_eval))\n",
        "                print('test_loss:', self.loss_eval[i], '  train_loss:', self.loss[i])\n",
        "\n",
        "                early_stop = np.roll(early_stop, 1)\n",
        "                early_stop[0] = self.loss_eval[i]\n",
        "\n",
        "                if np.linalg.norm(early_stop - self.loss_eval[i]) < 0.001:\n",
        "                  print(\"Stopping Early\")\n",
        "                  break\n",
        "\n",
        "                # Update array early_stop with new validation loss value from the right\n",
        "                # and check if all the values are close to the current self.loss_eval[i]\n",
        "                # e.g., if np.linalg.norm(early_stop - self.loss_eval[i]) < 0.001: break\n",
        "\n",
        "            else:\n",
        "                print('train_loss:', self.loss[i])\n",
        "        if (eval_set != None) and self.use_best_model:\n",
        "             self.gammas = self.gammas[:np.argmin(self.loss_eval)+1]\n",
        "\n",
        "\n",
        "\n",
        "\n",
        "    def predict(self, X: np.ndarray):\n",
        "        \"\"\"\n",
        "        Function that predicts the classes\n",
        "        :param X: feature matrix\n",
        "        \"\"\"\n",
        "\n",
        "        pred = self.initial_model_pred*np.ones(len(X)) #.predict(X)\n",
        "        for i in range(len(self.gammas)):\n",
        "          pred = pred+self.gammas[i]*self.learning_rate*self.models[i].predict(X)\n",
        "        return np.sign(pred)\n",
        "\n",
        "    def predict_proba(self, X: np.ndarray):\n",
        "        \"\"\"\n",
        "        Function predicts probabilities of class +1\n",
        "        :param X: feature matrix\n",
        "        \"\"\"\n",
        "\n",
        "        pred = self.initial_model_pred*np.ones(len(X))\n",
        "        for i in range(len(self.gammas)):\n",
        "            pred += self.gammas[i] * self.learning_rate * self.models[i].predict(X)\n",
        "        probabilities = self.sigmoid(pred)\n",
        "        return probabilities\n",
        "\n",
        "    @property\n",
        "    def feature_importances_(self):\n",
        "        \"\"\"\n",
        "        Extra credits (+3 pt)\n",
        "        Function calculates feature importance.\n",
        "        And it should be an attribute of the class\n",
        "        \"\"\"\n",
        "        feature_importances = np.zeros_like(self.base_model_params['max_features'])\n",
        "\n",
        "        for model in self.models:\n",
        "            feature_importances += model.feature_importances_\n",
        "\n",
        "        return feature_importances / len(self.models)"
      ]
    },
    {
      "cell_type": "markdown",
      "metadata": {
        "id": "lSrWqtPHoGAx"
      },
      "source": [
        "The following cell will run your class. It should take about 10 seconds"
      ]
    },
    {
      "cell_type": "code",
      "execution_count": 25,
      "metadata": {
        "id": "083XGF8C_JMK",
        "outputId": "d5f635a7-75f6-4aea-8b21-9888a663644f",
        "colab": {
          "base_uri": "https://localhost:8080/"
        }
      },
      "outputs": [
        {
          "output_type": "stream",
          "name": "stdout",
          "text": [
            "test_loss: 0.4698830149797819   train_loss: 0.46099775979029045\n",
            "test_loss: 0.4666393538220706   train_loss: 0.4572103210126706\n",
            "test_loss: 0.4635226261138714   train_loss: 0.4535522644059239\n",
            "test_loss: 0.46064556265713247   train_loss: 0.4500237947041724\n",
            "test_loss: 0.4578306045516782   train_loss: 0.44662196835796003\n",
            "test_loss: 0.4551718453381059   train_loss: 0.4434351022692106\n",
            "test_loss: 0.45253397917524885   train_loss: 0.44024409076007254\n",
            "test_loss: 0.45004931001211146   train_loss: 0.4372046528335774\n",
            "test_loss: 0.44762572093841796   train_loss: 0.43425492195096554\n",
            "test_loss: 0.44527772431569945   train_loss: 0.4313821896993884\n",
            "test_loss: 0.44314588700394475   train_loss: 0.4286797355904658\n",
            "test_loss: 0.44091409574082524   train_loss: 0.42599840315118565\n",
            "test_loss: 0.4388706961640185   train_loss: 0.42348105546763354\n",
            "test_loss: 0.4367861047714584   train_loss: 0.4210225730227108\n",
            "test_loss: 0.43484762285495343   train_loss: 0.4186209292670262\n",
            "test_loss: 0.4330072651190771   train_loss: 0.41631040905301164\n",
            "test_loss: 0.43120986054418914   train_loss: 0.41408864373286236\n",
            "test_loss: 0.42956086902836327   train_loss: 0.41195629175849363\n",
            "test_loss: 0.42784409397172235   train_loss: 0.40987847593096943\n",
            "test_loss: 0.4263411236041015   train_loss: 0.4079324709866967\n",
            "test_loss: 0.4247613648206833   train_loss: 0.4060176724143235\n",
            "test_loss: 0.4233189236693582   train_loss: 0.40415798350991394\n",
            "test_loss: 0.42201612652938664   train_loss: 0.4024084464689914\n",
            "test_loss: 0.4206932139116512   train_loss: 0.40068388105638447\n",
            "test_loss: 0.41943447828687636   train_loss: 0.3990346362392221\n",
            "test_loss: 0.41824642151039354   train_loss: 0.39745153812793027\n",
            "test_loss: 0.41707587646268995   train_loss: 0.3958471590276521\n",
            "test_loss: 0.4159889963342777   train_loss: 0.39433777734556175\n",
            "test_loss: 0.41487816926076454   train_loss: 0.39288568652915445\n",
            "test_loss: 0.41385491845196204   train_loss: 0.3914864641599727\n",
            "test_loss: 0.4127973307796738   train_loss: 0.3901074407330223\n",
            "test_loss: 0.41181031831234133   train_loss: 0.3887888108046784\n",
            "test_loss: 0.4108488961488796   train_loss: 0.38746267100636644\n",
            "test_loss: 0.40987273030988347   train_loss: 0.38621756443490635\n",
            "test_loss: 0.40884897468252746   train_loss: 0.3849989361312103\n",
            "test_loss: 0.4079953355060083   train_loss: 0.383810931840527\n",
            "test_loss: 0.40716087512639304   train_loss: 0.38262676071592094\n",
            "test_loss: 0.40632691626747136   train_loss: 0.3815341072003023\n",
            "test_loss: 0.4055550176081191   train_loss: 0.3804919106706085\n",
            "test_loss: 0.4047578847047472   train_loss: 0.3794282340874593\n",
            "test_loss: 0.4040453562852958   train_loss: 0.37842722036025983\n",
            "test_loss: 0.40338811602191194   train_loss: 0.3774162229249414\n",
            "test_loss: 0.4027285209508217   train_loss: 0.3764373333395746\n",
            "test_loss: 0.4020776450615804   train_loss: 0.3755309657021905\n",
            "test_loss: 0.40141326842518665   train_loss: 0.3746236566720682\n",
            "test_loss: 0.400743624252608   train_loss: 0.37373456644405206\n",
            "test_loss: 0.4001880288901058   train_loss: 0.37287440094029695\n",
            "test_loss: 0.39959844436873404   train_loss: 0.3720175432592752\n",
            "test_loss: 0.3989849136959867   train_loss: 0.3712182005470531\n",
            "test_loss: 0.3984692242119324   train_loss: 0.3704370462700601\n",
            "test_loss: 0.39798260868050245   train_loss: 0.3696721163554555\n",
            "test_loss: 0.3974820486023009   train_loss: 0.36891737818574477\n",
            "test_loss: 0.3970431760588601   train_loss: 0.36818525626015164\n",
            "test_loss: 0.39668309207658703   train_loss: 0.36745964553856414\n",
            "test_loss: 0.39622344484912986   train_loss: 0.3667737937215274\n",
            "test_loss: 0.39575706957848794   train_loss: 0.366094492291451\n",
            "test_loss: 0.3953779249181876   train_loss: 0.36541919920688\n",
            "test_loss: 0.39486434387879327   train_loss: 0.3647659383837721\n",
            "test_loss: 0.3944488478304314   train_loss: 0.3641469513223838\n",
            "test_loss: 0.3940484212778662   train_loss: 0.36353788158263745\n",
            "test_loss: 0.3936503572564637   train_loss: 0.36292784889124735\n",
            "test_loss: 0.39319886661913966   train_loss: 0.3623433525280325\n",
            "test_loss: 0.3928232860101027   train_loss: 0.3617832460119607\n",
            "test_loss: 0.3924496378792224   train_loss: 0.36123804430810547\n",
            "test_loss: 0.39217146119060026   train_loss: 0.3607154222747873\n",
            "test_loss: 0.39182126829320846   train_loss: 0.36018486578345765\n",
            "test_loss: 0.3915381657754944   train_loss: 0.35966279923643135\n",
            "test_loss: 0.3913016632460557   train_loss: 0.3591644949259753\n",
            "test_loss: 0.39107774748703505   train_loss: 0.358673045058264\n",
            "test_loss: 0.3908024814579155   train_loss: 0.35820682731390624\n",
            "test_loss: 0.39055566095412503   train_loss: 0.357734272481408\n",
            "test_loss: 0.39029151538108015   train_loss: 0.35728622623014167\n",
            "test_loss: 0.3900336391260551   train_loss: 0.35684095526664644\n",
            "test_loss: 0.3898260440978009   train_loss: 0.3563987092480952\n",
            "test_loss: 0.3896479711323261   train_loss: 0.3559638108241726\n",
            "test_loss: 0.38945736445237733   train_loss: 0.35555979689395817\n",
            "test_loss: 0.38923997903130153   train_loss: 0.35516500510786075\n",
            "test_loss: 0.38904267186165153   train_loss: 0.35473971708210056\n",
            "test_loss: 0.38885377215399386   train_loss: 0.3543666519273325\n",
            "test_loss: 0.388645379403119   train_loss: 0.35396320829176275\n",
            "test_loss: 0.38833854332900436   train_loss: 0.3535826761879389\n",
            "test_loss: 0.38815863981465537   train_loss: 0.3532061274563129\n",
            "test_loss: 0.3879438653921928   train_loss: 0.3528313422826559\n",
            "test_loss: 0.38779903904624463   train_loss: 0.352466396559169\n",
            "test_loss: 0.38762348647218936   train_loss: 0.3521202366693387\n",
            "test_loss: 0.38742442603282573   train_loss: 0.3517750989046819\n",
            "test_loss: 0.38721162826394034   train_loss: 0.351439043608727\n",
            "test_loss: 0.387054698598938   train_loss: 0.3511028484907886\n",
            "test_loss: 0.38689179112812266   train_loss: 0.35077778442485325\n",
            "test_loss: 0.3866813995007579   train_loss: 0.3504735236820474\n",
            "test_loss: 0.38652787258323906   train_loss: 0.35018256018479577\n",
            "test_loss: 0.38635162970532366   train_loss: 0.34987240760360083\n",
            "test_loss: 0.38621304451641614   train_loss: 0.3495711035194869\n",
            "test_loss: 0.3860680240215362   train_loss: 0.34926859406903543\n",
            "test_loss: 0.3859885854044819   train_loss: 0.34898275312375565\n",
            "Stopping Early\n",
            "CPU times: user 12.7 s, sys: 82.4 ms, total: 12.8 s\n",
            "Wall time: 12.9 s\n"
          ]
        }
      ],
      "source": [
        "%%time\n",
        "\n",
        "boosting = Boosting(n_estimators = 1000, n_iter_early_stopping = 6, use_best_model=True)\n",
        "boosting.fit(X_train_transformed, y_train, [X_val_transformed, y_val])"
      ]
    },
    {
      "cell_type": "code",
      "execution_count": 26,
      "metadata": {
        "colab": {
          "base_uri": "https://localhost:8080/",
          "height": 447
        },
        "id": "1TeOTVvYr40O",
        "outputId": "73c2ee8e-4c59-4bd1-b612-6dde6c2f840c"
      },
      "outputs": [
        {
          "output_type": "execute_result",
          "data": {
            "text/plain": [
              "[<matplotlib.lines.Line2D at 0x7d8cc2e0e950>]"
            ]
          },
          "metadata": {},
          "execution_count": 26
        },
        {
          "output_type": "display_data",
          "data": {
            "text/plain": [
              "<Figure size 640x480 with 1 Axes>"
            ],
            "image/png": "[encoded data removed]"
          },
          "metadata": {}
        }
      ],
      "source": [
        "plt.plot(boosting.loss)\n",
        "plt.plot(boosting.loss_eval)"
      ]
    },
    {
      "cell_type": "code",
      "execution_count": 26,
      "metadata": {
        "id": "7LfaWiibGO_w"
      },
      "outputs": [],
      "source": []
    },
    {
      "cell_type": "markdown",
      "metadata": {
        "id": "vm6y2wOEGPYq"
      },
      "source": [
        "## Q2 (4 pt). Use your trained Boosting classifier.\n",
        "(a) Choose the threshold form (0, 1) to get recall $\\approx 0.5$ on the validation set.\n",
        "\n",
        "`recall_score((y_val+1)//2, boosting.predict_proba(X_val_transformed)>threshhold)`\n",
        "\n",
        "(b) Plot Confusion Matrix for the Test based on this threshhold and calculate recall on Test.\n",
        "\n",
        "(c) Plot ROC curve"
      ]
    },
    {
      "cell_type": "code",
      "execution_count": 27,
      "metadata": {
        "id": "2BVl892Q_brN"
      },
      "outputs": [],
      "source": [
        "from sklearn.metrics import ConfusionMatrixDisplay, recall_score, RocCurveDisplay"
      ]
    },
    {
      "cell_type": "code",
      "execution_count": 28,
      "metadata": {
        "id": "Bqovpzi0eFlJ",
        "outputId": "70e27463-1d53-4026-a881-f07cedfc2d2c",
        "colab": {
          "base_uri": "https://localhost:8080/"
        }
      },
      "outputs": [
        {
          "output_type": "stream",
          "name": "stdout",
          "text": [
            "Best threshold : 0.255\n"
          ]
        }
      ],
      "source": [
        "#find best threshold\n",
        "needed_recall = 0.5\n",
        "best = 1.0\n",
        "best_threshold = 1.0\n",
        "for threshold in range(0, 1001):\n",
        "  threshold *= 0.001\n",
        "  resulting_recall = abs(recall_score((y_val+1)//2, boosting.predict_proba(X_val_transformed)>threshold) - needed_recall)\n",
        "  if (resulting_recall < best):\n",
        "    best = resulting_recall\n",
        "    best_threshold = threshold\n",
        "\n",
        "print(f\"Best threshold : {best_threshold}\")"
      ]
    },
    {
      "cell_type": "code",
      "execution_count": 29,
      "metadata": {
        "id": "Y52DpSgpArOd",
        "outputId": "b74b56d7-d47d-4ff4-f0bd-e9fc19ff5308",
        "colab": {
          "base_uri": "https://localhost:8080/"
        }
      },
      "outputs": [
        {
          "output_type": "execute_result",
          "data": {
            "text/plain": [
              "0.5006165228113441"
            ]
          },
          "metadata": {},
          "execution_count": 29
        }
      ],
      "source": [
        "recall_score((y_val+1)//2, boosting.predict_proba(X_val_transformed)>best_threshold)"
      ]
    },
    {
      "cell_type": "code",
      "execution_count": 30,
      "metadata": {
        "id": "XZ4lZgNdABCf",
        "outputId": "bd6c072d-0d4f-4f51-dd06-6df19896f002",
        "colab": {
          "base_uri": "https://localhost:8080/",
          "height": 466
        }
      },
      "outputs": [
        {
          "output_type": "execute_result",
          "data": {
            "text/plain": [
              "<sklearn.metrics._plot.confusion_matrix.ConfusionMatrixDisplay at 0x7d8cc2deb2b0>"
            ]
          },
          "metadata": {},
          "execution_count": 30
        },
        {
          "output_type": "display_data",
          "data": {
            "text/plain": [
              "<Figure size 640x480 with 2 Axes>"
            ],
            "image/png": "[encoded data removed]"
          },
          "metadata": {}
        }
      ],
      "source": [
        "ConfusionMatrixDisplay.from_predictions((y_val+1)//2, boosting.predict_proba(X_val_transformed)>best_threshold)"
      ]
    },
    {
      "cell_type": "code",
      "source": [
        "RocCurveDisplay.from_predictions((y_val+1)//2, boosting.predict_proba(X_val_transformed)>best_threshold)"
      ],
      "metadata": {
        "id": "qo2nrsJ9Jdg4",
        "outputId": "0ad50ba4-f752-43b9-abe3-9cc9cbe95b71",
        "colab": {
          "base_uri": "https://localhost:8080/",
          "height": 466
        }
      },
      "execution_count": 31,
      "outputs": [
        {
          "output_type": "execute_result",
          "data": {
            "text/plain": [
              "<sklearn.metrics._plot.roc_curve.RocCurveDisplay at 0x7d8cc2ddba30>"
            ]
          },
          "metadata": {},
          "execution_count": 31
        },
        {
          "output_type": "display_data",
          "data": {
            "text/plain": [
              "<Figure size 640x480 with 1 Axes>"
            ],
            "image/png": "[encoded data removed]"
          },
          "metadata": {}
        }
      ]
    },
    {
      "cell_type": "markdown",
      "metadata": {
        "id": "d1q9Ds-_BzQl"
      },
      "source": [
        "## Q3 (4 pt). Train LightGBM Classifier on your data.\n",
        "(a) Choose the threshold form (0, 1) to get recall $\\approx 0.5$ on the validation set.\n",
        "\n",
        "`recall_score((y_val+1)//2, gb.predict_proba(X_val_transformed)[:,1]>threshhold)`\n",
        "\n",
        "(b) Plot Confusion Matrix for the Test based on this threshhold and calculate recall on Test.\n",
        "\n",
        "(c) Plot ROC curve\n",
        "\n",
        "`RocCurveDisplay.from_predictions(y_test, gb.predict_proba(X_test_transformed)[:,1])`\n",
        "\n",
        "(d) Compare with the result of your model from Q2."
      ]
    },
    {
      "cell_type": "code",
      "execution_count": 32,
      "metadata": {
        "id": "al4SWHVVA0o2"
      },
      "outputs": [],
      "source": [
        "import lightgbm as lgb"
      ]
    },
    {
      "cell_type": "code",
      "execution_count": 33,
      "metadata": {
        "id": "y6ap7-0JXoiD",
        "outputId": "dfcf97c6-758d-4672-981e-0618d0e07f3c",
        "colab": {
          "base_uri": "https://localhost:8080/",
          "height": 196
        }
      },
      "outputs": [
        {
          "output_type": "stream",
          "name": "stdout",
          "text": [
            "[LightGBM] [Info] Number of positive: 6920, number of negative: 38702\n",
            "[LightGBM] [Info] Auto-choosing col-wise multi-threading, the overhead of testing was 0.004542 seconds.\n",
            "You can set `force_col_wise=true` to remove the overhead.\n",
            "[LightGBM] [Info] Total Bins 106\n",
            "[LightGBM] [Info] Number of data points in the train set: 45622, number of used features: 6\n",
            "[LightGBM] [Info] [binary:BoostFromScore]: pavg=0.151681 -> initscore=-1.721476\n",
            "[LightGBM] [Info] Start training from score -1.721476\n"
          ]
        },
        {
          "output_type": "execute_result",
          "data": {
            "text/plain": [
              "LGBMClassifier()"
            ],
            "text/html": [
              "<style>#sk-container-id-2 {color: black;background-color: white;}#sk-container-id-2 pre{padding: 0;}#sk-container-id-2 div.sk-toggleable {background-color: white;}#sk-container-id-2 label.sk-toggleable__label {cursor: pointer;display: block;width: 100%;margin-bottom: 0;padding: 0.3em;box-sizing: border-box;text-align: center;}#sk-container-id-2 label.sk-toggleable__label-arrow:before {content: \"▸\";float: left;margin-right: 0.25em;color: #696969;}#sk-container-id-2 label.sk-toggleable__label-arrow:hover:before {color: black;}#sk-container-id-2 div.sk-estimator:hover label.sk-toggleable__label-arrow:before {color: black;}#sk-container-id-2 div.sk-toggleable__content {max-height: 0;max-width: 0;overflow: hidden;text-align: left;background-color: #f0f8ff;}#sk-container-id-2 div.sk-toggleable__content pre {margin: 0.2em;color: black;border-radius: 0.25em;background-color: #f0f8ff;}#sk-container-id-2 input.sk-toggleable__control:checked~div.sk-toggleable__content {max-height: 200px;max-width: 100%;overflow: auto;}#sk-container-id-2 input.sk-toggleable__control:checked~label.sk-toggleable__label-arrow:before {content: \"▾\";}#sk-container-id-2 div.sk-estimator input.sk-toggleable__control:checked~label.sk-toggleable__label {background-color: #d4ebff;}#sk-container-id-2 div.sk-label input.sk-toggleable__control:checked~label.sk-toggleable__label {background-color: #d4ebff;}#sk-container-id-2 input.sk-hidden--visually {border: 0;clip: rect(1px 1px 1px 1px);clip: rect(1px, 1px, 1px, 1px);height: 1px;margin: -1px;overflow: hidden;padding: 0;position: absolute;width: 1px;}#sk-container-id-2 div.sk-estimator {font-family: monospace;background-color: #f0f8ff;border: 1px dotted black;border-radius: 0.25em;box-sizing: border-box;margin-bottom: 0.5em;}#sk-container-id-2 div.sk-estimator:hover {background-color: #d4ebff;}#sk-container-id-2 div.sk-parallel-item::after {content: \"\";width: 100%;border-bottom: 1px solid gray;flex-grow: 1;}#sk-container-id-2 div.sk-label:hover label.sk-toggleable__label {background-color: #d4ebff;}#sk-container-id-2 div.sk-serial::before {content: \"\";position: absolute;border-left: 1px solid gray;box-sizing: border-box;top: 0;bottom: 0;left: 50%;z-index: 0;}#sk-container-id-2 div.sk-serial {display: flex;flex-direction: column;align-items: center;background-color: white;padding-right: 0.2em;padding-left: 0.2em;position: relative;}#sk-container-id-2 div.sk-item {position: relative;z-index: 1;}#sk-container-id-2 div.sk-parallel {display: flex;align-items: stretch;justify-content: center;background-color: white;position: relative;}#sk-container-id-2 div.sk-item::before, #sk-container-id-2 div.sk-parallel-item::before {content: \"\";position: absolute;border-left: 1px solid gray;box-sizing: border-box;top: 0;bottom: 0;left: 50%;z-index: -1;}#sk-container-id-2 div.sk-parallel-item {display: flex;flex-direction: column;z-index: 1;position: relative;background-color: white;}#sk-container-id-2 div.sk-parallel-item:first-child::after {align-self: flex-end;width: 50%;}#sk-container-id-2 div.sk-parallel-item:last-child::after {align-self: flex-start;width: 50%;}#sk-container-id-2 div.sk-parallel-item:only-child::after {width: 0;}#sk-container-id-2 div.sk-dashed-wrapped {border: 1px dashed gray;margin: 0 0.4em 0.5em 0.4em;box-sizing: border-box;padding-bottom: 0.4em;background-color: white;}#sk-container-id-2 div.sk-label label {font-family: monospace;font-weight: bold;display: inline-block;line-height: 1.2em;}#sk-container-id-2 div.sk-label-container {text-align: center;}#sk-container-id-2 div.sk-container {/* jupyter's `normalize.less` sets `[hidden] { display: none; }` but bootstrap.min.css set `[hidden] { display: none !important; }` so we also need the `!important` here to be able to override the default hidden behavior on the sphinx rendered scikit-learn.org. See: https://github.com/scikit-learn/scikit-learn/issues/21755 */display: inline-block !important;position: relative;}#sk-container-id-2 div.sk-text-repr-fallback {display: none;}</style><div id=\"sk-container-id-2\" class=\"sk-top-container\"><div class=\"sk-text-repr-fallback\"><pre>LGBMClassifier()</pre><b>In a Jupyter environment, please rerun this cell to show the HTML representation or trust the notebook. <br />On GitHub, the HTML representation is unable to render, please try loading this page with nbviewer.org.</b></div><div class=\"sk-container\" hidden><div class=\"sk-item\"><div class=\"sk-estimator sk-toggleable\"><input class=\"sk-toggleable__control sk-hidden--visually\" id=\"sk-estimator-id-2\" type=\"checkbox\" checked><label for=\"sk-estimator-id-2\" class=\"sk-toggleable__label sk-toggleable__label-arrow\">LGBMClassifier</label><div class=\"sk-toggleable__content\"><pre>LGBMClassifier()</pre></div></div></div></div></div>"
            ]
          },
          "metadata": {},
          "execution_count": 33
        }
      ],
      "source": [
        "gb = lgb.LGBMClassifier()\n",
        "gb.fit(X_train_transformed, y_train)"
      ]
    },
    {
      "cell_type": "code",
      "execution_count": 34,
      "metadata": {
        "id": "EXvoTwQ9Xwk3",
        "outputId": "b31ad38e-0b64-48d0-e2ec-03b7e4caa6fd",
        "colab": {
          "base_uri": "https://localhost:8080/"
        }
      },
      "outputs": [
        {
          "output_type": "stream",
          "name": "stdout",
          "text": [
            "Best threshold : 0.275\n"
          ]
        }
      ],
      "source": [
        "#find best threshold\n",
        "needed_recall = 0.5\n",
        "best = 1.0\n",
        "best_threshold = 1.0\n",
        "for threshold in range(0, 1001):\n",
        "  threshold *= 0.001\n",
        "  resulting_recall = abs(recall_score((y_val+1)//2, gb.predict_proba(X_val_transformed)[:,1]>threshold) - needed_recall)\n",
        "  if (resulting_recall < best):\n",
        "    best = resulting_recall\n",
        "    best_threshold = threshold\n",
        "\n",
        "print(f\"Best threshold : {best_threshold}\")"
      ]
    },
    {
      "cell_type": "code",
      "execution_count": 35,
      "metadata": {
        "id": "zshgsEDBYXPW",
        "outputId": "daff21bf-16ca-423c-9805-4b410ab2c275",
        "colab": {
          "base_uri": "https://localhost:8080/"
        }
      },
      "outputs": [
        {
          "output_type": "execute_result",
          "data": {
            "text/plain": [
              "0.4989724619810933"
            ]
          },
          "metadata": {},
          "execution_count": 35
        }
      ],
      "source": [
        "recall_score((y_val+1)//2, gb.predict_proba(X_val_transformed)[:,1]>best_threshold)"
      ]
    },
    {
      "cell_type": "code",
      "execution_count": 36,
      "metadata": {
        "colab": {
          "base_uri": "https://localhost:8080/",
          "height": 466
        },
        "id": "wY0nBhnqX3eW",
        "outputId": "bb38fafd-0f08-4b61-a158-8ad3c20303b4"
      },
      "outputs": [
        {
          "output_type": "execute_result",
          "data": {
            "text/plain": [
              "<sklearn.metrics._plot.confusion_matrix.ConfusionMatrixDisplay at 0x7d8cc2c587c0>"
            ]
          },
          "metadata": {},
          "execution_count": 36
        },
        {
          "output_type": "display_data",
          "data": {
            "text/plain": [
              "<Figure size 640x480 with 2 Axes>"
            ],
            "image/png": "[encoded data removed]"
          },
          "metadata": {}
        }
      ],
      "source": [
        "ConfusionMatrixDisplay.from_predictions((y_val+1)//2, gb.predict_proba(X_val_transformed)[:,1]>best_threshold)"
      ]
    },
    {
      "cell_type": "code",
      "execution_count": 37,
      "metadata": {
        "id": "nUtFi3T2YDuy",
        "outputId": "097ab021-534a-43fd-97f2-279e04118235",
        "colab": {
          "base_uri": "https://localhost:8080/",
          "height": 466
        }
      },
      "outputs": [
        {
          "output_type": "execute_result",
          "data": {
            "text/plain": [
              "<sklearn.metrics._plot.roc_curve.RocCurveDisplay at 0x7d8cc2c586a0>"
            ]
          },
          "metadata": {},
          "execution_count": 37
        },
        {
          "output_type": "display_data",
          "data": {
            "text/plain": [
              "<Figure size 640x480 with 1 Axes>"
            ],
            "image/png": "[encoded data removed]"
          },
          "metadata": {}
        }
      ],
      "source": [
        "RocCurveDisplay.from_predictions(y_test, gb.predict_proba(X_test_transformed)[:,1])"
      ]
    },
    {
      "cell_type": "code",
      "execution_count": 37,
      "metadata": {
        "id": "_BJVLCjdE4Qa"
      },
      "outputs": [],
      "source": []
    },
    {
      "cell_type": "markdown",
      "metadata": {
        "id": "kA3XN_oQir3M"
      },
      "source": [
        "Are you satisfied with the result?\n",
        "\n",
        "***LightGBM seems to do a slightly better job when looking at the Confusion Matrix, however both models perform fine.***"
      ]
    }
  ],
  "metadata": {
    "colab": {
      "machine_shape": "hm",
      "provenance": []
    },
    "kernelspec": {
      "display_name": "Python 3",
      "name": "python3"
    }
  },
  "nbformat": 4,
  "nbformat_minor": 0
}