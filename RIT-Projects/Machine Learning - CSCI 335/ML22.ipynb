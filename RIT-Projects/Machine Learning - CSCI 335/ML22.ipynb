{
  "nbformat": 4,
  "nbformat_minor": 0,
  "metadata": {
    "colab": {
      "provenance": []
    },
    "kernelspec": {
      "name": "python3",
      "display_name": "Python 3"
    },
    "language_info": {
      "name": "python"
    }
  },
  "cells": [
    {
      "cell_type": "markdown",
      "metadata": {
        "id": "gRbe8Kcr8GWN"
      },
      "source": [
        "#**Introduction to PyTorch: Automatic Differentiation**"
      ]
    },
    {
      "cell_type": "code",
      "metadata": {
        "id": "qFUAFYyiYnX4"
      },
      "source": [
        "import numpy as np\n",
        "import torch\n",
        "import sklearn.datasets\n",
        "import matplotlib.pyplot as plt\n",
        "from IPython.display import clear_output\n",
        "#%matplotlib inline"
      ],
      "execution_count": 141,
      "outputs": []
    },
    {
      "cell_type": "code",
      "metadata": {
        "colab": {
          "base_uri": "https://localhost:8080/"
        },
        "id": "kHyc1g0M-qPe",
        "outputId": "cf06766a-7878-496f-e875-a8661ea92078"
      },
      "source": [
        "# Create tensors\n",
        "a = torch.tensor(5, dtype = torch.long)\n",
        "b = torch.tensor(5, dtype = torch.int32)\n",
        "b.dtype"
      ],
      "execution_count": 142,
      "outputs": [
        {
          "output_type": "execute_result",
          "data": {
            "text/plain": [
              "torch.int32"
            ]
          },
          "metadata": {},
          "execution_count": 142
        }
      ]
    },
    {
      "cell_type": "markdown",
      "source": [
        "Comparison with numpy:\n",
        "https://github.com/torch/torch7/wiki/Torch-for-Numpy-users"
      ],
      "metadata": {
        "id": "iYmts6eMCjzN"
      }
    },
    {
      "cell_type": "code",
      "metadata": {
        "colab": {
          "base_uri": "https://localhost:8080/"
        },
        "id": "spLLH87sIboL",
        "outputId": "a6c4d95b-9bd4-4ec0-d041-8599b1b7174f"
      },
      "source": [
        "c = torch.ones(6)\n",
        "print(c, c.dtype)"
      ],
      "execution_count": 143,
      "outputs": [
        {
          "output_type": "stream",
          "name": "stdout",
          "text": [
            "tensor([1., 1., 1., 1., 1., 1.]) torch.float32\n"
          ]
        }
      ]
    },
    {
      "cell_type": "code",
      "metadata": {
        "colab": {
          "base_uri": "https://localhost:8080/"
        },
        "id": "k7TD7pTyLhx4",
        "outputId": "6733f75d-eaec-4f48-f289-543ae4646c56"
      },
      "source": [
        "# Shape\n",
        "c.size() #x.shape"
      ],
      "execution_count": 144,
      "outputs": [
        {
          "output_type": "execute_result",
          "data": {
            "text/plain": [
              "torch.Size([6])"
            ]
          },
          "metadata": {},
          "execution_count": 144
        }
      ]
    },
    {
      "cell_type": "code",
      "metadata": {
        "colab": {
          "base_uri": "https://localhost:8080/"
        },
        "id": "fOhZ8j7NImGR",
        "outputId": "5cc0530c-9dcb-471c-e6af-ff5d172ef9a8"
      },
      "source": [
        "# Broadcasting\n",
        "d = c + 1\n",
        "print(d)"
      ],
      "execution_count": 145,
      "outputs": [
        {
          "output_type": "stream",
          "name": "stdout",
          "text": [
            "tensor([2., 2., 2., 2., 2., 2.])\n"
          ]
        }
      ]
    },
    {
      "cell_type": "code",
      "metadata": {
        "colab": {
          "base_uri": "https://localhost:8080/"
        },
        "id": "rVDo0fFREEfX",
        "outputId": "9c642a5b-5a89-4095-f9d0-3d87adef5069"
      },
      "source": [
        "# Change type\n",
        "b.float() #b.to(torch.float)\n",
        "b.dtype"
      ],
      "execution_count": 146,
      "outputs": [
        {
          "output_type": "execute_result",
          "data": {
            "text/plain": [
              "torch.int32"
            ]
          },
          "metadata": {},
          "execution_count": 146
        }
      ]
    },
    {
      "cell_type": "code",
      "metadata": {
        "colab": {
          "base_uri": "https://localhost:8080/"
        },
        "id": "UQ3LsvLjFOxZ",
        "outputId": "0d66da60-2b7b-4c31-a529-ff241fae07ef"
      },
      "source": [
        "# Reshape tensors\n",
        "c.view(2,3)"
      ],
      "execution_count": 147,
      "outputs": [
        {
          "output_type": "execute_result",
          "data": {
            "text/plain": [
              "tensor([[1., 1., 1.],\n",
              "        [1., 1., 1.]])"
            ]
          },
          "metadata": {},
          "execution_count": 147
        }
      ]
    },
    {
      "cell_type": "code",
      "metadata": {
        "colab": {
          "base_uri": "https://localhost:8080/"
        },
        "id": "43qSMP_JGS1s",
        "outputId": "0ab0e7ca-fce2-4f97-f061-fe135775b5b9"
      },
      "source": [
        "# Squeeze/Unsqueeze\n",
        "c.unsqueeze(dim=0).shape"
      ],
      "execution_count": 148,
      "outputs": [
        {
          "output_type": "execute_result",
          "data": {
            "text/plain": [
              "torch.Size([1, 6])"
            ]
          },
          "metadata": {},
          "execution_count": 148
        }
      ]
    },
    {
      "cell_type": "code",
      "metadata": {
        "id": "8NyOgp8SFS9z"
      },
      "source": [
        "# Dot product VS matrix multiplication"
      ],
      "execution_count": 149,
      "outputs": []
    },
    {
      "cell_type": "code",
      "metadata": {
        "id": "ZqTkukyHY_Xe",
        "colab": {
          "base_uri": "https://localhost:8080/"
        },
        "outputId": "5ae35dbf-9a09-4b03-cf29-514d7611eea0"
      },
      "source": [
        "d.dot(c) #torch.matmul(d.T,c)"
      ],
      "execution_count": 150,
      "outputs": [
        {
          "output_type": "execute_result",
          "data": {
            "text/plain": [
              "tensor(12.)"
            ]
          },
          "metadata": {},
          "execution_count": 150
        }
      ]
    },
    {
      "cell_type": "markdown",
      "source": [
        "###In-place operations\n",
        "\n",
        "The memory must be used efficiently when working with large tensors. Some operations create new object as the result of computations, others just change given object (in-place operations). In pytorch, these operations usually differ by adding an underscore:\n",
        "\n",
        "`x.exp()   # not-in-place operation`\n",
        "\n",
        "`x.exp_()  # in-place operation`\n",
        "\n"
      ],
      "metadata": {
        "id": "Id9lu0peFpZt"
      }
    },
    {
      "cell_type": "markdown",
      "metadata": {
        "id": "xI7lcI40HnLO"
      },
      "source": [
        "## Automatic Differentiation\n",
        "tensor.data, tensor.grad, tensor.grad_fn\n",
        "## Detaching variables\n",
        "\n",
        "`.detach()` returns a copy of a variable, through which backpropagation doesn't pass. If you average or just store batch losses during the optimization, you'd better detach those losses before averaging or storing. Otherwise the computational graphs for each batch would be stored in memory as well as batch losses, so you run out of memory very fast.\n",
        "\n",
        "Also there is in-place version (`.detach_()`) which doesn't create detached copy of the variable, but detach variable itself from its computational graph."
      ]
    },
    {
      "cell_type": "code",
      "metadata": {
        "id": "ccvARo18HmFW"
      },
      "source": [
        "a = torch.rand(1, requires_grad=True)\n",
        "b = torch.sin(a)"
      ],
      "execution_count": 151,
      "outputs": []
    },
    {
      "cell_type": "markdown",
      "metadata": {
        "id": "VNi4wxsEmWpz"
      },
      "source": [
        "Use method tensor.backward() for b and print the derivative of b with respect to a (a.grad)."
      ]
    },
    {
      "cell_type": "code",
      "metadata": {
        "id": "b8X73_H7mW7_",
        "colab": {
          "base_uri": "https://localhost:8080/"
        },
        "outputId": "3a37098a-f19f-454a-a537-7164476b29e4"
      },
      "source": [
        "b.backward()\n",
        "print(a.grad, torch.cos(a.data)) #zero previous value of gradients before doing calculations again"
      ],
      "execution_count": 152,
      "outputs": [
        {
          "output_type": "stream",
          "name": "stdout",
          "text": [
            "tensor([0.9133]) tensor([0.9133])\n"
          ]
        }
      ]
    },
    {
      "cell_type": "code",
      "source": [
        "b = 0\n",
        "b = torch.sin(a)\n",
        "b.backward()\n",
        "print(a.grad, torch.cos(a.data))"
      ],
      "metadata": {
        "id": "0JOyM5mut5j2",
        "outputId": "c5cd6861-7c19-4871-8317-fc2bf5214cf6",
        "colab": {
          "base_uri": "https://localhost:8080/"
        }
      },
      "execution_count": 153,
      "outputs": [
        {
          "output_type": "stream",
          "name": "stdout",
          "text": [
            "tensor([1.8267]) tensor([0.9133])\n"
          ]
        }
      ]
    },
    {
      "cell_type": "code",
      "source": [
        "x = torch.randn(4, requires_grad=True)\n",
        "y0 = torch.randn(4, requires_grad=True)\n",
        "y = y0.detach() #detach gradient weights, or else it will also store all the gradients and running a second time will cause outofmemory error\n",
        "z = x * y + 10 #think of as loss function\n",
        "p = z.sum()\n",
        "p.backward()\n",
        "print('x:', x.data)\n",
        "print('y:', y.data)\n",
        "print('dp / dx:', x.grad)\n",
        "print('dp / dy:', y.grad)"
      ],
      "metadata": {
        "id": "zkcjo9z5H1_-",
        "outputId": "90f14933-22a6-428a-8998-d155b346b3fd",
        "colab": {
          "base_uri": "https://localhost:8080/"
        }
      },
      "execution_count": 154,
      "outputs": [
        {
          "output_type": "stream",
          "name": "stdout",
          "text": [
            "x: tensor([-0.7322,  0.3833,  1.1000, -0.0877])\n",
            "y: tensor([ 0.4154,  0.6426, -2.1881,  0.8920])\n",
            "dp / dx: tensor([ 0.4154,  0.6426, -2.1881,  0.8920])\n",
            "dp / dy: None\n"
          ]
        }
      ]
    },
    {
      "cell_type": "markdown",
      "source": [
        "##Gradient reset"
      ],
      "metadata": {
        "id": "qPg0PpEWIEPo"
      }
    },
    {
      "cell_type": "code",
      "source": [
        "x = torch.tensor([1, 1, 1, 1.], requires_grad=True)\n",
        "y = x ** 2\n",
        "p = y.sum()\n",
        "p.backward()\n",
        "print('x:', x)\n",
        "print('dp / dx:', x.grad)\n",
        "x.grad.detach_()       # extracting gradient Variable from the previous computational graph (optional)\n",
        "x.grad.zero_()         # zero gradinents\n",
        "y = 1 / x\n",
        "p = y.sum()\n",
        "p.backward()\n",
        "print('x:', x)\n",
        "print('dp / dx:', x.grad)"
      ],
      "metadata": {
        "id": "Hm3nBbPGIIUd",
        "outputId": "34d9a836-c10a-49c8-bbda-d4cb2302a73a",
        "colab": {
          "base_uri": "https://localhost:8080/"
        }
      },
      "execution_count": 155,
      "outputs": [
        {
          "output_type": "stream",
          "name": "stdout",
          "text": [
            "x: tensor([1., 1., 1., 1.], requires_grad=True)\n",
            "dp / dx: tensor([2., 2., 2., 2.])\n",
            "x: tensor([1., 1., 1., 1.], requires_grad=True)\n",
            "dp / dx: tensor([-1., -1., -1., -1.])\n"
          ]
        }
      ]
    },
    {
      "cell_type": "markdown",
      "source": [
        "##Leaf vs Non-leaf Variable"
      ],
      "metadata": {
        "id": "MAU6pqqmIU0J"
      }
    },
    {
      "cell_type": "code",
      "source": [
        "x = torch.randn(4, requires_grad=True)  # leaf variable\n",
        "y = x + 1                               # not a leaf variable, calculate intermidiate derivatives\n",
        "p = y.sum()                             # not a leaf variable\n",
        "p.backward()\n",
        "print('x:', x)\n",
        "print('y:', y)\n",
        "print('p:', p)\n",
        "print('x.grad:', x.grad)\n",
        "print('y.grad:', y.grad)\n",
        "print('p.grad:', p.grad)"
      ],
      "metadata": {
        "id": "og5CoaMrIWN0",
        "outputId": "dda2602f-d400-40be-c781-4b40b75e7392",
        "colab": {
          "base_uri": "https://localhost:8080/"
        }
      },
      "execution_count": 156,
      "outputs": [
        {
          "output_type": "stream",
          "name": "stdout",
          "text": [
            "x: tensor([ 0.7455, -0.2460,  0.8512, -0.3502], requires_grad=True)\n",
            "y: tensor([1.7455, 0.7540, 1.8512, 0.6498], grad_fn=<AddBackward0>)\n",
            "p: tensor(5.0005, grad_fn=<SumBackward0>)\n",
            "x.grad: tensor([1., 1., 1., 1.])\n",
            "y.grad: None\n",
            "p.grad: None\n"
          ]
        },
        {
          "output_type": "stream",
          "name": "stderr",
          "text": [
            "<ipython-input-156-1f8f6ef14d32>:9: UserWarning: The .grad attribute of a Tensor that is not a leaf Tensor is being accessed. Its .grad attribute won't be populated during autograd.backward(). If you indeed want the .grad field to be populated for a non-leaf Tensor, use .retain_grad() on the non-leaf Tensor. If you access the non-leaf Tensor by mistake, make sure you access the leaf Tensor instead. See github.com/pytorch/pytorch/pull/30531 for more informations. (Triggered internally at aten/src/ATen/core/TensorBody.h:489.)\n",
            "  print('y.grad:', y.grad)\n",
            "<ipython-input-156-1f8f6ef14d32>:10: UserWarning: The .grad attribute of a Tensor that is not a leaf Tensor is being accessed. Its .grad attribute won't be populated during autograd.backward(). If you indeed want the .grad field to be populated for a non-leaf Tensor, use .retain_grad() on the non-leaf Tensor. If you access the non-leaf Tensor by mistake, make sure you access the leaf Tensor instead. See github.com/pytorch/pytorch/pull/30531 for more informations. (Triggered internally at aten/src/ATen/core/TensorBody.h:489.)\n",
            "  print('p.grad:', p.grad)\n"
          ]
        }
      ]
    },
    {
      "cell_type": "markdown",
      "source": [
        "##Gradients for non-leaf variables"
      ],
      "metadata": {
        "id": "BY1CXo_rIjNN"
      }
    },
    {
      "cell_type": "code",
      "source": [
        "x = torch.randn(4, requires_grad=True)   # leaf variable\n",
        "z = torch.randn(4, requires_grad=True)   # leaf variable\n",
        "w = z * 2      # not a leaf variable\n",
        "y = x * w + 1  # forward pass before retaining gradient is ok. w is the intermidiate node\n",
        "p = y.sum()\n",
        "\n",
        "w.retain_grad() #will also calculate deravitives with respect to w\n",
        "\n",
        "p.backward()\n",
        "print('dp / dx:', x.grad)\n",
        "print('dp / dz:', z.grad)\n",
        "print('dp / dw:', w.grad)"
      ],
      "metadata": {
        "id": "oQ8AK5u2Ikr6",
        "outputId": "90650890-1231-421d-8a1e-a009e108abe8",
        "colab": {
          "base_uri": "https://localhost:8080/"
        }
      },
      "execution_count": 157,
      "outputs": [
        {
          "output_type": "stream",
          "name": "stdout",
          "text": [
            "dp / dx: tensor([ 3.7479, -2.7672, -1.0610, -0.8626])\n",
            "dp / dz: tensor([ 3.3762, -4.3149, -2.7855, -0.7221])\n",
            "dp / dw: tensor([ 1.6881, -2.1575, -1.3927, -0.3611])\n"
          ]
        }
      ]
    },
    {
      "cell_type": "markdown",
      "metadata": {
        "id": "wyqHVvv7nCw4"
      },
      "source": [
        "## In this section, we use atomatic differentiation for the Gradient Descend"
      ]
    },
    {
      "cell_type": "code",
      "source": [
        "torch.manual_seed(0)\n",
        "x = torch.linspace(1, 5, 20)\n",
        "y = 2*x + 1 + 5*torch.rand(len(x))"
      ],
      "metadata": {
        "id": "OmyTS55GJrWr"
      },
      "execution_count": 158,
      "outputs": []
    },
    {
      "cell_type": "code",
      "source": [
        "plt.scatter(x,y)"
      ],
      "metadata": {
        "id": "HVDoWuQRKKmE",
        "outputId": "9a78b645-b00b-4f4a-9c53-713ed3982232",
        "colab": {
          "base_uri": "https://localhost:8080/",
          "height": 447
        }
      },
      "execution_count": 159,
      "outputs": [
        {
          "output_type": "execute_result",
          "data": {
            "text/plain": [
              "<matplotlib.collections.PathCollection at 0x7e5be700e920>"
            ]
          },
          "metadata": {},
          "execution_count": 159
        },
        {
          "output_type": "display_data",
          "data": {
            "text/plain": [
              "<Figure size 640x480 with 1 Axes>"
            ],
            "image/png": "[encoded data removed]"
          },
          "metadata": {}
        }
      ]
    },
    {
      "cell_type": "markdown",
      "source": [
        "### Q1 (1 pt).   Initialize the weights and bais with gradients (see example with `sin(a)`)."
      ],
      "metadata": {
        "id": "I3MwUe-yiaEO"
      }
    },
    {
      "cell_type": "code",
      "source": [
        "w = torch.randn(1, requires_grad=True)\n",
        "b = torch.randn(1, requires_grad=True)"
      ],
      "metadata": {
        "id": "d8ptu7DYiUiY"
      },
      "execution_count": 160,
      "outputs": []
    },
    {
      "cell_type": "code",
      "source": [
        "w.data"
      ],
      "metadata": {
        "id": "8iu0sb9pxsel",
        "outputId": "af28a099-2e69-41ac-abe6-e867733f08b4",
        "colab": {
          "base_uri": "https://localhost:8080/"
        }
      },
      "execution_count": 161,
      "outputs": [
        {
          "output_type": "execute_result",
          "data": {
            "text/plain": [
              "tensor([-0.5966])"
            ]
          },
          "metadata": {},
          "execution_count": 161
        }
      ]
    },
    {
      "cell_type": "markdown",
      "source": [
        "### Q2 (2pt). Write the gradient descent using automated calculation of the gradients of `w` and `b`."
      ],
      "metadata": {
        "id": "LhRDzO-8jZsS"
      }
    },
    {
      "cell_type": "code",
      "source": [
        "alpha = 0.001 #learning rate\n",
        "for i in range(100):   #number of epochs\n",
        "  #if the gradients are non empty, zero them:\n",
        "  # if w.grad is not None:\n",
        "  #   w.grad.zero_()\n",
        "  #   b.grad.zero_()\n",
        "  w.requires_grad_(True)\n",
        "  b.requires_grad_(True)\n",
        "\n",
        "  # calculate prediction y_p = w*x+b:\n",
        "  y_p =w*x+b\n",
        "\n",
        "  # calculate loss mean((y_p-y)**2):\n",
        "  loss = torch.mean((y_p-y)**2)\n",
        "\n",
        "  # run loss.backward() to calculate the derivatives\n",
        "  loss.backward()\n",
        "\n",
        "  # update the values of w and b, using learning rate alpha and gradients\n",
        "  # w.data = w.data - alpha * w.data\n",
        "  # b.data = b.data - alpha * b.data\n",
        "\n",
        "  # or better, more elegant solution\n",
        "  with torch.no_grad():\n",
        "    w = w - alpha*w.grad\n",
        "    b = b - alpha*b.grad\n",
        "\n",
        "  #visualisation:\n",
        "  if (i + 1) % 5 == 0:\n",
        "    clear_output(True)\n",
        "    plt.figure(figsize=(10,8))\n",
        "    plt.scatter(x, y, label=\"data\")\n",
        "    plt.scatter(x, y_p.data.numpy(), color=\"orange\", linewidth=5, label=\"predictions\")\n",
        "    plt.xlabel(\"x\", fontsize=14)\n",
        "    plt.ylabel(\"y\", fontsize=14)\n",
        "    plt.title(\"Example\", fontsize=18)\n",
        "    plt.legend(fontsize=14)\n",
        "    plt.show()"
      ],
      "metadata": {
        "id": "PYepGweZiUyE",
        "outputId": "c6385971-4c11-44fa-c8e7-daac1a5a1ed5",
        "colab": {
          "base_uri": "https://localhost:8080/",
          "height": 728
        }
      },
      "execution_count": 165,
      "outputs": [
        {
          "output_type": "display_data",
          "data": {
            "text/plain": [
              "<Figure size 1000x800 with 1 Axes>"
            ],
            "image/png": "[encoded data removed]"
          },
          "metadata": {}
        }
      ]
    },
    {
      "cell_type": "code",
      "source": [],
      "metadata": {
        "id": "0BiSX3mzhyvu"
      },
      "execution_count": null,
      "outputs": []
    }
  ]
}